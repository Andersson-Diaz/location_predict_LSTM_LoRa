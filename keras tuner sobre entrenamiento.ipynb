{
 "cells": [
  {
   "cell_type": "code",
   "execution_count": 1,
   "id": "8cae6a3a",
   "metadata": {},
   "outputs": [
    {
     "name": "stdout",
     "output_type": "stream",
     "text": [
      "2.9.1\n"
     ]
    }
   ],
   "source": [
    "import tensorflow as tf\n",
    "print(tf.__version__)\n",
    "from tensorflow.keras.utils import to_categorical\n",
    "from tensorflow.keras.layers import Flatten"
   ]
  },
  {
   "cell_type": "code",
   "execution_count": 2,
   "id": "c3ddcd46",
   "metadata": {
    "scrolled": true
   },
   "outputs": [],
   "source": [
    "#(trainX, trainY), (testX, testY) = tf.keras.datasets.cifar10.load_data()"
   ]
  },
  {
   "cell_type": "code",
   "execution_count": 3,
   "id": "a28681e4",
   "metadata": {},
   "outputs": [],
   "source": [
    "#trainX.shape"
   ]
  },
  {
   "cell_type": "code",
   "execution_count": 4,
   "id": "c3ad17d9",
   "metadata": {
    "scrolled": true
   },
   "outputs": [],
   "source": [
    "#trainY.shape"
   ]
  },
  {
   "cell_type": "code",
   "execution_count": 5,
   "id": "bc700e2e",
   "metadata": {},
   "outputs": [],
   "source": [
    "#trainY = to_categorical(trainY)\n",
    "#testY = to_categorical(testY)"
   ]
  },
  {
   "cell_type": "code",
   "execution_count": 6,
   "id": "245bce0c",
   "metadata": {},
   "outputs": [],
   "source": [
    "#trainY.shape"
   ]
  },
  {
   "cell_type": "code",
   "execution_count": 7,
   "id": "c8ec424b",
   "metadata": {},
   "outputs": [],
   "source": [
    "#testY.shape"
   ]
  },
  {
   "cell_type": "code",
   "execution_count": 8,
   "id": "e73c96f7",
   "metadata": {},
   "outputs": [],
   "source": [
    "from tokenize import Number\n",
    "import numpy as np\n",
    "#np.random.seed(4)\n",
    "import matplotlib.pyplot as plt\n",
    "import pandas as pd\n",
    "\n",
    "from sklearn.preprocessing import MinMaxScaler\n",
    "from keras.models import Sequential\n",
    "from keras.layers import Dense, LSTM\n",
    "from keras.layers import Dropout\n",
    "\n",
    "import time\n",
    "from datetime import datetime\n",
    "from datetime import timedelta\n",
    "import math"
   ]
  },
  {
   "cell_type": "code",
   "execution_count": 9,
   "id": "af303719",
   "metadata": {},
   "outputs": [],
   "source": [
    "#datos para la conexion a la base de datos\n",
    "hostname = '82.180.175.58'\n",
    "username = 'u813407238_lora'\n",
    "password = 'Seguimiento_lora_123'\n",
    "database = 'u813407238_seguimiento'"
   ]
  },
  {
   "cell_type": "code",
   "execution_count": 10,
   "id": "eeb1c21c",
   "metadata": {},
   "outputs": [
    {
     "name": "stderr",
     "output_type": "stream",
     "text": [
      "C:\\Users\\ander\\anaconda3\\lib\\site-packages\\pandas\\io\\sql.py:761: UserWarning: pandas only support SQLAlchemy connectable(engine/connection) ordatabase string URI or sqlite3 DBAPI2 connectionother DBAPI2 objects are not tested, please consider using SQLAlchemy\n",
      "  warnings.warn(\n"
     ]
    },
    {
     "name": "stdout",
     "output_type": "stream",
     "text": [
      "Va a imprimir el dataset leido de la BD...\n",
      "Va a imprimir date y time...\n"
     ]
    }
   ],
   "source": [
    "import MySQLdb\n",
    "# inicialmente hace la conexion con la base de datos\n",
    "myConnection = MySQLdb.connect( host=hostname, user=username, passwd=password, db=database )\n",
    "import pandas as pd\n",
    "# genera la lectura de la base de datos\n",
    "dataset= pd.read_sql(\"SELECT * FROM LoRaWAN_messages_calle_5 order by id\",myConnection)\n",
    "print(\"Va a imprimir el dataset leido de la BD...\")\n",
    "#print(dataset)\n",
    "#dataset[['COL 3','COL 4']].dtypes\n",
    "#dataset = pd.DataFrame()\n",
    "#dataset['T'] = dataset['date'] +' '+ dataset['time']\n",
    "#dataset['date hour'] = dataset['date'] +' '+ dataset['hour']\n",
    "#dataset = pd.to_datetime(dataset['date'] + dataset['time'])\n",
    "print(\"Va a imprimir date y time...\")"
   ]
  },
  {
   "cell_type": "code",
   "execution_count": 11,
   "id": "091c28d4",
   "metadata": {},
   "outputs": [],
   "source": [
    "#pip install mysqlclient"
   ]
  },
  {
   "cell_type": "code",
   "execution_count": 12,
   "id": "4544d197",
   "metadata": {},
   "outputs": [],
   "source": [
    "#dataset.head"
   ]
  },
  {
   "cell_type": "code",
   "execution_count": 13,
   "id": "e1344f00",
   "metadata": {},
   "outputs": [],
   "source": [
    "dataset.drop(index=dataset[dataset['latitude']=='0'].index, inplace=True)"
   ]
  },
  {
   "cell_type": "code",
   "execution_count": 14,
   "id": "d223d9d3",
   "metadata": {
    "scrolled": true
   },
   "outputs": [],
   "source": [
    "#dataset.info()"
   ]
  },
  {
   "cell_type": "code",
   "execution_count": 15,
   "id": "b0a90261",
   "metadata": {},
   "outputs": [],
   "source": [
    "time = dataset['hour']"
   ]
  },
  {
   "cell_type": "code",
   "execution_count": 16,
   "id": "58e9aca7",
   "metadata": {
    "scrolled": true
   },
   "outputs": [
    {
     "data": {
      "text/html": [
       "<div>\n",
       "<style scoped>\n",
       "    .dataframe tbody tr th:only-of-type {\n",
       "        vertical-align: middle;\n",
       "    }\n",
       "\n",
       "    .dataframe tbody tr th {\n",
       "        vertical-align: top;\n",
       "    }\n",
       "\n",
       "    .dataframe thead th {\n",
       "        text-align: right;\n",
       "    }\n",
       "</style>\n",
       "<table border=\"1\" class=\"dataframe\">\n",
       "  <thead>\n",
       "    <tr style=\"text-align: right;\">\n",
       "      <th></th>\n",
       "      <th>id</th>\n",
       "      <th>dev_id</th>\n",
       "      <th>date</th>\n",
       "      <th>hour</th>\n",
       "      <th>latitude</th>\n",
       "      <th>longitude</th>\n",
       "      <th>speed</th>\n",
       "      <th>accx</th>\n",
       "      <th>accy</th>\n",
       "      <th>accz</th>\n",
       "      <th>gyrox</th>\n",
       "      <th>gyroy</th>\n",
       "      <th>gyroz</th>\n",
       "      <th>SF</th>\n",
       "      <th>BW</th>\n",
       "      <th>CR</th>\n",
       "    </tr>\n",
       "  </thead>\n",
       "  <tbody>\n",
       "    <tr>\n",
       "      <th>17</th>\n",
       "      <td>18</td>\n",
       "      <td>tarjeta2-cubecell</td>\n",
       "      <td>2022-08-31</td>\n",
       "      <td>0 days 13:47:22</td>\n",
       "      <td>2.4494545</td>\n",
       "      <td>-76.6269796</td>\n",
       "      <td>0.62968</td>\n",
       "      <td>-0.1043366</td>\n",
       "      <td>-0.7579422</td>\n",
       "      <td>9.8896343</td>\n",
       "      <td>0.2024117</td>\n",
       "      <td>-0.2121214</td>\n",
       "      <td>0.0974049</td>\n",
       "      <td>7</td>\n",
       "      <td>125000</td>\n",
       "      <td>4/5</td>\n",
       "    </tr>\n",
       "    <tr>\n",
       "      <th>18</th>\n",
       "      <td>19</td>\n",
       "      <td>tarjeta2-cubecell</td>\n",
       "      <td>2022-08-31</td>\n",
       "      <td>0 days 13:47:33</td>\n",
       "      <td>2.4494231</td>\n",
       "      <td>-76.6269756</td>\n",
       "      <td>0</td>\n",
       "      <td>-0.1043366</td>\n",
       "      <td>-0.8920633</td>\n",
       "      <td>9.8225738</td>\n",
       "      <td>-0.041863</td>\n",
       "      <td>0.0474205</td>\n",
       "      <td>0.2042751</td>\n",
       "      <td>7</td>\n",
       "      <td>125000</td>\n",
       "      <td>4/5</td>\n",
       "    </tr>\n",
       "    <tr>\n",
       "      <th>19</th>\n",
       "      <td>20</td>\n",
       "      <td>tarjeta2-cubecell</td>\n",
       "      <td>2022-08-31</td>\n",
       "      <td>0 days 13:47:43</td>\n",
       "      <td>2.4493666</td>\n",
       "      <td>-76.6269073</td>\n",
       "      <td>0</td>\n",
       "      <td>-0.1211018</td>\n",
       "      <td>-0.7986575</td>\n",
       "      <td>9.7770684</td>\n",
       "      <td>0.2482132</td>\n",
       "      <td>-0.349526</td>\n",
       "      <td>0.0821378</td>\n",
       "      <td>7</td>\n",
       "      <td>125000</td>\n",
       "      <td>4/5</td>\n",
       "    </tr>\n",
       "    <tr>\n",
       "      <th>20</th>\n",
       "      <td>21</td>\n",
       "      <td>tarjeta2-cubecell</td>\n",
       "      <td>2022-08-31</td>\n",
       "      <td>0 days 13:47:54</td>\n",
       "      <td>2.4493663</td>\n",
       "      <td>-76.6268878</td>\n",
       "      <td>0</td>\n",
       "      <td>-0.1546321</td>\n",
       "      <td>-0.8369779</td>\n",
       "      <td>9.7722784</td>\n",
       "      <td>0.2482132</td>\n",
       "      <td>0.077955</td>\n",
       "      <td>0.1279393</td>\n",
       "      <td>7</td>\n",
       "      <td>125000</td>\n",
       "      <td>4/5</td>\n",
       "    </tr>\n",
       "    <tr>\n",
       "      <th>21</th>\n",
       "      <td>22</td>\n",
       "      <td>tarjeta2-cubecell</td>\n",
       "      <td>2022-08-31</td>\n",
       "      <td>0 days 13:48:06</td>\n",
       "      <td>2.4493705</td>\n",
       "      <td>-76.6268905</td>\n",
       "      <td>0</td>\n",
       "      <td>-0.1234968</td>\n",
       "      <td>-0.856138</td>\n",
       "      <td>9.8537091</td>\n",
       "      <td>0.324549</td>\n",
       "      <td>0.1084892</td>\n",
       "      <td>0.1890079</td>\n",
       "      <td>7</td>\n",
       "      <td>125000</td>\n",
       "      <td>4/5</td>\n",
       "    </tr>\n",
       "    <tr>\n",
       "      <th>...</th>\n",
       "      <td>...</td>\n",
       "      <td>...</td>\n",
       "      <td>...</td>\n",
       "      <td>...</td>\n",
       "      <td>...</td>\n",
       "      <td>...</td>\n",
       "      <td>...</td>\n",
       "      <td>...</td>\n",
       "      <td>...</td>\n",
       "      <td>...</td>\n",
       "      <td>...</td>\n",
       "      <td>...</td>\n",
       "      <td>...</td>\n",
       "      <td>...</td>\n",
       "      <td>...</td>\n",
       "      <td>...</td>\n",
       "    </tr>\n",
       "    <tr>\n",
       "      <th>274</th>\n",
       "      <td>275</td>\n",
       "      <td>tarjeta2-cubecell</td>\n",
       "      <td>2022-08-31</td>\n",
       "      <td>0 days 14:36:37</td>\n",
       "      <td>2.4503646</td>\n",
       "      <td>-76.6269323</td>\n",
       "      <td>24.13156</td>\n",
       "      <td>1.2033439</td>\n",
       "      <td>-2.9853105</td>\n",
       "      <td>7.638316</td>\n",
       "      <td>-0.4846112</td>\n",
       "      <td>-2.5938007</td>\n",
       "      <td>-2.5896177</td>\n",
       "      <td>7</td>\n",
       "      <td>125000</td>\n",
       "      <td>4/5</td>\n",
       "    </tr>\n",
       "    <tr>\n",
       "      <th>275</th>\n",
       "      <td>276</td>\n",
       "      <td>tarjeta2-cubecell</td>\n",
       "      <td>2022-08-31</td>\n",
       "      <td>0 days 14:36:48</td>\n",
       "      <td>2.4502795</td>\n",
       "      <td>-76.6266823</td>\n",
       "      <td>14.00112</td>\n",
       "      <td>-0.1091267</td>\n",
       "      <td>-6.2257719</td>\n",
       "      <td>11.5829132</td>\n",
       "      <td>-0.3930082</td>\n",
       "      <td>-8.9449462</td>\n",
       "      <td>13.8378629</td>\n",
       "      <td>7</td>\n",
       "      <td>125000</td>\n",
       "      <td>4/5</td>\n",
       "    </tr>\n",
       "    <tr>\n",
       "      <th>276</th>\n",
       "      <td>277</td>\n",
       "      <td>tarjeta2-cubecell</td>\n",
       "      <td>2022-08-31</td>\n",
       "      <td>0 days 14:37:26</td>\n",
       "      <td>2.4495106</td>\n",
       "      <td>-76.6269685</td>\n",
       "      <td>1.0186</td>\n",
       "      <td>-0.3198884</td>\n",
       "      <td>-3.7301616</td>\n",
       "      <td>10.454859</td>\n",
       "      <td>-0.0876646</td>\n",
       "      <td>-8.9449462</td>\n",
       "      <td>6.4027485</td>\n",
       "      <td>7</td>\n",
       "      <td>125000</td>\n",
       "      <td>4/5</td>\n",
       "    </tr>\n",
       "    <tr>\n",
       "      <th>277</th>\n",
       "      <td>278</td>\n",
       "      <td>tarjeta2-cubecell</td>\n",
       "      <td>2022-08-31</td>\n",
       "      <td>0 days 14:37:38</td>\n",
       "      <td>2.4494831</td>\n",
       "      <td>-76.6269721</td>\n",
       "      <td>0</td>\n",
       "      <td>2.4224089</td>\n",
       "      <td>-1.6872098</td>\n",
       "      <td>9.0681427</td>\n",
       "      <td>1.1642438</td>\n",
       "      <td>4.0321536</td>\n",
       "      <td>-1.6735874</td>\n",
       "      <td>7</td>\n",
       "      <td>125000</td>\n",
       "      <td>4/5</td>\n",
       "    </tr>\n",
       "    <tr>\n",
       "      <th>278</th>\n",
       "      <td>279</td>\n",
       "      <td>tarjeta2-cubecell</td>\n",
       "      <td>2022-08-31</td>\n",
       "      <td>0 days 14:37:49</td>\n",
       "      <td>2.4494841</td>\n",
       "      <td>-76.6269671</td>\n",
       "      <td>0</td>\n",
       "      <td>0.3387419</td>\n",
       "      <td>-1.0501346</td>\n",
       "      <td>9.7339581</td>\n",
       "      <td>0.3092819</td>\n",
       "      <td>-0.0289154</td>\n",
       "      <td>0.1584736</td>\n",
       "      <td>7</td>\n",
       "      <td>125000</td>\n",
       "      <td>4/5</td>\n",
       "    </tr>\n",
       "  </tbody>\n",
       "</table>\n",
       "<p>262 rows × 16 columns</p>\n",
       "</div>"
      ],
      "text/plain": [
       "      id             dev_id        date            hour   latitude  \\\n",
       "17    18  tarjeta2-cubecell  2022-08-31 0 days 13:47:22  2.4494545   \n",
       "18    19  tarjeta2-cubecell  2022-08-31 0 days 13:47:33  2.4494231   \n",
       "19    20  tarjeta2-cubecell  2022-08-31 0 days 13:47:43  2.4493666   \n",
       "20    21  tarjeta2-cubecell  2022-08-31 0 days 13:47:54  2.4493663   \n",
       "21    22  tarjeta2-cubecell  2022-08-31 0 days 13:48:06  2.4493705   \n",
       "..   ...                ...         ...             ...        ...   \n",
       "274  275  tarjeta2-cubecell  2022-08-31 0 days 14:36:37  2.4503646   \n",
       "275  276  tarjeta2-cubecell  2022-08-31 0 days 14:36:48  2.4502795   \n",
       "276  277  tarjeta2-cubecell  2022-08-31 0 days 14:37:26  2.4495106   \n",
       "277  278  tarjeta2-cubecell  2022-08-31 0 days 14:37:38  2.4494831   \n",
       "278  279  tarjeta2-cubecell  2022-08-31 0 days 14:37:49  2.4494841   \n",
       "\n",
       "       longitude     speed        accx        accy        accz       gyrox  \\\n",
       "17   -76.6269796   0.62968  -0.1043366  -0.7579422   9.8896343   0.2024117   \n",
       "18   -76.6269756         0  -0.1043366  -0.8920633   9.8225738   -0.041863   \n",
       "19   -76.6269073         0  -0.1211018  -0.7986575   9.7770684   0.2482132   \n",
       "20   -76.6268878         0  -0.1546321  -0.8369779   9.7722784   0.2482132   \n",
       "21   -76.6268905         0  -0.1234968   -0.856138   9.8537091    0.324549   \n",
       "..           ...       ...         ...         ...         ...         ...   \n",
       "274  -76.6269323  24.13156   1.2033439  -2.9853105    7.638316  -0.4846112   \n",
       "275  -76.6266823  14.00112  -0.1091267  -6.2257719  11.5829132  -0.3930082   \n",
       "276  -76.6269685    1.0186  -0.3198884  -3.7301616   10.454859  -0.0876646   \n",
       "277  -76.6269721         0   2.4224089  -1.6872098   9.0681427   1.1642438   \n",
       "278  -76.6269671         0   0.3387419  -1.0501346   9.7339581   0.3092819   \n",
       "\n",
       "          gyroy       gyroz SF      BW   CR  \n",
       "17   -0.2121214   0.0974049  7  125000  4/5  \n",
       "18    0.0474205   0.2042751  7  125000  4/5  \n",
       "19    -0.349526   0.0821378  7  125000  4/5  \n",
       "20     0.077955   0.1279393  7  125000  4/5  \n",
       "21    0.1084892   0.1890079  7  125000  4/5  \n",
       "..          ...         ... ..     ...  ...  \n",
       "274  -2.5938007  -2.5896177  7  125000  4/5  \n",
       "275  -8.9449462  13.8378629  7  125000  4/5  \n",
       "276  -8.9449462   6.4027485  7  125000  4/5  \n",
       "277   4.0321536  -1.6735874  7  125000  4/5  \n",
       "278  -0.0289154   0.1584736  7  125000  4/5  \n",
       "\n",
       "[262 rows x 16 columns]"
      ]
     },
     "execution_count": 16,
     "metadata": {},
     "output_type": "execute_result"
    }
   ],
   "source": [
    "dataset"
   ]
  },
  {
   "cell_type": "code",
   "execution_count": 17,
   "id": "befd0400",
   "metadata": {},
   "outputs": [],
   "source": [
    "dataset['latitude']=dataset['latitude'].astype('float64')\n",
    "dataset['longitude']=dataset['longitude'].astype('float64')"
   ]
  },
  {
   "cell_type": "code",
   "execution_count": 18,
   "id": "1ada5ef4",
   "metadata": {},
   "outputs": [],
   "source": [
    "#dataset.info()"
   ]
  },
  {
   "cell_type": "code",
   "execution_count": 19,
   "id": "f291b893",
   "metadata": {},
   "outputs": [],
   "source": [
    "d = pd.DataFrame()\n",
    "d['latitud']=dataset['latitude']\n",
    "d['longitude']=dataset['longitude']\n",
    "d.to_csv('calle_5_original.csv')"
   ]
  },
  {
   "cell_type": "code",
   "execution_count": 20,
   "id": "693d7d22",
   "metadata": {},
   "outputs": [],
   "source": [
    "def haversine(lat1, lon1, lat2, lon2):\n",
    "    rad=math.pi/180\n",
    "    dlat=lat2-lat1\n",
    "    dlon=lon2-lon1\n",
    "    R=6372.795477598\n",
    "    a=(math.sin(rad*dlat/2))**2 + math.cos(rad*lat1)*math.cos(rad*lat2)*(math.sin(rad*dlon/2))**2\n",
    "    distancia=2*R*math.asin(math.sqrt(a))\n",
    "    return distancia"
   ]
  },
  {
   "cell_type": "code",
   "execution_count": 21,
   "id": "31957414",
   "metadata": {},
   "outputs": [],
   "source": [
    "time_step = 30"
   ]
  },
  {
   "cell_type": "code",
   "execution_count": 22,
   "id": "b7e17321",
   "metadata": {},
   "outputs": [],
   "source": [
    "last = int(len(dataset)/5.0)"
   ]
  },
  {
   "cell_type": "code",
   "execution_count": 23,
   "id": "ddc2ac6b",
   "metadata": {},
   "outputs": [],
   "source": [
    "set_entrenamiento = dataset[:-last]\n",
    "set_validacion = dataset[-last-time_step:]"
   ]
  },
  {
   "cell_type": "code",
   "execution_count": 24,
   "id": "4354fb93",
   "metadata": {},
   "outputs": [],
   "source": [
    "#set_entrenamiento.info()"
   ]
  },
  {
   "cell_type": "code",
   "execution_count": 25,
   "id": "ed99b0e6",
   "metadata": {},
   "outputs": [],
   "source": [
    "#set_validacion.info()"
   ]
  },
  {
   "cell_type": "code",
   "execution_count": 26,
   "id": "3818e3d0",
   "metadata": {
    "scrolled": true
   },
   "outputs": [],
   "source": [
    "set_entrenamiento.reset_index(inplace=True, drop=True)\n",
    "#set_entrenamiento"
   ]
  },
  {
   "cell_type": "code",
   "execution_count": 27,
   "id": "0d19318a",
   "metadata": {
    "scrolled": true
   },
   "outputs": [],
   "source": [
    "set_validacion.reset_index(inplace=True, drop=True)\n",
    "#set_validacion"
   ]
  },
  {
   "cell_type": "code",
   "execution_count": 28,
   "id": "3ddf830d",
   "metadata": {
    "scrolled": true
   },
   "outputs": [],
   "source": [
    "#set_validacion.info()"
   ]
  },
  {
   "cell_type": "code",
   "execution_count": 29,
   "id": "278074bb",
   "metadata": {},
   "outputs": [],
   "source": [
    "#set_entrenamiento.info()"
   ]
  },
  {
   "cell_type": "code",
   "execution_count": 30,
   "id": "673cd79f",
   "metadata": {},
   "outputs": [],
   "source": [
    "x= np.column_stack((set_entrenamiento.iloc[:,[4]],set_entrenamiento.iloc[:,[5]],set_entrenamiento.iloc[:,[8]],set_entrenamiento.iloc[:,[12]]))"
   ]
  },
  {
   "cell_type": "code",
   "execution_count": 31,
   "id": "1e82f8bf",
   "metadata": {
    "scrolled": true
   },
   "outputs": [],
   "source": [
    "#x[0:1,:]"
   ]
  },
  {
   "cell_type": "code",
   "execution_count": 32,
   "id": "285a642f",
   "metadata": {},
   "outputs": [],
   "source": [
    "#x[0]"
   ]
  },
  {
   "cell_type": "code",
   "execution_count": 33,
   "id": "669aee48",
   "metadata": {},
   "outputs": [],
   "source": [
    "# Normalización del set de entrenamiento\n",
    "sc1 = MinMaxScaler(feature_range=(0,1))\n",
    "set_entrenamiento_escalado = sc1.fit_transform(x)"
   ]
  },
  {
   "cell_type": "code",
   "execution_count": 34,
   "id": "776a8a69",
   "metadata": {
    "scrolled": true
   },
   "outputs": [],
   "source": [
    "#set_entrenamiento_latitud_escalado=x"
   ]
  },
  {
   "cell_type": "code",
   "execution_count": 35,
   "id": "321044a9",
   "metadata": {
    "scrolled": true
   },
   "outputs": [],
   "source": [
    "#set_entrenamiento_latitud_escalado = np.array(set_entrenamiento_latitud_escalado).reshape(set_entrenamiento_latitud_escalado, ((set_entrenamiento_latitud_escalado.shape[0])/4), set_entrenamiento_latitud_escalado.shape[1], 4)"
   ]
  },
  {
   "cell_type": "code",
   "execution_count": 36,
   "id": "963164f1",
   "metadata": {},
   "outputs": [],
   "source": [
    "# La red LSTM tendrá como entrada \"time_step\" datos consecutivos, y como salida 1 dato (la predicción a\n",
    "# partir de esos \"time_step\" datos). Se conformará de esta forma el set de entrenamiento\n",
    "X_train = []\n",
    "Y_train = []\n",
    "m = len(set_entrenamiento_escalado)"
   ]
  },
  {
   "cell_type": "code",
   "execution_count": 37,
   "id": "dedf68b0",
   "metadata": {},
   "outputs": [],
   "source": [
    "for i in range(time_step,m):\n",
    "    # X: bloques de \"time_step\" datos: 0-time_step, 1-time_step+1, 2-time_step+2, etc\n",
    "    X_train.append(set_entrenamiento_escalado[i-time_step:i,0:5])\n",
    "    # Y: el siguiente dato\n",
    "    Y_train.append(set_entrenamiento_escalado[i,0:5])"
   ]
  },
  {
   "cell_type": "code",
   "execution_count": 38,
   "id": "440dd781",
   "metadata": {},
   "outputs": [],
   "source": [
    "X_train, Y_train = np.array(X_train), np.array(Y_train)"
   ]
  },
  {
   "cell_type": "code",
   "execution_count": null,
   "id": "964b67fb",
   "metadata": {},
   "outputs": [],
   "source": []
  },
  {
   "cell_type": "code",
   "execution_count": 39,
   "id": "beee00b9",
   "metadata": {
    "scrolled": true
   },
   "outputs": [
    {
     "data": {
      "text/plain": [
       "(180, 4)"
      ]
     },
     "execution_count": 39,
     "metadata": {},
     "output_type": "execute_result"
    }
   ],
   "source": [
    "Y_train.shape"
   ]
  },
  {
   "cell_type": "code",
   "execution_count": 40,
   "id": "6701d53f",
   "metadata": {},
   "outputs": [],
   "source": [
    "# Reshape X_train para que se ajuste al modelo en Keras\n",
    "X_train = np.reshape(X_train, (X_train.shape[0], X_train.shape[1], 4))"
   ]
  },
  {
   "cell_type": "code",
   "execution_count": 41,
   "id": "9cf152d1",
   "metadata": {
    "scrolled": true
   },
   "outputs": [
    {
     "data": {
      "text/plain": [
       "(180, 30, 4)"
      ]
     },
     "execution_count": 41,
     "metadata": {},
     "output_type": "execute_result"
    }
   ],
   "source": [
    "X_train.shape"
   ]
  },
  {
   "cell_type": "code",
   "execution_count": 42,
   "id": "cb875db7",
   "metadata": {},
   "outputs": [],
   "source": [
    "# Red LSTM\n",
    "#Para crear la red debemos primero definir el tamaño de los datos de entrada y del dato de salida,\n",
    "#así como el número total de neuronas (100):\n",
    "dim_in = (X_train.shape[1],4)\n",
    "dim_out = 4\n",
    "neurons = 100"
   ]
  },
  {
   "cell_type": "code",
   "execution_count": 43,
   "id": "2238e692",
   "metadata": {},
   "outputs": [],
   "source": [
    "from keras.layers import Bidirectional\n",
    "from tensorflow.keras.optimizers import SGD, Adam"
   ]
  },
  {
   "cell_type": "code",
   "execution_count": 44,
   "id": "c038ec80",
   "metadata": {
    "scrolled": true
   },
   "outputs": [],
   "source": [
    "def build_model(hp):\n",
    "    #definicion de hiperparámetros a evaluar\n",
    "    hp_batch_size = hp.Int('batch_size', min_value = 8, max_value = 128, step = 8)\n",
    "    hp_seed = hp.Int('seed', min_value =0, max_value = 100, step = 1)\n",
    "    hp_activation = hp.Choice('activation',['relu','tanh','linear','selu','elu','softmax'])\n",
    "    recurrent_dropout = hp.Float('recurrent_dropout',min_value=0.0,max_value=0.99,default=0.2)\n",
    "    hp_neurons = hp.Int('neurons', min_value = 10, max_value = 200, step = 10)\n",
    "    hp_neurons2 = hp.Int('neurons2', min_value = 10, max_value = 200, step = 10)\n",
    "    hp_neurons3 = hp.Int('neurons3', min_value = 10, max_value = 200, step = 10)\n",
    "    np.random.seed(hp_seed)\n",
    "    #definición del modelo de red neuronal\n",
    "    modelo = Sequential()\n",
    "    modelo.add(LSTM(units=hp_neurons, activation=hp_activation, return_sequences=True, input_shape=dim_in))\n",
    "    modelo.add(LSTM(hp_neurons2, activation=hp_activation, return_sequences=True))\n",
    "    modelo.add(LSTM(hp_neurons3, activation=hp_activation, return_sequences=True))\n",
    "    #modelo.add(LSTM(200, activation=hp_activation,  return_sequences=True))\n",
    "    modelo.add(Flatten())\n",
    "    modelo.add(Dropout(recurrent_dropout))\n",
    "    modelo.add(Dense(units=dim_out,activation=hp_activation))\n",
    "    \n",
    "    hp_learning_rate = hp.Choice('learning_rate', values = [1e-2, 1e-3])\n",
    "    opt = Adam(learning_rate=hp_learning_rate)#, momentum=0.9)\n",
    "    modelo.compile(optimizer=opt, loss='mse', metrics=['mse'])\n",
    "    #modelo.compile(optimizer='Adam', loss='mse')\n",
    "    #modelo.fit(X_train,Y_train,epochs=10,batch_size=32)\n",
    "    #print(modelo.summary())\n",
    "    return modelo"
   ]
  },
  {
   "cell_type": "code",
   "execution_count": 45,
   "id": "04d3dcef",
   "metadata": {
    "scrolled": true
   },
   "outputs": [],
   "source": [
    "#pip install keras-tuner --upgrade"
   ]
  },
  {
   "cell_type": "code",
   "execution_count": 46,
   "id": "c7747de1",
   "metadata": {},
   "outputs": [],
   "source": [
    "import keras_tuner"
   ]
  },
  {
   "cell_type": "code",
   "execution_count": 47,
   "id": "df840ea5",
   "metadata": {},
   "outputs": [],
   "source": [
    "from keras_tuner.tuners import BayesianOptimization"
   ]
  },
  {
   "cell_type": "code",
   "execution_count": 48,
   "id": "44715aee",
   "metadata": {},
   "outputs": [],
   "source": [
    "tuner = BayesianOptimization(\n",
    "    build_model,\n",
    "    objective = 'mse',\n",
    "    overwrite=True,\n",
    "    max_trials = 6)"
   ]
  },
  {
   "cell_type": "code",
   "execution_count": null,
   "id": "7272bc14",
   "metadata": {},
   "outputs": [],
   "source": []
  },
  {
   "cell_type": "code",
   "execution_count": 49,
   "id": "c494f1c8",
   "metadata": {},
   "outputs": [],
   "source": [
    "#definimos funcion de error y el método para minimizar\n",
    "#modelo.compile(optimizer='RMSprop', loss='mse')"
   ]
  },
  {
   "cell_type": "code",
   "execution_count": 50,
   "id": "e6727a42",
   "metadata": {
    "scrolled": true
   },
   "outputs": [],
   "source": [
    "#implementamos el modelo con 20 iteraciones, epochs\n",
    "#Presentando a la res lstm lotess de 32 datos\n",
    "#modelo.fit(X_train,Y_train,epochs=500,batch_size=32)\n",
    "#epochs 100  batch=64 loss 0.0017\n",
    "#epochs 100  batch=32 loss 0.0040\n",
    "#epochs 20  batch=32 loss 0.0071"
   ]
  },
  {
   "cell_type": "code",
   "execution_count": 51,
   "id": "40205517",
   "metadata": {
    "scrolled": true
   },
   "outputs": [],
   "source": [
    "#X_train.shape"
   ]
  },
  {
   "cell_type": "code",
   "execution_count": 52,
   "id": "3b8caa26",
   "metadata": {},
   "outputs": [],
   "source": [
    "#x_test_latitud = set_validacion.iloc[:,4:5]\n",
    "x_test= np.column_stack((set_validacion.iloc[:,[4]],set_validacion.iloc[:,[5]],set_validacion.iloc[:,[8]],set_validacion.iloc[:,[12]]))"
   ]
  },
  {
   "cell_type": "code",
   "execution_count": 53,
   "id": "d91bf082",
   "metadata": {
    "scrolled": true
   },
   "outputs": [],
   "source": [
    "#x_test"
   ]
  },
  {
   "cell_type": "code",
   "execution_count": 54,
   "id": "e10f5689",
   "metadata": {},
   "outputs": [],
   "source": [
    "array_latitud = []\n",
    "for x in range(len(x_test)):\n",
    "    array_latitud.append(x_test[x,0])"
   ]
  },
  {
   "cell_type": "code",
   "execution_count": 55,
   "id": "ebcffc86",
   "metadata": {
    "scrolled": true
   },
   "outputs": [],
   "source": [
    "#array_latitud"
   ]
  },
  {
   "cell_type": "code",
   "execution_count": 56,
   "id": "e888ab17",
   "metadata": {},
   "outputs": [],
   "source": [
    "array_longitud = []\n",
    "for x in range(len(x_test)):\n",
    "    array_longitud.append(x_test[x,1])"
   ]
  },
  {
   "cell_type": "code",
   "execution_count": 57,
   "id": "2d632706",
   "metadata": {
    "scrolled": true
   },
   "outputs": [],
   "source": [
    "#array_longitud"
   ]
  },
  {
   "cell_type": "code",
   "execution_count": 58,
   "id": "5f2f3844",
   "metadata": {
    "scrolled": true
   },
   "outputs": [],
   "source": [
    "#sc2 = MinMaxScaler(feature_range=(0,1))\n",
    "x_test_n = sc1.transform(x_test)\n",
    "#x_test_n"
   ]
  },
  {
   "cell_type": "code",
   "execution_count": 59,
   "id": "23d28346",
   "metadata": {},
   "outputs": [
    {
     "data": {
      "text/plain": [
       "(82, 4)"
      ]
     },
     "execution_count": 59,
     "metadata": {},
     "output_type": "execute_result"
    }
   ],
   "source": [
    "x_test_n.shape"
   ]
  },
  {
   "cell_type": "code",
   "execution_count": 60,
   "id": "a25a1740",
   "metadata": {},
   "outputs": [],
   "source": [
    "#Obtenemos bloques de 60 datos\n",
    "X_test = []\n",
    "Y_test = []\n",
    "for i in range(time_step,len(x_test_n)):\n",
    "    X_test.append(x_test_n[i-time_step:i,0:5])\n",
    "    Y_test.append(x_test_n[i,0:5])"
   ]
  },
  {
   "cell_type": "code",
   "execution_count": 61,
   "id": "9d37856c",
   "metadata": {},
   "outputs": [
    {
     "data": {
      "text/plain": [
       "(52, 30, 4)"
      ]
     },
     "execution_count": 61,
     "metadata": {},
     "output_type": "execute_result"
    }
   ],
   "source": [
    "X_test = np.array(X_test)\n",
    "X_test.shape"
   ]
  },
  {
   "cell_type": "code",
   "execution_count": 62,
   "id": "c9d0b3d9",
   "metadata": {
    "scrolled": true
   },
   "outputs": [
    {
     "data": {
      "text/plain": [
       "(52, 4)"
      ]
     },
     "execution_count": 62,
     "metadata": {},
     "output_type": "execute_result"
    }
   ],
   "source": [
    "Y_test = np.array(Y_test)\n",
    "Y_test.shape"
   ]
  },
  {
   "cell_type": "code",
   "execution_count": 63,
   "id": "9b71de53",
   "metadata": {},
   "outputs": [],
   "source": [
    "X_test = np.reshape(X_test, (X_test.shape[0],X_test.shape[1],4))"
   ]
  },
  {
   "cell_type": "code",
   "execution_count": 64,
   "id": "a3587dc6",
   "metadata": {},
   "outputs": [
    {
     "data": {
      "text/plain": [
       "(180, 30, 4)"
      ]
     },
     "execution_count": 64,
     "metadata": {},
     "output_type": "execute_result"
    }
   ],
   "source": [
    "#Y_train = to_categorical(Y_train)\n",
    "#Y_test = to_categorical(Y_test)\n",
    "X_train.shape"
   ]
  },
  {
   "cell_type": "code",
   "execution_count": 65,
   "id": "49284250",
   "metadata": {},
   "outputs": [
    {
     "data": {
      "text/plain": [
       "(180, 4)"
      ]
     },
     "execution_count": 65,
     "metadata": {},
     "output_type": "execute_result"
    }
   ],
   "source": [
    "Y_train.shape"
   ]
  },
  {
   "cell_type": "code",
   "execution_count": 66,
   "id": "12858401",
   "metadata": {
    "scrolled": true
   },
   "outputs": [
    {
     "name": "stdout",
     "output_type": "stream",
     "text": [
      "Trial 6 Complete [00h 00m 25s]\n",
      "mse: 0.12917274236679077\n",
      "\n",
      "Best mse So Far: 0.008536839857697487\n",
      "Total elapsed time: 00h 02m 51s\n",
      "INFO:tensorflow:Oracle triggered exit\n"
     ]
    }
   ],
   "source": [
    "tuner.search(X_train, Y_train,\n",
    "             epochs=100,\n",
    "             #overwrite=True,\n",
    "             validation_data=(X_test, Y_test))\n",
    "            #)"
   ]
  },
  {
   "cell_type": "code",
   "execution_count": 67,
   "id": "d87627c4",
   "metadata": {},
   "outputs": [
    {
     "name": "stdout",
     "output_type": "stream",
     "text": [
      "Results summary\n",
      "Results in .\\untitled_project\n",
      "Showing 10 best trials\n",
      "<keras_tuner.engine.objective.Objective object at 0x000001ACF8A5EBB0>\n",
      "Trial summary\n",
      "Hyperparameters:\n",
      "batch_size: 16\n",
      "seed: 0\n",
      "activation: relu\n",
      "recurrent_dropout: 0.0\n",
      "neurons: 70\n",
      "neurons2: 40\n",
      "neurons3: 200\n",
      "learning_rate: 0.001\n",
      "Score: 0.008536839857697487\n",
      "Trial summary\n",
      "Hyperparameters:\n",
      "batch_size: 72\n",
      "seed: 21\n",
      "activation: selu\n",
      "recurrent_dropout: 0.12301546650972131\n",
      "neurons: 40\n",
      "neurons2: 80\n",
      "neurons3: 150\n",
      "learning_rate: 0.001\n",
      "Score: 0.009225220419466496\n",
      "Trial summary\n",
      "Hyperparameters:\n",
      "batch_size: 88\n",
      "seed: 0\n",
      "activation: elu\n",
      "recurrent_dropout: 0.0\n",
      "neurons: 10\n",
      "neurons2: 200\n",
      "neurons3: 200\n",
      "learning_rate: 0.01\n",
      "Score: 0.010804278776049614\n",
      "Trial summary\n",
      "Hyperparameters:\n",
      "batch_size: 112\n",
      "seed: 0\n",
      "activation: relu\n",
      "recurrent_dropout: 0.0\n",
      "neurons: 200\n",
      "neurons2: 10\n",
      "neurons3: 200\n",
      "learning_rate: 0.001\n",
      "Score: 0.011343796737492085\n",
      "Trial summary\n",
      "Hyperparameters:\n",
      "batch_size: 72\n",
      "seed: 79\n",
      "activation: selu\n",
      "recurrent_dropout: 0.2775721702469985\n",
      "neurons: 50\n",
      "neurons2: 30\n",
      "neurons3: 20\n",
      "learning_rate: 0.001\n",
      "Score: 0.012060804292559624\n",
      "Trial summary\n",
      "Hyperparameters:\n",
      "batch_size: 8\n",
      "seed: 0\n",
      "activation: softmax\n",
      "recurrent_dropout: 0.0\n",
      "neurons: 10\n",
      "neurons2: 10\n",
      "neurons3: 200\n",
      "learning_rate: 0.001\n",
      "Score: 0.12917274236679077\n"
     ]
    }
   ],
   "source": [
    "tuner.results_summary()"
   ]
  },
  {
   "cell_type": "code",
   "execution_count": 68,
   "id": "321424f2",
   "metadata": {},
   "outputs": [
    {
     "data": {
      "text/plain": [
       "{'batch_size': 16,\n",
       " 'seed': 0,\n",
       " 'activation': 'relu',\n",
       " 'recurrent_dropout': 0.0,\n",
       " 'neurons': 70,\n",
       " 'neurons2': 40,\n",
       " 'neurons3': 200,\n",
       " 'learning_rate': 0.001}"
      ]
     },
     "execution_count": 68,
     "metadata": {},
     "output_type": "execute_result"
    }
   ],
   "source": [
    "best_hps = tuner.get_best_hyperparameters(num_trials = 1)[0]\n",
    "best_hps.values"
   ]
  },
  {
   "cell_type": "code",
   "execution_count": 69,
   "id": "cefdcb73",
   "metadata": {},
   "outputs": [
    {
     "name": "stdout",
     "output_type": "stream",
     "text": [
      "Epoch 1/100\n",
      "6/6 [==============================] - 4s 119ms/step - loss: 0.2390 - mse: 0.2390 - val_loss: 0.0643 - val_mse: 0.0643\n",
      "Epoch 2/100\n",
      "6/6 [==============================] - 0s 49ms/step - loss: 0.0749 - mse: 0.0749 - val_loss: 0.0669 - val_mse: 0.0669\n",
      "Epoch 3/100\n",
      "6/6 [==============================] - 0s 49ms/step - loss: 0.0648 - mse: 0.0648 - val_loss: 0.0609 - val_mse: 0.0609\n",
      "Epoch 4/100\n",
      "6/6 [==============================] - 0s 49ms/step - loss: 0.0537 - mse: 0.0537 - val_loss: 0.0501 - val_mse: 0.0501\n",
      "Epoch 5/100\n",
      "6/6 [==============================] - 0s 49ms/step - loss: 0.0466 - mse: 0.0466 - val_loss: 0.0472 - val_mse: 0.0472\n",
      "Epoch 6/100\n",
      "6/6 [==============================] - 0s 49ms/step - loss: 0.0453 - mse: 0.0453 - val_loss: 0.0465 - val_mse: 0.0465\n",
      "Epoch 7/100\n",
      "6/6 [==============================] - 0s 49ms/step - loss: 0.0431 - mse: 0.0431 - val_loss: 0.0449 - val_mse: 0.0449\n",
      "Epoch 8/100\n",
      "6/6 [==============================] - 0s 49ms/step - loss: 0.0393 - mse: 0.0393 - val_loss: 0.0368 - val_mse: 0.0368\n",
      "Epoch 9/100\n",
      "6/6 [==============================] - 0s 50ms/step - loss: 0.0314 - mse: 0.0314 - val_loss: 0.0305 - val_mse: 0.0305\n",
      "Epoch 10/100\n",
      "6/6 [==============================] - 0s 49ms/step - loss: 0.0218 - mse: 0.0218 - val_loss: 0.0187 - val_mse: 0.0187\n",
      "Epoch 11/100\n",
      "6/6 [==============================] - 0s 50ms/step - loss: 0.0177 - mse: 0.0177 - val_loss: 0.0176 - val_mse: 0.0176\n",
      "Epoch 12/100\n",
      "6/6 [==============================] - 0s 49ms/step - loss: 0.0164 - mse: 0.0164 - val_loss: 0.0239 - val_mse: 0.0239\n",
      "Epoch 13/100\n",
      "6/6 [==============================] - 0s 49ms/step - loss: 0.0163 - mse: 0.0163 - val_loss: 0.0215 - val_mse: 0.0215\n",
      "Epoch 14/100\n",
      "6/6 [==============================] - 0s 49ms/step - loss: 0.0154 - mse: 0.0154 - val_loss: 0.0193 - val_mse: 0.0193\n",
      "Epoch 15/100\n",
      "6/6 [==============================] - 0s 48ms/step - loss: 0.0149 - mse: 0.0149 - val_loss: 0.0178 - val_mse: 0.0178\n",
      "Epoch 16/100\n",
      "6/6 [==============================] - 0s 56ms/step - loss: 0.0149 - mse: 0.0149 - val_loss: 0.0175 - val_mse: 0.0175\n",
      "Epoch 17/100\n",
      "6/6 [==============================] - 0s 63ms/step - loss: 0.0149 - mse: 0.0149 - val_loss: 0.0183 - val_mse: 0.0183\n",
      "Epoch 18/100\n",
      "6/6 [==============================] - 0s 66ms/step - loss: 0.0140 - mse: 0.0140 - val_loss: 0.0210 - val_mse: 0.0210\n",
      "Epoch 19/100\n",
      "6/6 [==============================] - 0s 65ms/step - loss: 0.0143 - mse: 0.0143 - val_loss: 0.0177 - val_mse: 0.0177\n",
      "Epoch 20/100\n",
      "6/6 [==============================] - 0s 64ms/step - loss: 0.0141 - mse: 0.0141 - val_loss: 0.0179 - val_mse: 0.0179\n",
      "Epoch 21/100\n",
      "6/6 [==============================] - 0s 63ms/step - loss: 0.0144 - mse: 0.0144 - val_loss: 0.0179 - val_mse: 0.0179\n",
      "Epoch 22/100\n",
      "6/6 [==============================] - 0s 69ms/step - loss: 0.0145 - mse: 0.0145 - val_loss: 0.0202 - val_mse: 0.0202\n",
      "Epoch 23/100\n",
      "6/6 [==============================] - 0s 66ms/step - loss: 0.0138 - mse: 0.0138 - val_loss: 0.0171 - val_mse: 0.0171\n",
      "Epoch 24/100\n",
      "6/6 [==============================] - 0s 66ms/step - loss: 0.0138 - mse: 0.0138 - val_loss: 0.0176 - val_mse: 0.0176\n",
      "Epoch 25/100\n",
      "6/6 [==============================] - 0s 64ms/step - loss: 0.0133 - mse: 0.0133 - val_loss: 0.0177 - val_mse: 0.0177\n",
      "Epoch 26/100\n",
      "6/6 [==============================] - 0s 71ms/step - loss: 0.0128 - mse: 0.0128 - val_loss: 0.0172 - val_mse: 0.0172\n",
      "Epoch 27/100\n",
      "6/6 [==============================] - 0s 67ms/step - loss: 0.0130 - mse: 0.0130 - val_loss: 0.0167 - val_mse: 0.0167\n",
      "Epoch 28/100\n",
      "6/6 [==============================] - 0s 63ms/step - loss: 0.0135 - mse: 0.0135 - val_loss: 0.0199 - val_mse: 0.0199\n",
      "Epoch 29/100\n",
      "6/6 [==============================] - 0s 65ms/step - loss: 0.0136 - mse: 0.0136 - val_loss: 0.0175 - val_mse: 0.0175\n",
      "Epoch 30/100\n",
      "6/6 [==============================] - 0s 65ms/step - loss: 0.0135 - mse: 0.0135 - val_loss: 0.0163 - val_mse: 0.0163\n",
      "Epoch 31/100\n",
      "6/6 [==============================] - 0s 69ms/step - loss: 0.0124 - mse: 0.0124 - val_loss: 0.0183 - val_mse: 0.0183\n",
      "Epoch 32/100\n",
      "6/6 [==============================] - 0s 65ms/step - loss: 0.0123 - mse: 0.0123 - val_loss: 0.0157 - val_mse: 0.0157\n",
      "Epoch 33/100\n",
      "6/6 [==============================] - 0s 64ms/step - loss: 0.0120 - mse: 0.0120 - val_loss: 0.0176 - val_mse: 0.0176\n",
      "Epoch 34/100\n",
      "6/6 [==============================] - 0s 65ms/step - loss: 0.0122 - mse: 0.0122 - val_loss: 0.0157 - val_mse: 0.0157\n",
      "Epoch 35/100\n",
      "6/6 [==============================] - 0s 67ms/step - loss: 0.0118 - mse: 0.0118 - val_loss: 0.0155 - val_mse: 0.0155\n",
      "Epoch 36/100\n",
      "6/6 [==============================] - 0s 66ms/step - loss: 0.0118 - mse: 0.0118 - val_loss: 0.0168 - val_mse: 0.0168\n",
      "Epoch 37/100\n",
      "6/6 [==============================] - 0s 70ms/step - loss: 0.0116 - mse: 0.0116 - val_loss: 0.0152 - val_mse: 0.0152\n",
      "Epoch 38/100\n",
      "6/6 [==============================] - 0s 65ms/step - loss: 0.0111 - mse: 0.0111 - val_loss: 0.0158 - val_mse: 0.0158\n",
      "Epoch 39/100\n",
      "6/6 [==============================] - 0s 68ms/step - loss: 0.0109 - mse: 0.0109 - val_loss: 0.0146 - val_mse: 0.0146\n",
      "Epoch 40/100\n",
      "6/6 [==============================] - 0s 66ms/step - loss: 0.0109 - mse: 0.0109 - val_loss: 0.0153 - val_mse: 0.0153\n",
      "Epoch 41/100\n",
      "6/6 [==============================] - 0s 65ms/step - loss: 0.0108 - mse: 0.0108 - val_loss: 0.0143 - val_mse: 0.0143\n",
      "Epoch 42/100\n",
      "6/6 [==============================] - 0s 66ms/step - loss: 0.0116 - mse: 0.0116 - val_loss: 0.0156 - val_mse: 0.0156\n",
      "Epoch 43/100\n",
      "6/6 [==============================] - 0s 66ms/step - loss: 0.0109 - mse: 0.0109 - val_loss: 0.0145 - val_mse: 0.0145\n",
      "Epoch 44/100\n",
      "6/6 [==============================] - 0s 69ms/step - loss: 0.0109 - mse: 0.0109 - val_loss: 0.0144 - val_mse: 0.0144\n",
      "Epoch 45/100\n",
      "6/6 [==============================] - 0s 67ms/step - loss: 0.0107 - mse: 0.0107 - val_loss: 0.0156 - val_mse: 0.0156\n",
      "Epoch 46/100\n",
      "6/6 [==============================] - 0s 64ms/step - loss: 0.0106 - mse: 0.0106 - val_loss: 0.0142 - val_mse: 0.0142\n",
      "Epoch 47/100\n",
      "6/6 [==============================] - 0s 65ms/step - loss: 0.0106 - mse: 0.0106 - val_loss: 0.0152 - val_mse: 0.0152\n",
      "Epoch 48/100\n",
      "6/6 [==============================] - 0s 68ms/step - loss: 0.0107 - mse: 0.0107 - val_loss: 0.0168 - val_mse: 0.0168\n",
      "Epoch 49/100\n",
      "6/6 [==============================] - 0s 68ms/step - loss: 0.0111 - mse: 0.0111 - val_loss: 0.0146 - val_mse: 0.0146\n",
      "Epoch 50/100\n",
      "6/6 [==============================] - 0s 65ms/step - loss: 0.0105 - mse: 0.0105 - val_loss: 0.0138 - val_mse: 0.0138\n",
      "Epoch 51/100\n",
      "6/6 [==============================] - 0s 68ms/step - loss: 0.0109 - mse: 0.0109 - val_loss: 0.0147 - val_mse: 0.0147\n",
      "Epoch 52/100\n",
      "6/6 [==============================] - 0s 65ms/step - loss: 0.0105 - mse: 0.0105 - val_loss: 0.0149 - val_mse: 0.0149\n",
      "Epoch 53/100\n",
      "6/6 [==============================] - 0s 65ms/step - loss: 0.0105 - mse: 0.0105 - val_loss: 0.0139 - val_mse: 0.0139\n",
      "Epoch 54/100\n",
      "6/6 [==============================] - 0s 69ms/step - loss: 0.0105 - mse: 0.0105 - val_loss: 0.0149 - val_mse: 0.0149\n",
      "Epoch 55/100\n",
      "6/6 [==============================] - 0s 69ms/step - loss: 0.0108 - mse: 0.0108 - val_loss: 0.0150 - val_mse: 0.0150\n",
      "Epoch 56/100\n",
      "6/6 [==============================] - 0s 65ms/step - loss: 0.0107 - mse: 0.0107 - val_loss: 0.0143 - val_mse: 0.0143\n",
      "Epoch 57/100\n",
      "6/6 [==============================] - 0s 69ms/step - loss: 0.0105 - mse: 0.0105 - val_loss: 0.0151 - val_mse: 0.0151\n",
      "Epoch 58/100\n",
      "6/6 [==============================] - 0s 65ms/step - loss: 0.0102 - mse: 0.0102 - val_loss: 0.0145 - val_mse: 0.0145\n",
      "Epoch 59/100\n",
      "6/6 [==============================] - 0s 61ms/step - loss: 0.0101 - mse: 0.0101 - val_loss: 0.0140 - val_mse: 0.0140\n",
      "Epoch 60/100\n",
      "6/6 [==============================] - 0s 65ms/step - loss: 0.0102 - mse: 0.0102 - val_loss: 0.0144 - val_mse: 0.0144\n",
      "Epoch 61/100\n",
      "6/6 [==============================] - 0s 63ms/step - loss: 0.0100 - mse: 0.0100 - val_loss: 0.0150 - val_mse: 0.0150\n",
      "Epoch 62/100\n",
      "6/6 [==============================] - 0s 66ms/step - loss: 0.0102 - mse: 0.0102 - val_loss: 0.0155 - val_mse: 0.0155\n",
      "Epoch 63/100\n"
     ]
    },
    {
     "name": "stdout",
     "output_type": "stream",
     "text": [
      "6/6 [==============================] - 0s 64ms/step - loss: 0.0101 - mse: 0.0101 - val_loss: 0.0130 - val_mse: 0.0130\n",
      "Epoch 64/100\n",
      "6/6 [==============================] - 0s 63ms/step - loss: 0.0100 - mse: 0.0100 - val_loss: 0.0147 - val_mse: 0.0147\n",
      "Epoch 65/100\n",
      "6/6 [==============================] - 0s 62ms/step - loss: 0.0099 - mse: 0.0099 - val_loss: 0.0150 - val_mse: 0.0150\n",
      "Epoch 66/100\n",
      "6/6 [==============================] - 0s 65ms/step - loss: 0.0105 - mse: 0.0105 - val_loss: 0.0169 - val_mse: 0.0169\n",
      "Epoch 67/100\n",
      "6/6 [==============================] - 0s 62ms/step - loss: 0.0105 - mse: 0.0105 - val_loss: 0.0129 - val_mse: 0.0129\n",
      "Epoch 68/100\n",
      "6/6 [==============================] - 0s 67ms/step - loss: 0.0101 - mse: 0.0101 - val_loss: 0.0143 - val_mse: 0.0143\n",
      "Epoch 69/100\n",
      "6/6 [==============================] - 0s 64ms/step - loss: 0.0099 - mse: 0.0099 - val_loss: 0.0147 - val_mse: 0.0147\n",
      "Epoch 70/100\n",
      "6/6 [==============================] - 0s 63ms/step - loss: 0.0099 - mse: 0.0099 - val_loss: 0.0139 - val_mse: 0.0139\n",
      "Epoch 71/100\n",
      "6/6 [==============================] - 0s 63ms/step - loss: 0.0099 - mse: 0.0099 - val_loss: 0.0139 - val_mse: 0.0139\n",
      "Epoch 72/100\n",
      "6/6 [==============================] - 0s 66ms/step - loss: 0.0103 - mse: 0.0103 - val_loss: 0.0150 - val_mse: 0.0150\n",
      "Epoch 73/100\n",
      "6/6 [==============================] - 0s 64ms/step - loss: 0.0098 - mse: 0.0098 - val_loss: 0.0145 - val_mse: 0.0145\n",
      "Epoch 74/100\n",
      "6/6 [==============================] - 0s 67ms/step - loss: 0.0104 - mse: 0.0104 - val_loss: 0.0128 - val_mse: 0.0128\n",
      "Epoch 75/100\n",
      "6/6 [==============================] - 0s 67ms/step - loss: 0.0098 - mse: 0.0098 - val_loss: 0.0155 - val_mse: 0.0155\n",
      "Epoch 76/100\n",
      "6/6 [==============================] - 0s 67ms/step - loss: 0.0101 - mse: 0.0101 - val_loss: 0.0158 - val_mse: 0.0158\n",
      "Epoch 77/100\n",
      "6/6 [==============================] - 0s 69ms/step - loss: 0.0098 - mse: 0.0098 - val_loss: 0.0139 - val_mse: 0.0139\n",
      "Epoch 78/100\n",
      "6/6 [==============================] - 0s 64ms/step - loss: 0.0102 - mse: 0.0102 - val_loss: 0.0147 - val_mse: 0.0147\n",
      "Epoch 79/100\n",
      "6/6 [==============================] - 0s 68ms/step - loss: 0.0094 - mse: 0.0094 - val_loss: 0.0137 - val_mse: 0.0137\n",
      "Epoch 80/100\n",
      "6/6 [==============================] - 0s 69ms/step - loss: 0.0093 - mse: 0.0093 - val_loss: 0.0137 - val_mse: 0.0137\n",
      "Epoch 81/100\n",
      "6/6 [==============================] - 0s 67ms/step - loss: 0.0094 - mse: 0.0094 - val_loss: 0.0148 - val_mse: 0.0148\n",
      "Epoch 82/100\n",
      "6/6 [==============================] - 0s 65ms/step - loss: 0.0096 - mse: 0.0096 - val_loss: 0.0160 - val_mse: 0.0160\n",
      "Epoch 83/100\n",
      "6/6 [==============================] - 0s 65ms/step - loss: 0.0101 - mse: 0.0101 - val_loss: 0.0127 - val_mse: 0.0127\n",
      "Epoch 84/100\n",
      "6/6 [==============================] - 0s 62ms/step - loss: 0.0097 - mse: 0.0097 - val_loss: 0.0157 - val_mse: 0.0157\n",
      "Epoch 85/100\n",
      "6/6 [==============================] - 0s 63ms/step - loss: 0.0096 - mse: 0.0096 - val_loss: 0.0137 - val_mse: 0.0137\n",
      "Epoch 86/100\n",
      "6/6 [==============================] - 0s 63ms/step - loss: 0.0095 - mse: 0.0095 - val_loss: 0.0138 - val_mse: 0.0138\n",
      "Epoch 87/100\n",
      "6/6 [==============================] - 0s 65ms/step - loss: 0.0098 - mse: 0.0098 - val_loss: 0.0141 - val_mse: 0.0141\n",
      "Epoch 88/100\n",
      "6/6 [==============================] - 0s 68ms/step - loss: 0.0091 - mse: 0.0091 - val_loss: 0.0144 - val_mse: 0.0144\n",
      "Epoch 89/100\n",
      "6/6 [==============================] - 0s 66ms/step - loss: 0.0090 - mse: 0.0090 - val_loss: 0.0140 - val_mse: 0.0140\n",
      "Epoch 90/100\n",
      "6/6 [==============================] - 0s 63ms/step - loss: 0.0093 - mse: 0.0093 - val_loss: 0.0128 - val_mse: 0.0128\n",
      "Epoch 91/100\n",
      "6/6 [==============================] - 0s 64ms/step - loss: 0.0089 - mse: 0.0089 - val_loss: 0.0148 - val_mse: 0.0148\n",
      "Epoch 92/100\n",
      "6/6 [==============================] - 0s 61ms/step - loss: 0.0088 - mse: 0.0088 - val_loss: 0.0128 - val_mse: 0.0128\n",
      "Epoch 93/100\n",
      "6/6 [==============================] - 0s 62ms/step - loss: 0.0085 - mse: 0.0085 - val_loss: 0.0148 - val_mse: 0.0148\n",
      "Epoch 94/100\n",
      "6/6 [==============================] - 0s 64ms/step - loss: 0.0084 - mse: 0.0084 - val_loss: 0.0133 - val_mse: 0.0133\n",
      "Epoch 95/100\n",
      "6/6 [==============================] - 0s 65ms/step - loss: 0.0087 - mse: 0.0087 - val_loss: 0.0132 - val_mse: 0.0132\n",
      "Epoch 96/100\n",
      "6/6 [==============================] - 0s 67ms/step - loss: 0.0084 - mse: 0.0084 - val_loss: 0.0139 - val_mse: 0.0139\n",
      "Epoch 97/100\n",
      "6/6 [==============================] - 0s 64ms/step - loss: 0.0094 - mse: 0.0094 - val_loss: 0.0133 - val_mse: 0.0133\n",
      "Epoch 98/100\n",
      "6/6 [==============================] - 0s 62ms/step - loss: 0.0088 - mse: 0.0088 - val_loss: 0.0149 - val_mse: 0.0149\n",
      "Epoch 99/100\n",
      "6/6 [==============================] - 0s 66ms/step - loss: 0.0097 - mse: 0.0097 - val_loss: 0.0144 - val_mse: 0.0144\n",
      "Epoch 100/100\n",
      "6/6 [==============================] - 0s 67ms/step - loss: 0.0090 - mse: 0.0090 - val_loss: 0.0141 - val_mse: 0.0141\n"
     ]
    }
   ],
   "source": [
    "modelo = tuner.hypermodel.build(best_hps)\n",
    "history = modelo.fit(X_train, Y_train,\n",
    "                      epochs=100,batch_size=32,\n",
    "                      validation_data=(X_test, Y_test))"
   ]
  },
  {
   "cell_type": "code",
   "execution_count": 70,
   "id": "70224dd5",
   "metadata": {},
   "outputs": [
    {
     "ename": "NameError",
     "evalue": "name 'model' is not defined",
     "output_type": "error",
     "traceback": [
      "\u001b[1;31m---------------------------------------------------------------------------\u001b[0m",
      "\u001b[1;31mNameError\u001b[0m                                 Traceback (most recent call last)",
      "Input \u001b[1;32mIn [70]\u001b[0m, in \u001b[0;36m<cell line: 2>\u001b[1;34m()\u001b[0m\n\u001b[0;32m      1\u001b[0m \u001b[38;5;66;03m# evaluate model\u001b[39;00m\n\u001b[1;32m----> 2\u001b[0m _, acc \u001b[38;5;241m=\u001b[39m \u001b[43mmodel\u001b[49m\u001b[38;5;241m.\u001b[39mevaluate(X_test, Y_test, verbose\u001b[38;5;241m=\u001b[39m\u001b[38;5;241m0\u001b[39m)\n\u001b[0;32m      3\u001b[0m \u001b[38;5;28mprint\u001b[39m(\u001b[38;5;124m'\u001b[39m\u001b[38;5;124m> \u001b[39m\u001b[38;5;132;01m%.3f\u001b[39;00m\u001b[38;5;124m'\u001b[39m \u001b[38;5;241m%\u001b[39m (acc \u001b[38;5;241m*\u001b[39m \u001b[38;5;241m100.0\u001b[39m))\n",
      "\u001b[1;31mNameError\u001b[0m: name 'model' is not defined"
     ]
    }
   ],
   "source": [
    "# evaluate model\n",
    "_, acc = model.evaluate(X_test, Y_test, verbose=0)\n",
    "print('> %.3f' % (acc * 100.0))"
   ]
  },
  {
   "cell_type": "code",
   "execution_count": null,
   "id": "119dd74c",
   "metadata": {},
   "outputs": [],
   "source": [
    "#Predecimos y normalizamos\n",
    "prediccion = modelo.predict(X_test)"
   ]
  },
  {
   "cell_type": "code",
   "execution_count": null,
   "id": "71ffcb94",
   "metadata": {
    "scrolled": true
   },
   "outputs": [],
   "source": [
    "prediccion"
   ]
  },
  {
   "cell_type": "code",
   "execution_count": null,
   "id": "8eff38fe",
   "metadata": {},
   "outputs": [],
   "source": [
    "#prediccion[0][1]"
   ]
  },
  {
   "cell_type": "code",
   "execution_count": null,
   "id": "07629d83",
   "metadata": {},
   "outputs": [],
   "source": [
    "'''nw = list()\n",
    "for x in range(0,len(prediccion)):\n",
    "    new_item = list()\n",
    "    new_item.append(prediccion, [[0],[0]], axis=1)\n",
    "    nw.append(new_item)\n",
    "nw = np.array(nw)'''"
   ]
  },
  {
   "cell_type": "code",
   "execution_count": null,
   "id": "3cb70ade",
   "metadata": {
    "scrolled": true
   },
   "outputs": [],
   "source": [
    "#nw"
   ]
  },
  {
   "cell_type": "code",
   "execution_count": null,
   "id": "c0721a61",
   "metadata": {},
   "outputs": [],
   "source": [
    "prediccion = sc1.inverse_transform(prediccion)\n",
    "prediccion.shape"
   ]
  },
  {
   "cell_type": "code",
   "execution_count": null,
   "id": "e7f62134",
   "metadata": {},
   "outputs": [],
   "source": [
    "X_test.shape"
   ]
  },
  {
   "cell_type": "code",
   "execution_count": null,
   "id": "cf57f46b",
   "metadata": {
    "scrolled": true
   },
   "outputs": [],
   "source": [
    "prediccion"
   ]
  },
  {
   "cell_type": "code",
   "execution_count": null,
   "id": "300981c9",
   "metadata": {},
   "outputs": [],
   "source": [
    "calle_5 = pd.DataFrame(prediccion[:,0:2])"
   ]
  },
  {
   "cell_type": "code",
   "execution_count": null,
   "id": "79cad69e",
   "metadata": {},
   "outputs": [],
   "source": [
    "calle_5.to_csv('calle_5.csv')"
   ]
  },
  {
   "cell_type": "code",
   "execution_count": null,
   "id": "6d0c6540",
   "metadata": {},
   "outputs": [],
   "source": [
    "array_latitud_p = []\n",
    "for x in range(len(prediccion)):\n",
    "    array_latitud_p.append(prediccion[x,0])"
   ]
  },
  {
   "cell_type": "code",
   "execution_count": null,
   "id": "57758417",
   "metadata": {},
   "outputs": [],
   "source": [
    "array_longitud_p = []\n",
    "for x in range(len(prediccion)):\n",
    "    array_longitud_p.append(prediccion[x,1])"
   ]
  },
  {
   "cell_type": "code",
   "execution_count": null,
   "id": "8bcee8a2",
   "metadata": {
    "scrolled": true
   },
   "outputs": [],
   "source": [
    "#array_latitud_p"
   ]
  },
  {
   "cell_type": "code",
   "execution_count": null,
   "id": "3149f8ca",
   "metadata": {
    "scrolled": true
   },
   "outputs": [],
   "source": [
    "#array_longitud_p"
   ]
  },
  {
   "cell_type": "code",
   "execution_count": null,
   "id": "68509ccd",
   "metadata": {},
   "outputs": [],
   "source": [
    "# Funciones auxiliares\n",
    "def graficar_predicciones(real, prediccion,titulo):\n",
    "    plt.plot(real[time_step:len(array_latitud)], color='red', label='Valor real')\n",
    "    plt.plot(prediccion, color='blue', label='Predicción')\n",
    "   # plt.ylim(-44,-43)\n",
    "    plt.xlabel('Número de mediciones')\n",
    "    plt.ylabel('Grados')\n",
    "    plt.title(titulo)\n",
    "    plt.legend()\n",
    "    plt.show()"
   ]
  },
  {
   "cell_type": "code",
   "execution_count": null,
   "id": "411a36c5",
   "metadata": {
    "scrolled": false
   },
   "outputs": [],
   "source": [
    "# Graficar resultados\n",
    "graficar_predicciones(array_latitud,array_latitud_p,'Test de Latitud')"
   ]
  },
  {
   "cell_type": "code",
   "execution_count": null,
   "id": "87b775eb",
   "metadata": {},
   "outputs": [],
   "source": [
    "graficar_predicciones(array_longitud,array_longitud_p, 'Test de Longitud')"
   ]
  },
  {
   "cell_type": "code",
   "execution_count": null,
   "id": "c9d10ea7",
   "metadata": {},
   "outputs": [],
   "source": [
    "from sklearn.metrics import mean_squared_error"
   ]
  },
  {
   "cell_type": "code",
   "execution_count": null,
   "id": "c9a64654",
   "metadata": {},
   "outputs": [],
   "source": [
    "mse_lat = mean_squared_error(array_latitud[time_step:],array_latitud_p, squared=False)"
   ]
  },
  {
   "cell_type": "code",
   "execution_count": null,
   "id": "cddd292b",
   "metadata": {},
   "outputs": [],
   "source": [
    "mse_lat"
   ]
  },
  {
   "cell_type": "code",
   "execution_count": null,
   "id": "d422ac43",
   "metadata": {},
   "outputs": [],
   "source": [
    "mse_lon = mean_squared_error(array_longitud[time_step:],array_longitud_p, squared=False)"
   ]
  },
  {
   "cell_type": "code",
   "execution_count": null,
   "id": "0ba4e8af",
   "metadata": {},
   "outputs": [],
   "source": [
    "mse_lon"
   ]
  },
  {
   "cell_type": "code",
   "execution_count": null,
   "id": "df439d48",
   "metadata": {},
   "outputs": [],
   "source": [
    "haversine(0.00000,0.00000,mse_lat,mse_lon)"
   ]
  },
  {
   "cell_type": "code",
   "execution_count": null,
   "id": "6fc0b68b",
   "metadata": {
    "scrolled": true
   },
   "outputs": [],
   "source": [
    "#Prediccion con los primeros datos del set de validacion\n",
    "# Using predicted values to predict next step\n",
    "X_pred = x_test_n.copy()\n",
    "for i in range(time_step,len(X_pred)):\n",
    "    xin = X_pred[i-time_step:i].reshape(1, time_step, 4)\n",
    "    X_pred[i] = modelo.predict(xin)"
   ]
  },
  {
   "cell_type": "code",
   "execution_count": null,
   "id": "a963ccde",
   "metadata": {},
   "outputs": [],
   "source": [
    " len(X_pred)"
   ]
  },
  {
   "cell_type": "code",
   "execution_count": null,
   "id": "27acf4e2",
   "metadata": {
    "scrolled": true
   },
   "outputs": [],
   "source": [
    "X_pred"
   ]
  },
  {
   "cell_type": "code",
   "execution_count": null,
   "id": "d8d04443",
   "metadata": {},
   "outputs": [],
   "source": [
    "xin.shape"
   ]
  },
  {
   "cell_type": "code",
   "execution_count": null,
   "id": "55382937",
   "metadata": {},
   "outputs": [],
   "source": [
    "prediccion2 = sc1.inverse_transform(X_pred)"
   ]
  },
  {
   "cell_type": "code",
   "execution_count": null,
   "id": "17089771",
   "metadata": {},
   "outputs": [],
   "source": [
    "# Funciones auxiliares\n",
    "def graficar_predicciones2(real, prediccion,campo,title):\n",
    "    plt.plot(real[0:len(real)], color='red', label='Valor real')\n",
    "    plt.plot(prediccion, color='blue', label='Predicción')\n",
    "    #plt.ylim(-44,-43)\n",
    "    plt.title(title)\n",
    "    plt.xlabel('Numero de mediciones')\n",
    "    plt.ylabel(campo)\n",
    "    plt.legend()\n",
    "    plt.show()"
   ]
  },
  {
   "cell_type": "code",
   "execution_count": null,
   "id": "ce0e461f",
   "metadata": {
    "scrolled": true
   },
   "outputs": [],
   "source": [
    "prediccion2"
   ]
  },
  {
   "cell_type": "code",
   "execution_count": null,
   "id": "23bc33ae",
   "metadata": {
    "scrolled": true
   },
   "outputs": [],
   "source": [
    "# Graficar resultados de prediccion de valores futuros\n",
    "graficar_predicciones2(array_latitud,prediccion2[:,0:1],'Grados','Predicción latitud')"
   ]
  },
  {
   "cell_type": "code",
   "execution_count": null,
   "id": "44de685e",
   "metadata": {
    "scrolled": false
   },
   "outputs": [],
   "source": [
    "graficar_predicciones2(array_longitud,prediccion2[:,1:2],'Grados','Prediccion longitud')"
   ]
  },
  {
   "cell_type": "code",
   "execution_count": null,
   "id": "cea6b13c",
   "metadata": {},
   "outputs": [],
   "source": [
    "mse_lat_p = mean_squared_error(array_latitud[time_step:],prediccion2[time_step:,0:1], squared=False)"
   ]
  },
  {
   "cell_type": "code",
   "execution_count": null,
   "id": "1d0c7ad9",
   "metadata": {},
   "outputs": [],
   "source": [
    "mse_lat_p"
   ]
  },
  {
   "cell_type": "code",
   "execution_count": null,
   "id": "7f1446a9",
   "metadata": {},
   "outputs": [],
   "source": [
    "mse_lon_p = mean_squared_error(array_longitud[time_step:],prediccion2[time_step:,1:2], squared=False)"
   ]
  },
  {
   "cell_type": "code",
   "execution_count": null,
   "id": "35daca51",
   "metadata": {},
   "outputs": [],
   "source": [
    "mse_lon_p"
   ]
  },
  {
   "cell_type": "code",
   "execution_count": null,
   "id": "ec7d37a5",
   "metadata": {},
   "outputs": [],
   "source": [
    "haversine(0.00000,0.00000,mse_lat_p,mse_lon_p)"
   ]
  },
  {
   "cell_type": "code",
   "execution_count": null,
   "id": "3bd55214",
   "metadata": {},
   "outputs": [],
   "source": [
    "calle_5_p = pd.DataFrame(prediccion2[:,0:2])"
   ]
  },
  {
   "cell_type": "code",
   "execution_count": null,
   "id": "ceca951c",
   "metadata": {},
   "outputs": [],
   "source": [
    "calle_5_p.to_csv('calle_5_p.csv')"
   ]
  },
  {
   "cell_type": "code",
   "execution_count": null,
   "id": "b40b50b5",
   "metadata": {},
   "outputs": [],
   "source": [
    "distancia_entrenamiento = []\n",
    "distancia_entrenamiento.append(0)\n",
    "for i in range(0, len(set_entrenamiento)-1):\n",
    "    distancia_entrenamiento.append(haversine(set_entrenamiento.iat[i,4],set_entrenamiento.iat[i,5],set_entrenamiento.iat[i+1,4],set_entrenamiento.iat[i+1,5]))"
   ]
  },
  {
   "cell_type": "code",
   "execution_count": null,
   "id": "33722b67",
   "metadata": {},
   "outputs": [],
   "source": [
    "d_d_e = pd.DataFrame(distancia_entrenamiento, columns=['distancia'])\n",
    "d_d_e"
   ]
  },
  {
   "cell_type": "code",
   "execution_count": null,
   "id": "955b7a83",
   "metadata": {},
   "outputs": [],
   "source": [
    "len(distancia_entrenamiento)"
   ]
  },
  {
   "cell_type": "code",
   "execution_count": null,
   "id": "229af86c",
   "metadata": {},
   "outputs": [],
   "source": [
    "distancia_validacion = []\n",
    "distancia_validacion.append(0)\n",
    "for i in range(0, len(set_validacion)-1):\n",
    "    distancia_validacion.append(haversine(set_validacion.iat[i,4],set_validacion.iat[i,5],set_validacion.iat[i+1,4],set_validacion.iat[i+1,5]))"
   ]
  },
  {
   "cell_type": "code",
   "execution_count": null,
   "id": "f8c9f97c",
   "metadata": {},
   "outputs": [],
   "source": [
    "d_d_v = pd.DataFrame(distancia_validacion, columns=['distancia'])\n",
    "d_d_v"
   ]
  },
  {
   "cell_type": "code",
   "execution_count": null,
   "id": "b7d79a65",
   "metadata": {},
   "outputs": [],
   "source": [
    "time_entrenamiento = set_entrenamiento['hour']\n",
    "time_entrenamiento.head(10)"
   ]
  },
  {
   "cell_type": "code",
   "execution_count": null,
   "id": "93f43abe",
   "metadata": {
    "scrolled": true
   },
   "outputs": [],
   "source": [
    "time_validacion = set_validacion['hour']\n",
    "time_validacion"
   ]
  },
  {
   "cell_type": "code",
   "execution_count": null,
   "id": "fce6d3fe",
   "metadata": {},
   "outputs": [],
   "source": [
    "data = pd.read_csv('LoRaWAN_messages_calle_5.csv')"
   ]
  },
  {
   "cell_type": "code",
   "execution_count": null,
   "id": "dafc75e2",
   "metadata": {
    "scrolled": true
   },
   "outputs": [],
   "source": [
    "data"
   ]
  },
  {
   "cell_type": "code",
   "execution_count": null,
   "id": "63818987",
   "metadata": {},
   "outputs": [],
   "source": [
    "#data.drop(['hour'], axis=1, inplace=True)"
   ]
  },
  {
   "cell_type": "code",
   "execution_count": null,
   "id": "e1cdf30e",
   "metadata": {},
   "outputs": [],
   "source": [
    "import random\n",
    "xi=[random.randint(9,14) for p in range (0,309)]\n",
    "len(xi)"
   ]
  },
  {
   "cell_type": "code",
   "execution_count": null,
   "id": "be839219",
   "metadata": {},
   "outputs": [],
   "source": [
    "xi[0]"
   ]
  },
  {
   "cell_type": "code",
   "execution_count": null,
   "id": "80ed3790",
   "metadata": {},
   "outputs": [],
   "source": [
    "hora = time_validacion[9:10,]\n",
    "hora"
   ]
  },
  {
   "cell_type": "code",
   "execution_count": null,
   "id": "bc56dfce",
   "metadata": {},
   "outputs": [],
   "source": [
    "hora = time_validacion[9:10,]\n",
    "hora2 = []*400\n",
    "for i in range(0,len(xi)):\n",
    "    h = (hora + timedelta(seconds=xi[i]))\n",
    "    hora2.append(h)\n",
    "    hora = hora2[i]"
   ]
  },
  {
   "cell_type": "code",
   "execution_count": null,
   "id": "f19a125d",
   "metadata": {},
   "outputs": [],
   "source": [
    "hora2"
   ]
  },
  {
   "cell_type": "code",
   "execution_count": null,
   "id": "5fbc8280",
   "metadata": {},
   "outputs": [],
   "source": [
    "hora3 = pd.DataFrame(hora2)"
   ]
  },
  {
   "cell_type": "code",
   "execution_count": null,
   "id": "c3215046",
   "metadata": {},
   "outputs": [],
   "source": [
    "hora3"
   ]
  },
  {
   "cell_type": "code",
   "execution_count": null,
   "id": "4480bb62",
   "metadata": {},
   "outputs": [],
   "source": [
    "data['hour'] = hora2"
   ]
  },
  {
   "cell_type": "code",
   "execution_count": null,
   "id": "869111be",
   "metadata": {},
   "outputs": [],
   "source": [
    "data.to_csv('dcalle5.csv')"
   ]
  },
  {
   "cell_type": "code",
   "execution_count": null,
   "id": "f93cc701",
   "metadata": {
    "scrolled": true
   },
   "outputs": [],
   "source": [
    "#Calcula la diferencia de tiempo entre puntos de ubicacion\n",
    "medida_de_tiempo_entrenamiento = []\n",
    "for i in range(0,len(time_entrenamiento)-1):\n",
    "    medida_de_tiempo_entrenamiento.append(time_entrenamiento[i+1]-time_entrenamiento[i])\n",
    "medida_de_tiempo_entrenamiento"
   ]
  },
  {
   "cell_type": "code",
   "execution_count": null,
   "id": "0c5d8f86",
   "metadata": {},
   "outputs": [],
   "source": [
    "min(medida_de_tiempo_entrenamiento)"
   ]
  },
  {
   "cell_type": "code",
   "execution_count": null,
   "id": "c00bbfb7",
   "metadata": {},
   "outputs": [],
   "source": [
    "h = datetime.now()\n",
    "h.hour"
   ]
  },
  {
   "cell_type": "code",
   "execution_count": null,
   "id": "213c700d",
   "metadata": {},
   "outputs": [],
   "source": [
    "h"
   ]
  },
  {
   "cell_type": "code",
   "execution_count": null,
   "id": "2e0fa945",
   "metadata": {},
   "outputs": [],
   "source": [
    "h.minute"
   ]
  },
  {
   "cell_type": "code",
   "execution_count": null,
   "id": "09d30ef9",
   "metadata": {},
   "outputs": [],
   "source": [
    "\n",
    "t = timedelta(\n",
    "    days=0,\n",
    "    seconds=h.second,\n",
    "    microseconds=0,\n",
    "    milliseconds=0,\n",
    "    minutes=h.minute,\n",
    "    hours=h.hour,\n",
    "    weeks=0 )"
   ]
  },
  {
   "cell_type": "code",
   "execution_count": null,
   "id": "8b548fba",
   "metadata": {},
   "outputs": [],
   "source": [
    "t"
   ]
  },
  {
   "cell_type": "code",
   "execution_count": null,
   "id": "a40a5c78",
   "metadata": {
    "scrolled": true
   },
   "outputs": [],
   "source": [
    "#Calcula la diferencia de tiempo entre puntos de ubicacion\n",
    "medida_de_tiempo_validacion = []\n",
    "for i in range(0,len(time_validacion)-1):\n",
    "    medida_de_tiempo_validacion.append(time_validacion[i+1]-time_validacion[i])\n",
    "medida_de_tiempo_validacion"
   ]
  },
  {
   "cell_type": "code",
   "execution_count": null,
   "id": "422dbbf8",
   "metadata": {},
   "outputs": [],
   "source": [
    "len(medida_de_tiempo_validacion)"
   ]
  },
  {
   "cell_type": "code",
   "execution_count": null,
   "id": "ce3c9925",
   "metadata": {},
   "outputs": [],
   "source": [
    "#Creamos un objeto deltatime de valor 1 segundo\n",
    "#Al dividir deltatime / deltatime se obtiene un valor de tipo float\n",
    "#Al dividir sobre un segundo se obtiene un valor de tiempo en segundos\n",
    "delta = timedelta(\n",
    "    days=0,\n",
    "    seconds=1,\n",
    "    microseconds=0,\n",
    "    milliseconds=0,\n",
    "    minutes=0,\n",
    "    hours=0,\n",
    "    weeks=0 )"
   ]
  },
  {
   "cell_type": "code",
   "execution_count": null,
   "id": "cb9acd41",
   "metadata": {
    "scrolled": true
   },
   "outputs": [],
   "source": [
    "duracion_entrenamiento = []\n",
    "duracion_entrenamiento.append(10)\n",
    "for i in range(0,len(medida_de_tiempo_entrenamiento)):\n",
    "    duracion_entrenamiento.append(medida_de_tiempo_entrenamiento[i]/delta)\n",
    "duracion_entrenamiento"
   ]
  },
  {
   "cell_type": "code",
   "execution_count": null,
   "id": "9608d3a7",
   "metadata": {},
   "outputs": [],
   "source": [
    "#index = duracion_entrenamiento.index(1)\n",
    "#index"
   ]
  },
  {
   "cell_type": "code",
   "execution_count": null,
   "id": "71de7aab",
   "metadata": {},
   "outputs": [],
   "source": []
  },
  {
   "cell_type": "code",
   "execution_count": null,
   "id": "117fae91",
   "metadata": {},
   "outputs": [],
   "source": [
    "len(duracion_entrenamiento)"
   ]
  },
  {
   "cell_type": "code",
   "execution_count": null,
   "id": "84de0a08",
   "metadata": {},
   "outputs": [],
   "source": [
    "n_e= np.column_stack((duracion_entrenamiento,distancia_entrenamiento))"
   ]
  },
  {
   "cell_type": "code",
   "execution_count": null,
   "id": "3ca40974",
   "metadata": {},
   "outputs": [],
   "source": [
    "n_e"
   ]
  },
  {
   "cell_type": "code",
   "execution_count": null,
   "id": "388ca5b1",
   "metadata": {
    "scrolled": true
   },
   "outputs": [],
   "source": [
    "duracion_validacion = []\n",
    "duracion_validacion.append(10)\n",
    "for i in range(0,len(medida_de_tiempo_validacion)):\n",
    "    duracion_validacion.append(medida_de_tiempo_validacion[i]/delta)\n",
    "duracion_validacion"
   ]
  },
  {
   "cell_type": "code",
   "execution_count": null,
   "id": "2ebcf726",
   "metadata": {},
   "outputs": [],
   "source": [
    "#index = duracion_validacion.index(20)\n",
    "#len(duracion_validacion)-index-309+5"
   ]
  },
  {
   "cell_type": "code",
   "execution_count": null,
   "id": "97abd22b",
   "metadata": {},
   "outputs": [],
   "source": [
    "n_v= np.column_stack((duracion_validacion,distancia_validacion))"
   ]
  },
  {
   "cell_type": "code",
   "execution_count": null,
   "id": "16536144",
   "metadata": {
    "scrolled": true
   },
   "outputs": [],
   "source": [
    "n_v"
   ]
  },
  {
   "cell_type": "code",
   "execution_count": null,
   "id": "a5f42b6a",
   "metadata": {},
   "outputs": [],
   "source": [
    "duracion_data_entrenamiento = pd.DataFrame(duracion_entrenamiento, columns=['duracion'])\n",
    "duracion_data_entrenamiento"
   ]
  },
  {
   "cell_type": "code",
   "execution_count": null,
   "id": "b55d74f7",
   "metadata": {},
   "outputs": [],
   "source": [
    "duracion_data_validacion = pd.DataFrame(duracion_validacion, columns=['duracion'])\n",
    "duracion_data_validacion"
   ]
  },
  {
   "cell_type": "code",
   "execution_count": null,
   "id": "d626c80d",
   "metadata": {},
   "outputs": [],
   "source": [
    "#normalizamos\n",
    "sc = MinMaxScaler(feature_range=(0,1))\n",
    "time_entrenamiento_escalado = sc.fit_transform(n_e)"
   ]
  },
  {
   "cell_type": "code",
   "execution_count": null,
   "id": "edaa9e53",
   "metadata": {},
   "outputs": [],
   "source": [
    "#normalizamos\n",
    "#sc2 = MinMaxScaler(feature_range=(0,1))\n",
    "#time_validacion_escalado = sc2.transform(duracion_data_validacion)"
   ]
  },
  {
   "cell_type": "code",
   "execution_count": null,
   "id": "c43432fe",
   "metadata": {},
   "outputs": [],
   "source": [
    "# La red LSTM tendrá como entrada \"time_step\" datos consecutivos, y como salida 1 dato (la predicción a\n",
    "# partir de esos \"time_step\" datos). Se conformará de esta forma el set de entrenamiento\n",
    "time_step_t = 30\n",
    "X_train_duracion = []\n",
    "Y_train_duracion = []\n",
    "n = len(n_e)"
   ]
  },
  {
   "cell_type": "code",
   "execution_count": null,
   "id": "6f61748a",
   "metadata": {},
   "outputs": [],
   "source": [
    "for i in range(time_step,n):\n",
    "    # X: bloques de \"time_step\" datos: 0-time_step, 1-time_step+1, 2-time_step+2, etc\n",
    "    X_train_duracion.append(time_entrenamiento_escalado[i-time_step:i,0:2])\n",
    "    # Y: el siguiente dato\n",
    "    Y_train_duracion.append(time_entrenamiento_escalado[i,0:2])"
   ]
  },
  {
   "cell_type": "code",
   "execution_count": null,
   "id": "0e3cec16",
   "metadata": {},
   "outputs": [],
   "source": [
    "X_train_duracion, Y_train_duracion = np.array(X_train_duracion), np.array(Y_train_duracion)"
   ]
  },
  {
   "cell_type": "code",
   "execution_count": null,
   "id": "ba4aa256",
   "metadata": {},
   "outputs": [],
   "source": [
    "# Reshape X_train para que se ajuste al modelo en Keras\n",
    "X_train_duracion = np.reshape(X_train_duracion, (X_train_duracion.shape[0], X_train_duracion.shape[1], 2))"
   ]
  },
  {
   "cell_type": "code",
   "execution_count": null,
   "id": "49d43976",
   "metadata": {},
   "outputs": [],
   "source": [
    "# Red LSTM\n",
    "#Para crear la red debemos primero definir el tamaño de los datos de entrada y del dato de salida,\n",
    "#así como el número total de neuronas (50):\n",
    "dim_entrada_duracion = (X_train_duracion.shape[1],2)\n",
    "dim_salida_duracion = 2\n",
    "na_duracion = 100"
   ]
  },
  {
   "cell_type": "code",
   "execution_count": null,
   "id": "99f669f3",
   "metadata": {},
   "outputs": [],
   "source": [
    "#Cear un contenedor usando el módulo Sequential:\n",
    "modelo_duracion = Sequential()\n",
    "#añadimos el modelo\n",
    "modelo_duracion.add(LSTM(units=na_duracion, return_sequences=True, input_shape=dim_entrada_duracion))\n",
    "#agregamos una capa lSTM\n",
    "modelo_duracion.add(LSTM(units=na_duracion))\n",
    "#evitamos el sobreentrtenamiento con dropout\n",
    "modelo_duracion.add(Dropout(0.2))\n",
    "#Dense para la capa de salida\n",
    "modelo_duracion.add(Dense(units=dim_salida_duracion))"
   ]
  },
  {
   "cell_type": "code",
   "execution_count": null,
   "id": "9b59d996",
   "metadata": {},
   "outputs": [],
   "source": [
    "#definimos funcion de error y el método para minimizar\n",
    "modelo_duracion.compile(optimizer='rmsprop', loss='mse')"
   ]
  },
  {
   "cell_type": "code",
   "execution_count": null,
   "id": "31b4e2c0",
   "metadata": {
    "scrolled": true
   },
   "outputs": [],
   "source": [
    "#implementamos el modelo con 20 iteraciones, epochs\n",
    "#Presentando a la res lstm lotess de 32 datos\n",
    "modelo_duracion.fit(X_train_duracion,Y_train_duracion,epochs=100,batch_size=32)"
   ]
  },
  {
   "cell_type": "code",
   "execution_count": null,
   "id": "a8068e53",
   "metadata": {
    "scrolled": true
   },
   "outputs": [],
   "source": [
    "x_test = duracion_data_validacion.values\n",
    "x_test"
   ]
  },
  {
   "cell_type": "code",
   "execution_count": null,
   "id": "f83b4c99",
   "metadata": {
    "scrolled": true
   },
   "outputs": [],
   "source": [
    "x_test = sc.transform(n_v)\n",
    "x_test"
   ]
  },
  {
   "cell_type": "code",
   "execution_count": null,
   "id": "2220ba92",
   "metadata": {},
   "outputs": [],
   "source": [
    "#Obtenemos bloques de 60 datos\n",
    "X_test = []\n",
    "for i in range(time_step,len(x_test)):\n",
    "    X_test.append(x_test[i-time_step:i,0:2])"
   ]
  },
  {
   "cell_type": "code",
   "execution_count": null,
   "id": "050437b7",
   "metadata": {},
   "outputs": [],
   "source": [
    "X_test = np.array(X_test)\n",
    "X_test.shape"
   ]
  },
  {
   "cell_type": "code",
   "execution_count": null,
   "id": "953ad343",
   "metadata": {},
   "outputs": [],
   "source": [
    "X_test = np.reshape(X_test, (X_test.shape[0],X_test.shape[1],2))"
   ]
  },
  {
   "cell_type": "code",
   "execution_count": null,
   "id": "a61f3abd",
   "metadata": {},
   "outputs": [],
   "source": [
    "#Predecimos y normalizamos\n",
    "prediccion_tiempo = modelo_duracion.predict(X_test)\n",
    "prediccion_tiempo = sc.inverse_transform(prediccion_tiempo)\n",
    "prediccion_tiempo.shape"
   ]
  },
  {
   "cell_type": "code",
   "execution_count": null,
   "id": "67f74346",
   "metadata": {
    "scrolled": true
   },
   "outputs": [],
   "source": [
    "prediccion_tiempo"
   ]
  },
  {
   "cell_type": "code",
   "execution_count": null,
   "id": "4f5c9876",
   "metadata": {},
   "outputs": [],
   "source": [
    "# Funciones auxiliares\n",
    "def graficar_predicciones3(real, prediccion,campo):\n",
    "    plt.plot(real[0:len(prediccion)], 'o',   color='red', label='Valor real')\n",
    "    plt.plot(prediccion,'o', color='blue', label='Predicción')\n",
    "    #plt.ylim(9,15)\n",
    "    #plt.xlim(40,50)\n",
    "    plt.xlabel('Número de mediciones')\n",
    "    plt.ylabel(campo)\n",
    "    plt.title('Predicción de tiempo entre mediciones')\n",
    "    plt.legend()\n",
    "    plt.show()"
   ]
  },
  {
   "cell_type": "code",
   "execution_count": null,
   "id": "7d1b6019",
   "metadata": {},
   "outputs": [],
   "source": [
    "# Graficar resultados\n",
    "graficar_predicciones3(n_v[:,0:1],prediccion_tiempo[:,0:1],'segundos')"
   ]
  },
  {
   "cell_type": "code",
   "execution_count": null,
   "id": "e8beff6e",
   "metadata": {},
   "outputs": [],
   "source": [
    "n_v_t = sc.transform(n_v)"
   ]
  },
  {
   "cell_type": "code",
   "execution_count": null,
   "id": "322a5726",
   "metadata": {
    "scrolled": true
   },
   "outputs": [],
   "source": [
    "#Prediccion con los primeros datos del set de validacion\n",
    "# Using predicted values to predict next step\n",
    "X_pred_t = n_v_t.copy()\n",
    "for i in range(time_step_t,len(X_pred_t)):\n",
    "    xin_t = X_pred_t[i-time_step_t:i].reshape(1, time_step_t, 2)\n",
    "    X_pred_t[i] = modelo_duracion.predict(xin_t)"
   ]
  },
  {
   "cell_type": "code",
   "execution_count": null,
   "id": "b2d81841",
   "metadata": {
    "scrolled": true
   },
   "outputs": [],
   "source": [
    "X_pred_t"
   ]
  },
  {
   "cell_type": "code",
   "execution_count": null,
   "id": "e6a5582a",
   "metadata": {},
   "outputs": [],
   "source": [
    "prediccion2 = sc.inverse_transform(X_pred_t)"
   ]
  },
  {
   "cell_type": "code",
   "execution_count": null,
   "id": "5623d77d",
   "metadata": {},
   "outputs": [],
   "source": [
    "# Graficar resultados de prediccion de valores futuros\n",
    "graficar_predicciones3(n_v[:,0:1],prediccion2[:,0:1],'segundos')"
   ]
  },
  {
   "cell_type": "code",
   "execution_count": null,
   "id": "ce900d7b",
   "metadata": {},
   "outputs": [],
   "source": [
    "mse_t = mean_squared_error(n_v[time_step_t:,0:1] ,prediccion2[time_step_t:,0:1], squared=False)"
   ]
  },
  {
   "cell_type": "code",
   "execution_count": null,
   "id": "0007511c",
   "metadata": {},
   "outputs": [],
   "source": [
    "mse_t"
   ]
  },
  {
   "cell_type": "code",
   "execution_count": null,
   "id": "76677627",
   "metadata": {
    "scrolled": true
   },
   "outputs": [],
   "source": [
    "n_v[time_step_t:,0:1]"
   ]
  },
  {
   "cell_type": "code",
   "execution_count": null,
   "id": "465d2117",
   "metadata": {
    "scrolled": true
   },
   "outputs": [],
   "source": [
    "prediccion2[time_step_t:,0:1]"
   ]
  },
  {
   "cell_type": "code",
   "execution_count": null,
   "id": "55a44f4b",
   "metadata": {},
   "outputs": [],
   "source": []
  }
 ],
 "metadata": {
  "kernelspec": {
   "display_name": "Python 3 (ipykernel)",
   "language": "python",
   "name": "python3"
  },
  "language_info": {
   "codemirror_mode": {
    "name": "ipython",
    "version": 3
   },
   "file_extension": ".py",
   "mimetype": "text/x-python",
   "name": "python",
   "nbconvert_exporter": "python",
   "pygments_lexer": "ipython3",
   "version": "3.9.12"
  }
 },
 "nbformat": 4,
 "nbformat_minor": 5
}
