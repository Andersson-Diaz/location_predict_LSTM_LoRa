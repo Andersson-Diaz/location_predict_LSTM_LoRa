{
 "cells": [
  {
   "cell_type": "code",
   "execution_count": 1,
   "id": "8cae6a3a",
   "metadata": {},
   "outputs": [
    {
     "name": "stdout",
     "output_type": "stream",
     "text": [
      "2.9.1\n"
     ]
    }
   ],
   "source": [
    "import tensorflow as tf\n",
    "print(tf.__version__)\n",
    "from tensorflow.keras.utils import to_categorical\n",
    "from tensorflow.keras.layers import Flatten"
   ]
  },
  {
   "cell_type": "code",
   "execution_count": 2,
   "id": "c3ddcd46",
   "metadata": {
    "scrolled": true
   },
   "outputs": [],
   "source": [
    "#(trainX, trainY), (testX, testY) = tf.keras.datasets.cifar10.load_data()"
   ]
  },
  {
   "cell_type": "code",
   "execution_count": 3,
   "id": "a28681e4",
   "metadata": {},
   "outputs": [],
   "source": [
    "#trainX.shape"
   ]
  },
  {
   "cell_type": "code",
   "execution_count": 4,
   "id": "c3ad17d9",
   "metadata": {
    "scrolled": true
   },
   "outputs": [],
   "source": [
    "#trainY.shape"
   ]
  },
  {
   "cell_type": "code",
   "execution_count": 5,
   "id": "bc700e2e",
   "metadata": {},
   "outputs": [],
   "source": [
    "#trainY = to_categorical(trainY)\n",
    "#testY = to_categorical(testY)"
   ]
  },
  {
   "cell_type": "code",
   "execution_count": 6,
   "id": "245bce0c",
   "metadata": {},
   "outputs": [],
   "source": [
    "#trainY.shape"
   ]
  },
  {
   "cell_type": "code",
   "execution_count": 7,
   "id": "c8ec424b",
   "metadata": {},
   "outputs": [],
   "source": [
    "#testY.shape"
   ]
  },
  {
   "cell_type": "code",
   "execution_count": 8,
   "id": "e73c96f7",
   "metadata": {},
   "outputs": [],
   "source": [
    "from tokenize import Number\n",
    "import numpy as np\n",
    "#np.random.seed(4)\n",
    "import matplotlib.pyplot as plt\n",
    "import pandas as pd\n",
    "\n",
    "from sklearn.preprocessing import MinMaxScaler\n",
    "from keras.models import Sequential\n",
    "from keras.layers import Dense, LSTM\n",
    "from keras.layers import Dropout\n",
    "\n",
    "import time\n",
    "from datetime import datetime\n",
    "from datetime import timedelta\n",
    "import math"
   ]
  },
  {
   "cell_type": "code",
   "execution_count": 9,
   "id": "15c701a1",
   "metadata": {},
   "outputs": [],
   "source": [
    "inicio = time.time()"
   ]
  },
  {
   "cell_type": "code",
   "execution_count": 10,
   "id": "af303719",
   "metadata": {},
   "outputs": [],
   "source": [
    "#datos para la conexion a la base de datos\n",
    "hostname = '82.180.175.58'\n",
    "username = 'u813407238_lora'\n",
    "password = 'Seguimiento_lora_123'\n",
    "database = 'u813407238_seguimiento'"
   ]
  },
  {
   "cell_type": "code",
   "execution_count": 11,
   "id": "eeb1c21c",
   "metadata": {},
   "outputs": [
    {
     "name": "stderr",
     "output_type": "stream",
     "text": [
      "C:\\Users\\ander\\anaconda3\\lib\\site-packages\\pandas\\io\\sql.py:761: UserWarning: pandas only support SQLAlchemy connectable(engine/connection) ordatabase string URI or sqlite3 DBAPI2 connectionother DBAPI2 objects are not tested, please consider using SQLAlchemy\n",
      "  warnings.warn(\n"
     ]
    },
    {
     "name": "stdout",
     "output_type": "stream",
     "text": [
      "Va a imprimir el dataset leido de la BD...\n",
      "Va a imprimir date y time...\n"
     ]
    }
   ],
   "source": [
    "import MySQLdb\n",
    "# inicialmente hace la conexion con la base de datos\n",
    "myConnection = MySQLdb.connect( host=hostname, user=username, passwd=password, db=database )\n",
    "import pandas as pd\n",
    "# genera la lectura de la base de datos\n",
    "dataset= pd.read_sql(\"SELECT * FROM LoRaWAN_messages_calle_5 order by id\",myConnection)\n",
    "print(\"Va a imprimir el dataset leido de la BD...\")\n",
    "#print(dataset)\n",
    "#dataset[['COL 3','COL 4']].dtypes\n",
    "#dataset = pd.DataFrame()\n",
    "#dataset['T'] = dataset['date'] +' '+ dataset['time']\n",
    "#dataset['date hour'] = dataset['date'] +' '+ dataset['hour']\n",
    "#dataset = pd.to_datetime(dataset['date'] + dataset['time'])\n",
    "print(\"Va a imprimir date y time...\")"
   ]
  },
  {
   "cell_type": "code",
   "execution_count": 12,
   "id": "091c28d4",
   "metadata": {},
   "outputs": [],
   "source": [
    "#pip install mysqlclient"
   ]
  },
  {
   "cell_type": "code",
   "execution_count": 13,
   "id": "4544d197",
   "metadata": {},
   "outputs": [],
   "source": [
    "#dataset.head"
   ]
  },
  {
   "cell_type": "code",
   "execution_count": 14,
   "id": "e1344f00",
   "metadata": {},
   "outputs": [],
   "source": [
    "dataset.drop(index=dataset[dataset['latitude']=='0'].index, inplace=True)"
   ]
  },
  {
   "cell_type": "code",
   "execution_count": 15,
   "id": "d223d9d3",
   "metadata": {
    "scrolled": true
   },
   "outputs": [],
   "source": [
    "#dataset.info()"
   ]
  },
  {
   "cell_type": "code",
   "execution_count": 16,
   "id": "b0a90261",
   "metadata": {},
   "outputs": [],
   "source": [
    "time = dataset['hour']"
   ]
  },
  {
   "cell_type": "code",
   "execution_count": 17,
   "id": "58e9aca7",
   "metadata": {
    "scrolled": true
   },
   "outputs": [
    {
     "data": {
      "text/html": [
       "<div>\n",
       "<style scoped>\n",
       "    .dataframe tbody tr th:only-of-type {\n",
       "        vertical-align: middle;\n",
       "    }\n",
       "\n",
       "    .dataframe tbody tr th {\n",
       "        vertical-align: top;\n",
       "    }\n",
       "\n",
       "    .dataframe thead th {\n",
       "        text-align: right;\n",
       "    }\n",
       "</style>\n",
       "<table border=\"1\" class=\"dataframe\">\n",
       "  <thead>\n",
       "    <tr style=\"text-align: right;\">\n",
       "      <th></th>\n",
       "      <th>id</th>\n",
       "      <th>dev_id</th>\n",
       "      <th>date</th>\n",
       "      <th>hour</th>\n",
       "      <th>latitude</th>\n",
       "      <th>longitude</th>\n",
       "      <th>speed</th>\n",
       "      <th>accx</th>\n",
       "      <th>accy</th>\n",
       "      <th>accz</th>\n",
       "      <th>gyrox</th>\n",
       "      <th>gyroy</th>\n",
       "      <th>gyroz</th>\n",
       "      <th>SF</th>\n",
       "      <th>BW</th>\n",
       "      <th>CR</th>\n",
       "    </tr>\n",
       "  </thead>\n",
       "  <tbody>\n",
       "    <tr>\n",
       "      <th>17</th>\n",
       "      <td>18</td>\n",
       "      <td>tarjeta2-cubecell</td>\n",
       "      <td>2022-08-31</td>\n",
       "      <td>0 days 13:47:22</td>\n",
       "      <td>2.4494545</td>\n",
       "      <td>-76.6269796</td>\n",
       "      <td>0.62968</td>\n",
       "      <td>-0.1043366</td>\n",
       "      <td>-0.7579422</td>\n",
       "      <td>9.8896343</td>\n",
       "      <td>0.2024117</td>\n",
       "      <td>-0.2121214</td>\n",
       "      <td>0.0974049</td>\n",
       "      <td>7</td>\n",
       "      <td>125000</td>\n",
       "      <td>4/5</td>\n",
       "    </tr>\n",
       "    <tr>\n",
       "      <th>18</th>\n",
       "      <td>19</td>\n",
       "      <td>tarjeta2-cubecell</td>\n",
       "      <td>2022-08-31</td>\n",
       "      <td>0 days 13:47:33</td>\n",
       "      <td>2.4494231</td>\n",
       "      <td>-76.6269756</td>\n",
       "      <td>0</td>\n",
       "      <td>-0.1043366</td>\n",
       "      <td>-0.8920633</td>\n",
       "      <td>9.8225738</td>\n",
       "      <td>-0.041863</td>\n",
       "      <td>0.0474205</td>\n",
       "      <td>0.2042751</td>\n",
       "      <td>7</td>\n",
       "      <td>125000</td>\n",
       "      <td>4/5</td>\n",
       "    </tr>\n",
       "    <tr>\n",
       "      <th>19</th>\n",
       "      <td>20</td>\n",
       "      <td>tarjeta2-cubecell</td>\n",
       "      <td>2022-08-31</td>\n",
       "      <td>0 days 13:47:43</td>\n",
       "      <td>2.4493666</td>\n",
       "      <td>-76.6269073</td>\n",
       "      <td>0</td>\n",
       "      <td>-0.1211018</td>\n",
       "      <td>-0.7986575</td>\n",
       "      <td>9.7770684</td>\n",
       "      <td>0.2482132</td>\n",
       "      <td>-0.349526</td>\n",
       "      <td>0.0821378</td>\n",
       "      <td>7</td>\n",
       "      <td>125000</td>\n",
       "      <td>4/5</td>\n",
       "    </tr>\n",
       "    <tr>\n",
       "      <th>20</th>\n",
       "      <td>21</td>\n",
       "      <td>tarjeta2-cubecell</td>\n",
       "      <td>2022-08-31</td>\n",
       "      <td>0 days 13:47:54</td>\n",
       "      <td>2.4493663</td>\n",
       "      <td>-76.6268878</td>\n",
       "      <td>0</td>\n",
       "      <td>-0.1546321</td>\n",
       "      <td>-0.8369779</td>\n",
       "      <td>9.7722784</td>\n",
       "      <td>0.2482132</td>\n",
       "      <td>0.077955</td>\n",
       "      <td>0.1279393</td>\n",
       "      <td>7</td>\n",
       "      <td>125000</td>\n",
       "      <td>4/5</td>\n",
       "    </tr>\n",
       "    <tr>\n",
       "      <th>21</th>\n",
       "      <td>22</td>\n",
       "      <td>tarjeta2-cubecell</td>\n",
       "      <td>2022-08-31</td>\n",
       "      <td>0 days 13:48:06</td>\n",
       "      <td>2.4493705</td>\n",
       "      <td>-76.6268905</td>\n",
       "      <td>0</td>\n",
       "      <td>-0.1234968</td>\n",
       "      <td>-0.856138</td>\n",
       "      <td>9.8537091</td>\n",
       "      <td>0.324549</td>\n",
       "      <td>0.1084892</td>\n",
       "      <td>0.1890079</td>\n",
       "      <td>7</td>\n",
       "      <td>125000</td>\n",
       "      <td>4/5</td>\n",
       "    </tr>\n",
       "    <tr>\n",
       "      <th>...</th>\n",
       "      <td>...</td>\n",
       "      <td>...</td>\n",
       "      <td>...</td>\n",
       "      <td>...</td>\n",
       "      <td>...</td>\n",
       "      <td>...</td>\n",
       "      <td>...</td>\n",
       "      <td>...</td>\n",
       "      <td>...</td>\n",
       "      <td>...</td>\n",
       "      <td>...</td>\n",
       "      <td>...</td>\n",
       "      <td>...</td>\n",
       "      <td>...</td>\n",
       "      <td>...</td>\n",
       "      <td>...</td>\n",
       "    </tr>\n",
       "    <tr>\n",
       "      <th>274</th>\n",
       "      <td>275</td>\n",
       "      <td>tarjeta2-cubecell</td>\n",
       "      <td>2022-08-31</td>\n",
       "      <td>0 days 14:36:37</td>\n",
       "      <td>2.4503646</td>\n",
       "      <td>-76.6269323</td>\n",
       "      <td>24.13156</td>\n",
       "      <td>1.2033439</td>\n",
       "      <td>-2.9853105</td>\n",
       "      <td>7.638316</td>\n",
       "      <td>-0.4846112</td>\n",
       "      <td>-2.5938007</td>\n",
       "      <td>-2.5896177</td>\n",
       "      <td>7</td>\n",
       "      <td>125000</td>\n",
       "      <td>4/5</td>\n",
       "    </tr>\n",
       "    <tr>\n",
       "      <th>275</th>\n",
       "      <td>276</td>\n",
       "      <td>tarjeta2-cubecell</td>\n",
       "      <td>2022-08-31</td>\n",
       "      <td>0 days 14:36:48</td>\n",
       "      <td>2.4502795</td>\n",
       "      <td>-76.6266823</td>\n",
       "      <td>14.00112</td>\n",
       "      <td>-0.1091267</td>\n",
       "      <td>-6.2257719</td>\n",
       "      <td>11.5829132</td>\n",
       "      <td>-0.3930082</td>\n",
       "      <td>-8.9449462</td>\n",
       "      <td>13.8378629</td>\n",
       "      <td>7</td>\n",
       "      <td>125000</td>\n",
       "      <td>4/5</td>\n",
       "    </tr>\n",
       "    <tr>\n",
       "      <th>276</th>\n",
       "      <td>277</td>\n",
       "      <td>tarjeta2-cubecell</td>\n",
       "      <td>2022-08-31</td>\n",
       "      <td>0 days 14:37:26</td>\n",
       "      <td>2.4495106</td>\n",
       "      <td>-76.6269685</td>\n",
       "      <td>1.0186</td>\n",
       "      <td>-0.3198884</td>\n",
       "      <td>-3.7301616</td>\n",
       "      <td>10.454859</td>\n",
       "      <td>-0.0876646</td>\n",
       "      <td>-8.9449462</td>\n",
       "      <td>6.4027485</td>\n",
       "      <td>7</td>\n",
       "      <td>125000</td>\n",
       "      <td>4/5</td>\n",
       "    </tr>\n",
       "    <tr>\n",
       "      <th>277</th>\n",
       "      <td>278</td>\n",
       "      <td>tarjeta2-cubecell</td>\n",
       "      <td>2022-08-31</td>\n",
       "      <td>0 days 14:37:38</td>\n",
       "      <td>2.4494831</td>\n",
       "      <td>-76.6269721</td>\n",
       "      <td>0</td>\n",
       "      <td>2.4224089</td>\n",
       "      <td>-1.6872098</td>\n",
       "      <td>9.0681427</td>\n",
       "      <td>1.1642438</td>\n",
       "      <td>4.0321536</td>\n",
       "      <td>-1.6735874</td>\n",
       "      <td>7</td>\n",
       "      <td>125000</td>\n",
       "      <td>4/5</td>\n",
       "    </tr>\n",
       "    <tr>\n",
       "      <th>278</th>\n",
       "      <td>279</td>\n",
       "      <td>tarjeta2-cubecell</td>\n",
       "      <td>2022-08-31</td>\n",
       "      <td>0 days 14:37:49</td>\n",
       "      <td>2.4494841</td>\n",
       "      <td>-76.6269671</td>\n",
       "      <td>0</td>\n",
       "      <td>0.3387419</td>\n",
       "      <td>-1.0501346</td>\n",
       "      <td>9.7339581</td>\n",
       "      <td>0.3092819</td>\n",
       "      <td>-0.0289154</td>\n",
       "      <td>0.1584736</td>\n",
       "      <td>7</td>\n",
       "      <td>125000</td>\n",
       "      <td>4/5</td>\n",
       "    </tr>\n",
       "  </tbody>\n",
       "</table>\n",
       "<p>262 rows × 16 columns</p>\n",
       "</div>"
      ],
      "text/plain": [
       "      id             dev_id        date            hour   latitude  \\\n",
       "17    18  tarjeta2-cubecell  2022-08-31 0 days 13:47:22  2.4494545   \n",
       "18    19  tarjeta2-cubecell  2022-08-31 0 days 13:47:33  2.4494231   \n",
       "19    20  tarjeta2-cubecell  2022-08-31 0 days 13:47:43  2.4493666   \n",
       "20    21  tarjeta2-cubecell  2022-08-31 0 days 13:47:54  2.4493663   \n",
       "21    22  tarjeta2-cubecell  2022-08-31 0 days 13:48:06  2.4493705   \n",
       "..   ...                ...         ...             ...        ...   \n",
       "274  275  tarjeta2-cubecell  2022-08-31 0 days 14:36:37  2.4503646   \n",
       "275  276  tarjeta2-cubecell  2022-08-31 0 days 14:36:48  2.4502795   \n",
       "276  277  tarjeta2-cubecell  2022-08-31 0 days 14:37:26  2.4495106   \n",
       "277  278  tarjeta2-cubecell  2022-08-31 0 days 14:37:38  2.4494831   \n",
       "278  279  tarjeta2-cubecell  2022-08-31 0 days 14:37:49  2.4494841   \n",
       "\n",
       "       longitude     speed        accx        accy        accz       gyrox  \\\n",
       "17   -76.6269796   0.62968  -0.1043366  -0.7579422   9.8896343   0.2024117   \n",
       "18   -76.6269756         0  -0.1043366  -0.8920633   9.8225738   -0.041863   \n",
       "19   -76.6269073         0  -0.1211018  -0.7986575   9.7770684   0.2482132   \n",
       "20   -76.6268878         0  -0.1546321  -0.8369779   9.7722784   0.2482132   \n",
       "21   -76.6268905         0  -0.1234968   -0.856138   9.8537091    0.324549   \n",
       "..           ...       ...         ...         ...         ...         ...   \n",
       "274  -76.6269323  24.13156   1.2033439  -2.9853105    7.638316  -0.4846112   \n",
       "275  -76.6266823  14.00112  -0.1091267  -6.2257719  11.5829132  -0.3930082   \n",
       "276  -76.6269685    1.0186  -0.3198884  -3.7301616   10.454859  -0.0876646   \n",
       "277  -76.6269721         0   2.4224089  -1.6872098   9.0681427   1.1642438   \n",
       "278  -76.6269671         0   0.3387419  -1.0501346   9.7339581   0.3092819   \n",
       "\n",
       "          gyroy       gyroz SF      BW   CR  \n",
       "17   -0.2121214   0.0974049  7  125000  4/5  \n",
       "18    0.0474205   0.2042751  7  125000  4/5  \n",
       "19    -0.349526   0.0821378  7  125000  4/5  \n",
       "20     0.077955   0.1279393  7  125000  4/5  \n",
       "21    0.1084892   0.1890079  7  125000  4/5  \n",
       "..          ...         ... ..     ...  ...  \n",
       "274  -2.5938007  -2.5896177  7  125000  4/5  \n",
       "275  -8.9449462  13.8378629  7  125000  4/5  \n",
       "276  -8.9449462   6.4027485  7  125000  4/5  \n",
       "277   4.0321536  -1.6735874  7  125000  4/5  \n",
       "278  -0.0289154   0.1584736  7  125000  4/5  \n",
       "\n",
       "[262 rows x 16 columns]"
      ]
     },
     "execution_count": 17,
     "metadata": {},
     "output_type": "execute_result"
    }
   ],
   "source": [
    "dataset"
   ]
  },
  {
   "cell_type": "code",
   "execution_count": 18,
   "id": "befd0400",
   "metadata": {},
   "outputs": [],
   "source": [
    "dataset['latitude']=dataset['latitude'].astype('float64')\n",
    "dataset['longitude']=dataset['longitude'].astype('float64')"
   ]
  },
  {
   "cell_type": "code",
   "execution_count": 19,
   "id": "1ada5ef4",
   "metadata": {},
   "outputs": [],
   "source": [
    "#dataset.info()"
   ]
  },
  {
   "cell_type": "code",
   "execution_count": 20,
   "id": "f291b893",
   "metadata": {},
   "outputs": [],
   "source": [
    "d = pd.DataFrame()\n",
    "d['latitud']=dataset['latitude']\n",
    "d['longitude']=dataset['longitude']\n",
    "d.to_csv('calle_5_original.csv')"
   ]
  },
  {
   "cell_type": "code",
   "execution_count": 21,
   "id": "693d7d22",
   "metadata": {},
   "outputs": [],
   "source": [
    "def haversine(lat1, lon1, lat2, lon2):\n",
    "    rad=math.pi/180\n",
    "    dlat=lat2-lat1\n",
    "    dlon=lon2-lon1\n",
    "    R=6372.795477598\n",
    "    a=(math.sin(rad*dlat/2))**2 + math.cos(rad*lat1)*math.cos(rad*lat2)*(math.sin(rad*dlon/2))**2\n",
    "    distancia=2*R*math.asin(math.sqrt(a))\n",
    "    return distancia"
   ]
  },
  {
   "cell_type": "code",
   "execution_count": 22,
   "id": "31957414",
   "metadata": {},
   "outputs": [],
   "source": [
    "time_step = 30"
   ]
  },
  {
   "cell_type": "code",
   "execution_count": 23,
   "id": "b7e17321",
   "metadata": {},
   "outputs": [],
   "source": [
    "last = int(len(dataset)/5.0)"
   ]
  },
  {
   "cell_type": "code",
   "execution_count": 24,
   "id": "ddc2ac6b",
   "metadata": {},
   "outputs": [],
   "source": [
    "set_entrenamiento = dataset[:-last]\n",
    "set_validacion = dataset[-last-time_step:]"
   ]
  },
  {
   "cell_type": "code",
   "execution_count": 25,
   "id": "4354fb93",
   "metadata": {},
   "outputs": [],
   "source": [
    "#set_entrenamiento.info()"
   ]
  },
  {
   "cell_type": "code",
   "execution_count": 26,
   "id": "ed99b0e6",
   "metadata": {},
   "outputs": [],
   "source": [
    "#set_validacion.info()"
   ]
  },
  {
   "cell_type": "code",
   "execution_count": 27,
   "id": "3818e3d0",
   "metadata": {
    "scrolled": true
   },
   "outputs": [],
   "source": [
    "set_entrenamiento.reset_index(inplace=True, drop=True)\n",
    "#set_entrenamiento"
   ]
  },
  {
   "cell_type": "code",
   "execution_count": 28,
   "id": "0d19318a",
   "metadata": {
    "scrolled": true
   },
   "outputs": [],
   "source": [
    "set_validacion.reset_index(inplace=True, drop=True)\n",
    "#set_validacion"
   ]
  },
  {
   "cell_type": "code",
   "execution_count": 29,
   "id": "3ddf830d",
   "metadata": {
    "scrolled": true
   },
   "outputs": [],
   "source": [
    "#set_validacion.info()"
   ]
  },
  {
   "cell_type": "code",
   "execution_count": 30,
   "id": "278074bb",
   "metadata": {},
   "outputs": [],
   "source": [
    "#set_entrenamiento.info()"
   ]
  },
  {
   "cell_type": "code",
   "execution_count": 31,
   "id": "673cd79f",
   "metadata": {},
   "outputs": [],
   "source": [
    "x= np.column_stack((set_entrenamiento.iloc[:,[4]],set_entrenamiento.iloc[:,[5]],set_entrenamiento.iloc[:,[8]],set_entrenamiento.iloc[:,[12]]))"
   ]
  },
  {
   "cell_type": "code",
   "execution_count": 32,
   "id": "1e82f8bf",
   "metadata": {
    "scrolled": true
   },
   "outputs": [],
   "source": [
    "#x[0:1,:]"
   ]
  },
  {
   "cell_type": "code",
   "execution_count": 33,
   "id": "285a642f",
   "metadata": {},
   "outputs": [],
   "source": [
    "#x[0]"
   ]
  },
  {
   "cell_type": "code",
   "execution_count": 34,
   "id": "669aee48",
   "metadata": {},
   "outputs": [],
   "source": [
    "# Normalización del set de entrenamiento\n",
    "sc1 = MinMaxScaler(feature_range=(0,1))\n",
    "set_entrenamiento_escalado = sc1.fit_transform(x)"
   ]
  },
  {
   "cell_type": "code",
   "execution_count": 35,
   "id": "776a8a69",
   "metadata": {
    "scrolled": true
   },
   "outputs": [],
   "source": [
    "#set_entrenamiento_latitud_escalado=x"
   ]
  },
  {
   "cell_type": "code",
   "execution_count": 36,
   "id": "321044a9",
   "metadata": {
    "scrolled": true
   },
   "outputs": [],
   "source": [
    "#set_entrenamiento_latitud_escalado = np.array(set_entrenamiento_latitud_escalado).reshape(set_entrenamiento_latitud_escalado, ((set_entrenamiento_latitud_escalado.shape[0])/4), set_entrenamiento_latitud_escalado.shape[1], 4)"
   ]
  },
  {
   "cell_type": "code",
   "execution_count": 37,
   "id": "963164f1",
   "metadata": {},
   "outputs": [],
   "source": [
    "# La red LSTM tendrá como entrada \"time_step\" datos consecutivos, y como salida 1 dato (la predicción a\n",
    "# partir de esos \"time_step\" datos). Se conformará de esta forma el set de entrenamiento\n",
    "X_train = []\n",
    "Y_train = []\n",
    "m = len(set_entrenamiento_escalado)"
   ]
  },
  {
   "cell_type": "code",
   "execution_count": 38,
   "id": "dedf68b0",
   "metadata": {},
   "outputs": [],
   "source": [
    "for i in range(time_step,m):\n",
    "    # X: bloques de \"time_step\" datos: 0-time_step, 1-time_step+1, 2-time_step+2, etc\n",
    "    X_train.append(set_entrenamiento_escalado[i-time_step:i,0:5])\n",
    "    # Y: el siguiente dato\n",
    "    Y_train.append(set_entrenamiento_escalado[i,0:5])"
   ]
  },
  {
   "cell_type": "code",
   "execution_count": 39,
   "id": "440dd781",
   "metadata": {},
   "outputs": [],
   "source": [
    "X_train, Y_train = np.array(X_train), np.array(Y_train)"
   ]
  },
  {
   "cell_type": "code",
   "execution_count": null,
   "id": "964b67fb",
   "metadata": {},
   "outputs": [],
   "source": []
  },
  {
   "cell_type": "code",
   "execution_count": 40,
   "id": "beee00b9",
   "metadata": {
    "scrolled": true
   },
   "outputs": [
    {
     "data": {
      "text/plain": [
       "(180, 4)"
      ]
     },
     "execution_count": 40,
     "metadata": {},
     "output_type": "execute_result"
    }
   ],
   "source": [
    "Y_train.shape"
   ]
  },
  {
   "cell_type": "code",
   "execution_count": 41,
   "id": "6701d53f",
   "metadata": {},
   "outputs": [],
   "source": [
    "# Reshape X_train para que se ajuste al modelo en Keras\n",
    "X_train = np.reshape(X_train, (X_train.shape[0], X_train.shape[1], 4))"
   ]
  },
  {
   "cell_type": "code",
   "execution_count": 42,
   "id": "9cf152d1",
   "metadata": {
    "scrolled": true
   },
   "outputs": [
    {
     "data": {
      "text/plain": [
       "(180, 30, 4)"
      ]
     },
     "execution_count": 42,
     "metadata": {},
     "output_type": "execute_result"
    }
   ],
   "source": [
    "X_train.shape"
   ]
  },
  {
   "cell_type": "code",
   "execution_count": 43,
   "id": "cb875db7",
   "metadata": {},
   "outputs": [],
   "source": [
    "# Red LSTM\n",
    "#Para crear la red debemos primero definir el tamaño de los datos de entrada y del dato de salida,\n",
    "#así como el número total de neuronas (100):\n",
    "dim_in = (X_train.shape[1],4)\n",
    "dim_out = 4\n",
    "neurons = 100"
   ]
  },
  {
   "cell_type": "code",
   "execution_count": 44,
   "id": "2238e692",
   "metadata": {},
   "outputs": [],
   "source": [
    "from keras.layers import Bidirectional\n",
    "from tensorflow.keras.optimizers import SGD, Adam"
   ]
  },
  {
   "cell_type": "code",
   "execution_count": 45,
   "id": "c038ec80",
   "metadata": {
    "scrolled": true
   },
   "outputs": [],
   "source": [
    "def build_model(hp):\n",
    "    #definicion de hiperparámetros a evaluar\n",
    "    hp_batch_size = hp.Int('batch_size', min_value = 8, max_value = 128, step = 8)\n",
    "    hp_seed = hp.Int('seed', min_value =0, max_value = 100, step = 1)\n",
    "    hp_activation = hp.Choice('activation',['relu','tanh','linear','selu','elu','softmax'])\n",
    "    recurrent_dropout = hp.Float('recurrent_dropout',min_value=0.0,max_value=0.99,default=0.2)\n",
    "    hp_neurons = hp.Int('neurons1', min_value = 10, max_value = 200, step = 10)\n",
    "    hp_neurons2 = hp.Int('neurons2', min_value = 10, max_value = 200, step = 10)\n",
    "    hp_neurons3 = hp.Int('neurons3', min_value = 10, max_value = 200, step = 10)\n",
    "    tf.random.set_seed(hp_seed)\n",
    "    #definición del modelo de red neuronal\n",
    "    modelo = Sequential()\n",
    "    modelo.add(Bidirectional(LSTM(units=hp_neurons, activation=hp_activation, return_sequences=True, input_shape=dim_in)))\n",
    "    modelo.add(Bidirectional(LSTM(hp_neurons2, activation=hp_activation, return_sequences=True)))\n",
    "    modelo.add(Bidirectional(LSTM(hp_neurons3, activation=hp_activation, return_sequences=True)))\n",
    "    #modelo.add(LSTM(200, activation=hp_activation,  return_sequences=True))\n",
    "    modelo.add(Flatten())\n",
    "    modelo.add(Dropout(recurrent_dropout))\n",
    "    modelo.add(Dense(units=dim_out,activation=hp_activation))\n",
    "    \n",
    "    hp_learning_rate = hp.Choice('learning_rate', values = [1e-2, 1e-3])\n",
    "    opt = Adam(learning_rate=hp_learning_rate)#, momentum=0.9)\n",
    "    modelo.compile(optimizer=opt, loss='mse', metrics=['mse'])\n",
    "    #modelo.compile(optimizer='Adam', loss='mse')\n",
    "    #modelo.fit(X_train,Y_train,epochs=10,batch_size=32)\n",
    "    #print(modelo.summary())\n",
    "    return modelo"
   ]
  },
  {
   "cell_type": "code",
   "execution_count": 46,
   "id": "04d3dcef",
   "metadata": {
    "scrolled": true
   },
   "outputs": [],
   "source": [
    "#pip install keras-tuner --upgrade"
   ]
  },
  {
   "cell_type": "code",
   "execution_count": 47,
   "id": "c7747de1",
   "metadata": {},
   "outputs": [],
   "source": [
    "import keras_tuner"
   ]
  },
  {
   "cell_type": "code",
   "execution_count": 48,
   "id": "df840ea5",
   "metadata": {},
   "outputs": [],
   "source": [
    "from keras_tuner.tuners import BayesianOptimization"
   ]
  },
  {
   "cell_type": "code",
   "execution_count": 49,
   "id": "44715aee",
   "metadata": {},
   "outputs": [],
   "source": [
    "tuner = BayesianOptimization(\n",
    "    build_model,\n",
    "    objective = 'mse',\n",
    "    overwrite=True,\n",
    "    max_trials = 6)"
   ]
  },
  {
   "cell_type": "code",
   "execution_count": null,
   "id": "7272bc14",
   "metadata": {},
   "outputs": [],
   "source": []
  },
  {
   "cell_type": "code",
   "execution_count": 50,
   "id": "c494f1c8",
   "metadata": {},
   "outputs": [],
   "source": [
    "#definimos funcion de error y el método para minimizar\n",
    "#modelo.compile(optimizer='RMSprop', loss='mse')"
   ]
  },
  {
   "cell_type": "code",
   "execution_count": 51,
   "id": "e6727a42",
   "metadata": {
    "scrolled": true
   },
   "outputs": [],
   "source": [
    "#implementamos el modelo con 20 iteraciones, epochs\n",
    "#Presentando a la res lstm lotess de 32 datos\n",
    "#modelo.fit(X_train,Y_train,epochs=500,batch_size=32)\n",
    "#epochs 100  batch=64 loss 0.0017\n",
    "#epochs 100  batch=32 loss 0.0040\n",
    "#epochs 20  batch=32 loss 0.0071"
   ]
  },
  {
   "cell_type": "code",
   "execution_count": 52,
   "id": "40205517",
   "metadata": {
    "scrolled": true
   },
   "outputs": [],
   "source": [
    "#X_train.shape"
   ]
  },
  {
   "cell_type": "code",
   "execution_count": 53,
   "id": "3b8caa26",
   "metadata": {},
   "outputs": [],
   "source": [
    "#x_test_latitud = set_validacion.iloc[:,4:5]\n",
    "x_test= np.column_stack((set_validacion.iloc[:,[4]],set_validacion.iloc[:,[5]],set_validacion.iloc[:,[8]],set_validacion.iloc[:,[12]]))"
   ]
  },
  {
   "cell_type": "code",
   "execution_count": 54,
   "id": "d91bf082",
   "metadata": {
    "scrolled": true
   },
   "outputs": [],
   "source": [
    "#x_test"
   ]
  },
  {
   "cell_type": "code",
   "execution_count": 55,
   "id": "e10f5689",
   "metadata": {},
   "outputs": [],
   "source": [
    "array_latitud = []\n",
    "for x in range(len(x_test)):\n",
    "    array_latitud.append(x_test[x,0])"
   ]
  },
  {
   "cell_type": "code",
   "execution_count": 56,
   "id": "ebcffc86",
   "metadata": {
    "scrolled": true
   },
   "outputs": [],
   "source": [
    "#array_latitud"
   ]
  },
  {
   "cell_type": "code",
   "execution_count": 57,
   "id": "e888ab17",
   "metadata": {},
   "outputs": [],
   "source": [
    "array_longitud = []\n",
    "for x in range(len(x_test)):\n",
    "    array_longitud.append(x_test[x,1])"
   ]
  },
  {
   "cell_type": "code",
   "execution_count": 58,
   "id": "2d632706",
   "metadata": {
    "scrolled": true
   },
   "outputs": [],
   "source": [
    "#array_longitud"
   ]
  },
  {
   "cell_type": "code",
   "execution_count": 59,
   "id": "5f2f3844",
   "metadata": {
    "scrolled": true
   },
   "outputs": [],
   "source": [
    "#sc2 = MinMaxScaler(feature_range=(0,1))\n",
    "x_test_n = sc1.transform(x_test)\n",
    "#x_test_n"
   ]
  },
  {
   "cell_type": "code",
   "execution_count": 60,
   "id": "23d28346",
   "metadata": {},
   "outputs": [
    {
     "data": {
      "text/plain": [
       "(82, 4)"
      ]
     },
     "execution_count": 60,
     "metadata": {},
     "output_type": "execute_result"
    }
   ],
   "source": [
    "x_test_n.shape"
   ]
  },
  {
   "cell_type": "code",
   "execution_count": 61,
   "id": "a25a1740",
   "metadata": {},
   "outputs": [],
   "source": [
    "#Obtenemos bloques de 60 datos\n",
    "X_test = []\n",
    "Y_test = []\n",
    "for i in range(time_step,len(x_test_n)):\n",
    "    X_test.append(x_test_n[i-time_step:i,0:5])\n",
    "    Y_test.append(x_test_n[i,0:5])"
   ]
  },
  {
   "cell_type": "code",
   "execution_count": 62,
   "id": "9d37856c",
   "metadata": {},
   "outputs": [
    {
     "data": {
      "text/plain": [
       "(52, 30, 4)"
      ]
     },
     "execution_count": 62,
     "metadata": {},
     "output_type": "execute_result"
    }
   ],
   "source": [
    "X_test = np.array(X_test)\n",
    "X_test.shape"
   ]
  },
  {
   "cell_type": "code",
   "execution_count": 63,
   "id": "c9d0b3d9",
   "metadata": {
    "scrolled": true
   },
   "outputs": [
    {
     "data": {
      "text/plain": [
       "(52, 4)"
      ]
     },
     "execution_count": 63,
     "metadata": {},
     "output_type": "execute_result"
    }
   ],
   "source": [
    "Y_test = np.array(Y_test)\n",
    "Y_test.shape"
   ]
  },
  {
   "cell_type": "code",
   "execution_count": 64,
   "id": "9b71de53",
   "metadata": {},
   "outputs": [],
   "source": [
    "X_test = np.reshape(X_test, (X_test.shape[0],X_test.shape[1],4))"
   ]
  },
  {
   "cell_type": "code",
   "execution_count": 65,
   "id": "a3587dc6",
   "metadata": {},
   "outputs": [
    {
     "data": {
      "text/plain": [
       "(180, 30, 4)"
      ]
     },
     "execution_count": 65,
     "metadata": {},
     "output_type": "execute_result"
    }
   ],
   "source": [
    "#Y_train = to_categorical(Y_train)\n",
    "#Y_test = to_categorical(Y_test)\n",
    "X_train.shape"
   ]
  },
  {
   "cell_type": "code",
   "execution_count": 66,
   "id": "49284250",
   "metadata": {},
   "outputs": [
    {
     "data": {
      "text/plain": [
       "(180, 4)"
      ]
     },
     "execution_count": 66,
     "metadata": {},
     "output_type": "execute_result"
    }
   ],
   "source": [
    "Y_train.shape"
   ]
  },
  {
   "cell_type": "code",
   "execution_count": 67,
   "id": "12858401",
   "metadata": {
    "scrolled": true
   },
   "outputs": [
    {
     "name": "stdout",
     "output_type": "stream",
     "text": [
      "Trial 6 Complete [00h 00m 42s]\n",
      "mse: 0.04950810968875885\n",
      "\n",
      "Best mse So Far: 0.008746728301048279\n",
      "Total elapsed time: 00h 05m 33s\n",
      "INFO:tensorflow:Oracle triggered exit\n"
     ]
    }
   ],
   "source": [
    "tuner.search(X_train, Y_train,\n",
    "             epochs=100,\n",
    "             #overwrite=True,\n",
    "             validation_data=(X_test, Y_test))\n",
    "            #)"
   ]
  },
  {
   "cell_type": "code",
   "execution_count": 68,
   "id": "d87627c4",
   "metadata": {},
   "outputs": [
    {
     "name": "stdout",
     "output_type": "stream",
     "text": [
      "Results summary\n",
      "Results in .\\untitled_project\n",
      "Showing 10 best trials\n",
      "<keras_tuner.engine.objective.Objective object at 0x00000208D12E1190>\n",
      "Trial summary\n",
      "Hyperparameters:\n",
      "batch_size: 128\n",
      "seed: 100\n",
      "activation: linear\n",
      "recurrent_dropout: 0.0\n",
      "neurons1: 190\n",
      "neurons2: 100\n",
      "neurons3: 10\n",
      "learning_rate: 0.001\n",
      "Score: 0.008746728301048279\n",
      "Trial summary\n",
      "Hyperparameters:\n",
      "batch_size: 88\n",
      "seed: 35\n",
      "activation: elu\n",
      "recurrent_dropout: 0.19006120880725536\n",
      "neurons1: 110\n",
      "neurons2: 50\n",
      "neurons3: 60\n",
      "learning_rate: 0.001\n",
      "Score: 0.009149491786956787\n",
      "Trial summary\n",
      "Hyperparameters:\n",
      "batch_size: 128\n",
      "seed: 93\n",
      "activation: tanh\n",
      "recurrent_dropout: 0.0\n",
      "neurons1: 10\n",
      "neurons2: 10\n",
      "neurons3: 10\n",
      "learning_rate: 0.001\n",
      "Score: 0.00936175137758255\n",
      "Trial summary\n",
      "Hyperparameters:\n",
      "batch_size: 128\n",
      "seed: 80\n",
      "activation: relu\n",
      "recurrent_dropout: 0.99\n",
      "neurons1: 110\n",
      "neurons2: 10\n",
      "neurons3: 10\n",
      "learning_rate: 0.001\n",
      "Score: 0.04950810968875885\n",
      "Trial summary\n",
      "Hyperparameters:\n",
      "batch_size: 128\n",
      "seed: 0\n",
      "activation: softmax\n",
      "recurrent_dropout: 0.0\n",
      "neurons1: 10\n",
      "neurons2: 10\n",
      "neurons3: 10\n",
      "learning_rate: 0.01\n",
      "Score: 0.09596557915210724\n",
      "Trial summary\n",
      "Hyperparameters:\n",
      "batch_size: 16\n",
      "seed: 16\n",
      "activation: softmax\n",
      "recurrent_dropout: 0.398691708396839\n",
      "neurons1: 170\n",
      "neurons2: 70\n",
      "neurons3: 140\n",
      "learning_rate: 0.001\n",
      "Score: 0.12913630902767181\n"
     ]
    }
   ],
   "source": [
    "tuner.results_summary()"
   ]
  },
  {
   "cell_type": "code",
   "execution_count": 69,
   "id": "321424f2",
   "metadata": {},
   "outputs": [
    {
     "data": {
      "text/plain": [
       "{'batch_size': 128,\n",
       " 'seed': 100,\n",
       " 'activation': 'linear',\n",
       " 'recurrent_dropout': 0.0,\n",
       " 'neurons1': 190,\n",
       " 'neurons2': 100,\n",
       " 'neurons3': 10,\n",
       " 'learning_rate': 0.001}"
      ]
     },
     "execution_count": 69,
     "metadata": {},
     "output_type": "execute_result"
    }
   ],
   "source": [
    "best_hps = tuner.get_best_hyperparameters(num_trials = 1)[0]\n",
    "best_hps.values"
   ]
  },
  {
   "cell_type": "code",
   "execution_count": 70,
   "id": "cefdcb73",
   "metadata": {},
   "outputs": [
    {
     "name": "stdout",
     "output_type": "stream",
     "text": [
      "Epoch 1/100\n",
      "6/6 [==============================] - 8s 414ms/step - loss: 0.1380 - mse: 0.1380 - val_loss: 0.0415 - val_mse: 0.0415\n",
      "Epoch 2/100\n",
      "6/6 [==============================] - 2s 287ms/step - loss: 0.0350 - mse: 0.0350 - val_loss: 0.0279 - val_mse: 0.0279\n",
      "Epoch 3/100\n",
      "6/6 [==============================] - 2s 314ms/step - loss: 0.0218 - mse: 0.0218 - val_loss: 0.0251 - val_mse: 0.0251\n",
      "Epoch 4/100\n",
      "6/6 [==============================] - 2s 318ms/step - loss: 0.0195 - mse: 0.0195 - val_loss: 0.0182 - val_mse: 0.0182\n",
      "Epoch 5/100\n",
      "6/6 [==============================] - 2s 320ms/step - loss: 0.0174 - mse: 0.0174 - val_loss: 0.0185 - val_mse: 0.0185\n",
      "Epoch 6/100\n",
      "6/6 [==============================] - 2s 292ms/step - loss: 0.0164 - mse: 0.0164 - val_loss: 0.0199 - val_mse: 0.0199\n",
      "Epoch 7/100\n",
      "6/6 [==============================] - 2s 290ms/step - loss: 0.0154 - mse: 0.0154 - val_loss: 0.0168 - val_mse: 0.0168\n",
      "Epoch 8/100\n",
      "6/6 [==============================] - 2s 288ms/step - loss: 0.0149 - mse: 0.0149 - val_loss: 0.0176 - val_mse: 0.0176\n",
      "Epoch 9/100\n",
      "6/6 [==============================] - 2s 293ms/step - loss: 0.0147 - mse: 0.0147 - val_loss: 0.0171 - val_mse: 0.0171\n",
      "Epoch 10/100\n",
      "6/6 [==============================] - 2s 377ms/step - loss: 0.0140 - mse: 0.0140 - val_loss: 0.0167 - val_mse: 0.0167\n",
      "Epoch 11/100\n",
      "6/6 [==============================] - 2s 385ms/step - loss: 0.0136 - mse: 0.0136 - val_loss: 0.0169 - val_mse: 0.0169\n",
      "Epoch 12/100\n",
      "6/6 [==============================] - 2s 366ms/step - loss: 0.0135 - mse: 0.0135 - val_loss: 0.0166 - val_mse: 0.0166\n",
      "Epoch 13/100\n",
      "6/6 [==============================] - 2s 323ms/step - loss: 0.0131 - mse: 0.0131 - val_loss: 0.0171 - val_mse: 0.0171\n",
      "Epoch 14/100\n",
      "6/6 [==============================] - 2s 354ms/step - loss: 0.0132 - mse: 0.0132 - val_loss: 0.0160 - val_mse: 0.0160\n",
      "Epoch 15/100\n",
      "6/6 [==============================] - 2s 357ms/step - loss: 0.0131 - mse: 0.0131 - val_loss: 0.0177 - val_mse: 0.0177\n",
      "Epoch 16/100\n",
      "6/6 [==============================] - 2s 353ms/step - loss: 0.0132 - mse: 0.0132 - val_loss: 0.0164 - val_mse: 0.0164\n",
      "Epoch 17/100\n",
      "6/6 [==============================] - 2s 379ms/step - loss: 0.0130 - mse: 0.0130 - val_loss: 0.0172 - val_mse: 0.0172\n",
      "Epoch 18/100\n",
      "6/6 [==============================] - 2s 395ms/step - loss: 0.0126 - mse: 0.0126 - val_loss: 0.0159 - val_mse: 0.0159\n",
      "Epoch 19/100\n",
      "6/6 [==============================] - 2s 369ms/step - loss: 0.0124 - mse: 0.0124 - val_loss: 0.0170 - val_mse: 0.0170\n",
      "Epoch 20/100\n",
      "6/6 [==============================] - 2s 328ms/step - loss: 0.0126 - mse: 0.0126 - val_loss: 0.0178 - val_mse: 0.0178\n",
      "Epoch 21/100\n",
      "6/6 [==============================] - 2s 365ms/step - loss: 0.0131 - mse: 0.0131 - val_loss: 0.0156 - val_mse: 0.0156\n",
      "Epoch 22/100\n",
      "6/6 [==============================] - 2s 355ms/step - loss: 0.0128 - mse: 0.0128 - val_loss: 0.0183 - val_mse: 0.0183\n",
      "Epoch 23/100\n",
      "6/6 [==============================] - 2s 347ms/step - loss: 0.0127 - mse: 0.0127 - val_loss: 0.0153 - val_mse: 0.0153\n",
      "Epoch 24/100\n",
      "6/6 [==============================] - 2s 347ms/step - loss: 0.0125 - mse: 0.0125 - val_loss: 0.0188 - val_mse: 0.0188\n",
      "Epoch 25/100\n",
      "6/6 [==============================] - 2s 334ms/step - loss: 0.0129 - mse: 0.0129 - val_loss: 0.0152 - val_mse: 0.0152\n",
      "Epoch 26/100\n",
      "6/6 [==============================] - 2s 393ms/step - loss: 0.0123 - mse: 0.0123 - val_loss: 0.0183 - val_mse: 0.0183\n",
      "Epoch 27/100\n",
      "6/6 [==============================] - 2s 382ms/step - loss: 0.0122 - mse: 0.0122 - val_loss: 0.0150 - val_mse: 0.0150\n",
      "Epoch 28/100\n",
      "6/6 [==============================] - 2s 340ms/step - loss: 0.0123 - mse: 0.0123 - val_loss: 0.0176 - val_mse: 0.0176\n",
      "Epoch 29/100\n",
      "6/6 [==============================] - 2s 353ms/step - loss: 0.0122 - mse: 0.0122 - val_loss: 0.0148 - val_mse: 0.0148\n",
      "Epoch 30/100\n",
      "6/6 [==============================] - 2s 387ms/step - loss: 0.0121 - mse: 0.0121 - val_loss: 0.0175 - val_mse: 0.0175\n",
      "Epoch 31/100\n",
      "6/6 [==============================] - 2s 386ms/step - loss: 0.0116 - mse: 0.0116 - val_loss: 0.0146 - val_mse: 0.0146\n",
      "Epoch 32/100\n",
      "6/6 [==============================] - 2s 382ms/step - loss: 0.0113 - mse: 0.0113 - val_loss: 0.0170 - val_mse: 0.0170\n",
      "Epoch 33/100\n",
      "6/6 [==============================] - 2s 361ms/step - loss: 0.0114 - mse: 0.0114 - val_loss: 0.0140 - val_mse: 0.0140\n",
      "Epoch 34/100\n",
      "6/6 [==============================] - 2s 367ms/step - loss: 0.0113 - mse: 0.0113 - val_loss: 0.0168 - val_mse: 0.0168\n",
      "Epoch 35/100\n",
      "6/6 [==============================] - 2s 370ms/step - loss: 0.0113 - mse: 0.0113 - val_loss: 0.0155 - val_mse: 0.0155\n",
      "Epoch 36/100\n",
      "6/6 [==============================] - 2s 333ms/step - loss: 0.0117 - mse: 0.0117 - val_loss: 0.0154 - val_mse: 0.0154\n",
      "Epoch 37/100\n",
      "6/6 [==============================] - 2s 357ms/step - loss: 0.0119 - mse: 0.0119 - val_loss: 0.0150 - val_mse: 0.0150\n",
      "Epoch 38/100\n",
      "6/6 [==============================] - 2s 399ms/step - loss: 0.0118 - mse: 0.0118 - val_loss: 0.0157 - val_mse: 0.0157\n",
      "Epoch 39/100\n",
      "6/6 [==============================] - 2s 389ms/step - loss: 0.0111 - mse: 0.0111 - val_loss: 0.0152 - val_mse: 0.0152\n",
      "Epoch 40/100\n",
      "6/6 [==============================] - 2s 351ms/step - loss: 0.0106 - mse: 0.0106 - val_loss: 0.0148 - val_mse: 0.0148\n",
      "Epoch 41/100\n",
      "6/6 [==============================] - 2s 342ms/step - loss: 0.0109 - mse: 0.0109 - val_loss: 0.0153 - val_mse: 0.0153\n",
      "Epoch 42/100\n",
      "6/6 [==============================] - 2s 346ms/step - loss: 0.0108 - mse: 0.0108 - val_loss: 0.0154 - val_mse: 0.0154\n",
      "Epoch 43/100\n",
      "6/6 [==============================] - 2s 347ms/step - loss: 0.0110 - mse: 0.0110 - val_loss: 0.0144 - val_mse: 0.0144\n",
      "Epoch 44/100\n",
      "6/6 [==============================] - 2s 350ms/step - loss: 0.0103 - mse: 0.0103 - val_loss: 0.0145 - val_mse: 0.0145\n",
      "Epoch 45/100\n",
      "6/6 [==============================] - 2s 341ms/step - loss: 0.0104 - mse: 0.0104 - val_loss: 0.0146 - val_mse: 0.0146\n",
      "Epoch 46/100\n",
      "6/6 [==============================] - 2s 357ms/step - loss: 0.0102 - mse: 0.0102 - val_loss: 0.0153 - val_mse: 0.0153\n",
      "Epoch 47/100\n",
      "6/6 [==============================] - 2s 399ms/step - loss: 0.0110 - mse: 0.0110 - val_loss: 0.0134 - val_mse: 0.0134\n",
      "Epoch 48/100\n",
      "6/6 [==============================] - 2s 386ms/step - loss: 0.0114 - mse: 0.0114 - val_loss: 0.0159 - val_mse: 0.0159\n",
      "Epoch 49/100\n",
      "6/6 [==============================] - 2s 337ms/step - loss: 0.0106 - mse: 0.0106 - val_loss: 0.0140 - val_mse: 0.0140\n",
      "Epoch 50/100\n",
      "6/6 [==============================] - 2s 357ms/step - loss: 0.0104 - mse: 0.0104 - val_loss: 0.0160 - val_mse: 0.0160\n",
      "Epoch 51/100\n",
      "6/6 [==============================] - 2s 367ms/step - loss: 0.0104 - mse: 0.0104 - val_loss: 0.0134 - val_mse: 0.0134\n",
      "Epoch 52/100\n",
      "6/6 [==============================] - 2s 396ms/step - loss: 0.0109 - mse: 0.0109 - val_loss: 0.0148 - val_mse: 0.0148\n",
      "Epoch 53/100\n",
      "6/6 [==============================] - 2s 383ms/step - loss: 0.0107 - mse: 0.0107 - val_loss: 0.0143 - val_mse: 0.0143\n",
      "Epoch 54/100\n",
      "6/6 [==============================] - 2s 370ms/step - loss: 0.0105 - mse: 0.0105 - val_loss: 0.0165 - val_mse: 0.0165\n",
      "Epoch 55/100\n",
      "6/6 [==============================] - 2s 358ms/step - loss: 0.0111 - mse: 0.0111 - val_loss: 0.0139 - val_mse: 0.0139\n",
      "Epoch 56/100\n",
      "6/6 [==============================] - 2s 396ms/step - loss: 0.0116 - mse: 0.0116 - val_loss: 0.0146 - val_mse: 0.0146\n",
      "Epoch 57/100\n",
      "6/6 [==============================] - 2s 386ms/step - loss: 0.0106 - mse: 0.0106 - val_loss: 0.0141 - val_mse: 0.0141\n",
      "Epoch 58/100\n",
      "6/6 [==============================] - 2s 332ms/step - loss: 0.0103 - mse: 0.0103 - val_loss: 0.0139 - val_mse: 0.0139\n",
      "Epoch 59/100\n",
      "6/6 [==============================] - 2s 344ms/step - loss: 0.0101 - mse: 0.0101 - val_loss: 0.0132 - val_mse: 0.0132\n",
      "Epoch 60/100\n",
      "6/6 [==============================] - 2s 363ms/step - loss: 0.0098 - mse: 0.0098 - val_loss: 0.0139 - val_mse: 0.0139\n",
      "Epoch 61/100\n",
      "6/6 [==============================] - 2s 360ms/step - loss: 0.0102 - mse: 0.0102 - val_loss: 0.0137 - val_mse: 0.0137\n",
      "Epoch 62/100\n",
      "6/6 [==============================] - 2s 339ms/step - loss: 0.0099 - mse: 0.0099 - val_loss: 0.0143 - val_mse: 0.0143\n",
      "Epoch 63/100\n"
     ]
    },
    {
     "name": "stdout",
     "output_type": "stream",
     "text": [
      "6/6 [==============================] - 2s 329ms/step - loss: 0.0097 - mse: 0.0097 - val_loss: 0.0133 - val_mse: 0.0133\n",
      "Epoch 64/100\n",
      "6/6 [==============================] - 2s 313ms/step - loss: 0.0096 - mse: 0.0096 - val_loss: 0.0127 - val_mse: 0.0127\n",
      "Epoch 65/100\n",
      "6/6 [==============================] - 2s 303ms/step - loss: 0.0101 - mse: 0.0101 - val_loss: 0.0147 - val_mse: 0.0147\n",
      "Epoch 66/100\n",
      "6/6 [==============================] - 2s 342ms/step - loss: 0.0101 - mse: 0.0101 - val_loss: 0.0122 - val_mse: 0.0122\n",
      "Epoch 67/100\n",
      "6/6 [==============================] - 2s 358ms/step - loss: 0.0096 - mse: 0.0096 - val_loss: 0.0149 - val_mse: 0.0149\n",
      "Epoch 68/100\n",
      "6/6 [==============================] - 2s 361ms/step - loss: 0.0097 - mse: 0.0097 - val_loss: 0.0129 - val_mse: 0.0129\n",
      "Epoch 69/100\n",
      "6/6 [==============================] - 2s 360ms/step - loss: 0.0100 - mse: 0.0100 - val_loss: 0.0138 - val_mse: 0.0138\n",
      "Epoch 70/100\n",
      "6/6 [==============================] - 2s 363ms/step - loss: 0.0098 - mse: 0.0098 - val_loss: 0.0131 - val_mse: 0.0131\n",
      "Epoch 71/100\n",
      "6/6 [==============================] - 2s 356ms/step - loss: 0.0097 - mse: 0.0097 - val_loss: 0.0137 - val_mse: 0.0137\n",
      "Epoch 72/100\n",
      "6/6 [==============================] - 2s 318ms/step - loss: 0.0097 - mse: 0.0097 - val_loss: 0.0137 - val_mse: 0.0137\n",
      "Epoch 73/100\n",
      "6/6 [==============================] - 2s 299ms/step - loss: 0.0097 - mse: 0.0097 - val_loss: 0.0144 - val_mse: 0.0144\n",
      "Epoch 74/100\n",
      "6/6 [==============================] - 2s 339ms/step - loss: 0.0096 - mse: 0.0096 - val_loss: 0.0132 - val_mse: 0.0132\n",
      "Epoch 75/100\n",
      "6/6 [==============================] - 2s 290ms/step - loss: 0.0095 - mse: 0.0095 - val_loss: 0.0126 - val_mse: 0.0126\n",
      "Epoch 76/100\n",
      "6/6 [==============================] - 2s 295ms/step - loss: 0.0097 - mse: 0.0097 - val_loss: 0.0130 - val_mse: 0.0130\n",
      "Epoch 77/100\n",
      "6/6 [==============================] - 2s 295ms/step - loss: 0.0095 - mse: 0.0095 - val_loss: 0.0130 - val_mse: 0.0130\n",
      "Epoch 78/100\n",
      "6/6 [==============================] - 2s 340ms/step - loss: 0.0094 - mse: 0.0094 - val_loss: 0.0135 - val_mse: 0.0135\n",
      "Epoch 79/100\n",
      "6/6 [==============================] - 2s 395ms/step - loss: 0.0092 - mse: 0.0092 - val_loss: 0.0123 - val_mse: 0.0123\n",
      "Epoch 80/100\n",
      "6/6 [==============================] - 2s 390ms/step - loss: 0.0099 - mse: 0.0099 - val_loss: 0.0135 - val_mse: 0.0135\n",
      "Epoch 81/100\n",
      "6/6 [==============================] - 2s 353ms/step - loss: 0.0100 - mse: 0.0100 - val_loss: 0.0124 - val_mse: 0.0124\n",
      "Epoch 82/100\n",
      "6/6 [==============================] - 2s 335ms/step - loss: 0.0103 - mse: 0.0103 - val_loss: 0.0137 - val_mse: 0.0137\n",
      "Epoch 83/100\n",
      "6/6 [==============================] - 2s 365ms/step - loss: 0.0108 - mse: 0.0108 - val_loss: 0.0125 - val_mse: 0.0125\n",
      "Epoch 84/100\n",
      "6/6 [==============================] - 2s 368ms/step - loss: 0.0105 - mse: 0.0105 - val_loss: 0.0134 - val_mse: 0.0134\n",
      "Epoch 85/100\n",
      "6/6 [==============================] - 2s 374ms/step - loss: 0.0097 - mse: 0.0097 - val_loss: 0.0136 - val_mse: 0.0136\n",
      "Epoch 86/100\n",
      "6/6 [==============================] - 2s 388ms/step - loss: 0.0093 - mse: 0.0093 - val_loss: 0.0132 - val_mse: 0.0132\n",
      "Epoch 87/100\n",
      "6/6 [==============================] - 2s 363ms/step - loss: 0.0093 - mse: 0.0093 - val_loss: 0.0132 - val_mse: 0.0132\n",
      "Epoch 88/100\n",
      "6/6 [==============================] - 2s 385ms/step - loss: 0.0093 - mse: 0.0093 - val_loss: 0.0118 - val_mse: 0.0118\n",
      "Epoch 89/100\n",
      "6/6 [==============================] - 2s 395ms/step - loss: 0.0092 - mse: 0.0092 - val_loss: 0.0136 - val_mse: 0.0136\n",
      "Epoch 90/100\n",
      "6/6 [==============================] - 2s 354ms/step - loss: 0.0090 - mse: 0.0090 - val_loss: 0.0125 - val_mse: 0.0125\n",
      "Epoch 91/100\n",
      "6/6 [==============================] - 2s 340ms/step - loss: 0.0089 - mse: 0.0089 - val_loss: 0.0131 - val_mse: 0.0131\n",
      "Epoch 92/100\n",
      "6/6 [==============================] - 2s 379ms/step - loss: 0.0090 - mse: 0.0090 - val_loss: 0.0139 - val_mse: 0.0139\n",
      "Epoch 93/100\n",
      "6/6 [==============================] - 2s 380ms/step - loss: 0.0094 - mse: 0.0094 - val_loss: 0.0122 - val_mse: 0.0122\n",
      "Epoch 94/100\n",
      "6/6 [==============================] - 2s 361ms/step - loss: 0.0091 - mse: 0.0091 - val_loss: 0.0130 - val_mse: 0.0130\n",
      "Epoch 95/100\n",
      "6/6 [==============================] - 2s 374ms/step - loss: 0.0096 - mse: 0.0096 - val_loss: 0.0123 - val_mse: 0.0123\n",
      "Epoch 96/100\n",
      "6/6 [==============================] - 2s 331ms/step - loss: 0.0094 - mse: 0.0094 - val_loss: 0.0133 - val_mse: 0.0133\n",
      "Epoch 97/100\n",
      "6/6 [==============================] - 2s 380ms/step - loss: 0.0093 - mse: 0.0093 - val_loss: 0.0124 - val_mse: 0.0124\n",
      "Epoch 98/100\n",
      "6/6 [==============================] - 2s 395ms/step - loss: 0.0092 - mse: 0.0092 - val_loss: 0.0127 - val_mse: 0.0127\n",
      "Epoch 99/100\n",
      "6/6 [==============================] - 2s 377ms/step - loss: 0.0088 - mse: 0.0088 - val_loss: 0.0139 - val_mse: 0.0139\n",
      "Epoch 100/100\n",
      "6/6 [==============================] - 2s 333ms/step - loss: 0.0087 - mse: 0.0087 - val_loss: 0.0131 - val_mse: 0.0131\n"
     ]
    }
   ],
   "source": [
    "modelo = tuner.hypermodel.build(best_hps)\n",
    "history = modelo.fit(X_train, Y_train,\n",
    "                      epochs=100,batch_size=32,\n",
    "                      validation_data=(X_test, Y_test))"
   ]
  },
  {
   "cell_type": "code",
   "execution_count": 71,
   "id": "70224dd5",
   "metadata": {},
   "outputs": [
    {
     "name": "stdout",
     "output_type": "stream",
     "text": [
      "> 1.307\n"
     ]
    }
   ],
   "source": [
    "# evaluate model\n",
    "_, acc = modelo.evaluate(X_test, Y_test, verbose=0)\n",
    "print('> %.3f' % (acc * 100.0))"
   ]
  },
  {
   "cell_type": "code",
   "execution_count": 72,
   "id": "119dd74c",
   "metadata": {},
   "outputs": [
    {
     "name": "stdout",
     "output_type": "stream",
     "text": [
      "2/2 [==============================] - 2s 60ms/step\n"
     ]
    }
   ],
   "source": [
    "#Predecimos y normalizamos\n",
    "prediccion = modelo.predict(X_test)"
   ]
  },
  {
   "cell_type": "code",
   "execution_count": 73,
   "id": "71ffcb94",
   "metadata": {
    "scrolled": true
   },
   "outputs": [
    {
     "data": {
      "text/plain": [
       "array([[ 0.9413044 ,  0.00991913,  0.5113009 ,  0.5916715 ],\n",
       "       [ 0.9919686 , -0.0289237 ,  0.5120689 ,  0.59467965],\n",
       "       [ 1.0084922 , -0.02910173,  0.5158903 ,  0.589393  ],\n",
       "       [ 0.99307024,  0.00437793,  0.5296399 ,  0.5808507 ],\n",
       "       [ 0.94722176,  0.06703667,  0.55324423,  0.5688371 ],\n",
       "       [ 0.87265253,  0.16745742,  0.58295643,  0.55469334],\n",
       "       [ 0.78036165,  0.28562003,  0.61319125,  0.541535  ],\n",
       "       [ 0.6926961 ,  0.39637282,  0.6307949 ,  0.53077316],\n",
       "       [ 0.6033274 ,  0.5003604 ,  0.64995205,  0.529756  ],\n",
       "       [ 0.5330992 ,  0.5814527 ,  0.64620215,  0.5309769 ],\n",
       "       [ 0.47652555,  0.64699   ,  0.624196  ,  0.5355485 ],\n",
       "       [ 0.4108128 ,  0.72374177,  0.5992334 ,  0.54798645],\n",
       "       [ 0.3626477 ,  0.7689174 ,  0.5498633 ,  0.5587183 ],\n",
       "       [ 0.3208097 ,  0.80419856,  0.5238372 ,  0.5768317 ],\n",
       "       [ 0.285897  ,  0.820782  ,  0.50200295,  0.5895361 ],\n",
       "       [ 0.25354177,  0.83249015,  0.5046217 ,  0.602957  ],\n",
       "       [ 0.22467245,  0.8323746 ,  0.5163362 ,  0.60961634],\n",
       "       [ 0.18141672,  0.8382052 ,  0.53549516,  0.610775  ],\n",
       "       [ 0.13935474,  0.85366994,  0.5613946 ,  0.6154728 ],\n",
       "       [ 0.11562105,  0.8564618 ,  0.5776857 ,  0.6103018 ],\n",
       "       [ 0.12870272,  0.8457275 ,  0.57579154,  0.5966895 ],\n",
       "       [ 0.18229347,  0.8212529 ,  0.5535419 ,  0.5751448 ],\n",
       "       [ 0.25292   ,  0.78644294,  0.5235921 ,  0.55152583],\n",
       "       [ 0.3065677 ,  0.7578712 ,  0.5035266 ,  0.53552353],\n",
       "       [ 0.33534068,  0.7382498 ,  0.49933875,  0.5373211 ],\n",
       "       [ 0.36767155,  0.70862544,  0.49586108,  0.5419538 ],\n",
       "       [ 0.39569265,  0.67873985,  0.48933056,  0.55061084],\n",
       "       [ 0.41463584,  0.65622824,  0.4870934 ,  0.5584929 ],\n",
       "       [ 0.42793906,  0.6353683 ,  0.48571703,  0.5674698 ],\n",
       "       [ 0.43872803,  0.61399716,  0.4852924 ,  0.57585406],\n",
       "       [ 0.44955337,  0.59707636,  0.48906854,  0.57779765],\n",
       "       [ 0.4724237 ,  0.56481856,  0.50634456,  0.5804894 ],\n",
       "       [ 0.5143916 ,  0.5126704 ,  0.52573204,  0.58262396],\n",
       "       [ 0.5701325 ,  0.4456535 ,  0.5375421 ,  0.5866413 ],\n",
       "       [ 0.6347984 ,  0.3733    ,  0.5454825 ,  0.59052503],\n",
       "       [ 0.7092718 ,  0.29679373,  0.54516697,  0.59220845],\n",
       "       [ 0.791942  ,  0.22448151,  0.53885204,  0.5870968 ],\n",
       "       [ 0.8649738 ,  0.1625552 ,  0.5299645 ,  0.58174795],\n",
       "       [ 0.9102372 ,  0.1255219 ,  0.5246105 ,  0.5754823 ],\n",
       "       [ 0.92478853,  0.11261217,  0.532944  ,  0.57089067],\n",
       "       [ 0.90405965,  0.12721679,  0.5554636 ,  0.5680346 ],\n",
       "       [ 0.85651803,  0.16420668,  0.5835907 ,  0.5659377 ],\n",
       "       [ 0.79875195,  0.20958225,  0.61038935,  0.5685948 ],\n",
       "       [ 0.7337905 ,  0.2656134 ,  0.6303697 ,  0.5723091 ],\n",
       "       [ 0.6731285 ,  0.32506955,  0.633919  ,  0.5724381 ],\n",
       "       [ 0.6227663 ,  0.38574892,  0.6219274 ,  0.5692074 ],\n",
       "       [ 0.5873094 ,  0.44157696,  0.59623617,  0.56376135],\n",
       "       [ 0.56317025,  0.49216583,  0.5577903 ,  0.55855125],\n",
       "       [ 0.5285711 ,  0.55141634,  0.5314514 ,  0.55604404],\n",
       "       [ 0.4885022 ,  0.60548013,  0.5038533 ,  0.5549736 ],\n",
       "       [ 0.4315682 ,  0.6676675 ,  0.49223307,  0.56282276],\n",
       "       [ 0.3761582 ,  0.714505  ,  0.48847786,  0.5740979 ]],\n",
       "      dtype=float32)"
      ]
     },
     "execution_count": 73,
     "metadata": {},
     "output_type": "execute_result"
    }
   ],
   "source": [
    "prediccion"
   ]
  },
  {
   "cell_type": "code",
   "execution_count": 74,
   "id": "8eff38fe",
   "metadata": {},
   "outputs": [],
   "source": [
    "#prediccion[0][1]"
   ]
  },
  {
   "cell_type": "code",
   "execution_count": 75,
   "id": "07629d83",
   "metadata": {},
   "outputs": [
    {
     "data": {
      "text/plain": [
       "'nw = list()\\nfor x in range(0,len(prediccion)):\\n    new_item = list()\\n    new_item.append(prediccion, [[0],[0]], axis=1)\\n    nw.append(new_item)\\nnw = np.array(nw)'"
      ]
     },
     "execution_count": 75,
     "metadata": {},
     "output_type": "execute_result"
    }
   ],
   "source": [
    "'''nw = list()\n",
    "for x in range(0,len(prediccion)):\n",
    "    new_item = list()\n",
    "    new_item.append(prediccion, [[0],[0]], axis=1)\n",
    "    nw.append(new_item)\n",
    "nw = np.array(nw)'''"
   ]
  },
  {
   "cell_type": "code",
   "execution_count": 76,
   "id": "3cb70ade",
   "metadata": {
    "scrolled": true
   },
   "outputs": [],
   "source": [
    "#nw"
   ]
  },
  {
   "cell_type": "code",
   "execution_count": 77,
   "id": "c0721a61",
   "metadata": {},
   "outputs": [
    {
     "data": {
      "text/plain": [
       "(52, 4)"
      ]
     },
     "execution_count": 77,
     "metadata": {},
     "output_type": "execute_result"
    }
   ],
   "source": [
    "prediccion = sc1.inverse_transform(prediccion)\n",
    "prediccion.shape"
   ]
  },
  {
   "cell_type": "code",
   "execution_count": 78,
   "id": "e7f62134",
   "metadata": {},
   "outputs": [
    {
     "data": {
      "text/plain": [
       "(52, 30, 4)"
      ]
     },
     "execution_count": 78,
     "metadata": {},
     "output_type": "execute_result"
    }
   ],
   "source": [
    "X_test.shape"
   ]
  },
  {
   "cell_type": "code",
   "execution_count": 79,
   "id": "cf57f46b",
   "metadata": {
    "scrolled": true
   },
   "outputs": [
    {
     "data": {
      "text/plain": [
       "array([[ 2.4521854e+00, -7.6631348e+01, -1.7473240e+00,  2.7201493e+00],\n",
       "       [ 2.4524031e+00, -7.6631714e+01, -1.7377372e+00,  2.9374692e+00],\n",
       "       [ 2.4524741e+00, -7.6631714e+01, -1.6900356e+00,  2.5555401e+00],\n",
       "       [ 2.4524078e+00, -7.6631401e+01, -1.5184015e+00,  1.9384080e+00],\n",
       "       [ 2.4522109e+00, -7.6630814e+01, -1.2237524e+00,  1.0704931e+00],\n",
       "       [ 2.4518902e+00, -7.6629890e+01, -8.5285962e-01,  4.8687134e-02],\n",
       "       [ 2.4514935e+00, -7.6628799e+01, -4.7544324e-01, -9.0192628e-01],\n",
       "       [ 2.4511168e+00, -7.6627769e+01, -2.5569984e-01, -1.6794088e+00],\n",
       "       [ 2.4507325e+00, -7.6626808e+01, -1.6563896e-02, -1.7528923e+00],\n",
       "       [ 2.4504306e+00, -7.6626053e+01, -6.3373394e-02, -1.6646906e+00],\n",
       "       [ 2.4501874e+00, -7.6625450e+01, -3.3807275e-01, -1.3344175e+00],\n",
       "       [ 2.4499049e+00, -7.6624733e+01, -6.4967698e-01, -4.3584752e-01],\n",
       "       [ 2.4496980e+00, -7.6624321e+01, -1.2659563e+00,  3.3946905e-01],\n",
       "       [ 2.4495182e+00, -7.6623993e+01, -1.5908356e+00,  1.6480566e+00],\n",
       "       [ 2.4493682e+00, -7.6623840e+01, -1.8633891e+00,  2.5658748e+00],\n",
       "       [ 2.4492288e+00, -7.6623734e+01, -1.8306999e+00,  3.5354609e+00],\n",
       "       [ 2.4491048e+00, -7.6623734e+01, -1.6844695e+00,  4.0165591e+00],\n",
       "       [ 2.4489191e+00, -7.6623680e+01, -1.4453112e+00,  4.1002655e+00],\n",
       "       [ 2.4487383e+00, -7.6623535e+01, -1.1220130e+00,  4.4396544e+00],\n",
       "       [ 2.4486361e+00, -7.6623505e+01, -9.1865319e-01,  4.0660791e+00],\n",
       "       [ 2.4486923e+00, -7.6623604e+01, -9.4229788e-01,  3.0826707e+00],\n",
       "       [ 2.4489226e+00, -7.6623833e+01, -1.2200366e+00,  1.5261899e+00],\n",
       "       [ 2.4492261e+00, -7.6624161e+01, -1.5938951e+00, -1.8014733e-01],\n",
       "       [ 2.4494569e+00, -7.6624420e+01, -1.8443693e+00, -1.3362217e+00],\n",
       "       [ 2.4495807e+00, -7.6624603e+01, -1.8966460e+00, -1.2063586e+00],\n",
       "       [ 2.4497194e+00, -7.6624870e+01, -1.9400570e+00, -8.7167162e-01],\n",
       "       [ 2.4498398e+00, -7.6625153e+01, -2.0215766e+00, -2.4625020e-01],\n",
       "       [ 2.4499214e+00, -7.6625359e+01, -2.0495028e+00,  3.2318342e-01],\n",
       "       [ 2.4499786e+00, -7.6625549e+01, -2.0666838e+00,  9.7171134e-01],\n",
       "       [ 2.4500251e+00, -7.6625748e+01, -2.0719843e+00,  1.5774281e+00],\n",
       "       [ 2.4500716e+00, -7.6625916e+01, -2.0248473e+00,  1.7178413e+00],\n",
       "       [ 2.4501700e+00, -7.6626213e+01, -1.8091936e+00,  1.9123044e+00],\n",
       "       [ 2.4503500e+00, -7.6626686e+01, -1.5671827e+00,  2.0665143e+00],\n",
       "       [ 2.4505897e+00, -7.6627312e+01, -1.4197595e+00,  2.3567450e+00],\n",
       "       [ 2.4508679e+00, -7.6627983e+01, -1.3206406e+00,  2.6373215e+00],\n",
       "       [ 2.4511878e+00, -7.6628693e+01, -1.3245795e+00,  2.7589386e+00],\n",
       "       [ 2.4515433e+00, -7.6629356e+01, -1.4034078e+00,  2.3896523e+00],\n",
       "       [ 2.4518571e+00, -7.6629936e+01, -1.5143495e+00,  2.0032277e+00],\n",
       "       [ 2.4520519e+00, -7.6630280e+01, -1.5811825e+00,  1.5505710e+00],\n",
       "       [ 2.4521143e+00, -7.6630402e+01, -1.4771566e+00,  1.2188510e+00],\n",
       "       [ 2.4520254e+00, -7.6630264e+01, -1.1960481e+00,  1.0125159e+00],\n",
       "       [ 2.4518209e+00, -7.6629921e+01, -8.4494233e-01,  8.6102748e-01],\n",
       "       [ 2.4515724e+00, -7.6629501e+01, -5.1041883e-01,  1.0529889e+00],\n",
       "       [ 2.4512932e+00, -7.6628975e+01, -2.6100704e-01,  1.3213232e+00],\n",
       "       [ 2.4510326e+00, -7.6628426e+01, -2.1670197e-01,  1.3306458e+00],\n",
       "       [ 2.4508162e+00, -7.6627869e+01, -3.6639145e-01,  1.0972426e+00],\n",
       "       [ 2.4506636e+00, -7.6627350e+01, -6.8709081e-01,  7.0379907e-01],\n",
       "       [ 2.4505599e+00, -7.6626877e+01, -1.1670047e+00,  3.2739908e-01],\n",
       "       [ 2.4504111e+00, -7.6626328e+01, -1.4957888e+00,  1.4626753e-01],\n",
       "       [ 2.4502389e+00, -7.6625832e+01, -1.8402913e+00,  6.8934388e-02],\n",
       "       [ 2.4499941e+00, -7.6625252e+01, -1.9853450e+00,  6.3599104e-01],\n",
       "       [ 2.4497559e+00, -7.6624817e+01, -2.0322208e+00,  1.4505533e+00]],\n",
       "      dtype=float32)"
      ]
     },
     "execution_count": 79,
     "metadata": {},
     "output_type": "execute_result"
    }
   ],
   "source": [
    "prediccion"
   ]
  },
  {
   "cell_type": "code",
   "execution_count": 80,
   "id": "300981c9",
   "metadata": {},
   "outputs": [],
   "source": [
    "calle_5 = pd.DataFrame(prediccion[:,0:2])"
   ]
  },
  {
   "cell_type": "code",
   "execution_count": 81,
   "id": "79cad69e",
   "metadata": {},
   "outputs": [],
   "source": [
    "calle_5.to_csv('calle_5.csv')"
   ]
  },
  {
   "cell_type": "code",
   "execution_count": 82,
   "id": "6d0c6540",
   "metadata": {},
   "outputs": [],
   "source": [
    "array_latitud_p = []\n",
    "for x in range(len(prediccion)):\n",
    "    array_latitud_p.append(prediccion[x,0])"
   ]
  },
  {
   "cell_type": "code",
   "execution_count": 83,
   "id": "57758417",
   "metadata": {},
   "outputs": [],
   "source": [
    "array_longitud_p = []\n",
    "for x in range(len(prediccion)):\n",
    "    array_longitud_p.append(prediccion[x,1])"
   ]
  },
  {
   "cell_type": "code",
   "execution_count": 84,
   "id": "8bcee8a2",
   "metadata": {
    "scrolled": true
   },
   "outputs": [],
   "source": [
    "#array_latitud_p"
   ]
  },
  {
   "cell_type": "code",
   "execution_count": 85,
   "id": "3149f8ca",
   "metadata": {
    "scrolled": true
   },
   "outputs": [],
   "source": [
    "#array_longitud_p"
   ]
  },
  {
   "cell_type": "code",
   "execution_count": 86,
   "id": "68509ccd",
   "metadata": {},
   "outputs": [],
   "source": [
    "# Funciones auxiliares\n",
    "def graficar_predicciones(real, prediccion,titulo):\n",
    "    plt.plot(real[time_step:len(array_latitud)], color='red', label='Valor real')\n",
    "    plt.plot(prediccion, color='blue', label='Predicción')\n",
    "   # plt.ylim(-44,-43)\n",
    "    plt.xlabel('Número de mediciones')\n",
    "    plt.ylabel('Grados')\n",
    "    plt.title(titulo)\n",
    "    plt.legend()\n",
    "    plt.show()"
   ]
  },
  {
   "cell_type": "code",
   "execution_count": 87,
   "id": "411a36c5",
   "metadata": {
    "scrolled": false
   },
   "outputs": [
    {
     "data": {
      "image/png": "[encoded data removed]",
      "text/plain": [
       "<Figure size 432x288 with 1 Axes>"
      ]
     },
     "metadata": {
      "needs_background": "light"
     },
     "output_type": "display_data"
    }
   ],
   "source": [
    "# Graficar resultados\n",
    "graficar_predicciones(array_latitud,array_latitud_p,'Test de Latitud')"
   ]
  },
  {
   "cell_type": "code",
   "execution_count": 88,
   "id": "87b775eb",
   "metadata": {},
   "outputs": [
    {
     "data": {
      "image/png": "[encoded data removed]",
      "text/plain": [
       "<Figure size 432x288 with 1 Axes>"
      ]
     },
     "metadata": {
      "needs_background": "light"
     },
     "output_type": "display_data"
    }
   ],
   "source": [
    "graficar_predicciones(array_longitud,array_longitud_p, 'Test de Longitud')"
   ]
  },
  {
   "cell_type": "code",
   "execution_count": 89,
   "id": "c9d10ea7",
   "metadata": {},
   "outputs": [],
   "source": [
    "from sklearn.metrics import mean_squared_error"
   ]
  },
  {
   "cell_type": "code",
   "execution_count": 90,
   "id": "c9a64654",
   "metadata": {},
   "outputs": [],
   "source": [
    "mse_lat = mean_squared_error(array_latitud[time_step:],array_latitud_p, squared=False)"
   ]
  },
  {
   "cell_type": "code",
   "execution_count": 91,
   "id": "cddd292b",
   "metadata": {},
   "outputs": [
    {
     "data": {
      "text/plain": [
       "0.00031331284472704206"
      ]
     },
     "execution_count": 91,
     "metadata": {},
     "output_type": "execute_result"
    }
   ],
   "source": [
    "mse_lat"
   ]
  },
  {
   "cell_type": "code",
   "execution_count": 92,
   "id": "d422ac43",
   "metadata": {},
   "outputs": [],
   "source": [
    "mse_lon = mean_squared_error(array_longitud[time_step:],array_longitud_p, squared=False)"
   ]
  },
  {
   "cell_type": "code",
   "execution_count": 93,
   "id": "0ba4e8af",
   "metadata": {},
   "outputs": [
    {
     "data": {
      "text/plain": [
       "0.0008227503381276345"
      ]
     },
     "execution_count": 93,
     "metadata": {},
     "output_type": "execute_result"
    }
   ],
   "source": [
    "mse_lon"
   ]
  },
  {
   "cell_type": "code",
   "execution_count": 94,
   "id": "df439d48",
   "metadata": {},
   "outputs": [
    {
     "data": {
      "text/plain": [
       "0.09792226949989737"
      ]
     },
     "execution_count": 94,
     "metadata": {},
     "output_type": "execute_result"
    }
   ],
   "source": [
    "haversine(0.00000,0.00000,mse_lat,mse_lon)"
   ]
  },
  {
   "cell_type": "code",
   "execution_count": 95,
   "id": "6fc0b68b",
   "metadata": {
    "scrolled": true
   },
   "outputs": [
    {
     "name": "stdout",
     "output_type": "stream",
     "text": [
      "1/1 [==============================] - 0s 19ms/step\n",
      "1/1 [==============================] - 0s 23ms/step\n",
      "1/1 [==============================] - 0s 17ms/step\n",
      "1/1 [==============================] - 0s 39ms/step\n",
      "1/1 [==============================] - 0s 32ms/step\n",
      "1/1 [==============================] - 0s 19ms/step\n",
      "1/1 [==============================] - 0s 24ms/step\n",
      "1/1 [==============================] - 0s 16ms/step\n",
      "1/1 [==============================] - 0s 39ms/step\n",
      "1/1 [==============================] - 0s 19ms/step\n",
      "1/1 [==============================] - 0s 21ms/step\n",
      "1/1 [==============================] - 0s 20ms/step\n",
      "1/1 [==============================] - 0s 38ms/step\n",
      "1/1 [==============================] - 0s 16ms/step\n",
      "1/1 [==============================] - 0s 15ms/step\n",
      "1/1 [==============================] - 0s 22ms/step\n",
      "1/1 [==============================] - 0s 27ms/step\n",
      "1/1 [==============================] - 0s 34ms/step\n",
      "1/1 [==============================] - 0s 18ms/step\n",
      "1/1 [==============================] - 0s 24ms/step\n",
      "1/1 [==============================] - 0s 26ms/step\n",
      "1/1 [==============================] - 0s 14ms/step\n",
      "1/1 [==============================] - 0s 15ms/step\n",
      "1/1 [==============================] - 0s 22ms/step\n",
      "1/1 [==============================] - 0s 17ms/step\n",
      "1/1 [==============================] - 0s 15ms/step\n",
      "1/1 [==============================] - 0s 32ms/step\n",
      "1/1 [==============================] - 0s 19ms/step\n",
      "1/1 [==============================] - 0s 20ms/step\n",
      "1/1 [==============================] - 0s 19ms/step\n",
      "1/1 [==============================] - 0s 31ms/step\n",
      "1/1 [==============================] - 0s 18ms/step\n",
      "1/1 [==============================] - 0s 16ms/step\n",
      "1/1 [==============================] - 0s 29ms/step\n",
      "1/1 [==============================] - 0s 19ms/step\n",
      "1/1 [==============================] - 0s 21ms/step\n",
      "1/1 [==============================] - 0s 28ms/step\n",
      "1/1 [==============================] - 0s 21ms/step\n",
      "1/1 [==============================] - 0s 22ms/step\n",
      "1/1 [==============================] - 0s 16ms/step\n",
      "1/1 [==============================] - 0s 33ms/step\n",
      "1/1 [==============================] - 0s 19ms/step\n",
      "1/1 [==============================] - 0s 24ms/step\n",
      "1/1 [==============================] - 0s 33ms/step\n",
      "1/1 [==============================] - 0s 21ms/step\n",
      "1/1 [==============================] - 0s 25ms/step\n",
      "1/1 [==============================] - 0s 21ms/step\n",
      "1/1 [==============================] - 0s 39ms/step\n",
      "1/1 [==============================] - 0s 38ms/step\n",
      "1/1 [==============================] - 0s 16ms/step\n",
      "1/1 [==============================] - 0s 15ms/step\n",
      "1/1 [==============================] - 0s 24ms/step\n"
     ]
    }
   ],
   "source": [
    "#Prediccion con los primeros datos del set de validacion\n",
    "# Using predicted values to predict next step\n",
    "X_pred = x_test_n.copy()\n",
    "for i in range(time_step,len(X_pred)):\n",
    "    xin = X_pred[i-time_step:i].reshape(1, time_step, 4)\n",
    "    X_pred[i] = modelo.predict(xin)"
   ]
  },
  {
   "cell_type": "code",
   "execution_count": 96,
   "id": "a963ccde",
   "metadata": {},
   "outputs": [
    {
     "data": {
      "text/plain": [
       "82"
      ]
     },
     "execution_count": 96,
     "metadata": {},
     "output_type": "execute_result"
    }
   ],
   "source": [
    "len(X_pred)"
   ]
  },
  {
   "cell_type": "code",
   "execution_count": 97,
   "id": "27acf4e2",
   "metadata": {
    "scrolled": true
   },
   "outputs": [
    {
     "data": {
      "text/plain": [
       "array([[ 8.77050134e-01,  1.09233809e-01,  1.70567924e-01,\n",
       "         6.16441232e-01],\n",
       "       [ 9.67639874e-01,  3.69546676e-02,  3.60706064e-01,\n",
       "         5.04226525e-01],\n",
       "       [ 9.66592998e-01,  1.03317607e-02,  3.80660022e-01,\n",
       "         5.93195245e-01],\n",
       "       [ 8.85122717e-01,  8.51803470e-02,  5.83269393e-01,\n",
       "         6.03338947e-01],\n",
       "       [ 8.28940328e-01,  1.35327712e-01,  4.36684581e-01,\n",
       "         5.81994908e-01],\n",
       "       [ 7.40839828e-01,  2.14192406e-01,  6.05142001e-01,\n",
       "         5.30431089e-01],\n",
       "       [ 6.60672328e-01,  2.82261112e-01,  3.41135849e-01,\n",
       "         5.30431089e-01],\n",
       "       [ 5.68081889e-01,  3.68758569e-01,  9.68150425e-01,\n",
       "         5.98689752e-01],\n",
       "       [ 5.27439805e-01,  4.54532696e-01,  6.51381440e-01,\n",
       "         4.91335569e-01],\n",
       "       [ 5.25159940e-01,  5.37910113e-01,  5.82118205e-01,\n",
       "         5.40152137e-01],\n",
       "       [ 4.80051181e-01,  6.25390005e-01,  1.00000000e+00,\n",
       "         6.17497868e-01],\n",
       "       [ 4.20658369e-01,  6.73486133e-01,  2.22563321e-01,\n",
       "         6.89771743e-01],\n",
       "       [ 3.36117250e-01,  7.36588684e-01,  6.05717591e-01,\n",
       "         4.69568877e-01],\n",
       "       [ 2.43922298e-01,  8.00975957e-01,  1.78242523e-01,\n",
       "         5.19230748e-01],\n",
       "       [ 1.44399209e-01,  8.78469561e-01,  5.61972391e-01,\n",
       "         5.49450531e-01],\n",
       "       [ 5.56938467e-02,  9.42144299e-01,  3.95433621e-01,\n",
       "         6.17286538e-01],\n",
       "       [ 6.04862161e-03,  9.97743638e-01,  5.63123579e-01,\n",
       "         1.00000000e+00],\n",
       "       [ 7.93067349e-02,  9.45113196e-01,  6.55410603e-01,\n",
       "         4.45266248e-01],\n",
       "       [ 1.50750262e-01,  8.83791983e-01,  6.05525727e-01,\n",
       "         6.23415025e-01],\n",
       "       [ 2.49389322e-01,  8.07248426e-01,  3.78549509e-01,\n",
       "         5.40786117e-01],\n",
       "       [ 3.10550192e-01,  7.63243979e-01,  5.00767481e-01,\n",
       "         5.62975466e-01],\n",
       "       [ 3.56868675e-01,  7.28243385e-01,  5.88641615e-01,\n",
       "         5.38461519e-01],\n",
       "       [ 4.43503548e-01,  6.62063977e-01,  4.48772069e-01,\n",
       "         5.21344020e-01],\n",
       "       [ 5.11457485e-01,  6.01574055e-01,  4.20184196e-01,\n",
       "         4.92603534e-01],\n",
       "       [ 5.32371758e-01,  5.22612197e-01,  3.67613201e-01,\n",
       "         5.15004209e-01],\n",
       "       [ 5.40770036e-01,  4.28514364e-01,  5.77321581e-01,\n",
       "         5.67835989e-01],\n",
       "       [ 6.11003839e-01,  3.37018364e-01,  3.64159637e-01,\n",
       "         5.75443766e-01],\n",
       "       [ 7.10922415e-01,  2.57343971e-01,  4.84650823e-01,\n",
       "         5.23457292e-01],\n",
       "       [ 7.93044085e-01,  1.84395479e-01,  7.27168085e-01,\n",
       "         5.26627201e-01],\n",
       "       [ 8.77096662e-01,  1.13087977e-01,  6.15310839e-01,\n",
       "         5.44801335e-01],\n",
       "       [ 9.41304207e-01,  9.91920382e-03,  5.11300921e-01,\n",
       "         5.91671467e-01],\n",
       "       [ 9.95131433e-01, -3.44744846e-02,  5.13777375e-01,\n",
       "         5.96583962e-01],\n",
       "       [ 1.01663756e+00, -4.31112722e-02,  5.20250082e-01,\n",
       "         5.94316185e-01],\n",
       "       [ 1.00337851e+00, -1.40515259e-02,  5.34507275e-01,\n",
       "         5.86492658e-01],\n",
       "       [ 9.57840323e-01,  4.76170033e-02,  5.60530961e-01,\n",
       "         5.75519860e-01],\n",
       "       [ 8.91194165e-01,  1.34055212e-01,  5.92874706e-01,\n",
       "         5.62461555e-01],\n",
       "       [ 8.09411049e-01,  2.36978427e-01,  6.28747821e-01,\n",
       "         5.51469862e-01],\n",
       "       [ 7.26862729e-01,  3.42184216e-01,  6.52075469e-01,\n",
       "         5.41914999e-01],\n",
       "       [ 6.38302863e-01,  4.47657138e-01,  6.76100433e-01,\n",
       "         5.40143073e-01],\n",
       "       [ 5.62634766e-01,  5.42073071e-01,  6.74536526e-01,\n",
       "         5.40629625e-01],\n",
       "       [ 4.97675270e-01,  6.25935018e-01,  6.51668310e-01,\n",
       "         5.44951260e-01],\n",
       "       [ 4.35586125e-01,  7.05608249e-01,  6.26357198e-01,\n",
       "         5.57061017e-01],\n",
       "       [ 3.77602518e-01,  7.72284865e-01,  5.72104931e-01,\n",
       "         5.70647180e-01],\n",
       "       [ 3.05124074e-01,  8.45506608e-01,  5.36683142e-01,\n",
       "         5.95444739e-01],\n",
       "       [ 2.13852718e-01,  9.15119052e-01,  5.05878866e-01,\n",
       "         6.22577369e-01],\n",
       "       [ 1.02244787e-01,  9.87490177e-01,  5.06725013e-01,\n",
       "         6.55058384e-01],\n",
       "       [ 5.34371007e-04,  1.03417623e+00,  5.32763600e-01,\n",
       "         6.75103664e-01],\n",
       "       [-2.23762952e-02,  1.02093363e+00,  5.71623147e-01,\n",
       "         6.62838519e-01],\n",
       "       [ 6.87232837e-02,  9.47210550e-01,  5.83678842e-01,\n",
       "         6.17969453e-01],\n",
       "       [ 1.89442709e-01,  8.61575007e-01,  5.64963162e-01,\n",
       "         5.70610464e-01],\n",
       "       [ 2.83018500e-01,  7.96648800e-01,  5.46168208e-01,\n",
       "         5.40755153e-01],\n",
       "       [ 3.47440481e-01,  7.48880982e-01,  5.33522189e-01,\n",
       "         5.28904676e-01],\n",
       "       [ 3.94083977e-01,  7.08641112e-01,  5.23091376e-01,\n",
       "         5.28107882e-01],\n",
       "       [ 4.29678798e-01,  6.71045244e-01,  5.14513910e-01,\n",
       "         5.31551898e-01],\n",
       "       [ 4.60419387e-01,  6.30518854e-01,  5.07103086e-01,\n",
       "         5.36322296e-01],\n",
       "       [ 4.91248220e-01,  5.83236277e-01,  5.03401935e-01,\n",
       "         5.39990723e-01],\n",
       "       [ 5.28964877e-01,  5.22680163e-01,  5.02874792e-01,\n",
       "         5.44066072e-01],\n",
       "       [ 5.76706171e-01,  4.51422364e-01,  5.12109101e-01,\n",
       "         5.46553135e-01],\n",
       "       [ 6.40416920e-01,  3.64869654e-01,  5.25030315e-01,\n",
       "         5.52456677e-01],\n",
       "       [ 7.21867502e-01,  2.64083952e-01,  5.35673261e-01,\n",
       "         5.64972997e-01],\n",
       "       [ 8.17326725e-01,  1.60280958e-01,  5.41461289e-01,\n",
       "         5.79427183e-01],\n",
       "       [ 9.15037155e-01,  6.56846464e-02,  5.38127482e-01,\n",
       "         5.91752231e-01],\n",
       "       [ 9.95035946e-01, -4.21421323e-03,  5.28044939e-01,\n",
       "         5.98364890e-01],\n",
       "       [ 1.03880048e+00, -3.53760757e-02,  5.20600557e-01,\n",
       "         5.97232878e-01],\n",
       "       [ 1.03825891e+00, -2.21225321e-02,  5.25260150e-01,\n",
       "         5.89928687e-01],\n",
       "       [ 9.96831179e-01,  3.18515077e-02,  5.46097517e-01,\n",
       "         5.79957962e-01],\n",
       "       [ 9.24888909e-01,  1.16499066e-01,  5.80149889e-01,\n",
       "         5.70428431e-01],\n",
       "       [ 8.35127950e-01,  2.18867362e-01,  6.19224668e-01,\n",
       "         5.63034236e-01],\n",
       "       [ 7.40203083e-01,  3.25984955e-01,  6.53028607e-01,\n",
       "         5.58166146e-01],\n",
       "       [ 6.50426149e-01,  4.27969515e-01,  6.72776759e-01,\n",
       "         5.55574298e-01],\n",
       "       [ 5.73046267e-01,  5.19315362e-01,  6.72710836e-01,\n",
       "         5.54816186e-01],\n",
       "       [ 5.10162652e-01,  5.99179685e-01,  6.52242720e-01,\n",
       "         5.56157172e-01],\n",
       "       [ 4.57860798e-01,  6.70157552e-01,  6.16611719e-01,\n",
       "         5.61011434e-01],\n",
       "       [ 4.07848686e-01,  7.35920906e-01,  5.73906720e-01,\n",
       "         5.71251392e-01],\n",
       "       [ 3.49165082e-01,  8.00669551e-01,  5.34376860e-01,\n",
       "         5.88365614e-01],\n",
       "       [ 2.72225916e-01,  8.67361307e-01,  5.06960988e-01,\n",
       "         6.12197757e-01],\n",
       "       [ 1.73233688e-01,  9.35737193e-01,  4.99705821e-01,\n",
       "         6.40137136e-01],\n",
       "       [ 6.53065145e-02,  9.95676160e-01,  5.17904878e-01,\n",
       "         6.64849162e-01],\n",
       "       [-3.82762309e-03,  1.01911545e+00,  5.55856764e-01,\n",
       "         6.70702875e-01],\n",
       "       [ 2.80553252e-02,  9.78088498e-01,  5.83003938e-01,\n",
       "         6.42108679e-01],\n",
       "       [ 1.36507526e-01,  8.98267269e-01,  5.74826181e-01,\n",
       "         5.94726145e-01],\n",
       "       [ 2.42099717e-01,  8.25762451e-01,  5.52070618e-01,\n",
       "         5.58519602e-01]])"
      ]
     },
     "execution_count": 97,
     "metadata": {},
     "output_type": "execute_result"
    }
   ],
   "source": [
    "X_pred"
   ]
  },
  {
   "cell_type": "code",
   "execution_count": 98,
   "id": "d8d04443",
   "metadata": {},
   "outputs": [
    {
     "data": {
      "text/plain": [
       "(1, 30, 4)"
      ]
     },
     "execution_count": 98,
     "metadata": {},
     "output_type": "execute_result"
    }
   ],
   "source": [
    "xin.shape"
   ]
  },
  {
   "cell_type": "code",
   "execution_count": 99,
   "id": "55382937",
   "metadata": {},
   "outputs": [],
   "source": [
    "prediccion2 = sc1.inverse_transform(X_pred)"
   ]
  },
  {
   "cell_type": "code",
   "execution_count": 100,
   "id": "17089771",
   "metadata": {},
   "outputs": [],
   "source": [
    "# Funciones auxiliares\n",
    "def graficar_predicciones2(real, prediccion,campo,title):\n",
    "    plt.plot(real[0:len(real)], color='red', label='Valor real')\n",
    "    plt.plot(prediccion, color='blue', label='Predicción')\n",
    "    #plt.ylim(-44,-43)\n",
    "    plt.title(title)\n",
    "    plt.xlabel('Numero de mediciones')\n",
    "    plt.ylabel(campo)\n",
    "    plt.legend()\n",
    "    plt.show()"
   ]
  },
  {
   "cell_type": "code",
   "execution_count": 101,
   "id": "ce0e461f",
   "metadata": {
    "scrolled": true
   },
   "outputs": [
    {
     "data": {
      "text/plain": [
       "array([[ 2.45190910e+00, -7.66304280e+01, -6.00064010e+00,\n",
       "         4.50961870e+00],\n",
       "       [ 2.45229850e+00, -7.66310975e+01, -3.62717580e+00,\n",
       "        -3.59725140e+00],\n",
       "       [ 2.45229400e+00, -7.66313441e+01, -3.37809370e+00,\n",
       "         2.83022920e+00],\n",
       "       [ 2.45194380e+00, -7.66306508e+01, -8.48953000e-01,\n",
       "         3.56305360e+00],\n",
       "       [ 2.45170230e+00, -7.66301863e+01, -2.67874800e+00,\n",
       "         2.02106900e+00],\n",
       "       [ 2.45132360e+00, -7.66294558e+01, -5.75920700e-01,\n",
       "        -1.70412170e+00],\n",
       "       [ 2.45097900e+00, -7.66288253e+01, -3.87146770e+00,\n",
       "        -1.70412170e+00],\n",
       "       [ 2.45058100e+00, -7.66280241e+01,  3.95545600e+00,\n",
       "         3.22717590e+00],\n",
       "       [ 2.45040630e+00, -7.66272296e+01,  1.27890000e-03,\n",
       "        -4.52854910e+00],\n",
       "       [ 2.45039650e+00, -7.66264573e+01, -8.63323100e-01,\n",
       "        -1.00183160e+00],\n",
       "       [ 2.45020260e+00, -7.66256470e+01,  4.35302920e+00,\n",
       "         4.58595460e+00],\n",
       "       [ 2.44994730e+00, -7.66252015e+01, -5.35158980e+00,\n",
       "         9.80732820e+00],\n",
       "       [ 2.44958390e+00, -7.66246170e+01, -5.68735700e-01,\n",
       "        -6.10106800e+00],\n",
       "       [ 2.44918760e+00, -7.66240206e+01, -5.90483930e+00,\n",
       "        -2.51328220e+00],\n",
       "       [ 2.44875980e+00, -7.66233028e+01, -1.11480010e+00,\n",
       "        -3.30075900e-01],\n",
       "       [ 2.44837850e+00, -7.66227130e+01, -3.19367720e+00,\n",
       "         4.57068720e+00],\n",
       "       [ 2.44816510e+00, -7.66221980e+01, -1.10043000e+00,\n",
       "         3.22195434e+01],\n",
       "       [ 2.44848000e+00, -7.66226855e+01,  5.15743000e-02,\n",
       "        -7.85679380e+00],\n",
       "       [ 2.44878710e+00, -7.66232535e+01, -5.71130700e-01,\n",
       "         5.01343530e+00],\n",
       "       [ 2.44921110e+00, -7.66239625e+01, -3.40443890e+00,\n",
       "        -9.56030200e-01],\n",
       "       [ 2.44947400e+00, -7.66243701e+01, -1.87881130e+00,\n",
       "         6.47023200e-01],\n",
       "       [ 2.44967310e+00, -7.66246943e+01, -7.81892400e-01,\n",
       "        -1.12396910e+00],\n",
       "       [ 2.45004550e+00, -7.66253073e+01, -2.52786180e+00,\n",
       "        -2.36061040e+00],\n",
       "       [ 2.45033760e+00, -7.66258676e+01, -2.88471970e+00,\n",
       "        -4.43694590e+00],\n",
       "       [ 2.45042750e+00, -7.66265990e+01, -3.54095510e+00,\n",
       "        -2.81862540e+00],\n",
       "       [ 2.45046360e+00, -7.66274706e+01, -9.23198600e-01,\n",
       "         9.98168200e-01],\n",
       "       [ 2.45076550e+00, -7.66283181e+01, -3.58406540e+00,\n",
       "         1.54778650e+00],\n",
       "       [ 2.45119500e+00, -7.66290561e+01, -2.07999300e+00,\n",
       "        -2.20793860e+00],\n",
       "       [ 2.45154800e+00, -7.66297318e+01,  9.47311600e-01,\n",
       "        -1.97893080e+00],\n",
       "       [ 2.45190930e+00, -7.66303923e+01, -4.48984700e-01,\n",
       "        -6.65953700e-01],\n",
       "       [ 2.45218530e+00, -7.66313479e+01, -1.74732404e+00,\n",
       "         2.72014497e+00],\n",
       "       [ 2.45241667e+00, -7.66317591e+01, -1.71641086e+00,\n",
       "         3.07504465e+00],\n",
       "       [ 2.45250912e+00, -7.66318391e+01, -1.63561308e+00,\n",
       "         2.91121068e+00],\n",
       "       [ 2.45245212e+00, -7.66315700e+01, -1.45764280e+00,\n",
       "         2.34600566e+00],\n",
       "       [ 2.45225638e+00, -7.66309987e+01, -1.13279325e+00,\n",
       "         1.55328384e+00],\n",
       "       [ 2.45196990e+00, -7.66301981e+01, -7.29051400e-01,\n",
       "         6.09896094e-01],\n",
       "       [ 2.45161835e+00, -7.66292447e+01, -2.81252983e-01,\n",
       "        -1.84190754e-01],\n",
       "       [ 2.45126352e+00, -7.66282703e+01,  9.94236215e-03,\n",
       "        -8.74474892e-01],\n",
       "       [ 2.45088284e+00, -7.66272933e+01,  3.09842177e-01,\n",
       "        -1.00248646e+00],\n",
       "       [ 2.45055759e+00, -7.66264187e+01,  2.90320177e-01,\n",
       "        -9.67335816e-01],\n",
       "       [ 2.45027836e+00, -7.66256420e+01,  4.85985670e-03,\n",
       "        -6.55122449e-01],\n",
       "       [ 2.45001147e+00, -7.66249040e+01, -3.11094753e-01,\n",
       "         2.19738115e-01],\n",
       "       [ 2.44976222e+00, -7.66242864e+01, -9.88317212e-01,\n",
       "         1.20126064e+00],\n",
       "       [ 2.44945068e+00, -7.66236081e+01, -1.43048179e+00,\n",
       "         2.99274227e+00],\n",
       "       [ 2.44905835e+00, -7.66229633e+01, -1.81500670e+00,\n",
       "         4.95291945e+00],\n",
       "       [ 2.44857860e+00, -7.66222930e+01, -1.80444437e+00,\n",
       "         7.29948678e+00],\n",
       "       [ 2.44814140e+00, -7.66218605e+01, -1.47940881e+00,\n",
       "         8.74764351e+00],\n",
       "       [ 2.44804292e+00, -7.66219832e+01, -9.94331250e-01,\n",
       "         7.86155696e+00],\n",
       "       [ 2.44843451e+00, -7.66226661e+01, -8.43841917e-01,\n",
       "         4.62002391e+00],\n",
       "       [ 2.44895342e+00, -7.66234593e+01, -1.07746678e+00,\n",
       "         1.19860808e+00],\n",
       "       [ 2.44935566e+00, -7.66240607e+01, -1.31208122e+00,\n",
       "        -9.58267181e-01],\n",
       "       [ 2.44963257e+00, -7.66245031e+01, -1.46993948e+00,\n",
       "        -1.81439624e+00],\n",
       "       [ 2.44983307e+00, -7.66248759e+01, -1.60014566e+00,\n",
       "        -1.87196010e+00],\n",
       "       [ 2.44998607e+00, -7.66252241e+01, -1.70721681e+00,\n",
       "        -1.62314967e+00],\n",
       "       [ 2.45011821e+00, -7.66255995e+01, -1.79972496e+00,\n",
       "        -1.27851572e+00],\n",
       "       [ 2.45025073e+00, -7.66260375e+01, -1.84592583e+00,\n",
       "        -1.01349284e+00],\n",
       "       [ 2.45041286e+00, -7.66265984e+01, -1.85250608e+00,\n",
       "        -7.19072256e-01],\n",
       "       [ 2.45061807e+00, -7.66272584e+01, -1.73723566e+00,\n",
       "        -5.39396165e-01],\n",
       "       [ 2.45089193e+00, -7.66280601e+01, -1.57594219e+00,\n",
       "        -1.12899057e-01],\n",
       "       [ 2.45124205e+00, -7.66289937e+01, -1.44308798e+00,\n",
       "         7.91333377e-01],\n",
       "       [ 2.45165238e+00, -7.66299552e+01, -1.37083694e+00,\n",
       "         1.83556555e+00],\n",
       "       [ 2.45207239e+00, -7.66308314e+01, -1.41245233e+00,\n",
       "         2.72597973e+00],\n",
       "       [ 2.45241626e+00, -7.66314788e+01, -1.53831112e+00,\n",
       "         3.20370644e+00],\n",
       "       [ 2.45260438e+00, -7.66317675e+01, -1.63123815e+00,\n",
       "         3.12192510e+00],\n",
       "       [ 2.45260206e+00, -7.66316447e+01, -1.57307319e+00,\n",
       "         2.59423908e+00],\n",
       "       [ 2.45242398e+00, -7.66311448e+01, -1.31296364e+00,\n",
       "         1.87391132e+00],\n",
       "       [ 2.45211473e+00, -7.66303607e+01, -8.87893273e-01,\n",
       "         1.18545727e+00],\n",
       "       [ 2.45172890e+00, -7.66294125e+01, -4.00128998e-01,\n",
       "         6.51269048e-01],\n",
       "       [ 2.45132086e+00, -7.66284203e+01,  2.18402314e-02,\n",
       "         2.99577409e-01],\n",
       "       [ 2.45093496e+00, -7.66274756e+01,  2.68353278e-01,\n",
       "         1.12331205e-01],\n",
       "       [ 2.45060234e+00, -7.66266295e+01,  2.67530375e-01,\n",
       "         5.75619919e-02],\n",
       "       [ 2.45033203e+00, -7.66258898e+01,  1.20301253e-02,\n",
       "         1.54440501e-01],\n",
       "       [ 2.45010721e+00, -7.66252323e+01, -4.32746020e-01,\n",
       "         5.05133126e-01],\n",
       "       [ 2.44989224e+00, -7.66246232e+01, -9.65825768e-01,\n",
       "         1.24491151e+00],\n",
       "       [ 2.44963999e+00, -7.66240234e+01, -1.45927075e+00,\n",
       "         2.48131606e+00],\n",
       "       [ 2.44930926e+00, -7.66234057e+01, -1.80149874e+00,\n",
       "         4.20305188e+00],\n",
       "       [ 2.44888375e+00, -7.66227723e+01, -1.89206384e+00,\n",
       "         6.22151205e+00],\n",
       "       [ 2.44841982e+00, -7.66222172e+01, -1.66488790e+00,\n",
       "         8.00681444e+00],\n",
       "       [ 2.44812265e+00, -7.66220000e+01, -1.19114050e+00,\n",
       "         8.42971165e+00],\n",
       "       [ 2.44825970e+00, -7.66223801e+01, -8.52266629e-01,\n",
       "         6.36394473e+00],\n",
       "       [ 2.44872588e+00, -7.66231194e+01, -9.54348278e-01,\n",
       "         2.94082799e+00],\n",
       "       [ 2.44917977e+00, -7.66237910e+01, -1.23840237e+00,\n",
       "         3.25112548e-01]])"
      ]
     },
     "execution_count": 101,
     "metadata": {},
     "output_type": "execute_result"
    }
   ],
   "source": [
    "prediccion2"
   ]
  },
  {
   "cell_type": "code",
   "execution_count": 102,
   "id": "23bc33ae",
   "metadata": {
    "scrolled": true
   },
   "outputs": [
    {
     "data": {
      "image/png": "[encoded data removed]",
      "text/plain": [
       "<Figure size 432x288 with 1 Axes>"
      ]
     },
     "metadata": {
      "needs_background": "light"
     },
     "output_type": "display_data"
    }
   ],
   "source": [
    "# Graficar resultados de prediccion de valores futuros\n",
    "graficar_predicciones2(array_latitud,prediccion2[:,0:1],'Grados','Predicción latitud')"
   ]
  },
  {
   "cell_type": "code",
   "execution_count": 103,
   "id": "44de685e",
   "metadata": {
    "scrolled": false
   },
   "outputs": [
    {
     "data": {
      "image/png": "[encoded data removed]",
      "text/plain": [
       "<Figure size 432x288 with 1 Axes>"
      ]
     },
     "metadata": {
      "needs_background": "light"
     },
     "output_type": "display_data"
    }
   ],
   "source": [
    "graficar_predicciones2(array_longitud,prediccion2[:,1:2],'Grados','Prediccion longitud')"
   ]
  },
  {
   "cell_type": "code",
   "execution_count": 104,
   "id": "cea6b13c",
   "metadata": {},
   "outputs": [],
   "source": [
    "mse_lat_p = mean_squared_error(array_latitud[time_step:],prediccion2[time_step:,0:1], squared=False)"
   ]
  },
  {
   "cell_type": "code",
   "execution_count": 105,
   "id": "1d0c7ad9",
   "metadata": {},
   "outputs": [
    {
     "data": {
      "text/plain": [
       "0.0011570831751583112"
      ]
     },
     "execution_count": 105,
     "metadata": {},
     "output_type": "execute_result"
    }
   ],
   "source": [
    "mse_lat_p"
   ]
  },
  {
   "cell_type": "code",
   "execution_count": 106,
   "id": "7f1446a9",
   "metadata": {},
   "outputs": [],
   "source": [
    "mse_lon_p = mean_squared_error(array_longitud[time_step:],prediccion2[time_step:,1:2], squared=False)"
   ]
  },
  {
   "cell_type": "code",
   "execution_count": 107,
   "id": "35daca51",
   "metadata": {},
   "outputs": [
    {
     "data": {
      "text/plain": [
       "0.0030211458591109324"
      ]
     },
     "execution_count": 107,
     "metadata": {},
     "output_type": "execute_result"
    }
   ],
   "source": [
    "mse_lon_p"
   ]
  },
  {
   "cell_type": "code",
   "execution_count": 108,
   "id": "ec7d37a5",
   "metadata": {},
   "outputs": [
    {
     "data": {
      "text/plain": [
       "0.3598331010673677"
      ]
     },
     "execution_count": 108,
     "metadata": {},
     "output_type": "execute_result"
    }
   ],
   "source": [
    "haversine(0.00000,0.00000,mse_lat_p,mse_lon_p)"
   ]
  },
  {
   "cell_type": "code",
   "execution_count": 109,
   "id": "3bd55214",
   "metadata": {},
   "outputs": [],
   "source": [
    "calle_5_p = pd.DataFrame(prediccion2[:,0:2])"
   ]
  },
  {
   "cell_type": "code",
   "execution_count": 110,
   "id": "ceca951c",
   "metadata": {},
   "outputs": [],
   "source": [
    "calle_5_p.to_csv('calle_5_p.csv')"
   ]
  },
  {
   "cell_type": "code",
   "execution_count": 111,
   "id": "c002037b",
   "metadata": {},
   "outputs": [
    {
     "ename": "AttributeError",
     "evalue": "'Series' object has no attribute 'time'",
     "output_type": "error",
     "traceback": [
      "\u001b[1;31m---------------------------------------------------------------------------\u001b[0m",
      "\u001b[1;31mAttributeError\u001b[0m                            Traceback (most recent call last)",
      "Input \u001b[1;32mIn [111]\u001b[0m, in \u001b[0;36m<cell line: 1>\u001b[1;34m()\u001b[0m\n\u001b[1;32m----> 1\u001b[0m fin \u001b[38;5;241m=\u001b[39m \u001b[43mtime\u001b[49m\u001b[38;5;241;43m.\u001b[39;49m\u001b[43mtime\u001b[49m()\n",
      "File \u001b[1;32m~\\anaconda3\\lib\\site-packages\\pandas\\core\\generic.py:5575\u001b[0m, in \u001b[0;36mNDFrame.__getattr__\u001b[1;34m(self, name)\u001b[0m\n\u001b[0;32m   5568\u001b[0m \u001b[38;5;28;01mif\u001b[39;00m (\n\u001b[0;32m   5569\u001b[0m     name \u001b[38;5;129;01mnot\u001b[39;00m \u001b[38;5;129;01min\u001b[39;00m \u001b[38;5;28mself\u001b[39m\u001b[38;5;241m.\u001b[39m_internal_names_set\n\u001b[0;32m   5570\u001b[0m     \u001b[38;5;129;01mand\u001b[39;00m name \u001b[38;5;129;01mnot\u001b[39;00m \u001b[38;5;129;01min\u001b[39;00m \u001b[38;5;28mself\u001b[39m\u001b[38;5;241m.\u001b[39m_metadata\n\u001b[0;32m   5571\u001b[0m     \u001b[38;5;129;01mand\u001b[39;00m name \u001b[38;5;129;01mnot\u001b[39;00m \u001b[38;5;129;01min\u001b[39;00m \u001b[38;5;28mself\u001b[39m\u001b[38;5;241m.\u001b[39m_accessors\n\u001b[0;32m   5572\u001b[0m     \u001b[38;5;129;01mand\u001b[39;00m \u001b[38;5;28mself\u001b[39m\u001b[38;5;241m.\u001b[39m_info_axis\u001b[38;5;241m.\u001b[39m_can_hold_identifiers_and_holds_name(name)\n\u001b[0;32m   5573\u001b[0m ):\n\u001b[0;32m   5574\u001b[0m     \u001b[38;5;28;01mreturn\u001b[39;00m \u001b[38;5;28mself\u001b[39m[name]\n\u001b[1;32m-> 5575\u001b[0m \u001b[38;5;28;01mreturn\u001b[39;00m \u001b[38;5;28;43mobject\u001b[39;49m\u001b[38;5;241;43m.\u001b[39;49m\u001b[38;5;21;43m__getattribute__\u001b[39;49m\u001b[43m(\u001b[49m\u001b[38;5;28;43mself\u001b[39;49m\u001b[43m,\u001b[49m\u001b[43m \u001b[49m\u001b[43mname\u001b[49m\u001b[43m)\u001b[49m\n",
      "\u001b[1;31mAttributeError\u001b[0m: 'Series' object has no attribute 'time'"
     ]
    }
   ],
   "source": [
    "fin = time.time()"
   ]
  },
  {
   "cell_type": "code",
   "execution_count": null,
   "id": "92705943",
   "metadata": {},
   "outputs": [],
   "source": [
    "print(fin-inicio)"
   ]
  },
  {
   "cell_type": "code",
   "execution_count": null,
   "id": "b40b50b5",
   "metadata": {},
   "outputs": [],
   "source": [
    "distancia_entrenamiento = []\n",
    "distancia_entrenamiento.append(0)\n",
    "for i in range(0, len(set_entrenamiento)-1):\n",
    "    distancia_entrenamiento.append(haversine(set_entrenamiento.iat[i,4],set_entrenamiento.iat[i,5],set_entrenamiento.iat[i+1,4],set_entrenamiento.iat[i+1,5]))"
   ]
  },
  {
   "cell_type": "code",
   "execution_count": null,
   "id": "33722b67",
   "metadata": {},
   "outputs": [],
   "source": [
    "d_d_e = pd.DataFrame(distancia_entrenamiento, columns=['distancia'])\n",
    "d_d_e"
   ]
  },
  {
   "cell_type": "code",
   "execution_count": null,
   "id": "955b7a83",
   "metadata": {},
   "outputs": [],
   "source": [
    "len(distancia_entrenamiento)"
   ]
  },
  {
   "cell_type": "code",
   "execution_count": null,
   "id": "229af86c",
   "metadata": {},
   "outputs": [],
   "source": [
    "distancia_validacion = []\n",
    "distancia_validacion.append(0)\n",
    "for i in range(0, len(set_validacion)-1):\n",
    "    distancia_validacion.append(haversine(set_validacion.iat[i,4],set_validacion.iat[i,5],set_validacion.iat[i+1,4],set_validacion.iat[i+1,5]))"
   ]
  },
  {
   "cell_type": "code",
   "execution_count": null,
   "id": "f8c9f97c",
   "metadata": {},
   "outputs": [],
   "source": [
    "d_d_v = pd.DataFrame(distancia_validacion, columns=['distancia'])\n",
    "d_d_v"
   ]
  },
  {
   "cell_type": "code",
   "execution_count": null,
   "id": "b7d79a65",
   "metadata": {},
   "outputs": [],
   "source": [
    "time_entrenamiento = set_entrenamiento['hour']\n",
    "time_entrenamiento.head(10)"
   ]
  },
  {
   "cell_type": "code",
   "execution_count": null,
   "id": "93f43abe",
   "metadata": {
    "scrolled": true
   },
   "outputs": [],
   "source": [
    "time_validacion = set_validacion['hour']\n",
    "time_validacion"
   ]
  },
  {
   "cell_type": "code",
   "execution_count": null,
   "id": "fce6d3fe",
   "metadata": {},
   "outputs": [],
   "source": [
    "data = pd.read_csv('LoRaWAN_messages_calle_5.csv')"
   ]
  },
  {
   "cell_type": "code",
   "execution_count": null,
   "id": "dafc75e2",
   "metadata": {
    "scrolled": true
   },
   "outputs": [],
   "source": [
    "data"
   ]
  },
  {
   "cell_type": "code",
   "execution_count": null,
   "id": "63818987",
   "metadata": {},
   "outputs": [],
   "source": [
    "#data.drop(['hour'], axis=1, inplace=True)"
   ]
  },
  {
   "cell_type": "code",
   "execution_count": null,
   "id": "e1cdf30e",
   "metadata": {},
   "outputs": [],
   "source": [
    "import random\n",
    "xi=[random.randint(9,14) for p in range (0,309)]\n",
    "len(xi)"
   ]
  },
  {
   "cell_type": "code",
   "execution_count": null,
   "id": "be839219",
   "metadata": {},
   "outputs": [],
   "source": [
    "xi[0]"
   ]
  },
  {
   "cell_type": "code",
   "execution_count": null,
   "id": "80ed3790",
   "metadata": {},
   "outputs": [],
   "source": [
    "hora = time_validacion[9:10,]\n",
    "hora"
   ]
  },
  {
   "cell_type": "code",
   "execution_count": null,
   "id": "bc56dfce",
   "metadata": {},
   "outputs": [],
   "source": [
    "hora = time_validacion[9:10,]\n",
    "hora2 = []*400\n",
    "for i in range(0,len(xi)):\n",
    "    h = (hora + timedelta(seconds=xi[i]))\n",
    "    hora2.append(h)\n",
    "    hora = hora2[i]"
   ]
  },
  {
   "cell_type": "code",
   "execution_count": null,
   "id": "f19a125d",
   "metadata": {},
   "outputs": [],
   "source": [
    "hora2"
   ]
  },
  {
   "cell_type": "code",
   "execution_count": null,
   "id": "5fbc8280",
   "metadata": {},
   "outputs": [],
   "source": [
    "hora3 = pd.DataFrame(hora2)"
   ]
  },
  {
   "cell_type": "code",
   "execution_count": null,
   "id": "c3215046",
   "metadata": {},
   "outputs": [],
   "source": [
    "hora3"
   ]
  },
  {
   "cell_type": "code",
   "execution_count": null,
   "id": "4480bb62",
   "metadata": {},
   "outputs": [],
   "source": [
    "data['hour'] = hora2"
   ]
  },
  {
   "cell_type": "code",
   "execution_count": null,
   "id": "869111be",
   "metadata": {},
   "outputs": [],
   "source": [
    "data.to_csv('dcalle5.csv')"
   ]
  },
  {
   "cell_type": "code",
   "execution_count": null,
   "id": "f93cc701",
   "metadata": {
    "scrolled": true
   },
   "outputs": [],
   "source": [
    "#Calcula la diferencia de tiempo entre puntos de ubicacion\n",
    "medida_de_tiempo_entrenamiento = []\n",
    "for i in range(0,len(time_entrenamiento)-1):\n",
    "    medida_de_tiempo_entrenamiento.append(time_entrenamiento[i+1]-time_entrenamiento[i])\n",
    "medida_de_tiempo_entrenamiento"
   ]
  },
  {
   "cell_type": "code",
   "execution_count": null,
   "id": "0c5d8f86",
   "metadata": {},
   "outputs": [],
   "source": [
    "min(medida_de_tiempo_entrenamiento)"
   ]
  },
  {
   "cell_type": "code",
   "execution_count": null,
   "id": "c00bbfb7",
   "metadata": {},
   "outputs": [],
   "source": [
    "h = datetime.now()\n",
    "h.hour"
   ]
  },
  {
   "cell_type": "code",
   "execution_count": null,
   "id": "213c700d",
   "metadata": {},
   "outputs": [],
   "source": [
    "h"
   ]
  },
  {
   "cell_type": "code",
   "execution_count": null,
   "id": "2e0fa945",
   "metadata": {},
   "outputs": [],
   "source": [
    "h.minute"
   ]
  },
  {
   "cell_type": "code",
   "execution_count": null,
   "id": "09d30ef9",
   "metadata": {},
   "outputs": [],
   "source": [
    "\n",
    "t = timedelta(\n",
    "    days=0,\n",
    "    seconds=h.second,\n",
    "    microseconds=0,\n",
    "    milliseconds=0,\n",
    "    minutes=h.minute,\n",
    "    hours=h.hour,\n",
    "    weeks=0 )"
   ]
  },
  {
   "cell_type": "code",
   "execution_count": null,
   "id": "8b548fba",
   "metadata": {},
   "outputs": [],
   "source": [
    "t"
   ]
  },
  {
   "cell_type": "code",
   "execution_count": null,
   "id": "a40a5c78",
   "metadata": {
    "scrolled": true
   },
   "outputs": [],
   "source": [
    "#Calcula la diferencia de tiempo entre puntos de ubicacion\n",
    "medida_de_tiempo_validacion = []\n",
    "for i in range(0,len(time_validacion)-1):\n",
    "    medida_de_tiempo_validacion.append(time_validacion[i+1]-time_validacion[i])\n",
    "medida_de_tiempo_validacion"
   ]
  },
  {
   "cell_type": "code",
   "execution_count": null,
   "id": "422dbbf8",
   "metadata": {},
   "outputs": [],
   "source": [
    "len(medida_de_tiempo_validacion)"
   ]
  },
  {
   "cell_type": "code",
   "execution_count": null,
   "id": "ce3c9925",
   "metadata": {},
   "outputs": [],
   "source": [
    "#Creamos un objeto deltatime de valor 1 segundo\n",
    "#Al dividir deltatime / deltatime se obtiene un valor de tipo float\n",
    "#Al dividir sobre un segundo se obtiene un valor de tiempo en segundos\n",
    "delta = timedelta(\n",
    "    days=0,\n",
    "    seconds=1,\n",
    "    microseconds=0,\n",
    "    milliseconds=0,\n",
    "    minutes=0,\n",
    "    hours=0,\n",
    "    weeks=0 )"
   ]
  },
  {
   "cell_type": "code",
   "execution_count": null,
   "id": "cb9acd41",
   "metadata": {
    "scrolled": true
   },
   "outputs": [],
   "source": [
    "duracion_entrenamiento = []\n",
    "duracion_entrenamiento.append(10)\n",
    "for i in range(0,len(medida_de_tiempo_entrenamiento)):\n",
    "    duracion_entrenamiento.append(medida_de_tiempo_entrenamiento[i]/delta)\n",
    "duracion_entrenamiento"
   ]
  },
  {
   "cell_type": "code",
   "execution_count": null,
   "id": "9608d3a7",
   "metadata": {},
   "outputs": [],
   "source": [
    "#index = duracion_entrenamiento.index(1)\n",
    "#index"
   ]
  },
  {
   "cell_type": "code",
   "execution_count": null,
   "id": "71de7aab",
   "metadata": {},
   "outputs": [],
   "source": []
  },
  {
   "cell_type": "code",
   "execution_count": null,
   "id": "117fae91",
   "metadata": {},
   "outputs": [],
   "source": [
    "len(duracion_entrenamiento)"
   ]
  },
  {
   "cell_type": "code",
   "execution_count": null,
   "id": "84de0a08",
   "metadata": {},
   "outputs": [],
   "source": [
    "n_e= np.column_stack((duracion_entrenamiento,distancia_entrenamiento))"
   ]
  },
  {
   "cell_type": "code",
   "execution_count": null,
   "id": "3ca40974",
   "metadata": {},
   "outputs": [],
   "source": [
    "n_e"
   ]
  },
  {
   "cell_type": "code",
   "execution_count": null,
   "id": "388ca5b1",
   "metadata": {
    "scrolled": true
   },
   "outputs": [],
   "source": [
    "duracion_validacion = []\n",
    "duracion_validacion.append(10)\n",
    "for i in range(0,len(medida_de_tiempo_validacion)):\n",
    "    duracion_validacion.append(medida_de_tiempo_validacion[i]/delta)\n",
    "duracion_validacion"
   ]
  },
  {
   "cell_type": "code",
   "execution_count": null,
   "id": "2ebcf726",
   "metadata": {},
   "outputs": [],
   "source": [
    "#index = duracion_validacion.index(20)\n",
    "#len(duracion_validacion)-index-309+5"
   ]
  },
  {
   "cell_type": "code",
   "execution_count": null,
   "id": "97abd22b",
   "metadata": {},
   "outputs": [],
   "source": [
    "n_v= np.column_stack((duracion_validacion,distancia_validacion))"
   ]
  },
  {
   "cell_type": "code",
   "execution_count": null,
   "id": "16536144",
   "metadata": {
    "scrolled": true
   },
   "outputs": [],
   "source": [
    "n_v"
   ]
  },
  {
   "cell_type": "code",
   "execution_count": null,
   "id": "a5f42b6a",
   "metadata": {},
   "outputs": [],
   "source": [
    "duracion_data_entrenamiento = pd.DataFrame(duracion_entrenamiento, columns=['duracion'])\n",
    "duracion_data_entrenamiento"
   ]
  },
  {
   "cell_type": "code",
   "execution_count": null,
   "id": "b55d74f7",
   "metadata": {},
   "outputs": [],
   "source": [
    "duracion_data_validacion = pd.DataFrame(duracion_validacion, columns=['duracion'])\n",
    "duracion_data_validacion"
   ]
  },
  {
   "cell_type": "code",
   "execution_count": null,
   "id": "d626c80d",
   "metadata": {},
   "outputs": [],
   "source": [
    "#normalizamos\n",
    "sc = MinMaxScaler(feature_range=(0,1))\n",
    "time_entrenamiento_escalado = sc.fit_transform(n_e)"
   ]
  },
  {
   "cell_type": "code",
   "execution_count": null,
   "id": "edaa9e53",
   "metadata": {},
   "outputs": [],
   "source": [
    "#normalizamos\n",
    "#sc2 = MinMaxScaler(feature_range=(0,1))\n",
    "#time_validacion_escalado = sc2.transform(duracion_data_validacion)"
   ]
  },
  {
   "cell_type": "code",
   "execution_count": null,
   "id": "c43432fe",
   "metadata": {},
   "outputs": [],
   "source": [
    "# La red LSTM tendrá como entrada \"time_step\" datos consecutivos, y como salida 1 dato (la predicción a\n",
    "# partir de esos \"time_step\" datos). Se conformará de esta forma el set de entrenamiento\n",
    "time_step_t = 30\n",
    "X_train_duracion = []\n",
    "Y_train_duracion = []\n",
    "n = len(n_e)"
   ]
  },
  {
   "cell_type": "code",
   "execution_count": null,
   "id": "6f61748a",
   "metadata": {},
   "outputs": [],
   "source": [
    "for i in range(time_step,n):\n",
    "    # X: bloques de \"time_step\" datos: 0-time_step, 1-time_step+1, 2-time_step+2, etc\n",
    "    X_train_duracion.append(time_entrenamiento_escalado[i-time_step:i,0:2])\n",
    "    # Y: el siguiente dato\n",
    "    Y_train_duracion.append(time_entrenamiento_escalado[i,0:2])"
   ]
  },
  {
   "cell_type": "code",
   "execution_count": null,
   "id": "0e3cec16",
   "metadata": {},
   "outputs": [],
   "source": [
    "X_train_duracion, Y_train_duracion = np.array(X_train_duracion), np.array(Y_train_duracion)"
   ]
  },
  {
   "cell_type": "code",
   "execution_count": null,
   "id": "ba4aa256",
   "metadata": {},
   "outputs": [],
   "source": [
    "# Reshape X_train para que se ajuste al modelo en Keras\n",
    "X_train_duracion = np.reshape(X_train_duracion, (X_train_duracion.shape[0], X_train_duracion.shape[1], 2))"
   ]
  },
  {
   "cell_type": "code",
   "execution_count": null,
   "id": "49d43976",
   "metadata": {},
   "outputs": [],
   "source": [
    "# Red LSTM\n",
    "#Para crear la red debemos primero definir el tamaño de los datos de entrada y del dato de salida,\n",
    "#así como el número total de neuronas (50):\n",
    "dim_entrada_duracion = (X_train_duracion.shape[1],2)\n",
    "dim_salida_duracion = 2\n",
    "na_duracion = 100"
   ]
  },
  {
   "cell_type": "code",
   "execution_count": null,
   "id": "99f669f3",
   "metadata": {},
   "outputs": [],
   "source": [
    "#Cear un contenedor usando el módulo Sequential:\n",
    "modelo_duracion = Sequential()\n",
    "#añadimos el modelo\n",
    "modelo_duracion.add(LSTM(units=na_duracion, return_sequences=True, input_shape=dim_entrada_duracion))\n",
    "#agregamos una capa lSTM\n",
    "modelo_duracion.add(LSTM(units=na_duracion))\n",
    "#evitamos el sobreentrtenamiento con dropout\n",
    "modelo_duracion.add(Dropout(0.2))\n",
    "#Dense para la capa de salida\n",
    "modelo_duracion.add(Dense(units=dim_salida_duracion))"
   ]
  },
  {
   "cell_type": "code",
   "execution_count": null,
   "id": "9b59d996",
   "metadata": {},
   "outputs": [],
   "source": [
    "#definimos funcion de error y el método para minimizar\n",
    "modelo_duracion.compile(optimizer='rmsprop', loss='mse')"
   ]
  },
  {
   "cell_type": "code",
   "execution_count": null,
   "id": "31b4e2c0",
   "metadata": {
    "scrolled": true
   },
   "outputs": [],
   "source": [
    "#implementamos el modelo con 20 iteraciones, epochs\n",
    "#Presentando a la res lstm lotess de 32 datos\n",
    "modelo_duracion.fit(X_train_duracion,Y_train_duracion,epochs=100,batch_size=32)"
   ]
  },
  {
   "cell_type": "code",
   "execution_count": null,
   "id": "a8068e53",
   "metadata": {
    "scrolled": true
   },
   "outputs": [],
   "source": [
    "x_test = duracion_data_validacion.values\n",
    "x_test"
   ]
  },
  {
   "cell_type": "code",
   "execution_count": null,
   "id": "f83b4c99",
   "metadata": {
    "scrolled": true
   },
   "outputs": [],
   "source": [
    "x_test = sc.transform(n_v)\n",
    "x_test"
   ]
  },
  {
   "cell_type": "code",
   "execution_count": null,
   "id": "2220ba92",
   "metadata": {},
   "outputs": [],
   "source": [
    "#Obtenemos bloques de 60 datos\n",
    "X_test = []\n",
    "for i in range(time_step,len(x_test)):\n",
    "    X_test.append(x_test[i-time_step:i,0:2])"
   ]
  },
  {
   "cell_type": "code",
   "execution_count": null,
   "id": "050437b7",
   "metadata": {},
   "outputs": [],
   "source": [
    "X_test = np.array(X_test)\n",
    "X_test.shape"
   ]
  },
  {
   "cell_type": "code",
   "execution_count": null,
   "id": "953ad343",
   "metadata": {},
   "outputs": [],
   "source": [
    "X_test = np.reshape(X_test, (X_test.shape[0],X_test.shape[1],2))"
   ]
  },
  {
   "cell_type": "code",
   "execution_count": null,
   "id": "a61f3abd",
   "metadata": {},
   "outputs": [],
   "source": [
    "#Predecimos y normalizamos\n",
    "prediccion_tiempo = modelo_duracion.predict(X_test)\n",
    "prediccion_tiempo = sc.inverse_transform(prediccion_tiempo)\n",
    "prediccion_tiempo.shape"
   ]
  },
  {
   "cell_type": "code",
   "execution_count": null,
   "id": "67f74346",
   "metadata": {
    "scrolled": true
   },
   "outputs": [],
   "source": [
    "prediccion_tiempo"
   ]
  },
  {
   "cell_type": "code",
   "execution_count": null,
   "id": "4f5c9876",
   "metadata": {},
   "outputs": [],
   "source": [
    "# Funciones auxiliares\n",
    "def graficar_predicciones3(real, prediccion,campo):\n",
    "    plt.plot(real[0:len(prediccion)], 'o',   color='red', label='Valor real')\n",
    "    plt.plot(prediccion,'o', color='blue', label='Predicción')\n",
    "    #plt.ylim(9,15)\n",
    "    #plt.xlim(40,50)\n",
    "    plt.xlabel('Número de mediciones')\n",
    "    plt.ylabel(campo)\n",
    "    plt.title('Predicción de tiempo entre mediciones')\n",
    "    plt.legend()\n",
    "    plt.show()"
   ]
  },
  {
   "cell_type": "code",
   "execution_count": null,
   "id": "7d1b6019",
   "metadata": {},
   "outputs": [],
   "source": [
    "# Graficar resultados\n",
    "graficar_predicciones3(n_v[:,0:1],prediccion_tiempo[:,0:1],'segundos')"
   ]
  },
  {
   "cell_type": "code",
   "execution_count": null,
   "id": "e8beff6e",
   "metadata": {},
   "outputs": [],
   "source": [
    "n_v_t = sc.transform(n_v)"
   ]
  },
  {
   "cell_type": "code",
   "execution_count": null,
   "id": "322a5726",
   "metadata": {
    "scrolled": true
   },
   "outputs": [],
   "source": [
    "#Prediccion con los primeros datos del set de validacion\n",
    "# Using predicted values to predict next step\n",
    "X_pred_t = n_v_t.copy()\n",
    "for i in range(time_step_t,len(X_pred_t)):\n",
    "    xin_t = X_pred_t[i-time_step_t:i].reshape(1, time_step_t, 2)\n",
    "    X_pred_t[i] = modelo_duracion.predict(xin_t)"
   ]
  },
  {
   "cell_type": "code",
   "execution_count": null,
   "id": "b2d81841",
   "metadata": {
    "scrolled": true
   },
   "outputs": [],
   "source": [
    "X_pred_t"
   ]
  },
  {
   "cell_type": "code",
   "execution_count": null,
   "id": "e6a5582a",
   "metadata": {},
   "outputs": [],
   "source": [
    "prediccion2 = sc.inverse_transform(X_pred_t)"
   ]
  },
  {
   "cell_type": "code",
   "execution_count": null,
   "id": "5623d77d",
   "metadata": {},
   "outputs": [],
   "source": [
    "# Graficar resultados de prediccion de valores futuros\n",
    "graficar_predicciones3(n_v[:,0:1],prediccion2[:,0:1],'segundos')"
   ]
  },
  {
   "cell_type": "code",
   "execution_count": null,
   "id": "ce900d7b",
   "metadata": {},
   "outputs": [],
   "source": [
    "mse_t = mean_squared_error(n_v[time_step_t:,0:1] ,prediccion2[time_step_t:,0:1], squared=False)"
   ]
  },
  {
   "cell_type": "code",
   "execution_count": null,
   "id": "0007511c",
   "metadata": {},
   "outputs": [],
   "source": [
    "mse_t"
   ]
  },
  {
   "cell_type": "code",
   "execution_count": null,
   "id": "76677627",
   "metadata": {
    "scrolled": true
   },
   "outputs": [],
   "source": [
    "n_v[time_step_t:,0:1]"
   ]
  },
  {
   "cell_type": "code",
   "execution_count": null,
   "id": "465d2117",
   "metadata": {
    "scrolled": true
   },
   "outputs": [],
   "source": [
    "prediccion2[time_step_t:,0:1]"
   ]
  },
  {
   "cell_type": "code",
   "execution_count": null,
   "id": "55a44f4b",
   "metadata": {},
   "outputs": [],
   "source": []
  }
 ],
 "metadata": {
  "kernelspec": {
   "display_name": "Python 3 (ipykernel)",
   "language": "python",
   "name": "python3"
  },
  "language_info": {
   "codemirror_mode": {
    "name": "ipython",
    "version": 3
   },
   "file_extension": ".py",
   "mimetype": "text/x-python",
   "name": "python",
   "nbconvert_exporter": "python",
   "pygments_lexer": "ipython3",
   "version": "3.10.8"
  },
  "vscode": {
   "interpreter": {
    "hash": "ea065f0355b6bede6d288732fd04b0d04b232bf2ce8e203eccbb54c9db7f8153"
   }
  }
 },
 "nbformat": 4,
 "nbformat_minor": 5
}
