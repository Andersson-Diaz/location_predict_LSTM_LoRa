{
 "cells": [
  {
   "cell_type": "code",
   "execution_count": 118,
   "id": "8cae6a3a",
   "metadata": {},
   "outputs": [
    {
     "name": "stdout",
     "output_type": "stream",
     "text": [
      "2.9.1\n"
     ]
    }
   ],
   "source": [
    "import tensorflow as tf\n",
    "print(tf.__version__)\n",
    "from tensorflow.keras.utils import to_categorical\n",
    "from tensorflow.keras.layers import Flatten"
   ]
  },
  {
   "cell_type": "code",
   "execution_count": 119,
   "id": "c3ddcd46",
   "metadata": {
    "scrolled": true
   },
   "outputs": [],
   "source": [
    "#(trainX, trainY), (testX, testY) = tf.keras.datasets.cifar10.load_data()"
   ]
  },
  {
   "cell_type": "code",
   "execution_count": 120,
   "id": "a28681e4",
   "metadata": {},
   "outputs": [],
   "source": [
    "#trainX.shape"
   ]
  },
  {
   "cell_type": "code",
   "execution_count": 121,
   "id": "c3ad17d9",
   "metadata": {
    "scrolled": true
   },
   "outputs": [],
   "source": [
    "#trainY.shape"
   ]
  },
  {
   "cell_type": "code",
   "execution_count": 122,
   "id": "bc700e2e",
   "metadata": {},
   "outputs": [],
   "source": [
    "#trainY = to_categorical(trainY)\n",
    "#testY = to_categorical(testY)"
   ]
  },
  {
   "cell_type": "code",
   "execution_count": 123,
   "id": "245bce0c",
   "metadata": {},
   "outputs": [],
   "source": [
    "#trainY.shape"
   ]
  },
  {
   "cell_type": "code",
   "execution_count": 124,
   "id": "c8ec424b",
   "metadata": {},
   "outputs": [],
   "source": [
    "#testY.shape"
   ]
  },
  {
   "cell_type": "code",
   "execution_count": 125,
   "id": "e73c96f7",
   "metadata": {},
   "outputs": [],
   "source": [
    "from tokenize import Number\n",
    "import numpy as np\n",
    "#np.random.seed(4)\n",
    "import matplotlib.pyplot as plt\n",
    "import pandas as pd\n",
    "\n",
    "from sklearn.preprocessing import MinMaxScaler\n",
    "from keras.models import Sequential\n",
    "from keras.layers import Dense, LSTM\n",
    "from keras.layers import Dropout\n",
    "\n",
    "import time\n",
    "from datetime import datetime\n",
    "from datetime import timedelta\n",
    "import math"
   ]
  },
  {
   "cell_type": "code",
   "execution_count": null,
   "id": "15c701a1",
   "metadata": {},
   "outputs": [],
   "source": [
    "inicio = time.time()"
   ]
  },
  {
   "cell_type": "code",
   "execution_count": 126,
   "id": "af303719",
   "metadata": {},
   "outputs": [],
   "source": [
    "#datos para la conexion a la base de datos\n",
    "hostname = '82.180.175.58'\n",
    "username = 'u813407238_lora'\n",
    "password = 'Seguimiento_lora_123'\n",
    "database = 'u813407238_seguimiento'"
   ]
  },
  {
   "cell_type": "code",
   "execution_count": 127,
   "id": "eeb1c21c",
   "metadata": {},
   "outputs": [
    {
     "name": "stderr",
     "output_type": "stream",
     "text": [
      "C:\\Users\\ander\\anaconda3\\lib\\site-packages\\pandas\\io\\sql.py:761: UserWarning: pandas only support SQLAlchemy connectable(engine/connection) ordatabase string URI or sqlite3 DBAPI2 connectionother DBAPI2 objects are not tested, please consider using SQLAlchemy\n",
      "  warnings.warn(\n"
     ]
    },
    {
     "name": "stdout",
     "output_type": "stream",
     "text": [
      "Va a imprimir el dataset leido de la BD...\n",
      "Va a imprimir date y time...\n"
     ]
    }
   ],
   "source": [
    "import MySQLdb\n",
    "# inicialmente hace la conexion con la base de datos\n",
    "myConnection = MySQLdb.connect( host=hostname, user=username, passwd=password, db=database )\n",
    "import pandas as pd\n",
    "# genera la lectura de la base de datos\n",
    "dataset= pd.read_sql(\"SELECT * FROM LoRaWAN_messages_calle_5 order by id\",myConnection)\n",
    "print(\"Va a imprimir el dataset leido de la BD...\")\n",
    "#print(dataset)\n",
    "#dataset[['COL 3','COL 4']].dtypes\n",
    "#dataset = pd.DataFrame()\n",
    "#dataset['T'] = dataset['date'] +' '+ dataset['time']\n",
    "#dataset['date hour'] = dataset['date'] +' '+ dataset['hour']\n",
    "#dataset = pd.to_datetime(dataset['date'] + dataset['time'])\n",
    "print(\"Va a imprimir date y time...\")"
   ]
  },
  {
   "cell_type": "code",
   "execution_count": 128,
   "id": "091c28d4",
   "metadata": {},
   "outputs": [],
   "source": [
    "#pip install mysqlclient"
   ]
  },
  {
   "cell_type": "code",
   "execution_count": 129,
   "id": "4544d197",
   "metadata": {},
   "outputs": [],
   "source": [
    "#dataset.head"
   ]
  },
  {
   "cell_type": "code",
   "execution_count": 130,
   "id": "e1344f00",
   "metadata": {},
   "outputs": [],
   "source": [
    "dataset.drop(index=dataset[dataset['latitude']=='0'].index, inplace=True)"
   ]
  },
  {
   "cell_type": "code",
   "execution_count": 131,
   "id": "d223d9d3",
   "metadata": {
    "scrolled": true
   },
   "outputs": [],
   "source": [
    "#dataset.info()"
   ]
  },
  {
   "cell_type": "code",
   "execution_count": 132,
   "id": "b0a90261",
   "metadata": {},
   "outputs": [],
   "source": [
    "time = dataset['hour']"
   ]
  },
  {
   "cell_type": "code",
   "execution_count": 133,
   "id": "58e9aca7",
   "metadata": {
    "scrolled": true
   },
   "outputs": [
    {
     "data": {
      "text/html": [
       "<div>\n",
       "<style scoped>\n",
       "    .dataframe tbody tr th:only-of-type {\n",
       "        vertical-align: middle;\n",
       "    }\n",
       "\n",
       "    .dataframe tbody tr th {\n",
       "        vertical-align: top;\n",
       "    }\n",
       "\n",
       "    .dataframe thead th {\n",
       "        text-align: right;\n",
       "    }\n",
       "</style>\n",
       "<table border=\"1\" class=\"dataframe\">\n",
       "  <thead>\n",
       "    <tr style=\"text-align: right;\">\n",
       "      <th></th>\n",
       "      <th>id</th>\n",
       "      <th>dev_id</th>\n",
       "      <th>date</th>\n",
       "      <th>hour</th>\n",
       "      <th>latitude</th>\n",
       "      <th>longitude</th>\n",
       "      <th>speed</th>\n",
       "      <th>accx</th>\n",
       "      <th>accy</th>\n",
       "      <th>accz</th>\n",
       "      <th>gyrox</th>\n",
       "      <th>gyroy</th>\n",
       "      <th>gyroz</th>\n",
       "      <th>SF</th>\n",
       "      <th>BW</th>\n",
       "      <th>CR</th>\n",
       "    </tr>\n",
       "  </thead>\n",
       "  <tbody>\n",
       "    <tr>\n",
       "      <th>17</th>\n",
       "      <td>18</td>\n",
       "      <td>tarjeta2-cubecell</td>\n",
       "      <td>2022-08-31</td>\n",
       "      <td>0 days 13:47:22</td>\n",
       "      <td>2.4494545</td>\n",
       "      <td>-76.6269796</td>\n",
       "      <td>0.62968</td>\n",
       "      <td>-0.1043366</td>\n",
       "      <td>-0.7579422</td>\n",
       "      <td>9.8896343</td>\n",
       "      <td>0.2024117</td>\n",
       "      <td>-0.2121214</td>\n",
       "      <td>0.0974049</td>\n",
       "      <td>7</td>\n",
       "      <td>125000</td>\n",
       "      <td>4/5</td>\n",
       "    </tr>\n",
       "    <tr>\n",
       "      <th>18</th>\n",
       "      <td>19</td>\n",
       "      <td>tarjeta2-cubecell</td>\n",
       "      <td>2022-08-31</td>\n",
       "      <td>0 days 13:47:33</td>\n",
       "      <td>2.4494231</td>\n",
       "      <td>-76.6269756</td>\n",
       "      <td>0</td>\n",
       "      <td>-0.1043366</td>\n",
       "      <td>-0.8920633</td>\n",
       "      <td>9.8225738</td>\n",
       "      <td>-0.041863</td>\n",
       "      <td>0.0474205</td>\n",
       "      <td>0.2042751</td>\n",
       "      <td>7</td>\n",
       "      <td>125000</td>\n",
       "      <td>4/5</td>\n",
       "    </tr>\n",
       "    <tr>\n",
       "      <th>19</th>\n",
       "      <td>20</td>\n",
       "      <td>tarjeta2-cubecell</td>\n",
       "      <td>2022-08-31</td>\n",
       "      <td>0 days 13:47:43</td>\n",
       "      <td>2.4493666</td>\n",
       "      <td>-76.6269073</td>\n",
       "      <td>0</td>\n",
       "      <td>-0.1211018</td>\n",
       "      <td>-0.7986575</td>\n",
       "      <td>9.7770684</td>\n",
       "      <td>0.2482132</td>\n",
       "      <td>-0.349526</td>\n",
       "      <td>0.0821378</td>\n",
       "      <td>7</td>\n",
       "      <td>125000</td>\n",
       "      <td>4/5</td>\n",
       "    </tr>\n",
       "    <tr>\n",
       "      <th>20</th>\n",
       "      <td>21</td>\n",
       "      <td>tarjeta2-cubecell</td>\n",
       "      <td>2022-08-31</td>\n",
       "      <td>0 days 13:47:54</td>\n",
       "      <td>2.4493663</td>\n",
       "      <td>-76.6268878</td>\n",
       "      <td>0</td>\n",
       "      <td>-0.1546321</td>\n",
       "      <td>-0.8369779</td>\n",
       "      <td>9.7722784</td>\n",
       "      <td>0.2482132</td>\n",
       "      <td>0.077955</td>\n",
       "      <td>0.1279393</td>\n",
       "      <td>7</td>\n",
       "      <td>125000</td>\n",
       "      <td>4/5</td>\n",
       "    </tr>\n",
       "    <tr>\n",
       "      <th>21</th>\n",
       "      <td>22</td>\n",
       "      <td>tarjeta2-cubecell</td>\n",
       "      <td>2022-08-31</td>\n",
       "      <td>0 days 13:48:06</td>\n",
       "      <td>2.4493705</td>\n",
       "      <td>-76.6268905</td>\n",
       "      <td>0</td>\n",
       "      <td>-0.1234968</td>\n",
       "      <td>-0.856138</td>\n",
       "      <td>9.8537091</td>\n",
       "      <td>0.324549</td>\n",
       "      <td>0.1084892</td>\n",
       "      <td>0.1890079</td>\n",
       "      <td>7</td>\n",
       "      <td>125000</td>\n",
       "      <td>4/5</td>\n",
       "    </tr>\n",
       "    <tr>\n",
       "      <th>...</th>\n",
       "      <td>...</td>\n",
       "      <td>...</td>\n",
       "      <td>...</td>\n",
       "      <td>...</td>\n",
       "      <td>...</td>\n",
       "      <td>...</td>\n",
       "      <td>...</td>\n",
       "      <td>...</td>\n",
       "      <td>...</td>\n",
       "      <td>...</td>\n",
       "      <td>...</td>\n",
       "      <td>...</td>\n",
       "      <td>...</td>\n",
       "      <td>...</td>\n",
       "      <td>...</td>\n",
       "      <td>...</td>\n",
       "    </tr>\n",
       "    <tr>\n",
       "      <th>274</th>\n",
       "      <td>275</td>\n",
       "      <td>tarjeta2-cubecell</td>\n",
       "      <td>2022-08-31</td>\n",
       "      <td>0 days 14:36:37</td>\n",
       "      <td>2.4503646</td>\n",
       "      <td>-76.6269323</td>\n",
       "      <td>24.13156</td>\n",
       "      <td>1.2033439</td>\n",
       "      <td>-2.9853105</td>\n",
       "      <td>7.638316</td>\n",
       "      <td>-0.4846112</td>\n",
       "      <td>-2.5938007</td>\n",
       "      <td>-2.5896177</td>\n",
       "      <td>7</td>\n",
       "      <td>125000</td>\n",
       "      <td>4/5</td>\n",
       "    </tr>\n",
       "    <tr>\n",
       "      <th>275</th>\n",
       "      <td>276</td>\n",
       "      <td>tarjeta2-cubecell</td>\n",
       "      <td>2022-08-31</td>\n",
       "      <td>0 days 14:36:48</td>\n",
       "      <td>2.4502795</td>\n",
       "      <td>-76.6266823</td>\n",
       "      <td>14.00112</td>\n",
       "      <td>-0.1091267</td>\n",
       "      <td>-6.2257719</td>\n",
       "      <td>11.5829132</td>\n",
       "      <td>-0.3930082</td>\n",
       "      <td>-8.9449462</td>\n",
       "      <td>13.8378629</td>\n",
       "      <td>7</td>\n",
       "      <td>125000</td>\n",
       "      <td>4/5</td>\n",
       "    </tr>\n",
       "    <tr>\n",
       "      <th>276</th>\n",
       "      <td>277</td>\n",
       "      <td>tarjeta2-cubecell</td>\n",
       "      <td>2022-08-31</td>\n",
       "      <td>0 days 14:37:26</td>\n",
       "      <td>2.4495106</td>\n",
       "      <td>-76.6269685</td>\n",
       "      <td>1.0186</td>\n",
       "      <td>-0.3198884</td>\n",
       "      <td>-3.7301616</td>\n",
       "      <td>10.454859</td>\n",
       "      <td>-0.0876646</td>\n",
       "      <td>-8.9449462</td>\n",
       "      <td>6.4027485</td>\n",
       "      <td>7</td>\n",
       "      <td>125000</td>\n",
       "      <td>4/5</td>\n",
       "    </tr>\n",
       "    <tr>\n",
       "      <th>277</th>\n",
       "      <td>278</td>\n",
       "      <td>tarjeta2-cubecell</td>\n",
       "      <td>2022-08-31</td>\n",
       "      <td>0 days 14:37:38</td>\n",
       "      <td>2.4494831</td>\n",
       "      <td>-76.6269721</td>\n",
       "      <td>0</td>\n",
       "      <td>2.4224089</td>\n",
       "      <td>-1.6872098</td>\n",
       "      <td>9.0681427</td>\n",
       "      <td>1.1642438</td>\n",
       "      <td>4.0321536</td>\n",
       "      <td>-1.6735874</td>\n",
       "      <td>7</td>\n",
       "      <td>125000</td>\n",
       "      <td>4/5</td>\n",
       "    </tr>\n",
       "    <tr>\n",
       "      <th>278</th>\n",
       "      <td>279</td>\n",
       "      <td>tarjeta2-cubecell</td>\n",
       "      <td>2022-08-31</td>\n",
       "      <td>0 days 14:37:49</td>\n",
       "      <td>2.4494841</td>\n",
       "      <td>-76.6269671</td>\n",
       "      <td>0</td>\n",
       "      <td>0.3387419</td>\n",
       "      <td>-1.0501346</td>\n",
       "      <td>9.7339581</td>\n",
       "      <td>0.3092819</td>\n",
       "      <td>-0.0289154</td>\n",
       "      <td>0.1584736</td>\n",
       "      <td>7</td>\n",
       "      <td>125000</td>\n",
       "      <td>4/5</td>\n",
       "    </tr>\n",
       "  </tbody>\n",
       "</table>\n",
       "<p>262 rows × 16 columns</p>\n",
       "</div>"
      ],
      "text/plain": [
       "      id             dev_id        date            hour   latitude  \\\n",
       "17    18  tarjeta2-cubecell  2022-08-31 0 days 13:47:22  2.4494545   \n",
       "18    19  tarjeta2-cubecell  2022-08-31 0 days 13:47:33  2.4494231   \n",
       "19    20  tarjeta2-cubecell  2022-08-31 0 days 13:47:43  2.4493666   \n",
       "20    21  tarjeta2-cubecell  2022-08-31 0 days 13:47:54  2.4493663   \n",
       "21    22  tarjeta2-cubecell  2022-08-31 0 days 13:48:06  2.4493705   \n",
       "..   ...                ...         ...             ...        ...   \n",
       "274  275  tarjeta2-cubecell  2022-08-31 0 days 14:36:37  2.4503646   \n",
       "275  276  tarjeta2-cubecell  2022-08-31 0 days 14:36:48  2.4502795   \n",
       "276  277  tarjeta2-cubecell  2022-08-31 0 days 14:37:26  2.4495106   \n",
       "277  278  tarjeta2-cubecell  2022-08-31 0 days 14:37:38  2.4494831   \n",
       "278  279  tarjeta2-cubecell  2022-08-31 0 days 14:37:49  2.4494841   \n",
       "\n",
       "       longitude     speed        accx        accy        accz       gyrox  \\\n",
       "17   -76.6269796   0.62968  -0.1043366  -0.7579422   9.8896343   0.2024117   \n",
       "18   -76.6269756         0  -0.1043366  -0.8920633   9.8225738   -0.041863   \n",
       "19   -76.6269073         0  -0.1211018  -0.7986575   9.7770684   0.2482132   \n",
       "20   -76.6268878         0  -0.1546321  -0.8369779   9.7722784   0.2482132   \n",
       "21   -76.6268905         0  -0.1234968   -0.856138   9.8537091    0.324549   \n",
       "..           ...       ...         ...         ...         ...         ...   \n",
       "274  -76.6269323  24.13156   1.2033439  -2.9853105    7.638316  -0.4846112   \n",
       "275  -76.6266823  14.00112  -0.1091267  -6.2257719  11.5829132  -0.3930082   \n",
       "276  -76.6269685    1.0186  -0.3198884  -3.7301616   10.454859  -0.0876646   \n",
       "277  -76.6269721         0   2.4224089  -1.6872098   9.0681427   1.1642438   \n",
       "278  -76.6269671         0   0.3387419  -1.0501346   9.7339581   0.3092819   \n",
       "\n",
       "          gyroy       gyroz SF      BW   CR  \n",
       "17   -0.2121214   0.0974049  7  125000  4/5  \n",
       "18    0.0474205   0.2042751  7  125000  4/5  \n",
       "19    -0.349526   0.0821378  7  125000  4/5  \n",
       "20     0.077955   0.1279393  7  125000  4/5  \n",
       "21    0.1084892   0.1890079  7  125000  4/5  \n",
       "..          ...         ... ..     ...  ...  \n",
       "274  -2.5938007  -2.5896177  7  125000  4/5  \n",
       "275  -8.9449462  13.8378629  7  125000  4/5  \n",
       "276  -8.9449462   6.4027485  7  125000  4/5  \n",
       "277   4.0321536  -1.6735874  7  125000  4/5  \n",
       "278  -0.0289154   0.1584736  7  125000  4/5  \n",
       "\n",
       "[262 rows x 16 columns]"
      ]
     },
     "execution_count": 133,
     "metadata": {},
     "output_type": "execute_result"
    }
   ],
   "source": [
    "dataset"
   ]
  },
  {
   "cell_type": "code",
   "execution_count": 134,
   "id": "befd0400",
   "metadata": {},
   "outputs": [],
   "source": [
    "dataset['latitude']=dataset['latitude'].astype('float64')\n",
    "dataset['longitude']=dataset['longitude'].astype('float64')"
   ]
  },
  {
   "cell_type": "code",
   "execution_count": 135,
   "id": "1ada5ef4",
   "metadata": {},
   "outputs": [],
   "source": [
    "#dataset.info()"
   ]
  },
  {
   "cell_type": "code",
   "execution_count": 136,
   "id": "f291b893",
   "metadata": {},
   "outputs": [],
   "source": [
    "d = pd.DataFrame()\n",
    "d['latitud']=dataset['latitude']\n",
    "d['longitude']=dataset['longitude']\n",
    "d.to_csv('calle_5_original.csv')"
   ]
  },
  {
   "cell_type": "code",
   "execution_count": 137,
   "id": "693d7d22",
   "metadata": {},
   "outputs": [],
   "source": [
    "def haversine(lat1, lon1, lat2, lon2):\n",
    "    rad=math.pi/180\n",
    "    dlat=lat2-lat1\n",
    "    dlon=lon2-lon1\n",
    "    R=6372.795477598\n",
    "    a=(math.sin(rad*dlat/2))**2 + math.cos(rad*lat1)*math.cos(rad*lat2)*(math.sin(rad*dlon/2))**2\n",
    "    distancia=2*R*math.asin(math.sqrt(a))\n",
    "    return distancia"
   ]
  },
  {
   "cell_type": "code",
   "execution_count": 138,
   "id": "31957414",
   "metadata": {},
   "outputs": [],
   "source": [
    "time_step = 30"
   ]
  },
  {
   "cell_type": "code",
   "execution_count": 139,
   "id": "b7e17321",
   "metadata": {},
   "outputs": [],
   "source": [
    "last = int(len(dataset)/5.0)"
   ]
  },
  {
   "cell_type": "code",
   "execution_count": 140,
   "id": "ddc2ac6b",
   "metadata": {},
   "outputs": [],
   "source": [
    "set_entrenamiento = dataset[:-last]\n",
    "set_validacion = dataset[-last-time_step:]"
   ]
  },
  {
   "cell_type": "code",
   "execution_count": 141,
   "id": "4354fb93",
   "metadata": {},
   "outputs": [],
   "source": [
    "#set_entrenamiento.info()"
   ]
  },
  {
   "cell_type": "code",
   "execution_count": 142,
   "id": "ed99b0e6",
   "metadata": {},
   "outputs": [],
   "source": [
    "#set_validacion.info()"
   ]
  },
  {
   "cell_type": "code",
   "execution_count": 143,
   "id": "3818e3d0",
   "metadata": {
    "scrolled": true
   },
   "outputs": [],
   "source": [
    "set_entrenamiento.reset_index(inplace=True, drop=True)\n",
    "#set_entrenamiento"
   ]
  },
  {
   "cell_type": "code",
   "execution_count": 144,
   "id": "0d19318a",
   "metadata": {
    "scrolled": true
   },
   "outputs": [],
   "source": [
    "set_validacion.reset_index(inplace=True, drop=True)\n",
    "#set_validacion"
   ]
  },
  {
   "cell_type": "code",
   "execution_count": 145,
   "id": "3ddf830d",
   "metadata": {
    "scrolled": true
   },
   "outputs": [],
   "source": [
    "#set_validacion.info()"
   ]
  },
  {
   "cell_type": "code",
   "execution_count": 146,
   "id": "278074bb",
   "metadata": {},
   "outputs": [],
   "source": [
    "#set_entrenamiento.info()"
   ]
  },
  {
   "cell_type": "code",
   "execution_count": 147,
   "id": "673cd79f",
   "metadata": {},
   "outputs": [],
   "source": [
    "x= np.column_stack((set_entrenamiento.iloc[:,[4]],set_entrenamiento.iloc[:,[5]],set_entrenamiento.iloc[:,[8]],set_entrenamiento.iloc[:,[12]]))"
   ]
  },
  {
   "cell_type": "code",
   "execution_count": 148,
   "id": "1e82f8bf",
   "metadata": {
    "scrolled": true
   },
   "outputs": [],
   "source": [
    "#x[0:1,:]"
   ]
  },
  {
   "cell_type": "code",
   "execution_count": 149,
   "id": "285a642f",
   "metadata": {},
   "outputs": [],
   "source": [
    "#x[0]"
   ]
  },
  {
   "cell_type": "code",
   "execution_count": 150,
   "id": "669aee48",
   "metadata": {},
   "outputs": [],
   "source": [
    "# Normalización del set de entrenamiento\n",
    "sc1 = MinMaxScaler(feature_range=(0,1))\n",
    "set_entrenamiento_escalado = sc1.fit_transform(x)"
   ]
  },
  {
   "cell_type": "code",
   "execution_count": 151,
   "id": "776a8a69",
   "metadata": {
    "scrolled": true
   },
   "outputs": [],
   "source": [
    "#set_entrenamiento_latitud_escalado=x"
   ]
  },
  {
   "cell_type": "code",
   "execution_count": 152,
   "id": "321044a9",
   "metadata": {
    "scrolled": true
   },
   "outputs": [],
   "source": [
    "#set_entrenamiento_latitud_escalado = np.array(set_entrenamiento_latitud_escalado).reshape(set_entrenamiento_latitud_escalado, ((set_entrenamiento_latitud_escalado.shape[0])/4), set_entrenamiento_latitud_escalado.shape[1], 4)"
   ]
  },
  {
   "cell_type": "code",
   "execution_count": 153,
   "id": "963164f1",
   "metadata": {},
   "outputs": [],
   "source": [
    "# La red LSTM tendrá como entrada \"time_step\" datos consecutivos, y como salida 1 dato (la predicción a\n",
    "# partir de esos \"time_step\" datos). Se conformará de esta forma el set de entrenamiento\n",
    "X_train = []\n",
    "Y_train = []\n",
    "m = len(set_entrenamiento_escalado)"
   ]
  },
  {
   "cell_type": "code",
   "execution_count": 154,
   "id": "dedf68b0",
   "metadata": {},
   "outputs": [],
   "source": [
    "for i in range(time_step,m):\n",
    "    # X: bloques de \"time_step\" datos: 0-time_step, 1-time_step+1, 2-time_step+2, etc\n",
    "    X_train.append(set_entrenamiento_escalado[i-time_step:i,0:5])\n",
    "    # Y: el siguiente dato\n",
    "    Y_train.append(set_entrenamiento_escalado[i,0:5])"
   ]
  },
  {
   "cell_type": "code",
   "execution_count": 155,
   "id": "440dd781",
   "metadata": {},
   "outputs": [],
   "source": [
    "X_train, Y_train = np.array(X_train), np.array(Y_train)"
   ]
  },
  {
   "cell_type": "code",
   "execution_count": null,
   "id": "964b67fb",
   "metadata": {},
   "outputs": [],
   "source": []
  },
  {
   "cell_type": "code",
   "execution_count": 156,
   "id": "beee00b9",
   "metadata": {
    "scrolled": true
   },
   "outputs": [
    {
     "data": {
      "text/plain": [
       "(180, 4)"
      ]
     },
     "execution_count": 156,
     "metadata": {},
     "output_type": "execute_result"
    }
   ],
   "source": [
    "Y_train.shape"
   ]
  },
  {
   "cell_type": "code",
   "execution_count": 157,
   "id": "6701d53f",
   "metadata": {},
   "outputs": [],
   "source": [
    "# Reshape X_train para que se ajuste al modelo en Keras\n",
    "X_train = np.reshape(X_train, (X_train.shape[0], X_train.shape[1], 4))"
   ]
  },
  {
   "cell_type": "code",
   "execution_count": 158,
   "id": "9cf152d1",
   "metadata": {
    "scrolled": true
   },
   "outputs": [
    {
     "data": {
      "text/plain": [
       "(180, 30, 4)"
      ]
     },
     "execution_count": 158,
     "metadata": {},
     "output_type": "execute_result"
    }
   ],
   "source": [
    "X_train.shape"
   ]
  },
  {
   "cell_type": "code",
   "execution_count": 159,
   "id": "cb875db7",
   "metadata": {},
   "outputs": [],
   "source": [
    "# Red LSTM\n",
    "#Para crear la red debemos primero definir el tamaño de los datos de entrada y del dato de salida,\n",
    "#así como el número total de neuronas (100):\n",
    "dim_in = (X_train.shape[1],4)\n",
    "dim_out = 4\n",
    "neurons = 100"
   ]
  },
  {
   "cell_type": "code",
   "execution_count": 160,
   "id": "2238e692",
   "metadata": {},
   "outputs": [],
   "source": [
    "from keras.layers import Bidirectional\n",
    "from tensorflow.keras.optimizers import SGD, Adam"
   ]
  },
  {
   "cell_type": "code",
   "execution_count": 161,
   "id": "c038ec80",
   "metadata": {
    "scrolled": true
   },
   "outputs": [],
   "source": [
    "def build_model(hp):\n",
    "    #definicion de hiperparámetros a evaluar\n",
    "    hp_batch_size = hp.Int('batch_size', min_value = 8, max_value = 128, step = 8)\n",
    "    hp_seed = hp.Int('seed', min_value =0, max_value = 100, step = 1)\n",
    "    hp_activation = hp.Choice('activation',['relu','tanh','linear','selu','elu','softmax'])\n",
    "    recurrent_dropout = hp.Float('recurrent_dropout',min_value=0.0,max_value=0.99,default=0.2)\n",
    "    hp_neurons = hp.Int('neurons1', min_value = 10, max_value = 200, step = 10)\n",
    "    hp_neurons2 = hp.Int('neurons2', min_value = 10, max_value = 200, step = 10)\n",
    "    hp_neurons3 = hp.Int('neurons3', min_value = 10, max_value = 200, step = 10)\n",
    "    tf.random.set_seed(hp_seed)\n",
    "    #definición del modelo de red neuronal\n",
    "    modelo = Sequential()\n",
    "    modelo.add(Bidirectional(LSTM(units=hp_neurons, activation=hp_activation, return_sequences=True, input_shape=dim_in)))\n",
    "    modelo.add(Bidirectional(LSTM(hp_neurons2, activation=hp_activation, return_sequences=True)))\n",
    "    modelo.add(Bidirectional(LSTM(hp_neurons3, activation=hp_activation, return_sequences=True)))\n",
    "    #modelo.add(LSTM(200, activation=hp_activation,  return_sequences=True))\n",
    "    modelo.add(Flatten())\n",
    "    modelo.add(Dropout(recurrent_dropout))\n",
    "    modelo.add(Dense(units=dim_out,activation=hp_activation))\n",
    "    \n",
    "    hp_learning_rate = hp.Choice('learning_rate', values = [1e-2, 1e-3])\n",
    "    opt = Adam(learning_rate=hp_learning_rate)#, momentum=0.9)\n",
    "    modelo.compile(optimizer=opt, loss='mse', metrics=['mse'])\n",
    "    #modelo.compile(optimizer='Adam', loss='mse')\n",
    "    #modelo.fit(X_train,Y_train,epochs=10,batch_size=32)\n",
    "    #print(modelo.summary())\n",
    "    return modelo"
   ]
  },
  {
   "cell_type": "code",
   "execution_count": 162,
   "id": "04d3dcef",
   "metadata": {
    "scrolled": true
   },
   "outputs": [],
   "source": [
    "#pip install keras-tuner --upgrade"
   ]
  },
  {
   "cell_type": "code",
   "execution_count": 163,
   "id": "c7747de1",
   "metadata": {},
   "outputs": [],
   "source": [
    "import keras_tuner"
   ]
  },
  {
   "cell_type": "code",
   "execution_count": 164,
   "id": "df840ea5",
   "metadata": {},
   "outputs": [],
   "source": [
    "from keras_tuner.tuners import BayesianOptimization"
   ]
  },
  {
   "cell_type": "code",
   "execution_count": 165,
   "id": "44715aee",
   "metadata": {},
   "outputs": [],
   "source": [
    "tuner = BayesianOptimization(\n",
    "    build_model,\n",
    "    objective = 'mse',\n",
    "    overwrite=True,\n",
    "    max_trials = 6)"
   ]
  },
  {
   "cell_type": "code",
   "execution_count": null,
   "id": "7272bc14",
   "metadata": {},
   "outputs": [],
   "source": []
  },
  {
   "cell_type": "code",
   "execution_count": 166,
   "id": "c494f1c8",
   "metadata": {},
   "outputs": [],
   "source": [
    "#definimos funcion de error y el método para minimizar\n",
    "#modelo.compile(optimizer='RMSprop', loss='mse')"
   ]
  },
  {
   "cell_type": "code",
   "execution_count": 167,
   "id": "e6727a42",
   "metadata": {
    "scrolled": true
   },
   "outputs": [],
   "source": [
    "#implementamos el modelo con 20 iteraciones, epochs\n",
    "#Presentando a la res lstm lotess de 32 datos\n",
    "#modelo.fit(X_train,Y_train,epochs=500,batch_size=32)\n",
    "#epochs 100  batch=64 loss 0.0017\n",
    "#epochs 100  batch=32 loss 0.0040\n",
    "#epochs 20  batch=32 loss 0.0071"
   ]
  },
  {
   "cell_type": "code",
   "execution_count": 168,
   "id": "40205517",
   "metadata": {
    "scrolled": true
   },
   "outputs": [],
   "source": [
    "#X_train.shape"
   ]
  },
  {
   "cell_type": "code",
   "execution_count": 169,
   "id": "3b8caa26",
   "metadata": {},
   "outputs": [],
   "source": [
    "#x_test_latitud = set_validacion.iloc[:,4:5]\n",
    "x_test= np.column_stack((set_validacion.iloc[:,[4]],set_validacion.iloc[:,[5]],set_validacion.iloc[:,[8]],set_validacion.iloc[:,[12]]))"
   ]
  },
  {
   "cell_type": "code",
   "execution_count": 170,
   "id": "d91bf082",
   "metadata": {
    "scrolled": true
   },
   "outputs": [],
   "source": [
    "#x_test"
   ]
  },
  {
   "cell_type": "code",
   "execution_count": 171,
   "id": "e10f5689",
   "metadata": {},
   "outputs": [],
   "source": [
    "array_latitud = []\n",
    "for x in range(len(x_test)):\n",
    "    array_latitud.append(x_test[x,0])"
   ]
  },
  {
   "cell_type": "code",
   "execution_count": 172,
   "id": "ebcffc86",
   "metadata": {
    "scrolled": true
   },
   "outputs": [],
   "source": [
    "#array_latitud"
   ]
  },
  {
   "cell_type": "code",
   "execution_count": 173,
   "id": "e888ab17",
   "metadata": {},
   "outputs": [],
   "source": [
    "array_longitud = []\n",
    "for x in range(len(x_test)):\n",
    "    array_longitud.append(x_test[x,1])"
   ]
  },
  {
   "cell_type": "code",
   "execution_count": 174,
   "id": "2d632706",
   "metadata": {
    "scrolled": true
   },
   "outputs": [],
   "source": [
    "#array_longitud"
   ]
  },
  {
   "cell_type": "code",
   "execution_count": 175,
   "id": "5f2f3844",
   "metadata": {
    "scrolled": true
   },
   "outputs": [],
   "source": [
    "#sc2 = MinMaxScaler(feature_range=(0,1))\n",
    "x_test_n = sc1.transform(x_test)\n",
    "#x_test_n"
   ]
  },
  {
   "cell_type": "code",
   "execution_count": 176,
   "id": "23d28346",
   "metadata": {},
   "outputs": [
    {
     "data": {
      "text/plain": [
       "(82, 4)"
      ]
     },
     "execution_count": 176,
     "metadata": {},
     "output_type": "execute_result"
    }
   ],
   "source": [
    "x_test_n.shape"
   ]
  },
  {
   "cell_type": "code",
   "execution_count": 177,
   "id": "a25a1740",
   "metadata": {},
   "outputs": [],
   "source": [
    "#Obtenemos bloques de 60 datos\n",
    "X_test = []\n",
    "Y_test = []\n",
    "for i in range(time_step,len(x_test_n)):\n",
    "    X_test.append(x_test_n[i-time_step:i,0:5])\n",
    "    Y_test.append(x_test_n[i,0:5])"
   ]
  },
  {
   "cell_type": "code",
   "execution_count": 178,
   "id": "9d37856c",
   "metadata": {},
   "outputs": [
    {
     "data": {
      "text/plain": [
       "(52, 30, 4)"
      ]
     },
     "execution_count": 178,
     "metadata": {},
     "output_type": "execute_result"
    }
   ],
   "source": [
    "X_test = np.array(X_test)\n",
    "X_test.shape"
   ]
  },
  {
   "cell_type": "code",
   "execution_count": 179,
   "id": "c9d0b3d9",
   "metadata": {
    "scrolled": true
   },
   "outputs": [
    {
     "data": {
      "text/plain": [
       "(52, 4)"
      ]
     },
     "execution_count": 179,
     "metadata": {},
     "output_type": "execute_result"
    }
   ],
   "source": [
    "Y_test = np.array(Y_test)\n",
    "Y_test.shape"
   ]
  },
  {
   "cell_type": "code",
   "execution_count": 180,
   "id": "9b71de53",
   "metadata": {},
   "outputs": [],
   "source": [
    "X_test = np.reshape(X_test, (X_test.shape[0],X_test.shape[1],4))"
   ]
  },
  {
   "cell_type": "code",
   "execution_count": 181,
   "id": "a3587dc6",
   "metadata": {},
   "outputs": [
    {
     "data": {
      "text/plain": [
       "(180, 30, 4)"
      ]
     },
     "execution_count": 181,
     "metadata": {},
     "output_type": "execute_result"
    }
   ],
   "source": [
    "#Y_train = to_categorical(Y_train)\n",
    "#Y_test = to_categorical(Y_test)\n",
    "X_train.shape"
   ]
  },
  {
   "cell_type": "code",
   "execution_count": 182,
   "id": "49284250",
   "metadata": {},
   "outputs": [
    {
     "data": {
      "text/plain": [
       "(180, 4)"
      ]
     },
     "execution_count": 182,
     "metadata": {},
     "output_type": "execute_result"
    }
   ],
   "source": [
    "Y_train.shape"
   ]
  },
  {
   "cell_type": "code",
   "execution_count": 183,
   "id": "12858401",
   "metadata": {
    "scrolled": true
   },
   "outputs": [
    {
     "name": "stdout",
     "output_type": "stream",
     "text": [
      "Trial 6 Complete [00h 02m 39s]\n",
      "mse: 0.01685408689081669\n",
      "\n",
      "Best mse So Far: 0.007935685105621815\n",
      "Total elapsed time: 00h 16m 09s\n",
      "INFO:tensorflow:Oracle triggered exit\n"
     ]
    }
   ],
   "source": [
    "tuner.search(X_train, Y_train,\n",
    "             epochs=100,\n",
    "             #overwrite=True,\n",
    "             validation_data=(X_test, Y_test))\n",
    "            #)"
   ]
  },
  {
   "cell_type": "code",
   "execution_count": 184,
   "id": "d87627c4",
   "metadata": {},
   "outputs": [
    {
     "name": "stdout",
     "output_type": "stream",
     "text": [
      "Results summary\n",
      "Results in .\\untitled_project\n",
      "Showing 10 best trials\n",
      "<keras_tuner.engine.objective.Objective object at 0x000001CDEA894610>\n",
      "Trial summary\n",
      "Hyperparameters:\n",
      "batch_size: 48\n",
      "seed: 11\n",
      "activation: relu\n",
      "recurrent_dropout: 0.4991699742949213\n",
      "neurons1: 200\n",
      "neurons2: 200\n",
      "neurons3: 180\n",
      "learning_rate: 0.001\n",
      "Score: 0.007935685105621815\n",
      "Trial summary\n",
      "Hyperparameters:\n",
      "batch_size: 72\n",
      "seed: 94\n",
      "activation: relu\n",
      "recurrent_dropout: 0.10720203786872651\n",
      "neurons1: 160\n",
      "neurons2: 190\n",
      "neurons3: 110\n",
      "learning_rate: 0.01\n",
      "Score: nan\n",
      "Trial summary\n",
      "Hyperparameters:\n",
      "batch_size: 24\n",
      "seed: 5\n",
      "activation: relu\n",
      "recurrent_dropout: 0.03823224481735663\n",
      "neurons1: 70\n",
      "neurons2: 190\n",
      "neurons3: 130\n",
      "learning_rate: 0.001\n",
      "Score: 0.007352656219154596\n",
      "Trial summary\n",
      "Hyperparameters:\n",
      "batch_size: 40\n",
      "seed: 57\n",
      "activation: relu\n",
      "recurrent_dropout: 0.7073492574358197\n",
      "neurons1: 80\n",
      "neurons2: 180\n",
      "neurons3: 200\n",
      "learning_rate: 0.001\n",
      "Score: 0.008719271048903465\n",
      "Trial summary\n",
      "Hyperparameters:\n",
      "batch_size: 88\n",
      "seed: 10\n",
      "activation: tanh\n",
      "recurrent_dropout: 0.8181318938203229\n",
      "neurons1: 160\n",
      "neurons2: 70\n",
      "neurons3: 30\n",
      "learning_rate: 0.001\n",
      "Score: 0.013104228302836418\n",
      "Trial summary\n",
      "Hyperparameters:\n",
      "batch_size: 88\n",
      "seed: 84\n",
      "activation: elu\n",
      "recurrent_dropout: 0.7212969322714556\n",
      "neurons1: 110\n",
      "neurons2: 110\n",
      "neurons3: 170\n",
      "learning_rate: 0.01\n",
      "Score: 0.01685408689081669\n"
     ]
    }
   ],
   "source": [
    "tuner.results_summary()"
   ]
  },
  {
   "cell_type": "code",
   "execution_count": 185,
   "id": "321424f2",
   "metadata": {},
   "outputs": [
    {
     "data": {
      "text/plain": [
       "{'batch_size': 48,\n",
       " 'seed': 11,\n",
       " 'activation': 'relu',\n",
       " 'recurrent_dropout': 0.4991699742949213,\n",
       " 'neurons1': 200,\n",
       " 'neurons2': 200,\n",
       " 'neurons3': 180,\n",
       " 'learning_rate': 0.001}"
      ]
     },
     "execution_count": 185,
     "metadata": {},
     "output_type": "execute_result"
    }
   ],
   "source": [
    "best_hps = tuner.get_best_hyperparameters(num_trials = 1)[0]\n",
    "best_hps.values"
   ]
  },
  {
   "cell_type": "code",
   "execution_count": 186,
   "id": "cefdcb73",
   "metadata": {},
   "outputs": [
    {
     "name": "stdout",
     "output_type": "stream",
     "text": [
      "Epoch 1/100\n",
      "6/6 [==============================] - 8s 516ms/step - loss: 0.1959 - mse: 0.1959 - val_loss: 0.1524 - val_mse: 0.1524\n",
      "Epoch 2/100\n",
      "6/6 [==============================] - 2s 383ms/step - loss: 0.1048 - mse: 0.1048 - val_loss: 0.0775 - val_mse: 0.0775\n",
      "Epoch 3/100\n",
      "6/6 [==============================] - 2s 385ms/step - loss: 0.0654 - mse: 0.0654 - val_loss: 0.0592 - val_mse: 0.0592\n",
      "Epoch 4/100\n",
      "6/6 [==============================] - 2s 383ms/step - loss: 0.0528 - mse: 0.0528 - val_loss: 0.0520 - val_mse: 0.0520\n",
      "Epoch 5/100\n",
      "6/6 [==============================] - 2s 379ms/step - loss: 0.0439 - mse: 0.0439 - val_loss: 0.0413 - val_mse: 0.0413\n",
      "Epoch 6/100\n",
      "6/6 [==============================] - 2s 405ms/step - loss: 0.0371 - mse: 0.0371 - val_loss: 0.0310 - val_mse: 0.0310\n",
      "Epoch 7/100\n",
      "6/6 [==============================] - 3s 423ms/step - loss: 0.0239 - mse: 0.0239 - val_loss: 0.0183 - val_mse: 0.0183\n",
      "Epoch 8/100\n",
      "6/6 [==============================] - 3s 417ms/step - loss: 0.0190 - mse: 0.0190 - val_loss: 0.0210 - val_mse: 0.0210\n",
      "Epoch 9/100\n",
      "6/6 [==============================] - 2s 397ms/step - loss: 0.0170 - mse: 0.0170 - val_loss: 0.0175 - val_mse: 0.0175\n",
      "Epoch 10/100\n",
      "6/6 [==============================] - 2s 391ms/step - loss: 0.0153 - mse: 0.0153 - val_loss: 0.0183 - val_mse: 0.0183\n",
      "Epoch 11/100\n",
      "6/6 [==============================] - 2s 387ms/step - loss: 0.0149 - mse: 0.0149 - val_loss: 0.0159 - val_mse: 0.0159\n",
      "Epoch 12/100\n",
      "6/6 [==============================] - 2s 387ms/step - loss: 0.0143 - mse: 0.0143 - val_loss: 0.0149 - val_mse: 0.0149\n",
      "Epoch 13/100\n",
      "6/6 [==============================] - 2s 388ms/step - loss: 0.0137 - mse: 0.0137 - val_loss: 0.0154 - val_mse: 0.0154\n",
      "Epoch 14/100\n",
      "6/6 [==============================] - 2s 387ms/step - loss: 0.0134 - mse: 0.0134 - val_loss: 0.0151 - val_mse: 0.0151\n",
      "Epoch 15/100\n",
      "6/6 [==============================] - 2s 383ms/step - loss: 0.0127 - mse: 0.0127 - val_loss: 0.0153 - val_mse: 0.0153\n",
      "Epoch 16/100\n",
      "6/6 [==============================] - 2s 384ms/step - loss: 0.0129 - mse: 0.0129 - val_loss: 0.0148 - val_mse: 0.0148\n",
      "Epoch 17/100\n",
      "6/6 [==============================] - 2s 390ms/step - loss: 0.0127 - mse: 0.0127 - val_loss: 0.0143 - val_mse: 0.0143\n",
      "Epoch 18/100\n",
      "6/6 [==============================] - 2s 389ms/step - loss: 0.0127 - mse: 0.0127 - val_loss: 0.0149 - val_mse: 0.0149\n",
      "Epoch 19/100\n",
      "6/6 [==============================] - 2s 391ms/step - loss: 0.0119 - mse: 0.0119 - val_loss: 0.0142 - val_mse: 0.0142\n",
      "Epoch 20/100\n",
      "6/6 [==============================] - 2s 393ms/step - loss: 0.0117 - mse: 0.0117 - val_loss: 0.0133 - val_mse: 0.0133\n",
      "Epoch 21/100\n",
      "6/6 [==============================] - 2s 398ms/step - loss: 0.0126 - mse: 0.0126 - val_loss: 0.0167 - val_mse: 0.0167\n",
      "Epoch 22/100\n",
      "6/6 [==============================] - 2s 400ms/step - loss: 0.0125 - mse: 0.0125 - val_loss: 0.0129 - val_mse: 0.0129\n",
      "Epoch 23/100\n",
      "6/6 [==============================] - 2s 397ms/step - loss: 0.0118 - mse: 0.0118 - val_loss: 0.0154 - val_mse: 0.0154\n",
      "Epoch 24/100\n",
      "6/6 [==============================] - 2s 391ms/step - loss: 0.0117 - mse: 0.0117 - val_loss: 0.0122 - val_mse: 0.0122\n",
      "Epoch 25/100\n",
      "6/6 [==============================] - 2s 386ms/step - loss: 0.0109 - mse: 0.0109 - val_loss: 0.0142 - val_mse: 0.0142\n",
      "Epoch 26/100\n",
      "6/6 [==============================] - 2s 392ms/step - loss: 0.0114 - mse: 0.0114 - val_loss: 0.0125 - val_mse: 0.0125\n",
      "Epoch 27/100\n",
      "6/6 [==============================] - 2s 391ms/step - loss: 0.0105 - mse: 0.0105 - val_loss: 0.0130 - val_mse: 0.0130\n",
      "Epoch 28/100\n",
      "6/6 [==============================] - 2s 389ms/step - loss: 0.0108 - mse: 0.0108 - val_loss: 0.0126 - val_mse: 0.0126\n",
      "Epoch 29/100\n",
      "6/6 [==============================] - 2s 393ms/step - loss: 0.0109 - mse: 0.0109 - val_loss: 0.0134 - val_mse: 0.0134\n",
      "Epoch 30/100\n",
      "6/6 [==============================] - 2s 389ms/step - loss: 0.0104 - mse: 0.0104 - val_loss: 0.0128 - val_mse: 0.0128\n",
      "Epoch 31/100\n",
      "6/6 [==============================] - 2s 395ms/step - loss: 0.0107 - mse: 0.0107 - val_loss: 0.0124 - val_mse: 0.0124\n",
      "Epoch 32/100\n",
      "6/6 [==============================] - 2s 388ms/step - loss: 0.0108 - mse: 0.0108 - val_loss: 0.0132 - val_mse: 0.0132\n",
      "Epoch 33/100\n",
      "6/6 [==============================] - 2s 398ms/step - loss: 0.0112 - mse: 0.0112 - val_loss: 0.0130 - val_mse: 0.0130\n",
      "Epoch 34/100\n",
      "6/6 [==============================] - 2s 404ms/step - loss: 0.0112 - mse: 0.0112 - val_loss: 0.0124 - val_mse: 0.0124\n",
      "Epoch 35/100\n",
      "6/6 [==============================] - 2s 392ms/step - loss: 0.0105 - mse: 0.0105 - val_loss: 0.0127 - val_mse: 0.0127\n",
      "Epoch 36/100\n",
      "6/6 [==============================] - 2s 391ms/step - loss: 0.0103 - mse: 0.0103 - val_loss: 0.0133 - val_mse: 0.0133\n",
      "Epoch 37/100\n",
      "6/6 [==============================] - 2s 390ms/step - loss: 0.0105 - mse: 0.0105 - val_loss: 0.0124 - val_mse: 0.0124\n",
      "Epoch 38/100\n",
      "6/6 [==============================] - 2s 390ms/step - loss: 0.0106 - mse: 0.0106 - val_loss: 0.0132 - val_mse: 0.0132\n",
      "Epoch 39/100\n",
      "6/6 [==============================] - 2s 392ms/step - loss: 0.0108 - mse: 0.0108 - val_loss: 0.0117 - val_mse: 0.0117\n",
      "Epoch 40/100\n",
      "6/6 [==============================] - 2s 393ms/step - loss: 0.0105 - mse: 0.0105 - val_loss: 0.0148 - val_mse: 0.0148\n",
      "Epoch 41/100\n",
      "6/6 [==============================] - 2s 391ms/step - loss: 0.0108 - mse: 0.0108 - val_loss: 0.0121 - val_mse: 0.0121\n",
      "Epoch 42/100\n",
      "6/6 [==============================] - 2s 391ms/step - loss: 0.0103 - mse: 0.0103 - val_loss: 0.0129 - val_mse: 0.0129\n",
      "Epoch 43/100\n",
      "6/6 [==============================] - 2s 391ms/step - loss: 0.0102 - mse: 0.0102 - val_loss: 0.0138 - val_mse: 0.0138\n",
      "Epoch 44/100\n",
      "6/6 [==============================] - 2s 388ms/step - loss: 0.0101 - mse: 0.0101 - val_loss: 0.0124 - val_mse: 0.0124\n",
      "Epoch 45/100\n",
      "6/6 [==============================] - 2s 387ms/step - loss: 0.0102 - mse: 0.0102 - val_loss: 0.0118 - val_mse: 0.0118\n",
      "Epoch 46/100\n",
      "6/6 [==============================] - 2s 392ms/step - loss: 0.0095 - mse: 0.0095 - val_loss: 0.0119 - val_mse: 0.0119\n",
      "Epoch 47/100\n",
      "6/6 [==============================] - 2s 391ms/step - loss: 0.0098 - mse: 0.0098 - val_loss: 0.0120 - val_mse: 0.0120\n",
      "Epoch 48/100\n",
      "6/6 [==============================] - 2s 392ms/step - loss: 0.0096 - mse: 0.0096 - val_loss: 0.0118 - val_mse: 0.0118\n",
      "Epoch 49/100\n",
      "6/6 [==============================] - 2s 401ms/step - loss: 0.0102 - mse: 0.0102 - val_loss: 0.0122 - val_mse: 0.0122\n",
      "Epoch 50/100\n",
      "6/6 [==============================] - 3s 428ms/step - loss: 0.0096 - mse: 0.0096 - val_loss: 0.0122 - val_mse: 0.0122\n",
      "Epoch 51/100\n",
      "6/6 [==============================] - 3s 417ms/step - loss: 0.0100 - mse: 0.0100 - val_loss: 0.0117 - val_mse: 0.0117\n",
      "Epoch 52/100\n",
      "6/6 [==============================] - 2s 408ms/step - loss: 0.0097 - mse: 0.0097 - val_loss: 0.0110 - val_mse: 0.0110\n",
      "Epoch 53/100\n",
      "6/6 [==============================] - 2s 389ms/step - loss: 0.0095 - mse: 0.0095 - val_loss: 0.0124 - val_mse: 0.0124\n",
      "Epoch 54/100\n",
      "6/6 [==============================] - 2s 381ms/step - loss: 0.0098 - mse: 0.0098 - val_loss: 0.0116 - val_mse: 0.0116\n",
      "Epoch 55/100\n",
      "6/6 [==============================] - 2s 382ms/step - loss: 0.0093 - mse: 0.0093 - val_loss: 0.0114 - val_mse: 0.0114\n",
      "Epoch 56/100\n",
      "6/6 [==============================] - 2s 387ms/step - loss: 0.0092 - mse: 0.0092 - val_loss: 0.0113 - val_mse: 0.0113\n",
      "Epoch 57/100\n",
      "6/6 [==============================] - 2s 391ms/step - loss: 0.0093 - mse: 0.0093 - val_loss: 0.0119 - val_mse: 0.0119\n",
      "Epoch 58/100\n",
      "6/6 [==============================] - 2s 390ms/step - loss: 0.0095 - mse: 0.0095 - val_loss: 0.0111 - val_mse: 0.0111\n",
      "Epoch 59/100\n",
      "6/6 [==============================] - 2s 398ms/step - loss: 0.0089 - mse: 0.0089 - val_loss: 0.0114 - val_mse: 0.0114\n",
      "Epoch 60/100\n",
      "6/6 [==============================] - 2s 387ms/step - loss: 0.0096 - mse: 0.0096 - val_loss: 0.0116 - val_mse: 0.0116\n",
      "Epoch 61/100\n",
      "6/6 [==============================] - 2s 385ms/step - loss: 0.0087 - mse: 0.0087 - val_loss: 0.0121 - val_mse: 0.0121\n",
      "Epoch 62/100\n",
      "6/6 [==============================] - 2s 385ms/step - loss: 0.0100 - mse: 0.0100 - val_loss: 0.0117 - val_mse: 0.0117\n",
      "Epoch 63/100\n"
     ]
    },
    {
     "name": "stdout",
     "output_type": "stream",
     "text": [
      "6/6 [==============================] - 2s 390ms/step - loss: 0.0094 - mse: 0.0094 - val_loss: 0.0127 - val_mse: 0.0127\n",
      "Epoch 64/100\n",
      "6/6 [==============================] - 2s 393ms/step - loss: 0.0095 - mse: 0.0095 - val_loss: 0.0116 - val_mse: 0.0116\n",
      "Epoch 65/100\n",
      "6/6 [==============================] - 2s 417ms/step - loss: 0.0089 - mse: 0.0089 - val_loss: 0.0115 - val_mse: 0.0115\n",
      "Epoch 66/100\n",
      "6/6 [==============================] - 2s 396ms/step - loss: 0.0094 - mse: 0.0094 - val_loss: 0.0119 - val_mse: 0.0119\n",
      "Epoch 67/100\n",
      "6/6 [==============================] - 2s 390ms/step - loss: 0.0084 - mse: 0.0084 - val_loss: 0.0120 - val_mse: 0.0120\n",
      "Epoch 68/100\n",
      "6/6 [==============================] - 2s 392ms/step - loss: 0.0090 - mse: 0.0090 - val_loss: 0.0116 - val_mse: 0.0116\n",
      "Epoch 69/100\n",
      "6/6 [==============================] - 2s 391ms/step - loss: 0.0090 - mse: 0.0090 - val_loss: 0.0119 - val_mse: 0.0119\n",
      "Epoch 70/100\n",
      "6/6 [==============================] - 2s 390ms/step - loss: 0.0089 - mse: 0.0089 - val_loss: 0.0123 - val_mse: 0.0123\n",
      "Epoch 71/100\n",
      "6/6 [==============================] - 2s 390ms/step - loss: 0.0097 - mse: 0.0097 - val_loss: 0.0119 - val_mse: 0.0119\n",
      "Epoch 72/100\n",
      "6/6 [==============================] - 2s 396ms/step - loss: 0.0092 - mse: 0.0092 - val_loss: 0.0113 - val_mse: 0.0113\n",
      "Epoch 73/100\n",
      "6/6 [==============================] - 2s 390ms/step - loss: 0.0093 - mse: 0.0093 - val_loss: 0.0124 - val_mse: 0.0124\n",
      "Epoch 74/100\n",
      "6/6 [==============================] - 2s 395ms/step - loss: 0.0093 - mse: 0.0093 - val_loss: 0.0129 - val_mse: 0.0129\n",
      "Epoch 75/100\n",
      "6/6 [==============================] - 2s 392ms/step - loss: 0.0092 - mse: 0.0092 - val_loss: 0.0108 - val_mse: 0.0108\n",
      "Epoch 76/100\n",
      "6/6 [==============================] - 2s 391ms/step - loss: 0.0088 - mse: 0.0088 - val_loss: 0.0114 - val_mse: 0.0114\n",
      "Epoch 77/100\n",
      "6/6 [==============================] - 2s 412ms/step - loss: 0.0085 - mse: 0.0085 - val_loss: 0.0122 - val_mse: 0.0122\n",
      "Epoch 78/100\n",
      "6/6 [==============================] - 2s 411ms/step - loss: 0.0088 - mse: 0.0088 - val_loss: 0.0116 - val_mse: 0.0116\n",
      "Epoch 79/100\n",
      "6/6 [==============================] - 2s 412ms/step - loss: 0.0089 - mse: 0.0089 - val_loss: 0.0125 - val_mse: 0.0125\n",
      "Epoch 80/100\n",
      "6/6 [==============================] - 2s 389ms/step - loss: 0.0087 - mse: 0.0087 - val_loss: 0.0113 - val_mse: 0.0113\n",
      "Epoch 81/100\n",
      "6/6 [==============================] - 2s 388ms/step - loss: 0.0089 - mse: 0.0089 - val_loss: 0.0112 - val_mse: 0.0112\n",
      "Epoch 82/100\n",
      "6/6 [==============================] - 2s 393ms/step - loss: 0.0084 - mse: 0.0084 - val_loss: 0.0118 - val_mse: 0.0118\n",
      "Epoch 83/100\n",
      "6/6 [==============================] - 2s 395ms/step - loss: 0.0090 - mse: 0.0090 - val_loss: 0.0110 - val_mse: 0.0110\n",
      "Epoch 84/100\n",
      "6/6 [==============================] - 2s 395ms/step - loss: 0.0090 - mse: 0.0090 - val_loss: 0.0114 - val_mse: 0.0114\n",
      "Epoch 85/100\n",
      "6/6 [==============================] - 2s 398ms/step - loss: 0.0087 - mse: 0.0087 - val_loss: 0.0126 - val_mse: 0.0126\n",
      "Epoch 86/100\n",
      "6/6 [==============================] - 2s 403ms/step - loss: 0.0085 - mse: 0.0085 - val_loss: 0.0111 - val_mse: 0.0111\n",
      "Epoch 87/100\n",
      "6/6 [==============================] - 2s 399ms/step - loss: 0.0086 - mse: 0.0086 - val_loss: 0.0121 - val_mse: 0.0121\n",
      "Epoch 88/100\n",
      "6/6 [==============================] - 2s 404ms/step - loss: 0.0086 - mse: 0.0086 - val_loss: 0.0116 - val_mse: 0.0116\n",
      "Epoch 89/100\n",
      "6/6 [==============================] - 2s 404ms/step - loss: 0.0080 - mse: 0.0080 - val_loss: 0.0109 - val_mse: 0.0109\n",
      "Epoch 90/100\n",
      "6/6 [==============================] - 2s 394ms/step - loss: 0.0081 - mse: 0.0081 - val_loss: 0.0117 - val_mse: 0.0117\n",
      "Epoch 91/100\n",
      "6/6 [==============================] - 2s 390ms/step - loss: 0.0085 - mse: 0.0085 - val_loss: 0.0122 - val_mse: 0.0122\n",
      "Epoch 92/100\n",
      "6/6 [==============================] - 2s 400ms/step - loss: 0.0079 - mse: 0.0079 - val_loss: 0.0120 - val_mse: 0.0120\n",
      "Epoch 93/100\n",
      "6/6 [==============================] - 2s 397ms/step - loss: 0.0082 - mse: 0.0082 - val_loss: 0.0113 - val_mse: 0.0113\n",
      "Epoch 94/100\n",
      "6/6 [==============================] - 2s 394ms/step - loss: 0.0081 - mse: 0.0081 - val_loss: 0.0116 - val_mse: 0.0116\n",
      "Epoch 95/100\n",
      "6/6 [==============================] - 2s 393ms/step - loss: 0.0082 - mse: 0.0082 - val_loss: 0.0117 - val_mse: 0.0117\n",
      "Epoch 96/100\n",
      "6/6 [==============================] - 2s 394ms/step - loss: 0.0081 - mse: 0.0081 - val_loss: 0.0110 - val_mse: 0.0110\n",
      "Epoch 97/100\n",
      "6/6 [==============================] - 2s 392ms/step - loss: 0.0082 - mse: 0.0082 - val_loss: 0.0118 - val_mse: 0.0118\n",
      "Epoch 98/100\n",
      "6/6 [==============================] - 2s 391ms/step - loss: 0.0082 - mse: 0.0082 - val_loss: 0.0118 - val_mse: 0.0118\n",
      "Epoch 99/100\n",
      "6/6 [==============================] - 2s 394ms/step - loss: 0.0084 - mse: 0.0084 - val_loss: 0.0117 - val_mse: 0.0117\n",
      "Epoch 100/100\n",
      "6/6 [==============================] - 2s 394ms/step - loss: 0.0081 - mse: 0.0081 - val_loss: 0.0119 - val_mse: 0.0119\n"
     ]
    }
   ],
   "source": [
    "modelo = tuner.hypermodel.build(best_hps)\n",
    "history = modelo.fit(X_train, Y_train,\n",
    "                      epochs=100,batch_size=32,\n",
    "                      validation_data=(X_test, Y_test))"
   ]
  },
  {
   "cell_type": "code",
   "execution_count": 187,
   "id": "70224dd5",
   "metadata": {},
   "outputs": [
    {
     "name": "stdout",
     "output_type": "stream",
     "text": [
      "> 1.192\n"
     ]
    }
   ],
   "source": [
    "# evaluate model\n",
    "_, acc = modelo.evaluate(X_test, Y_test, verbose=0)\n",
    "print('> %.3f' % (acc * 100.0))"
   ]
  },
  {
   "cell_type": "code",
   "execution_count": 188,
   "id": "119dd74c",
   "metadata": {},
   "outputs": [
    {
     "name": "stdout",
     "output_type": "stream",
     "text": [
      "2/2 [==============================] - 1s 60ms/step\n"
     ]
    }
   ],
   "source": [
    "#Predecimos y normalizamos\n",
    "prediccion = modelo.predict(X_test)"
   ]
  },
  {
   "cell_type": "code",
   "execution_count": 189,
   "id": "71ffcb94",
   "metadata": {
    "scrolled": true
   },
   "outputs": [
    {
     "data": {
      "text/plain": [
       "array([[0.92275274, 0.06834222, 0.50155836, 0.5610313 ],\n",
       "       [0.9310613 , 0.05480573, 0.51188636, 0.564778  ],\n",
       "       [0.89732087, 0.07349171, 0.52766746, 0.5657032 ],\n",
       "       [0.8435405 , 0.11088346, 0.5452486 , 0.566448  ],\n",
       "       [0.7880565 , 0.1585444 , 0.5688965 , 0.5700278 ],\n",
       "       [0.72278875, 0.22427653, 0.59145   , 0.5701424 ],\n",
       "       [0.66796756, 0.2924623 , 0.61461705, 0.57050836],\n",
       "       [0.60686785, 0.37043738, 0.62437177, 0.5649462 ],\n",
       "       [0.5601612 , 0.44831327, 0.6354543 , 0.56382   ],\n",
       "       [0.5253648 , 0.51953197, 0.6311488 , 0.5638808 ],\n",
       "       [0.4972617 , 0.58180535, 0.61473763, 0.5641981 ],\n",
       "       [0.45285156, 0.6658902 , 0.6017115 , 0.5737604 ],\n",
       "       [0.42473423, 0.7008858 , 0.5659127 , 0.57143015],\n",
       "       [0.4013975 , 0.7334708 , 0.5486437 , 0.5776965 ],\n",
       "       [0.3790615 , 0.734818  , 0.5230427 , 0.57272136],\n",
       "       [0.36245695, 0.73951155, 0.5306339 , 0.5755114 ],\n",
       "       [0.33304754, 0.7370561 , 0.53962326, 0.5700626 ],\n",
       "       [0.23070467, 0.7976282 , 0.55166376, 0.5718469 ],\n",
       "       [0.12140726, 0.87470204, 0.5716871 , 0.5873607 ],\n",
       "       [0.05203411, 0.9387474 , 0.58743393, 0.6102533 ],\n",
       "       [0.0342121 , 0.9658121 , 0.58354115, 0.6132488 ],\n",
       "       [0.07055203, 0.94865847, 0.560567  , 0.5959566 ],\n",
       "       [0.132729  , 0.90574765, 0.50805175, 0.57025295],\n",
       "       [0.23275588, 0.8267719 , 0.5027026 , 0.54906124],\n",
       "       [0.31401563, 0.7527343 , 0.5476366 , 0.5471816 ],\n",
       "       [0.34252673, 0.72638357, 0.5458911 , 0.5506238 ],\n",
       "       [0.36095253, 0.7087809 , 0.5376943 , 0.5557307 ],\n",
       "       [0.37545842, 0.6957325 , 0.5299048 , 0.56230074],\n",
       "       [0.3893263 , 0.67977846, 0.5220337 , 0.5678702 ],\n",
       "       [0.40390968, 0.66109383, 0.51379204, 0.5723509 ],\n",
       "       [0.42365858, 0.6373717 , 0.50950354, 0.5759915 ],\n",
       "       [0.4594753 , 0.585326  , 0.5101746 , 0.57575655],\n",
       "       [0.50084436, 0.524706  , 0.5117094 , 0.575263  ],\n",
       "       [0.55714464, 0.44584295, 0.5159441 , 0.57514274],\n",
       "       [0.6038821 , 0.38085142, 0.5180464 , 0.5765007 ],\n",
       "       [0.67932177, 0.29150924, 0.5209871 , 0.5790457 ],\n",
       "       [0.7932918 , 0.18517508, 0.513226  , 0.57890326],\n",
       "       [0.87277555, 0.1166651 , 0.5023786 , 0.5771553 ],\n",
       "       [0.94198465, 0.06316562, 0.4994709 , 0.57676667],\n",
       "       [0.9632406 , 0.05027012, 0.5122779 , 0.57660484],\n",
       "       [0.934723  , 0.0735098 , 0.5492475 , 0.5783056 ],\n",
       "       [0.8811563 , 0.12002546, 0.59033734, 0.58165234],\n",
       "       [0.801918  , 0.18729109, 0.62193024, 0.58041966],\n",
       "       [0.7312217 , 0.2617822 , 0.6512192 , 0.58306664],\n",
       "       [0.680551  , 0.32949182, 0.6706294 , 0.5865869 ],\n",
       "       [0.6323272 , 0.3998259 , 0.6750456 , 0.58612883],\n",
       "       [0.58954024, 0.46649688, 0.6605306 , 0.5809168 ],\n",
       "       [0.54422826, 0.5222318 , 0.60952234, 0.5625577 ],\n",
       "       [0.52204645, 0.57511294, 0.5842199 , 0.5617384 ],\n",
       "       [0.49163488, 0.6146331 , 0.5438736 , 0.5543035 ],\n",
       "       [0.43476006, 0.68285835, 0.52477634, 0.55785954],\n",
       "       [0.39548266, 0.72511023, 0.52364975, 0.5659815 ]], dtype=float32)"
      ]
     },
     "execution_count": 189,
     "metadata": {},
     "output_type": "execute_result"
    }
   ],
   "source": [
    "prediccion"
   ]
  },
  {
   "cell_type": "code",
   "execution_count": 190,
   "id": "8eff38fe",
   "metadata": {},
   "outputs": [],
   "source": [
    "#prediccion[0][1]"
   ]
  },
  {
   "cell_type": "code",
   "execution_count": 191,
   "id": "07629d83",
   "metadata": {},
   "outputs": [
    {
     "data": {
      "text/plain": [
       "'nw = list()\\nfor x in range(0,len(prediccion)):\\n    new_item = list()\\n    new_item.append(prediccion, [[0],[0]], axis=1)\\n    nw.append(new_item)\\nnw = np.array(nw)'"
      ]
     },
     "execution_count": 191,
     "metadata": {},
     "output_type": "execute_result"
    }
   ],
   "source": [
    "'''nw = list()\n",
    "for x in range(0,len(prediccion)):\n",
    "    new_item = list()\n",
    "    new_item.append(prediccion, [[0],[0]], axis=1)\n",
    "    nw.append(new_item)\n",
    "nw = np.array(nw)'''"
   ]
  },
  {
   "cell_type": "code",
   "execution_count": 192,
   "id": "3cb70ade",
   "metadata": {
    "scrolled": true
   },
   "outputs": [],
   "source": [
    "#nw"
   ]
  },
  {
   "cell_type": "code",
   "execution_count": 193,
   "id": "c0721a61",
   "metadata": {},
   "outputs": [
    {
     "data": {
      "text/plain": [
       "(52, 4)"
      ]
     },
     "execution_count": 193,
     "metadata": {},
     "output_type": "execute_result"
    }
   ],
   "source": [
    "prediccion = sc1.inverse_transform(prediccion)\n",
    "prediccion.shape"
   ]
  },
  {
   "cell_type": "code",
   "execution_count": 194,
   "id": "e7f62134",
   "metadata": {},
   "outputs": [
    {
     "data": {
      "text/plain": [
       "(52, 30, 4)"
      ]
     },
     "execution_count": 194,
     "metadata": {},
     "output_type": "execute_result"
    }
   ],
   "source": [
    "X_test.shape"
   ]
  },
  {
   "cell_type": "code",
   "execution_count": 195,
   "id": "cf57f46b",
   "metadata": {
    "scrolled": true
   },
   "outputs": [
    {
     "data": {
      "text/plain": [
       "array([[ 2.4521055e+00, -7.6630806e+01, -1.8689388e+00,  5.0656706e-01],\n",
       "       [ 2.4521413e+00, -7.6630936e+01, -1.7400161e+00,  7.7724385e-01],\n",
       "       [ 2.4519963e+00, -7.6630760e+01, -1.5430231e+00,  8.4408730e-01],\n",
       "       [ 2.4517651e+00, -7.6630417e+01, -1.3235602e+00,  8.9789200e-01],\n",
       "       [ 2.4515266e+00, -7.6629974e+01, -1.0283679e+00,  1.1565160e+00],\n",
       "       [ 2.4512460e+00, -7.6629356e+01, -7.4683607e-01,  1.1647923e+00],\n",
       "       [ 2.4510102e+00, -7.6628731e+01, -4.5764518e-01,  1.1912317e+00],\n",
       "       [ 2.4507477e+00, -7.6628014e+01, -3.3587858e-01,  7.8939563e-01],\n",
       "       [ 2.4505470e+00, -7.6627289e+01, -1.9753711e-01,  7.0803630e-01],\n",
       "       [ 2.4503975e+00, -7.6626625e+01, -2.5128177e-01,  7.1242851e-01],\n",
       "       [ 2.4502766e+00, -7.6626045e+01, -4.5613998e-01,  7.3534983e-01],\n",
       "       [ 2.4500856e+00, -7.6625267e+01, -6.1874294e-01,  1.4261723e+00],\n",
       "       [ 2.4499648e+00, -7.6624947e+01, -1.0656135e+00,  1.2578255e+00],\n",
       "       [ 2.4498646e+00, -7.6624649e+01, -1.2811799e+00,  1.7105337e+00],\n",
       "       [ 2.4497685e+00, -7.6624634e+01, -1.6007535e+00,  1.3511084e+00],\n",
       "       [ 2.4496973e+00, -7.6624588e+01, -1.5059932e+00,  1.5526724e+00],\n",
       "       [ 2.4495707e+00, -7.6624611e+01, -1.3937807e+00,  1.1590265e+00],\n",
       "       [ 2.4491308e+00, -7.6624046e+01, -1.2434812e+00,  1.2879337e+00],\n",
       "       [ 2.4486611e+00, -7.6623337e+01, -9.9353290e-01,  2.4087152e+00],\n",
       "       [ 2.4483628e+00, -7.6622749e+01, -7.9696769e-01,  4.0625744e+00],\n",
       "       [ 2.4482863e+00, -7.6622490e+01, -8.4556067e-01,  4.2789855e+00],\n",
       "       [ 2.4484422e+00, -7.6622658e+01, -1.1323432e+00,  3.0297229e+00],\n",
       "       [ 2.4487097e+00, -7.6623055e+01, -1.7878829e+00,  1.1727802e+00],\n",
       "       [ 2.4491396e+00, -7.6623787e+01, -1.8546556e+00, -3.5820004e-01],\n",
       "       [ 2.4494889e+00, -7.6624466e+01, -1.2937511e+00, -4.9399272e-01],\n",
       "       [ 2.4496114e+00, -7.6624710e+01, -1.3155402e+00, -2.4531578e-01],\n",
       "       [ 2.4496906e+00, -7.6624870e+01, -1.4178600e+00,  1.2363040e-01],\n",
       "       [ 2.4497530e+00, -7.6625000e+01, -1.5150950e+00,  5.9827822e-01],\n",
       "       [ 2.4498127e+00, -7.6625145e+01, -1.6133486e+00,  1.0006397e+00],\n",
       "       [ 2.4498754e+00, -7.6625313e+01, -1.7162278e+00,  1.3243461e+00],\n",
       "       [ 2.4499602e+00, -7.6625534e+01, -1.7697604e+00,  1.5873580e+00],\n",
       "       [ 2.4501140e+00, -7.6626022e+01, -1.7613841e+00,  1.5703833e+00],\n",
       "       [ 2.4502919e+00, -7.6626579e+01, -1.7422252e+00,  1.5347289e+00],\n",
       "       [ 2.4505341e+00, -7.6627312e+01, -1.6893637e+00,  1.5260391e+00],\n",
       "       [ 2.4507349e+00, -7.6627914e+01, -1.6631216e+00,  1.6241449e+00],\n",
       "       [ 2.4510591e+00, -7.6628746e+01, -1.6264131e+00,  1.8080065e+00],\n",
       "       [ 2.4515491e+00, -7.6629723e+01, -1.7232939e+00,  1.7977149e+00],\n",
       "       [ 2.4518907e+00, -7.6630363e+01, -1.8587002e+00,  1.6714344e+00],\n",
       "       [ 2.4521883e+00, -7.6630852e+01, -1.8949964e+00,  1.6433587e+00],\n",
       "       [ 2.4522796e+00, -7.6630974e+01, -1.7351285e+00,  1.6316676e+00],\n",
       "       [ 2.4521570e+00, -7.6630760e+01, -1.2736429e+00,  1.7545378e+00],\n",
       "       [ 2.4519267e+00, -7.6630325e+01, -7.6072496e-01,  1.9963206e+00],\n",
       "       [ 2.4515862e+00, -7.6629700e+01, -3.6635575e-01,  1.9072663e+00],\n",
       "       [ 2.4512823e+00, -7.6629013e+01, -7.4644963e-04,  2.0984957e+00],\n",
       "       [ 2.4510646e+00, -7.6628387e+01,  2.4154791e-01,  2.3528135e+00],\n",
       "       [ 2.4508572e+00, -7.6627739e+01,  2.9667497e-01,  2.3197212e+00],\n",
       "       [ 2.4506731e+00, -7.6627113e+01,  1.1548675e-01,  1.9431834e+00],\n",
       "       [ 2.4504786e+00, -7.6626602e+01, -5.2124161e-01,  6.1684179e-01],\n",
       "       [ 2.4503832e+00, -7.6626114e+01, -8.3708829e-01,  5.5765027e-01],\n",
       "       [ 2.4502523e+00, -7.6625748e+01, -1.3407243e+00,  2.0525277e-02],\n",
       "       [ 2.4500077e+00, -7.6625114e+01, -1.5791125e+00,  2.7742684e-01],\n",
       "       [ 2.4498391e+00, -7.6624725e+01, -1.5931755e+00,  8.6419249e-01]],\n",
       "      dtype=float32)"
      ]
     },
     "execution_count": 195,
     "metadata": {},
     "output_type": "execute_result"
    }
   ],
   "source": [
    "prediccion"
   ]
  },
  {
   "cell_type": "code",
   "execution_count": 196,
   "id": "300981c9",
   "metadata": {},
   "outputs": [],
   "source": [
    "calle_5 = pd.DataFrame(prediccion[:,0:2])"
   ]
  },
  {
   "cell_type": "code",
   "execution_count": 197,
   "id": "79cad69e",
   "metadata": {},
   "outputs": [],
   "source": [
    "calle_5.to_csv('calle_5.csv')"
   ]
  },
  {
   "cell_type": "code",
   "execution_count": 198,
   "id": "6d0c6540",
   "metadata": {},
   "outputs": [],
   "source": [
    "array_latitud_p = []\n",
    "for x in range(len(prediccion)):\n",
    "    array_latitud_p.append(prediccion[x,0])"
   ]
  },
  {
   "cell_type": "code",
   "execution_count": 199,
   "id": "57758417",
   "metadata": {},
   "outputs": [],
   "source": [
    "array_longitud_p = []\n",
    "for x in range(len(prediccion)):\n",
    "    array_longitud_p.append(prediccion[x,1])"
   ]
  },
  {
   "cell_type": "code",
   "execution_count": 200,
   "id": "8bcee8a2",
   "metadata": {
    "scrolled": true
   },
   "outputs": [],
   "source": [
    "#array_latitud_p"
   ]
  },
  {
   "cell_type": "code",
   "execution_count": 201,
   "id": "3149f8ca",
   "metadata": {
    "scrolled": true
   },
   "outputs": [],
   "source": [
    "#array_longitud_p"
   ]
  },
  {
   "cell_type": "code",
   "execution_count": 202,
   "id": "68509ccd",
   "metadata": {},
   "outputs": [],
   "source": [
    "# Funciones auxiliares\n",
    "def graficar_predicciones(real, prediccion,titulo):\n",
    "    plt.plot(real[time_step:len(array_latitud)], color='red', label='Valor real')\n",
    "    plt.plot(prediccion, color='blue', label='Predicción')\n",
    "   # plt.ylim(-44,-43)\n",
    "    plt.xlabel('Número de mediciones')\n",
    "    plt.ylabel('Grados')\n",
    "    plt.title(titulo)\n",
    "    plt.legend()\n",
    "    plt.show()"
   ]
  },
  {
   "cell_type": "code",
   "execution_count": 203,
   "id": "411a36c5",
   "metadata": {
    "scrolled": false
   },
   "outputs": [
    {
     "data": {
      "image/png": "[encoded data removed]",
      "text/plain": [
       "<Figure size 432x288 with 1 Axes>"
      ]
     },
     "metadata": {
      "needs_background": "light"
     },
     "output_type": "display_data"
    }
   ],
   "source": [
    "# Graficar resultados\n",
    "graficar_predicciones(array_latitud,array_latitud_p,'Test de Latitud')"
   ]
  },
  {
   "cell_type": "code",
   "execution_count": 204,
   "id": "87b775eb",
   "metadata": {},
   "outputs": [
    {
     "data": {
      "image/png": "[encoded data removed]",
      "text/plain": [
       "<Figure size 432x288 with 1 Axes>"
      ]
     },
     "metadata": {
      "needs_background": "light"
     },
     "output_type": "display_data"
    }
   ],
   "source": [
    "graficar_predicciones(array_longitud,array_longitud_p, 'Test de Longitud')"
   ]
  },
  {
   "cell_type": "code",
   "execution_count": 205,
   "id": "c9d10ea7",
   "metadata": {},
   "outputs": [],
   "source": [
    "from sklearn.metrics import mean_squared_error"
   ]
  },
  {
   "cell_type": "code",
   "execution_count": 206,
   "id": "c9a64654",
   "metadata": {},
   "outputs": [],
   "source": [
    "mse_lat = mean_squared_error(array_latitud[time_step:],array_latitud_p, squared=False)"
   ]
  },
  {
   "cell_type": "code",
   "execution_count": 207,
   "id": "cddd292b",
   "metadata": {},
   "outputs": [
    {
     "data": {
      "text/plain": [
       "0.00022503935716268583"
      ]
     },
     "execution_count": 207,
     "metadata": {},
     "output_type": "execute_result"
    }
   ],
   "source": [
    "mse_lat"
   ]
  },
  {
   "cell_type": "code",
   "execution_count": 208,
   "id": "d422ac43",
   "metadata": {},
   "outputs": [],
   "source": [
    "mse_lon = mean_squared_error(array_longitud[time_step:],array_longitud_p, squared=False)"
   ]
  },
  {
   "cell_type": "code",
   "execution_count": 209,
   "id": "0ba4e8af",
   "metadata": {},
   "outputs": [
    {
     "data": {
      "text/plain": [
       "0.0005999744301638697"
      ]
     },
     "execution_count": 209,
     "metadata": {},
     "output_type": "execute_result"
    }
   ],
   "source": [
    "mse_lon"
   ]
  },
  {
   "cell_type": "code",
   "execution_count": 210,
   "id": "df439d48",
   "metadata": {},
   "outputs": [
    {
     "data": {
      "text/plain": [
       "0.07127269527148426"
      ]
     },
     "execution_count": 210,
     "metadata": {},
     "output_type": "execute_result"
    }
   ],
   "source": [
    "haversine(0.00000,0.00000,mse_lat,mse_lon)"
   ]
  },
  {
   "cell_type": "code",
   "execution_count": 211,
   "id": "6fc0b68b",
   "metadata": {
    "scrolled": true
   },
   "outputs": [
    {
     "name": "stdout",
     "output_type": "stream",
     "text": [
      "1/1 [==============================] - 0s 16ms/step\n",
      "1/1 [==============================] - 0s 15ms/step\n",
      "1/1 [==============================] - 0s 16ms/step\n",
      "1/1 [==============================] - 0s 16ms/step\n",
      "1/1 [==============================] - 0s 15ms/step\n",
      "1/1 [==============================] - 0s 16ms/step\n",
      "1/1 [==============================] - 0s 16ms/step\n",
      "1/1 [==============================] - 0s 15ms/step\n",
      "1/1 [==============================] - 0s 16ms/step\n",
      "1/1 [==============================] - 0s 16ms/step\n",
      "1/1 [==============================] - 0s 15ms/step\n",
      "1/1 [==============================] - 0s 15ms/step\n",
      "1/1 [==============================] - 0s 16ms/step\n",
      "1/1 [==============================] - 0s 16ms/step\n",
      "1/1 [==============================] - 0s 15ms/step\n",
      "1/1 [==============================] - 0s 15ms/step\n",
      "1/1 [==============================] - 0s 16ms/step\n",
      "1/1 [==============================] - 0s 16ms/step\n",
      "1/1 [==============================] - 0s 16ms/step\n",
      "1/1 [==============================] - 0s 16ms/step\n",
      "1/1 [==============================] - 0s 16ms/step\n",
      "1/1 [==============================] - 0s 16ms/step\n",
      "1/1 [==============================] - 0s 15ms/step\n",
      "1/1 [==============================] - 0s 17ms/step\n",
      "1/1 [==============================] - 0s 16ms/step\n",
      "1/1 [==============================] - 0s 17ms/step\n",
      "1/1 [==============================] - 0s 19ms/step\n",
      "1/1 [==============================] - 0s 17ms/step\n",
      "1/1 [==============================] - 0s 18ms/step\n",
      "1/1 [==============================] - 0s 17ms/step\n",
      "1/1 [==============================] - 0s 18ms/step\n",
      "1/1 [==============================] - 0s 16ms/step\n",
      "1/1 [==============================] - 0s 16ms/step\n",
      "1/1 [==============================] - 0s 16ms/step\n",
      "1/1 [==============================] - 0s 16ms/step\n",
      "1/1 [==============================] - 0s 16ms/step\n",
      "1/1 [==============================] - 0s 16ms/step\n",
      "1/1 [==============================] - 0s 16ms/step\n",
      "1/1 [==============================] - 0s 16ms/step\n",
      "1/1 [==============================] - 0s 15ms/step\n",
      "1/1 [==============================] - 0s 17ms/step\n",
      "1/1 [==============================] - 0s 15ms/step\n",
      "1/1 [==============================] - 0s 20ms/step\n",
      "1/1 [==============================] - 0s 20ms/step\n",
      "1/1 [==============================] - 0s 16ms/step\n",
      "1/1 [==============================] - 0s 16ms/step\n",
      "1/1 [==============================] - 0s 15ms/step\n",
      "1/1 [==============================] - 0s 15ms/step\n",
      "1/1 [==============================] - 0s 16ms/step\n",
      "1/1 [==============================] - 0s 15ms/step\n",
      "1/1 [==============================] - 0s 15ms/step\n",
      "1/1 [==============================] - 0s 15ms/step\n"
     ]
    }
   ],
   "source": [
    "#Prediccion con los primeros datos del set de validacion\n",
    "# Using predicted values to predict next step\n",
    "X_pred = x_test_n.copy()\n",
    "for i in range(time_step,len(X_pred)):\n",
    "    xin = X_pred[i-time_step:i].reshape(1, time_step, 4)\n",
    "    X_pred[i] = modelo.predict(xin)"
   ]
  },
  {
   "cell_type": "code",
   "execution_count": 212,
   "id": "a963ccde",
   "metadata": {},
   "outputs": [
    {
     "data": {
      "text/plain": [
       "82"
      ]
     },
     "execution_count": 212,
     "metadata": {},
     "output_type": "execute_result"
    }
   ],
   "source": [
    "len(X_pred)"
   ]
  },
  {
   "cell_type": "code",
   "execution_count": 213,
   "id": "27acf4e2",
   "metadata": {
    "scrolled": true
   },
   "outputs": [
    {
     "data": {
      "text/plain": [
       "array([[0.87705013, 0.10923381, 0.17056792, 0.61644123],\n",
       "       [0.96763987, 0.03695467, 0.36070606, 0.50422652],\n",
       "       [0.966593  , 0.01033176, 0.38066002, 0.59319524],\n",
       "       [0.88512272, 0.08518035, 0.58326939, 0.60333895],\n",
       "       [0.82894033, 0.13532771, 0.43668458, 0.58199491],\n",
       "       [0.74083983, 0.21419241, 0.605142  , 0.53043109],\n",
       "       [0.66067233, 0.28226111, 0.34113585, 0.53043109],\n",
       "       [0.56808189, 0.36875857, 0.96815043, 0.59868975],\n",
       "       [0.5274398 , 0.4545327 , 0.65138144, 0.49133557],\n",
       "       [0.52515994, 0.53791011, 0.5821182 , 0.54015214],\n",
       "       [0.48005118, 0.62539001, 1.        , 0.61749787],\n",
       "       [0.42065837, 0.67348613, 0.22256332, 0.68977174],\n",
       "       [0.33611725, 0.73658868, 0.60571759, 0.46956888],\n",
       "       [0.2439223 , 0.80097596, 0.17824252, 0.51923075],\n",
       "       [0.14439921, 0.87846956, 0.56197239, 0.54945053],\n",
       "       [0.05569385, 0.9421443 , 0.39543362, 0.61728654],\n",
       "       [0.00604862, 0.99774364, 0.56312358, 1.        ],\n",
       "       [0.07930673, 0.9451132 , 0.6554106 , 0.44526625],\n",
       "       [0.15075026, 0.88379198, 0.60552573, 0.62341503],\n",
       "       [0.24938932, 0.80724843, 0.37854951, 0.54078612],\n",
       "       [0.31055019, 0.76324398, 0.50076748, 0.56297547],\n",
       "       [0.35686868, 0.72824338, 0.58864162, 0.53846152],\n",
       "       [0.44350355, 0.66206398, 0.44877207, 0.52134402],\n",
       "       [0.51145749, 0.60157406, 0.4201842 , 0.49260353],\n",
       "       [0.53237176, 0.5226122 , 0.3676132 , 0.51500421],\n",
       "       [0.54077004, 0.42851436, 0.57732158, 0.56783599],\n",
       "       [0.61100384, 0.33701836, 0.36415964, 0.57544377],\n",
       "       [0.71092241, 0.25734397, 0.48465082, 0.52345729],\n",
       "       [0.79304409, 0.18439548, 0.72716809, 0.5266272 ],\n",
       "       [0.87709666, 0.11308798, 0.61531084, 0.54480133],\n",
       "       [0.9227528 , 0.06834221, 0.50155842, 0.5610311 ],\n",
       "       [0.9310745 , 0.05543269, 0.51116759, 0.56518793],\n",
       "       [0.9030183 , 0.07113896, 0.52664763, 0.56778532],\n",
       "       [0.85693526, 0.105106  , 0.54585767, 0.57039177],\n",
       "       [0.80102307, 0.15388575, 0.56885517, 0.57339489],\n",
       "       [0.74226987, 0.21376714, 0.59359407, 0.57550299],\n",
       "       [0.68626916, 0.28123751, 0.61736864, 0.57616073],\n",
       "       [0.63405102, 0.35106093, 0.63318664, 0.57315636],\n",
       "       [0.59342527, 0.42103601, 0.65090078, 0.57352787],\n",
       "       [0.56196594, 0.48810127, 0.65221161, 0.57411563],\n",
       "       [0.53566098, 0.54835898, 0.63967526, 0.57377952],\n",
       "       [0.52056211, 0.60830176, 0.63997525, 0.58290237],\n",
       "       [0.49809992, 0.64341003, 0.60298306, 0.57865149],\n",
       "       [0.4761171 , 0.6823985 , 0.58273685, 0.58390731],\n",
       "       [0.43964282, 0.70149064, 0.54868257, 0.5780772 ],\n",
       "       [0.3903358 , 0.73841912, 0.54546374, 0.58191782],\n",
       "       [0.30313757, 0.78476661, 0.54188263, 0.58053696],\n",
       "       [0.18475914, 0.85513657, 0.55175561, 0.58650482],\n",
       "       [0.07489088, 0.93744397, 0.57373643, 0.6109674 ],\n",
       "       [0.        , 1.00791836, 0.58875072, 0.63506103],\n",
       "       [0.        , 1.02869606, 0.58572567, 0.63370025],\n",
       "       [0.00365691, 1.02467   , 0.54314733, 0.61469173],\n",
       "       [0.04498634, 0.99782473, 0.47425392, 0.58844161],\n",
       "       [0.08667629, 0.97034693, 0.41167489, 0.56698036],\n",
       "       [0.13034505, 0.93835771, 0.38366336, 0.55408031],\n",
       "       [0.17923455, 0.90282106, 0.39123592, 0.54852569],\n",
       "       [0.23545311, 0.86130726, 0.42258617, 0.54876   ],\n",
       "       [0.29237902, 0.8208009 , 0.46110713, 0.55318707],\n",
       "       [0.33263305, 0.79349893, 0.48301193, 0.55979532],\n",
       "       [0.36246735, 0.7711187 , 0.49130437, 0.56729597],\n",
       "       [0.38633367, 0.75100082, 0.48911035, 0.57590079],\n",
       "       [0.41138431, 0.72541821, 0.4869462 , 0.58536625],\n",
       "       [0.43961889, 0.6901952 , 0.49101734, 0.59505129],\n",
       "       [0.47232461, 0.64256847, 0.50688922, 0.60362542],\n",
       "       [0.51147014, 0.5788703 , 0.54041916, 0.60847741],\n",
       "       [0.55487329, 0.50499254, 0.59036195, 0.60751331],\n",
       "       [0.59919333, 0.43078229, 0.64900196, 0.60250032],\n",
       "       [0.65356463, 0.34800619, 0.70927364, 0.59576261],\n",
       "       [0.72488838, 0.25995257, 0.75606573, 0.58784109],\n",
       "       [0.80979276, 0.17664132, 0.78343093, 0.5790906 ],\n",
       "       [0.90139818, 0.10119822, 0.79305243, 0.57176286],\n",
       "       [0.9764961 , 0.04903975, 0.79626983, 0.57043445],\n",
       "       [0.9946245 , 0.04150042, 0.80699641, 0.57471514],\n",
       "       [0.9586665 , 0.07083098, 0.82091659, 0.5808897 ],\n",
       "       [0.88923573, 0.12619904, 0.82769084, 0.58628905],\n",
       "       [0.80485636, 0.19720961, 0.82193202, 0.59001338],\n",
       "       [0.71890783, 0.27822778, 0.79820061, 0.5901832 ],\n",
       "       [0.64337826, 0.3636834 , 0.76137453, 0.58642924],\n",
       "       [0.59138727, 0.44527769, 0.72218347, 0.5838517 ],\n",
       "       [0.55675447, 0.52070534, 0.68386692, 0.58338439],\n",
       "       [0.53389502, 0.58772314, 0.64894366, 0.58536667],\n",
       "       [0.51599908, 0.64198887, 0.61809504, 0.5896824 ]])"
      ]
     },
     "execution_count": 213,
     "metadata": {},
     "output_type": "execute_result"
    }
   ],
   "source": [
    "X_pred"
   ]
  },
  {
   "cell_type": "code",
   "execution_count": 214,
   "id": "d8d04443",
   "metadata": {},
   "outputs": [
    {
     "data": {
      "text/plain": [
       "(1, 30, 4)"
      ]
     },
     "execution_count": 214,
     "metadata": {},
     "output_type": "execute_result"
    }
   ],
   "source": [
    "xin.shape"
   ]
  },
  {
   "cell_type": "code",
   "execution_count": 215,
   "id": "55382937",
   "metadata": {},
   "outputs": [],
   "source": [
    "prediccion2 = sc1.inverse_transform(X_pred)"
   ]
  },
  {
   "cell_type": "code",
   "execution_count": 216,
   "id": "17089771",
   "metadata": {},
   "outputs": [],
   "source": [
    "# Funciones auxiliares\n",
    "def graficar_predicciones2(real, prediccion,campo,title):\n",
    "    plt.plot(real[0:len(real)], color='red', label='Valor real')\n",
    "    plt.plot(prediccion, color='blue', label='Predicción')\n",
    "    #plt.ylim(-44,-43)\n",
    "    plt.title(title)\n",
    "    plt.xlabel('Numero de mediciones')\n",
    "    plt.ylabel(campo)\n",
    "    plt.legend()\n",
    "    plt.show()"
   ]
  },
  {
   "cell_type": "code",
   "execution_count": 217,
   "id": "ce0e461f",
   "metadata": {
    "scrolled": true
   },
   "outputs": [
    {
     "data": {
      "text/plain": [
       "array([[ 2.45190910e+00, -7.66304280e+01, -6.00064010e+00,\n",
       "         4.50961870e+00],\n",
       "       [ 2.45229850e+00, -7.66310975e+01, -3.62717580e+00,\n",
       "        -3.59725140e+00],\n",
       "       [ 2.45229400e+00, -7.66313441e+01, -3.37809370e+00,\n",
       "         2.83022920e+00],\n",
       "       [ 2.45194380e+00, -7.66306508e+01, -8.48953000e-01,\n",
       "         3.56305360e+00],\n",
       "       [ 2.45170230e+00, -7.66301863e+01, -2.67874800e+00,\n",
       "         2.02106900e+00],\n",
       "       [ 2.45132360e+00, -7.66294558e+01, -5.75920700e-01,\n",
       "        -1.70412170e+00],\n",
       "       [ 2.45097900e+00, -7.66288253e+01, -3.87146770e+00,\n",
       "        -1.70412170e+00],\n",
       "       [ 2.45058100e+00, -7.66280241e+01,  3.95545600e+00,\n",
       "         3.22717590e+00],\n",
       "       [ 2.45040630e+00, -7.66272296e+01,  1.27890000e-03,\n",
       "        -4.52854910e+00],\n",
       "       [ 2.45039650e+00, -7.66264573e+01, -8.63323100e-01,\n",
       "        -1.00183160e+00],\n",
       "       [ 2.45020260e+00, -7.66256470e+01,  4.35302920e+00,\n",
       "         4.58595460e+00],\n",
       "       [ 2.44994730e+00, -7.66252015e+01, -5.35158980e+00,\n",
       "         9.80732820e+00],\n",
       "       [ 2.44958390e+00, -7.66246170e+01, -5.68735700e-01,\n",
       "        -6.10106800e+00],\n",
       "       [ 2.44918760e+00, -7.66240206e+01, -5.90483930e+00,\n",
       "        -2.51328220e+00],\n",
       "       [ 2.44875980e+00, -7.66233028e+01, -1.11480010e+00,\n",
       "        -3.30075900e-01],\n",
       "       [ 2.44837850e+00, -7.66227130e+01, -3.19367720e+00,\n",
       "         4.57068720e+00],\n",
       "       [ 2.44816510e+00, -7.66221980e+01, -1.10043000e+00,\n",
       "         3.22195434e+01],\n",
       "       [ 2.44848000e+00, -7.66226855e+01,  5.15743000e-02,\n",
       "        -7.85679380e+00],\n",
       "       [ 2.44878710e+00, -7.66232535e+01, -5.71130700e-01,\n",
       "         5.01343530e+00],\n",
       "       [ 2.44921110e+00, -7.66239625e+01, -3.40443890e+00,\n",
       "        -9.56030200e-01],\n",
       "       [ 2.44947400e+00, -7.66243701e+01, -1.87881130e+00,\n",
       "         6.47023200e-01],\n",
       "       [ 2.44967310e+00, -7.66246943e+01, -7.81892400e-01,\n",
       "        -1.12396910e+00],\n",
       "       [ 2.45004550e+00, -7.66253073e+01, -2.52786180e+00,\n",
       "        -2.36061040e+00],\n",
       "       [ 2.45033760e+00, -7.66258676e+01, -2.88471970e+00,\n",
       "        -4.43694590e+00],\n",
       "       [ 2.45042750e+00, -7.66265990e+01, -3.54095510e+00,\n",
       "        -2.81862540e+00],\n",
       "       [ 2.45046360e+00, -7.66274706e+01, -9.23198600e-01,\n",
       "         9.98168200e-01],\n",
       "       [ 2.45076550e+00, -7.66283181e+01, -3.58406540e+00,\n",
       "         1.54778650e+00],\n",
       "       [ 2.45119500e+00, -7.66290561e+01, -2.07999300e+00,\n",
       "        -2.20793860e+00],\n",
       "       [ 2.45154800e+00, -7.66297318e+01,  9.47311600e-01,\n",
       "        -1.97893080e+00],\n",
       "       [ 2.45190930e+00, -7.66303923e+01, -4.48984700e-01,\n",
       "        -6.65953700e-01],\n",
       "       [ 2.45210555e+00, -7.66308068e+01, -1.86893810e+00,\n",
       "         5.06554137e-01],\n",
       "       [ 2.45214132e+00, -7.66309263e+01, -1.74898844e+00,\n",
       "         8.06861153e-01],\n",
       "       [ 2.45202072e+00, -7.66307809e+01, -1.55575354e+00,\n",
       "         9.94507824e-01],\n",
       "       [ 2.45182264e+00, -7.66304662e+01, -1.31595764e+00,\n",
       "         1.18280902e+00],\n",
       "       [ 2.45158230e+00, -7.66300144e+01, -1.02888351e+00,\n",
       "         1.39976728e+00],\n",
       "       [ 2.45132975e+00, -7.66294597e+01, -7.20071637e-01,\n",
       "         1.55206522e+00],\n",
       "       [ 2.45108903e+00, -7.66288348e+01, -4.23297515e-01,\n",
       "         1.59958297e+00],\n",
       "       [ 2.45086457e+00, -7.66281880e+01, -2.25843927e-01,\n",
       "         1.38253429e+00],\n",
       "       [ 2.45068994e+00, -7.66275399e+01, -4.72108644e-03,\n",
       "         1.40937417e+00],\n",
       "       [ 2.45055471e+00, -7.66269187e+01,  1.16417389e-02,\n",
       "         1.45183657e+00],\n",
       "       [ 2.45044164e+00, -7.66263605e+01, -1.44847495e-01,\n",
       "         1.42755450e+00],\n",
       "       [ 2.45037674e+00, -7.66258053e+01, -1.41102765e-01,\n",
       "         2.08662807e+00],\n",
       "       [ 2.45028018e+00, -7.66254801e+01, -6.02870445e-01,\n",
       "         1.77952604e+00],\n",
       "       [ 2.45018569e+00, -7.66251189e+01, -8.55600651e-01,\n",
       "         2.15922882e+00],\n",
       "       [ 2.45002890e+00, -7.66249421e+01, -1.28069483e+00,\n",
       "         1.73803682e+00],\n",
       "       [ 2.44981696e+00, -7.66246000e+01, -1.32087497e+00,\n",
       "         2.01550000e+00],\n",
       "       [ 2.44944214e+00, -7.66241707e+01, -1.36557736e+00,\n",
       "         1.91574072e+00],\n",
       "       [ 2.44893329e+00, -7.66235189e+01, -1.24233460e+00,\n",
       "         2.34688410e+00],\n",
       "       [ 2.44846102e+00, -7.66227565e+01, -9.67951477e-01,\n",
       "         4.11416548e+00],\n",
       "       [ 2.44813910e+00, -7.66221038e+01, -7.80530461e-01,\n",
       "         5.85479214e+00],\n",
       "       [ 2.44813910e+00, -7.66219113e+01, -8.18291743e-01,\n",
       "         5.75648401e+00],\n",
       "       [ 2.44815482e+00, -7.66219486e+01, -1.34979042e+00,\n",
       "         4.38322748e+00],\n",
       "       [ 2.44833247e+00, -7.66221972e+01, -2.20977586e+00,\n",
       "         2.48680633e+00],\n",
       "       [ 2.44851168e+00, -7.66224518e+01, -2.99094005e+00,\n",
       "         9.36354021e-01],\n",
       "       [ 2.44869939e+00, -7.66227481e+01, -3.34060356e+00,\n",
       "         4.39895185e-03],\n",
       "       [ 2.44890954e+00, -7.66230772e+01, -3.24607647e+00,\n",
       "        -3.96890281e-01],\n",
       "       [ 2.44915120e+00, -7.66234618e+01, -2.85473620e+00,\n",
       "        -3.79963024e-01],\n",
       "       [ 2.44939589e+00, -7.66238370e+01, -2.37388513e+00,\n",
       "        -6.01321772e-02],\n",
       "       [ 2.44956892e+00, -7.66240899e+01, -2.10045102e+00,\n",
       "         4.17275884e-01],\n",
       "       [ 2.44969717e+00, -7.66242972e+01, -1.99693785e+00,\n",
       "         9.59154790e-01],\n",
       "       [ 2.44979976e+00, -7.66244835e+01, -2.02432542e+00,\n",
       "         1.58080409e+00],\n",
       "       [ 2.44990744e+00, -7.66247205e+01, -2.05134023e+00,\n",
       "         2.26462909e+00],\n",
       "       [ 2.45002880e+00, -7.66250467e+01, -2.00052075e+00,\n",
       "         2.96431774e+00],\n",
       "       [ 2.45016939e+00, -7.66254879e+01, -1.80239456e+00,\n",
       "         3.58374940e+00],\n",
       "       [ 2.45033765e+00, -7.66260779e+01, -1.38384566e+00,\n",
       "         3.93427839e+00],\n",
       "       [ 2.45052422e+00, -7.66267622e+01, -7.60417698e-01,\n",
       "         3.86462732e+00],\n",
       "       [ 2.45071473e+00, -7.66274496e+01, -2.84238204e-02,\n",
       "         3.50246757e+00],\n",
       "       [ 2.45094845e+00, -7.66282163e+01,  7.23938024e-01,\n",
       "         3.01570667e+00],\n",
       "       [ 2.45125503e+00, -7.66290319e+01,  1.30803628e+00,\n",
       "         2.44342243e+00],\n",
       "       [ 2.45161999e+00, -7.66298036e+01,  1.64963183e+00,\n",
       "         1.81124903e+00],\n",
       "       [ 2.45201376e+00, -7.66305024e+01,  1.76973550e+00,\n",
       "         1.28186211e+00],\n",
       "       [ 2.45233657e+00, -7.66309856e+01,  1.80989779e+00,\n",
       "         1.18589218e+00],\n",
       "       [ 2.45241449e+00, -7.66310554e+01,  1.94379588e+00,\n",
       "         1.49514726e+00],\n",
       "       [ 2.45225993e+00, -7.66307837e+01,  2.11755938e+00,\n",
       "         1.94122418e+00],\n",
       "       [ 2.45196148e+00, -7.66302709e+01,  2.20212123e+00,\n",
       "         2.33129604e+00],\n",
       "       [ 2.45159878e+00, -7.66296131e+01,  2.13023477e+00,\n",
       "         2.60035804e+00],\n",
       "       [ 2.45122933e+00, -7.66288627e+01,  1.83399933e+00,\n",
       "         2.61262610e+00],\n",
       "       [ 2.45090466e+00, -7.66280711e+01,  1.37430527e+00,\n",
       "         2.34142397e+00],\n",
       "       [ 2.45068118e+00, -7.66273153e+01,  8.85089384e-01,\n",
       "         2.15521123e+00],\n",
       "       [ 2.45053231e+00, -7.66266167e+01,  4.06789982e-01,\n",
       "         2.12145145e+00],\n",
       "       [ 2.45043405e+00, -7.66259959e+01, -2.91514870e-02,\n",
       "         2.26465923e+00],\n",
       "       [ 2.45035712e+00, -7.66254932e+01, -4.14229956e-01,\n",
       "         2.57644629e+00]])"
      ]
     },
     "execution_count": 217,
     "metadata": {},
     "output_type": "execute_result"
    }
   ],
   "source": [
    "prediccion2"
   ]
  },
  {
   "cell_type": "code",
   "execution_count": 218,
   "id": "23bc33ae",
   "metadata": {
    "scrolled": true
   },
   "outputs": [
    {
     "data": {
      "image/png": "[encoded data removed]",
      "text/plain": [
       "<Figure size 432x288 with 1 Axes>"
      ]
     },
     "metadata": {
      "needs_background": "light"
     },
     "output_type": "display_data"
    }
   ],
   "source": [
    "# Graficar resultados de prediccion de valores futuros\n",
    "graficar_predicciones2(array_latitud,prediccion2[:,0:1],'Grados','Predicción latitud')"
   ]
  },
  {
   "cell_type": "code",
   "execution_count": 219,
   "id": "44de685e",
   "metadata": {
    "scrolled": false
   },
   "outputs": [
    {
     "data": {
      "image/png": "[encoded data removed]",
      "text/plain": [
       "<Figure size 432x288 with 1 Axes>"
      ]
     },
     "metadata": {
      "needs_background": "light"
     },
     "output_type": "display_data"
    }
   ],
   "source": [
    "graficar_predicciones2(array_longitud,prediccion2[:,1:2],'Grados','Prediccion longitud')"
   ]
  },
  {
   "cell_type": "code",
   "execution_count": 220,
   "id": "cea6b13c",
   "metadata": {},
   "outputs": [],
   "source": [
    "mse_lat_p = mean_squared_error(array_latitud[time_step:],prediccion2[time_step:,0:1], squared=False)"
   ]
  },
  {
   "cell_type": "code",
   "execution_count": 221,
   "id": "1d0c7ad9",
   "metadata": {},
   "outputs": [
    {
     "data": {
      "text/plain": [
       "0.000534638046641044"
      ]
     },
     "execution_count": 221,
     "metadata": {},
     "output_type": "execute_result"
    }
   ],
   "source": [
    "mse_lat_p"
   ]
  },
  {
   "cell_type": "code",
   "execution_count": 222,
   "id": "7f1446a9",
   "metadata": {},
   "outputs": [],
   "source": [
    "mse_lon_p = mean_squared_error(array_longitud[time_step:],prediccion2[time_step:,1:2], squared=False)"
   ]
  },
  {
   "cell_type": "code",
   "execution_count": 223,
   "id": "35daca51",
   "metadata": {},
   "outputs": [
    {
     "data": {
      "text/plain": [
       "0.0011150775206401138"
      ]
     },
     "execution_count": 223,
     "metadata": {},
     "output_type": "execute_result"
    }
   ],
   "source": [
    "mse_lon_p"
   ]
  },
  {
   "cell_type": "code",
   "execution_count": 224,
   "id": "ec7d37a5",
   "metadata": {},
   "outputs": [
    {
     "data": {
      "text/plain": [
       "0.13754492316259756"
      ]
     },
     "execution_count": 224,
     "metadata": {},
     "output_type": "execute_result"
    }
   ],
   "source": [
    "haversine(0.00000,0.00000,mse_lat_p,mse_lon_p)"
   ]
  },
  {
   "cell_type": "code",
   "execution_count": 225,
   "id": "3bd55214",
   "metadata": {},
   "outputs": [],
   "source": [
    "calle_5_p = pd.DataFrame(prediccion2[:,0:2])"
   ]
  },
  {
   "cell_type": "code",
   "execution_count": 226,
   "id": "ceca951c",
   "metadata": {},
   "outputs": [],
   "source": [
    "calle_5_p.to_csv('calle_5_p.csv')"
   ]
  },
  {
   "cell_type": "code",
   "execution_count": null,
   "id": "c002037b",
   "metadata": {},
   "outputs": [],
   "source": [
    "fin = time.time()"
   ]
  },
  {
   "cell_type": "code",
   "execution_count": null,
   "id": "92705943",
   "metadata": {},
   "outputs": [],
   "source": [
    "print(fin-inicio)"
   ]
  },
  {
   "cell_type": "code",
   "execution_count": 227,
   "id": "b40b50b5",
   "metadata": {},
   "outputs": [],
   "source": [
    "distancia_entrenamiento = []\n",
    "distancia_entrenamiento.append(0)\n",
    "for i in range(0, len(set_entrenamiento)-1):\n",
    "    distancia_entrenamiento.append(haversine(set_entrenamiento.iat[i,4],set_entrenamiento.iat[i,5],set_entrenamiento.iat[i+1,4],set_entrenamiento.iat[i+1,5]))"
   ]
  },
  {
   "cell_type": "code",
   "execution_count": 228,
   "id": "33722b67",
   "metadata": {},
   "outputs": [
    {
     "data": {
      "text/html": [
       "<div>\n",
       "<style scoped>\n",
       "    .dataframe tbody tr th:only-of-type {\n",
       "        vertical-align: middle;\n",
       "    }\n",
       "\n",
       "    .dataframe tbody tr th {\n",
       "        vertical-align: top;\n",
       "    }\n",
       "\n",
       "    .dataframe thead th {\n",
       "        text-align: right;\n",
       "    }\n",
       "</style>\n",
       "<table border=\"1\" class=\"dataframe\">\n",
       "  <thead>\n",
       "    <tr style=\"text-align: right;\">\n",
       "      <th></th>\n",
       "      <th>distancia</th>\n",
       "    </tr>\n",
       "  </thead>\n",
       "  <tbody>\n",
       "    <tr>\n",
       "      <th>0</th>\n",
       "      <td>0.000000</td>\n",
       "    </tr>\n",
       "    <tr>\n",
       "      <th>1</th>\n",
       "      <td>0.003521</td>\n",
       "    </tr>\n",
       "    <tr>\n",
       "      <th>2</th>\n",
       "      <td>0.009854</td>\n",
       "    </tr>\n",
       "    <tr>\n",
       "      <th>3</th>\n",
       "      <td>0.002167</td>\n",
       "    </tr>\n",
       "    <tr>\n",
       "      <th>4</th>\n",
       "      <td>0.000555</td>\n",
       "    </tr>\n",
       "    <tr>\n",
       "      <th>...</th>\n",
       "      <td>...</td>\n",
       "    </tr>\n",
       "    <tr>\n",
       "      <th>205</th>\n",
       "      <td>0.096939</td>\n",
       "    </tr>\n",
       "    <tr>\n",
       "      <th>206</th>\n",
       "      <td>0.099985</td>\n",
       "    </tr>\n",
       "    <tr>\n",
       "      <th>207</th>\n",
       "      <td>0.094909</td>\n",
       "    </tr>\n",
       "    <tr>\n",
       "      <th>208</th>\n",
       "      <td>0.084733</td>\n",
       "    </tr>\n",
       "    <tr>\n",
       "      <th>209</th>\n",
       "      <td>0.083679</td>\n",
       "    </tr>\n",
       "  </tbody>\n",
       "</table>\n",
       "<p>210 rows × 1 columns</p>\n",
       "</div>"
      ],
      "text/plain": [
       "     distancia\n",
       "0     0.000000\n",
       "1     0.003521\n",
       "2     0.009854\n",
       "3     0.002167\n",
       "4     0.000555\n",
       "..         ...\n",
       "205   0.096939\n",
       "206   0.099985\n",
       "207   0.094909\n",
       "208   0.084733\n",
       "209   0.083679\n",
       "\n",
       "[210 rows x 1 columns]"
      ]
     },
     "execution_count": 228,
     "metadata": {},
     "output_type": "execute_result"
    }
   ],
   "source": [
    "d_d_e = pd.DataFrame(distancia_entrenamiento, columns=['distancia'])\n",
    "d_d_e"
   ]
  },
  {
   "cell_type": "code",
   "execution_count": 229,
   "id": "955b7a83",
   "metadata": {},
   "outputs": [
    {
     "data": {
      "text/plain": [
       "210"
      ]
     },
     "execution_count": 229,
     "metadata": {},
     "output_type": "execute_result"
    }
   ],
   "source": [
    "len(distancia_entrenamiento)"
   ]
  },
  {
   "cell_type": "code",
   "execution_count": 230,
   "id": "229af86c",
   "metadata": {},
   "outputs": [],
   "source": [
    "distancia_validacion = []\n",
    "distancia_validacion.append(0)\n",
    "for i in range(0, len(set_validacion)-1):\n",
    "    distancia_validacion.append(haversine(set_validacion.iat[i,4],set_validacion.iat[i,5],set_validacion.iat[i+1,4],set_validacion.iat[i+1,5]))"
   ]
  },
  {
   "cell_type": "code",
   "execution_count": 231,
   "id": "f8c9f97c",
   "metadata": {},
   "outputs": [
    {
     "data": {
      "text/html": [
       "<div>\n",
       "<style scoped>\n",
       "    .dataframe tbody tr th:only-of-type {\n",
       "        vertical-align: middle;\n",
       "    }\n",
       "\n",
       "    .dataframe tbody tr th {\n",
       "        vertical-align: top;\n",
       "    }\n",
       "\n",
       "    .dataframe thead th {\n",
       "        text-align: right;\n",
       "    }\n",
       "</style>\n",
       "<table border=\"1\" class=\"dataframe\">\n",
       "  <thead>\n",
       "    <tr style=\"text-align: right;\">\n",
       "      <th></th>\n",
       "      <th>distancia</th>\n",
       "    </tr>\n",
       "  </thead>\n",
       "  <tbody>\n",
       "    <tr>\n",
       "      <th>0</th>\n",
       "      <td>0.000000</td>\n",
       "    </tr>\n",
       "    <tr>\n",
       "      <th>1</th>\n",
       "      <td>0.086087</td>\n",
       "    </tr>\n",
       "    <tr>\n",
       "      <th>2</th>\n",
       "      <td>0.027408</td>\n",
       "    </tr>\n",
       "    <tr>\n",
       "      <th>3</th>\n",
       "      <td>0.086329</td>\n",
       "    </tr>\n",
       "    <tr>\n",
       "      <th>4</th>\n",
       "      <td>0.058188</td>\n",
       "    </tr>\n",
       "    <tr>\n",
       "      <th>...</th>\n",
       "      <td>...</td>\n",
       "    </tr>\n",
       "    <tr>\n",
       "      <th>77</th>\n",
       "      <td>0.083498</td>\n",
       "    </tr>\n",
       "    <tr>\n",
       "      <th>78</th>\n",
       "      <td>0.029349</td>\n",
       "    </tr>\n",
       "    <tr>\n",
       "      <th>79</th>\n",
       "      <td>0.091244</td>\n",
       "    </tr>\n",
       "    <tr>\n",
       "      <th>80</th>\n",
       "      <td>0.003085</td>\n",
       "    </tr>\n",
       "    <tr>\n",
       "      <th>81</th>\n",
       "      <td>0.000567</td>\n",
       "    </tr>\n",
       "  </tbody>\n",
       "</table>\n",
       "<p>82 rows × 1 columns</p>\n",
       "</div>"
      ],
      "text/plain": [
       "    distancia\n",
       "0    0.000000\n",
       "1    0.086087\n",
       "2    0.027408\n",
       "3    0.086329\n",
       "4    0.058188\n",
       "..        ...\n",
       "77   0.083498\n",
       "78   0.029349\n",
       "79   0.091244\n",
       "80   0.003085\n",
       "81   0.000567\n",
       "\n",
       "[82 rows x 1 columns]"
      ]
     },
     "execution_count": 231,
     "metadata": {},
     "output_type": "execute_result"
    }
   ],
   "source": [
    "d_d_v = pd.DataFrame(distancia_validacion, columns=['distancia'])\n",
    "d_d_v"
   ]
  },
  {
   "cell_type": "code",
   "execution_count": 232,
   "id": "b7d79a65",
   "metadata": {},
   "outputs": [
    {
     "data": {
      "text/plain": [
       "0   0 days 13:47:22\n",
       "1   0 days 13:47:33\n",
       "2   0 days 13:47:43\n",
       "3   0 days 13:47:54\n",
       "4   0 days 13:48:06\n",
       "5   0 days 13:48:18\n",
       "6   0 days 13:48:30\n",
       "7   0 days 13:48:41\n",
       "8   0 days 13:48:52\n",
       "9   0 days 13:49:04\n",
       "Name: hour, dtype: timedelta64[ns]"
      ]
     },
     "execution_count": 232,
     "metadata": {},
     "output_type": "execute_result"
    }
   ],
   "source": [
    "time_entrenamiento = set_entrenamiento['hour']\n",
    "time_entrenamiento.head(10)"
   ]
  },
  {
   "cell_type": "code",
   "execution_count": 233,
   "id": "93f43abe",
   "metadata": {
    "scrolled": true
   },
   "outputs": [
    {
     "data": {
      "text/plain": [
       "0    0 days 14:21:28\n",
       "1    0 days 14:21:39\n",
       "2    0 days 14:21:50\n",
       "3    0 days 14:22:01\n",
       "4    0 days 14:22:10\n",
       "           ...      \n",
       "77   0 days 14:36:37\n",
       "78   0 days 14:36:48\n",
       "79   0 days 14:37:26\n",
       "80   0 days 14:37:38\n",
       "81   0 days 14:37:49\n",
       "Name: hour, Length: 82, dtype: timedelta64[ns]"
      ]
     },
     "execution_count": 233,
     "metadata": {},
     "output_type": "execute_result"
    }
   ],
   "source": [
    "time_validacion = set_validacion['hour']\n",
    "time_validacion"
   ]
  },
  {
   "cell_type": "code",
   "execution_count": 234,
   "id": "fce6d3fe",
   "metadata": {},
   "outputs": [
    {
     "ename": "FileNotFoundError",
     "evalue": "[Errno 2] No such file or directory: 'LoRaWAN_messages_calle_5.csv'",
     "output_type": "error",
     "traceback": [
      "\u001b[1;31m---------------------------------------------------------------------------\u001b[0m",
      "\u001b[1;31mFileNotFoundError\u001b[0m                         Traceback (most recent call last)",
      "Input \u001b[1;32mIn [234]\u001b[0m, in \u001b[0;36m<cell line: 1>\u001b[1;34m()\u001b[0m\n\u001b[1;32m----> 1\u001b[0m data \u001b[38;5;241m=\u001b[39m \u001b[43mpd\u001b[49m\u001b[38;5;241;43m.\u001b[39;49m\u001b[43mread_csv\u001b[49m\u001b[43m(\u001b[49m\u001b[38;5;124;43m'\u001b[39;49m\u001b[38;5;124;43mLoRaWAN_messages_calle_5.csv\u001b[39;49m\u001b[38;5;124;43m'\u001b[39;49m\u001b[43m)\u001b[49m\n",
      "File \u001b[1;32m~\\anaconda3\\lib\\site-packages\\pandas\\util\\_decorators.py:311\u001b[0m, in \u001b[0;36mdeprecate_nonkeyword_arguments.<locals>.decorate.<locals>.wrapper\u001b[1;34m(*args, **kwargs)\u001b[0m\n\u001b[0;32m    305\u001b[0m \u001b[38;5;28;01mif\u001b[39;00m \u001b[38;5;28mlen\u001b[39m(args) \u001b[38;5;241m>\u001b[39m num_allow_args:\n\u001b[0;32m    306\u001b[0m     warnings\u001b[38;5;241m.\u001b[39mwarn(\n\u001b[0;32m    307\u001b[0m         msg\u001b[38;5;241m.\u001b[39mformat(arguments\u001b[38;5;241m=\u001b[39marguments),\n\u001b[0;32m    308\u001b[0m         \u001b[38;5;167;01mFutureWarning\u001b[39;00m,\n\u001b[0;32m    309\u001b[0m         stacklevel\u001b[38;5;241m=\u001b[39mstacklevel,\n\u001b[0;32m    310\u001b[0m     )\n\u001b[1;32m--> 311\u001b[0m \u001b[38;5;28;01mreturn\u001b[39;00m func(\u001b[38;5;241m*\u001b[39margs, \u001b[38;5;241m*\u001b[39m\u001b[38;5;241m*\u001b[39mkwargs)\n",
      "File \u001b[1;32m~\\anaconda3\\lib\\site-packages\\pandas\\io\\parsers\\readers.py:680\u001b[0m, in \u001b[0;36mread_csv\u001b[1;34m(filepath_or_buffer, sep, delimiter, header, names, index_col, usecols, squeeze, prefix, mangle_dupe_cols, dtype, engine, converters, true_values, false_values, skipinitialspace, skiprows, skipfooter, nrows, na_values, keep_default_na, na_filter, verbose, skip_blank_lines, parse_dates, infer_datetime_format, keep_date_col, date_parser, dayfirst, cache_dates, iterator, chunksize, compression, thousands, decimal, lineterminator, quotechar, quoting, doublequote, escapechar, comment, encoding, encoding_errors, dialect, error_bad_lines, warn_bad_lines, on_bad_lines, delim_whitespace, low_memory, memory_map, float_precision, storage_options)\u001b[0m\n\u001b[0;32m    665\u001b[0m kwds_defaults \u001b[38;5;241m=\u001b[39m _refine_defaults_read(\n\u001b[0;32m    666\u001b[0m     dialect,\n\u001b[0;32m    667\u001b[0m     delimiter,\n\u001b[1;32m   (...)\u001b[0m\n\u001b[0;32m    676\u001b[0m     defaults\u001b[38;5;241m=\u001b[39m{\u001b[38;5;124m\"\u001b[39m\u001b[38;5;124mdelimiter\u001b[39m\u001b[38;5;124m\"\u001b[39m: \u001b[38;5;124m\"\u001b[39m\u001b[38;5;124m,\u001b[39m\u001b[38;5;124m\"\u001b[39m},\n\u001b[0;32m    677\u001b[0m )\n\u001b[0;32m    678\u001b[0m kwds\u001b[38;5;241m.\u001b[39mupdate(kwds_defaults)\n\u001b[1;32m--> 680\u001b[0m \u001b[38;5;28;01mreturn\u001b[39;00m \u001b[43m_read\u001b[49m\u001b[43m(\u001b[49m\u001b[43mfilepath_or_buffer\u001b[49m\u001b[43m,\u001b[49m\u001b[43m \u001b[49m\u001b[43mkwds\u001b[49m\u001b[43m)\u001b[49m\n",
      "File \u001b[1;32m~\\anaconda3\\lib\\site-packages\\pandas\\io\\parsers\\readers.py:575\u001b[0m, in \u001b[0;36m_read\u001b[1;34m(filepath_or_buffer, kwds)\u001b[0m\n\u001b[0;32m    572\u001b[0m _validate_names(kwds\u001b[38;5;241m.\u001b[39mget(\u001b[38;5;124m\"\u001b[39m\u001b[38;5;124mnames\u001b[39m\u001b[38;5;124m\"\u001b[39m, \u001b[38;5;28;01mNone\u001b[39;00m))\n\u001b[0;32m    574\u001b[0m \u001b[38;5;66;03m# Create the parser.\u001b[39;00m\n\u001b[1;32m--> 575\u001b[0m parser \u001b[38;5;241m=\u001b[39m TextFileReader(filepath_or_buffer, \u001b[38;5;241m*\u001b[39m\u001b[38;5;241m*\u001b[39mkwds)\n\u001b[0;32m    577\u001b[0m \u001b[38;5;28;01mif\u001b[39;00m chunksize \u001b[38;5;129;01mor\u001b[39;00m iterator:\n\u001b[0;32m    578\u001b[0m     \u001b[38;5;28;01mreturn\u001b[39;00m parser\n",
      "File \u001b[1;32m~\\anaconda3\\lib\\site-packages\\pandas\\io\\parsers\\readers.py:933\u001b[0m, in \u001b[0;36mTextFileReader.__init__\u001b[1;34m(self, f, engine, **kwds)\u001b[0m\n\u001b[0;32m    930\u001b[0m     \u001b[38;5;28mself\u001b[39m\u001b[38;5;241m.\u001b[39moptions[\u001b[38;5;124m\"\u001b[39m\u001b[38;5;124mhas_index_names\u001b[39m\u001b[38;5;124m\"\u001b[39m] \u001b[38;5;241m=\u001b[39m kwds[\u001b[38;5;124m\"\u001b[39m\u001b[38;5;124mhas_index_names\u001b[39m\u001b[38;5;124m\"\u001b[39m]\n\u001b[0;32m    932\u001b[0m \u001b[38;5;28mself\u001b[39m\u001b[38;5;241m.\u001b[39mhandles: IOHandles \u001b[38;5;241m|\u001b[39m \u001b[38;5;28;01mNone\u001b[39;00m \u001b[38;5;241m=\u001b[39m \u001b[38;5;28;01mNone\u001b[39;00m\n\u001b[1;32m--> 933\u001b[0m \u001b[38;5;28mself\u001b[39m\u001b[38;5;241m.\u001b[39m_engine \u001b[38;5;241m=\u001b[39m \u001b[38;5;28;43mself\u001b[39;49m\u001b[38;5;241;43m.\u001b[39;49m\u001b[43m_make_engine\u001b[49m\u001b[43m(\u001b[49m\u001b[43mf\u001b[49m\u001b[43m,\u001b[49m\u001b[43m \u001b[49m\u001b[38;5;28;43mself\u001b[39;49m\u001b[38;5;241;43m.\u001b[39;49m\u001b[43mengine\u001b[49m\u001b[43m)\u001b[49m\n",
      "File \u001b[1;32m~\\anaconda3\\lib\\site-packages\\pandas\\io\\parsers\\readers.py:1217\u001b[0m, in \u001b[0;36mTextFileReader._make_engine\u001b[1;34m(self, f, engine)\u001b[0m\n\u001b[0;32m   1213\u001b[0m     mode \u001b[38;5;241m=\u001b[39m \u001b[38;5;124m\"\u001b[39m\u001b[38;5;124mrb\u001b[39m\u001b[38;5;124m\"\u001b[39m\n\u001b[0;32m   1214\u001b[0m \u001b[38;5;66;03m# error: No overload variant of \"get_handle\" matches argument types\u001b[39;00m\n\u001b[0;32m   1215\u001b[0m \u001b[38;5;66;03m# \"Union[str, PathLike[str], ReadCsvBuffer[bytes], ReadCsvBuffer[str]]\"\u001b[39;00m\n\u001b[0;32m   1216\u001b[0m \u001b[38;5;66;03m# , \"str\", \"bool\", \"Any\", \"Any\", \"Any\", \"Any\", \"Any\"\u001b[39;00m\n\u001b[1;32m-> 1217\u001b[0m \u001b[38;5;28mself\u001b[39m\u001b[38;5;241m.\u001b[39mhandles \u001b[38;5;241m=\u001b[39m \u001b[43mget_handle\u001b[49m\u001b[43m(\u001b[49m\u001b[43m  \u001b[49m\u001b[38;5;66;43;03m# type: ignore[call-overload]\u001b[39;49;00m\n\u001b[0;32m   1218\u001b[0m \u001b[43m    \u001b[49m\u001b[43mf\u001b[49m\u001b[43m,\u001b[49m\n\u001b[0;32m   1219\u001b[0m \u001b[43m    \u001b[49m\u001b[43mmode\u001b[49m\u001b[43m,\u001b[49m\n\u001b[0;32m   1220\u001b[0m \u001b[43m    \u001b[49m\u001b[43mencoding\u001b[49m\u001b[38;5;241;43m=\u001b[39;49m\u001b[38;5;28;43mself\u001b[39;49m\u001b[38;5;241;43m.\u001b[39;49m\u001b[43moptions\u001b[49m\u001b[38;5;241;43m.\u001b[39;49m\u001b[43mget\u001b[49m\u001b[43m(\u001b[49m\u001b[38;5;124;43m\"\u001b[39;49m\u001b[38;5;124;43mencoding\u001b[39;49m\u001b[38;5;124;43m\"\u001b[39;49m\u001b[43m,\u001b[49m\u001b[43m \u001b[49m\u001b[38;5;28;43;01mNone\u001b[39;49;00m\u001b[43m)\u001b[49m\u001b[43m,\u001b[49m\n\u001b[0;32m   1221\u001b[0m \u001b[43m    \u001b[49m\u001b[43mcompression\u001b[49m\u001b[38;5;241;43m=\u001b[39;49m\u001b[38;5;28;43mself\u001b[39;49m\u001b[38;5;241;43m.\u001b[39;49m\u001b[43moptions\u001b[49m\u001b[38;5;241;43m.\u001b[39;49m\u001b[43mget\u001b[49m\u001b[43m(\u001b[49m\u001b[38;5;124;43m\"\u001b[39;49m\u001b[38;5;124;43mcompression\u001b[39;49m\u001b[38;5;124;43m\"\u001b[39;49m\u001b[43m,\u001b[49m\u001b[43m \u001b[49m\u001b[38;5;28;43;01mNone\u001b[39;49;00m\u001b[43m)\u001b[49m\u001b[43m,\u001b[49m\n\u001b[0;32m   1222\u001b[0m \u001b[43m    \u001b[49m\u001b[43mmemory_map\u001b[49m\u001b[38;5;241;43m=\u001b[39;49m\u001b[38;5;28;43mself\u001b[39;49m\u001b[38;5;241;43m.\u001b[39;49m\u001b[43moptions\u001b[49m\u001b[38;5;241;43m.\u001b[39;49m\u001b[43mget\u001b[49m\u001b[43m(\u001b[49m\u001b[38;5;124;43m\"\u001b[39;49m\u001b[38;5;124;43mmemory_map\u001b[39;49m\u001b[38;5;124;43m\"\u001b[39;49m\u001b[43m,\u001b[49m\u001b[43m \u001b[49m\u001b[38;5;28;43;01mFalse\u001b[39;49;00m\u001b[43m)\u001b[49m\u001b[43m,\u001b[49m\n\u001b[0;32m   1223\u001b[0m \u001b[43m    \u001b[49m\u001b[43mis_text\u001b[49m\u001b[38;5;241;43m=\u001b[39;49m\u001b[43mis_text\u001b[49m\u001b[43m,\u001b[49m\n\u001b[0;32m   1224\u001b[0m \u001b[43m    \u001b[49m\u001b[43merrors\u001b[49m\u001b[38;5;241;43m=\u001b[39;49m\u001b[38;5;28;43mself\u001b[39;49m\u001b[38;5;241;43m.\u001b[39;49m\u001b[43moptions\u001b[49m\u001b[38;5;241;43m.\u001b[39;49m\u001b[43mget\u001b[49m\u001b[43m(\u001b[49m\u001b[38;5;124;43m\"\u001b[39;49m\u001b[38;5;124;43mencoding_errors\u001b[39;49m\u001b[38;5;124;43m\"\u001b[39;49m\u001b[43m,\u001b[49m\u001b[43m \u001b[49m\u001b[38;5;124;43m\"\u001b[39;49m\u001b[38;5;124;43mstrict\u001b[39;49m\u001b[38;5;124;43m\"\u001b[39;49m\u001b[43m)\u001b[49m\u001b[43m,\u001b[49m\n\u001b[0;32m   1225\u001b[0m \u001b[43m    \u001b[49m\u001b[43mstorage_options\u001b[49m\u001b[38;5;241;43m=\u001b[39;49m\u001b[38;5;28;43mself\u001b[39;49m\u001b[38;5;241;43m.\u001b[39;49m\u001b[43moptions\u001b[49m\u001b[38;5;241;43m.\u001b[39;49m\u001b[43mget\u001b[49m\u001b[43m(\u001b[49m\u001b[38;5;124;43m\"\u001b[39;49m\u001b[38;5;124;43mstorage_options\u001b[39;49m\u001b[38;5;124;43m\"\u001b[39;49m\u001b[43m,\u001b[49m\u001b[43m \u001b[49m\u001b[38;5;28;43;01mNone\u001b[39;49;00m\u001b[43m)\u001b[49m\u001b[43m,\u001b[49m\n\u001b[0;32m   1226\u001b[0m \u001b[43m\u001b[49m\u001b[43m)\u001b[49m\n\u001b[0;32m   1227\u001b[0m \u001b[38;5;28;01massert\u001b[39;00m \u001b[38;5;28mself\u001b[39m\u001b[38;5;241m.\u001b[39mhandles \u001b[38;5;129;01mis\u001b[39;00m \u001b[38;5;129;01mnot\u001b[39;00m \u001b[38;5;28;01mNone\u001b[39;00m\n\u001b[0;32m   1228\u001b[0m f \u001b[38;5;241m=\u001b[39m \u001b[38;5;28mself\u001b[39m\u001b[38;5;241m.\u001b[39mhandles\u001b[38;5;241m.\u001b[39mhandle\n",
      "File \u001b[1;32m~\\anaconda3\\lib\\site-packages\\pandas\\io\\common.py:789\u001b[0m, in \u001b[0;36mget_handle\u001b[1;34m(path_or_buf, mode, encoding, compression, memory_map, is_text, errors, storage_options)\u001b[0m\n\u001b[0;32m    784\u001b[0m \u001b[38;5;28;01melif\u001b[39;00m \u001b[38;5;28misinstance\u001b[39m(handle, \u001b[38;5;28mstr\u001b[39m):\n\u001b[0;32m    785\u001b[0m     \u001b[38;5;66;03m# Check whether the filename is to be opened in binary mode.\u001b[39;00m\n\u001b[0;32m    786\u001b[0m     \u001b[38;5;66;03m# Binary mode does not support 'encoding' and 'newline'.\u001b[39;00m\n\u001b[0;32m    787\u001b[0m     \u001b[38;5;28;01mif\u001b[39;00m ioargs\u001b[38;5;241m.\u001b[39mencoding \u001b[38;5;129;01mand\u001b[39;00m \u001b[38;5;124m\"\u001b[39m\u001b[38;5;124mb\u001b[39m\u001b[38;5;124m\"\u001b[39m \u001b[38;5;129;01mnot\u001b[39;00m \u001b[38;5;129;01min\u001b[39;00m ioargs\u001b[38;5;241m.\u001b[39mmode:\n\u001b[0;32m    788\u001b[0m         \u001b[38;5;66;03m# Encoding\u001b[39;00m\n\u001b[1;32m--> 789\u001b[0m         handle \u001b[38;5;241m=\u001b[39m \u001b[38;5;28;43mopen\u001b[39;49m\u001b[43m(\u001b[49m\n\u001b[0;32m    790\u001b[0m \u001b[43m            \u001b[49m\u001b[43mhandle\u001b[49m\u001b[43m,\u001b[49m\n\u001b[0;32m    791\u001b[0m \u001b[43m            \u001b[49m\u001b[43mioargs\u001b[49m\u001b[38;5;241;43m.\u001b[39;49m\u001b[43mmode\u001b[49m\u001b[43m,\u001b[49m\n\u001b[0;32m    792\u001b[0m \u001b[43m            \u001b[49m\u001b[43mencoding\u001b[49m\u001b[38;5;241;43m=\u001b[39;49m\u001b[43mioargs\u001b[49m\u001b[38;5;241;43m.\u001b[39;49m\u001b[43mencoding\u001b[49m\u001b[43m,\u001b[49m\n\u001b[0;32m    793\u001b[0m \u001b[43m            \u001b[49m\u001b[43merrors\u001b[49m\u001b[38;5;241;43m=\u001b[39;49m\u001b[43merrors\u001b[49m\u001b[43m,\u001b[49m\n\u001b[0;32m    794\u001b[0m \u001b[43m            \u001b[49m\u001b[43mnewline\u001b[49m\u001b[38;5;241;43m=\u001b[39;49m\u001b[38;5;124;43m\"\u001b[39;49m\u001b[38;5;124;43m\"\u001b[39;49m\u001b[43m,\u001b[49m\n\u001b[0;32m    795\u001b[0m \u001b[43m        \u001b[49m\u001b[43m)\u001b[49m\n\u001b[0;32m    796\u001b[0m     \u001b[38;5;28;01melse\u001b[39;00m:\n\u001b[0;32m    797\u001b[0m         \u001b[38;5;66;03m# Binary mode\u001b[39;00m\n\u001b[0;32m    798\u001b[0m         handle \u001b[38;5;241m=\u001b[39m \u001b[38;5;28mopen\u001b[39m(handle, ioargs\u001b[38;5;241m.\u001b[39mmode)\n",
      "\u001b[1;31mFileNotFoundError\u001b[0m: [Errno 2] No such file or directory: 'LoRaWAN_messages_calle_5.csv'"
     ]
    }
   ],
   "source": [
    "data = pd.read_csv('LoRaWAN_messages_calle_5.csv')"
   ]
  },
  {
   "cell_type": "code",
   "execution_count": null,
   "id": "dafc75e2",
   "metadata": {
    "scrolled": true
   },
   "outputs": [],
   "source": [
    "data"
   ]
  },
  {
   "cell_type": "code",
   "execution_count": null,
   "id": "63818987",
   "metadata": {},
   "outputs": [],
   "source": [
    "#data.drop(['hour'], axis=1, inplace=True)"
   ]
  },
  {
   "cell_type": "code",
   "execution_count": null,
   "id": "e1cdf30e",
   "metadata": {},
   "outputs": [],
   "source": [
    "import random\n",
    "xi=[random.randint(9,14) for p in range (0,309)]\n",
    "len(xi)"
   ]
  },
  {
   "cell_type": "code",
   "execution_count": null,
   "id": "be839219",
   "metadata": {},
   "outputs": [],
   "source": [
    "xi[0]"
   ]
  },
  {
   "cell_type": "code",
   "execution_count": null,
   "id": "80ed3790",
   "metadata": {},
   "outputs": [],
   "source": [
    "hora = time_validacion[9:10,]\n",
    "hora"
   ]
  },
  {
   "cell_type": "code",
   "execution_count": null,
   "id": "bc56dfce",
   "metadata": {},
   "outputs": [],
   "source": [
    "hora = time_validacion[9:10,]\n",
    "hora2 = []*400\n",
    "for i in range(0,len(xi)):\n",
    "    h = (hora + timedelta(seconds=xi[i]))\n",
    "    hora2.append(h)\n",
    "    hora = hora2[i]"
   ]
  },
  {
   "cell_type": "code",
   "execution_count": null,
   "id": "f19a125d",
   "metadata": {},
   "outputs": [],
   "source": [
    "hora2"
   ]
  },
  {
   "cell_type": "code",
   "execution_count": null,
   "id": "5fbc8280",
   "metadata": {},
   "outputs": [],
   "source": [
    "hora3 = pd.DataFrame(hora2)"
   ]
  },
  {
   "cell_type": "code",
   "execution_count": null,
   "id": "c3215046",
   "metadata": {},
   "outputs": [],
   "source": [
    "hora3"
   ]
  },
  {
   "cell_type": "code",
   "execution_count": null,
   "id": "4480bb62",
   "metadata": {},
   "outputs": [],
   "source": [
    "data['hour'] = hora2"
   ]
  },
  {
   "cell_type": "code",
   "execution_count": null,
   "id": "869111be",
   "metadata": {},
   "outputs": [],
   "source": [
    "data.to_csv('dcalle5.csv')"
   ]
  },
  {
   "cell_type": "code",
   "execution_count": null,
   "id": "f93cc701",
   "metadata": {
    "scrolled": true
   },
   "outputs": [],
   "source": [
    "#Calcula la diferencia de tiempo entre puntos de ubicacion\n",
    "medida_de_tiempo_entrenamiento = []\n",
    "for i in range(0,len(time_entrenamiento)-1):\n",
    "    medida_de_tiempo_entrenamiento.append(time_entrenamiento[i+1]-time_entrenamiento[i])\n",
    "medida_de_tiempo_entrenamiento"
   ]
  },
  {
   "cell_type": "code",
   "execution_count": null,
   "id": "0c5d8f86",
   "metadata": {},
   "outputs": [],
   "source": [
    "min(medida_de_tiempo_entrenamiento)"
   ]
  },
  {
   "cell_type": "code",
   "execution_count": null,
   "id": "c00bbfb7",
   "metadata": {},
   "outputs": [],
   "source": [
    "h = datetime.now()\n",
    "h.hour"
   ]
  },
  {
   "cell_type": "code",
   "execution_count": null,
   "id": "213c700d",
   "metadata": {},
   "outputs": [],
   "source": [
    "h"
   ]
  },
  {
   "cell_type": "code",
   "execution_count": null,
   "id": "2e0fa945",
   "metadata": {},
   "outputs": [],
   "source": [
    "h.minute"
   ]
  },
  {
   "cell_type": "code",
   "execution_count": null,
   "id": "09d30ef9",
   "metadata": {},
   "outputs": [],
   "source": [
    "\n",
    "t = timedelta(\n",
    "    days=0,\n",
    "    seconds=h.second,\n",
    "    microseconds=0,\n",
    "    milliseconds=0,\n",
    "    minutes=h.minute,\n",
    "    hours=h.hour,\n",
    "    weeks=0 )"
   ]
  },
  {
   "cell_type": "code",
   "execution_count": null,
   "id": "8b548fba",
   "metadata": {},
   "outputs": [],
   "source": [
    "t"
   ]
  },
  {
   "cell_type": "code",
   "execution_count": null,
   "id": "a40a5c78",
   "metadata": {
    "scrolled": true
   },
   "outputs": [],
   "source": [
    "#Calcula la diferencia de tiempo entre puntos de ubicacion\n",
    "medida_de_tiempo_validacion = []\n",
    "for i in range(0,len(time_validacion)-1):\n",
    "    medida_de_tiempo_validacion.append(time_validacion[i+1]-time_validacion[i])\n",
    "medida_de_tiempo_validacion"
   ]
  },
  {
   "cell_type": "code",
   "execution_count": null,
   "id": "422dbbf8",
   "metadata": {},
   "outputs": [],
   "source": [
    "len(medida_de_tiempo_validacion)"
   ]
  },
  {
   "cell_type": "code",
   "execution_count": null,
   "id": "ce3c9925",
   "metadata": {},
   "outputs": [],
   "source": [
    "#Creamos un objeto deltatime de valor 1 segundo\n",
    "#Al dividir deltatime / deltatime se obtiene un valor de tipo float\n",
    "#Al dividir sobre un segundo se obtiene un valor de tiempo en segundos\n",
    "delta = timedelta(\n",
    "    days=0,\n",
    "    seconds=1,\n",
    "    microseconds=0,\n",
    "    milliseconds=0,\n",
    "    minutes=0,\n",
    "    hours=0,\n",
    "    weeks=0 )"
   ]
  },
  {
   "cell_type": "code",
   "execution_count": null,
   "id": "cb9acd41",
   "metadata": {
    "scrolled": true
   },
   "outputs": [],
   "source": [
    "duracion_entrenamiento = []\n",
    "duracion_entrenamiento.append(10)\n",
    "for i in range(0,len(medida_de_tiempo_entrenamiento)):\n",
    "    duracion_entrenamiento.append(medida_de_tiempo_entrenamiento[i]/delta)\n",
    "duracion_entrenamiento"
   ]
  },
  {
   "cell_type": "code",
   "execution_count": null,
   "id": "9608d3a7",
   "metadata": {},
   "outputs": [],
   "source": [
    "#index = duracion_entrenamiento.index(1)\n",
    "#index"
   ]
  },
  {
   "cell_type": "code",
   "execution_count": null,
   "id": "71de7aab",
   "metadata": {},
   "outputs": [],
   "source": []
  },
  {
   "cell_type": "code",
   "execution_count": null,
   "id": "117fae91",
   "metadata": {},
   "outputs": [],
   "source": [
    "len(duracion_entrenamiento)"
   ]
  },
  {
   "cell_type": "code",
   "execution_count": null,
   "id": "84de0a08",
   "metadata": {},
   "outputs": [],
   "source": [
    "n_e= np.column_stack((duracion_entrenamiento,distancia_entrenamiento))"
   ]
  },
  {
   "cell_type": "code",
   "execution_count": null,
   "id": "3ca40974",
   "metadata": {},
   "outputs": [],
   "source": [
    "n_e"
   ]
  },
  {
   "cell_type": "code",
   "execution_count": null,
   "id": "388ca5b1",
   "metadata": {
    "scrolled": true
   },
   "outputs": [],
   "source": [
    "duracion_validacion = []\n",
    "duracion_validacion.append(10)\n",
    "for i in range(0,len(medida_de_tiempo_validacion)):\n",
    "    duracion_validacion.append(medida_de_tiempo_validacion[i]/delta)\n",
    "duracion_validacion"
   ]
  },
  {
   "cell_type": "code",
   "execution_count": null,
   "id": "2ebcf726",
   "metadata": {},
   "outputs": [],
   "source": [
    "#index = duracion_validacion.index(20)\n",
    "#len(duracion_validacion)-index-309+5"
   ]
  },
  {
   "cell_type": "code",
   "execution_count": null,
   "id": "97abd22b",
   "metadata": {},
   "outputs": [],
   "source": [
    "n_v= np.column_stack((duracion_validacion,distancia_validacion))"
   ]
  },
  {
   "cell_type": "code",
   "execution_count": null,
   "id": "16536144",
   "metadata": {
    "scrolled": true
   },
   "outputs": [],
   "source": [
    "n_v"
   ]
  },
  {
   "cell_type": "code",
   "execution_count": null,
   "id": "a5f42b6a",
   "metadata": {},
   "outputs": [],
   "source": [
    "duracion_data_entrenamiento = pd.DataFrame(duracion_entrenamiento, columns=['duracion'])\n",
    "duracion_data_entrenamiento"
   ]
  },
  {
   "cell_type": "code",
   "execution_count": null,
   "id": "b55d74f7",
   "metadata": {},
   "outputs": [],
   "source": [
    "duracion_data_validacion = pd.DataFrame(duracion_validacion, columns=['duracion'])\n",
    "duracion_data_validacion"
   ]
  },
  {
   "cell_type": "code",
   "execution_count": null,
   "id": "d626c80d",
   "metadata": {},
   "outputs": [],
   "source": [
    "#normalizamos\n",
    "sc = MinMaxScaler(feature_range=(0,1))\n",
    "time_entrenamiento_escalado = sc.fit_transform(n_e)"
   ]
  },
  {
   "cell_type": "code",
   "execution_count": null,
   "id": "edaa9e53",
   "metadata": {},
   "outputs": [],
   "source": [
    "#normalizamos\n",
    "#sc2 = MinMaxScaler(feature_range=(0,1))\n",
    "#time_validacion_escalado = sc2.transform(duracion_data_validacion)"
   ]
  },
  {
   "cell_type": "code",
   "execution_count": null,
   "id": "c43432fe",
   "metadata": {},
   "outputs": [],
   "source": [
    "# La red LSTM tendrá como entrada \"time_step\" datos consecutivos, y como salida 1 dato (la predicción a\n",
    "# partir de esos \"time_step\" datos). Se conformará de esta forma el set de entrenamiento\n",
    "time_step_t = 30\n",
    "X_train_duracion = []\n",
    "Y_train_duracion = []\n",
    "n = len(n_e)"
   ]
  },
  {
   "cell_type": "code",
   "execution_count": null,
   "id": "6f61748a",
   "metadata": {},
   "outputs": [],
   "source": [
    "for i in range(time_step,n):\n",
    "    # X: bloques de \"time_step\" datos: 0-time_step, 1-time_step+1, 2-time_step+2, etc\n",
    "    X_train_duracion.append(time_entrenamiento_escalado[i-time_step:i,0:2])\n",
    "    # Y: el siguiente dato\n",
    "    Y_train_duracion.append(time_entrenamiento_escalado[i,0:2])"
   ]
  },
  {
   "cell_type": "code",
   "execution_count": null,
   "id": "0e3cec16",
   "metadata": {},
   "outputs": [],
   "source": [
    "X_train_duracion, Y_train_duracion = np.array(X_train_duracion), np.array(Y_train_duracion)"
   ]
  },
  {
   "cell_type": "code",
   "execution_count": null,
   "id": "ba4aa256",
   "metadata": {},
   "outputs": [],
   "source": [
    "# Reshape X_train para que se ajuste al modelo en Keras\n",
    "X_train_duracion = np.reshape(X_train_duracion, (X_train_duracion.shape[0], X_train_duracion.shape[1], 2))"
   ]
  },
  {
   "cell_type": "code",
   "execution_count": null,
   "id": "49d43976",
   "metadata": {},
   "outputs": [],
   "source": [
    "# Red LSTM\n",
    "#Para crear la red debemos primero definir el tamaño de los datos de entrada y del dato de salida,\n",
    "#así como el número total de neuronas (50):\n",
    "dim_entrada_duracion = (X_train_duracion.shape[1],2)\n",
    "dim_salida_duracion = 2\n",
    "na_duracion = 100"
   ]
  },
  {
   "cell_type": "code",
   "execution_count": null,
   "id": "99f669f3",
   "metadata": {},
   "outputs": [],
   "source": [
    "#Cear un contenedor usando el módulo Sequential:\n",
    "modelo_duracion = Sequential()\n",
    "#añadimos el modelo\n",
    "modelo_duracion.add(LSTM(units=na_duracion, return_sequences=True, input_shape=dim_entrada_duracion))\n",
    "#agregamos una capa lSTM\n",
    "modelo_duracion.add(LSTM(units=na_duracion))\n",
    "#evitamos el sobreentrtenamiento con dropout\n",
    "modelo_duracion.add(Dropout(0.2))\n",
    "#Dense para la capa de salida\n",
    "modelo_duracion.add(Dense(units=dim_salida_duracion))"
   ]
  },
  {
   "cell_type": "code",
   "execution_count": null,
   "id": "9b59d996",
   "metadata": {},
   "outputs": [],
   "source": [
    "#definimos funcion de error y el método para minimizar\n",
    "modelo_duracion.compile(optimizer='rmsprop', loss='mse')"
   ]
  },
  {
   "cell_type": "code",
   "execution_count": null,
   "id": "31b4e2c0",
   "metadata": {
    "scrolled": true
   },
   "outputs": [],
   "source": [
    "#implementamos el modelo con 20 iteraciones, epochs\n",
    "#Presentando a la res lstm lotess de 32 datos\n",
    "modelo_duracion.fit(X_train_duracion,Y_train_duracion,epochs=100,batch_size=32)"
   ]
  },
  {
   "cell_type": "code",
   "execution_count": null,
   "id": "a8068e53",
   "metadata": {
    "scrolled": true
   },
   "outputs": [],
   "source": [
    "x_test = duracion_data_validacion.values\n",
    "x_test"
   ]
  },
  {
   "cell_type": "code",
   "execution_count": null,
   "id": "f83b4c99",
   "metadata": {
    "scrolled": true
   },
   "outputs": [],
   "source": [
    "x_test = sc.transform(n_v)\n",
    "x_test"
   ]
  },
  {
   "cell_type": "code",
   "execution_count": null,
   "id": "2220ba92",
   "metadata": {},
   "outputs": [],
   "source": [
    "#Obtenemos bloques de 60 datos\n",
    "X_test = []\n",
    "for i in range(time_step,len(x_test)):\n",
    "    X_test.append(x_test[i-time_step:i,0:2])"
   ]
  },
  {
   "cell_type": "code",
   "execution_count": null,
   "id": "050437b7",
   "metadata": {},
   "outputs": [],
   "source": [
    "X_test = np.array(X_test)\n",
    "X_test.shape"
   ]
  },
  {
   "cell_type": "code",
   "execution_count": null,
   "id": "953ad343",
   "metadata": {},
   "outputs": [],
   "source": [
    "X_test = np.reshape(X_test, (X_test.shape[0],X_test.shape[1],2))"
   ]
  },
  {
   "cell_type": "code",
   "execution_count": null,
   "id": "a61f3abd",
   "metadata": {},
   "outputs": [],
   "source": [
    "#Predecimos y normalizamos\n",
    "prediccion_tiempo = modelo_duracion.predict(X_test)\n",
    "prediccion_tiempo = sc.inverse_transform(prediccion_tiempo)\n",
    "prediccion_tiempo.shape"
   ]
  },
  {
   "cell_type": "code",
   "execution_count": null,
   "id": "67f74346",
   "metadata": {
    "scrolled": true
   },
   "outputs": [],
   "source": [
    "prediccion_tiempo"
   ]
  },
  {
   "cell_type": "code",
   "execution_count": null,
   "id": "4f5c9876",
   "metadata": {},
   "outputs": [],
   "source": [
    "# Funciones auxiliares\n",
    "def graficar_predicciones3(real, prediccion,campo):\n",
    "    plt.plot(real[0:len(prediccion)], 'o',   color='red', label='Valor real')\n",
    "    plt.plot(prediccion,'o', color='blue', label='Predicción')\n",
    "    #plt.ylim(9,15)\n",
    "    #plt.xlim(40,50)\n",
    "    plt.xlabel('Número de mediciones')\n",
    "    plt.ylabel(campo)\n",
    "    plt.title('Predicción de tiempo entre mediciones')\n",
    "    plt.legend()\n",
    "    plt.show()"
   ]
  },
  {
   "cell_type": "code",
   "execution_count": null,
   "id": "7d1b6019",
   "metadata": {},
   "outputs": [],
   "source": [
    "# Graficar resultados\n",
    "graficar_predicciones3(n_v[:,0:1],prediccion_tiempo[:,0:1],'segundos')"
   ]
  },
  {
   "cell_type": "code",
   "execution_count": null,
   "id": "e8beff6e",
   "metadata": {},
   "outputs": [],
   "source": [
    "n_v_t = sc.transform(n_v)"
   ]
  },
  {
   "cell_type": "code",
   "execution_count": null,
   "id": "322a5726",
   "metadata": {
    "scrolled": true
   },
   "outputs": [],
   "source": [
    "#Prediccion con los primeros datos del set de validacion\n",
    "# Using predicted values to predict next step\n",
    "X_pred_t = n_v_t.copy()\n",
    "for i in range(time_step_t,len(X_pred_t)):\n",
    "    xin_t = X_pred_t[i-time_step_t:i].reshape(1, time_step_t, 2)\n",
    "    X_pred_t[i] = modelo_duracion.predict(xin_t)"
   ]
  },
  {
   "cell_type": "code",
   "execution_count": null,
   "id": "b2d81841",
   "metadata": {
    "scrolled": true
   },
   "outputs": [],
   "source": [
    "X_pred_t"
   ]
  },
  {
   "cell_type": "code",
   "execution_count": null,
   "id": "e6a5582a",
   "metadata": {},
   "outputs": [],
   "source": [
    "prediccion2 = sc.inverse_transform(X_pred_t)"
   ]
  },
  {
   "cell_type": "code",
   "execution_count": null,
   "id": "5623d77d",
   "metadata": {},
   "outputs": [],
   "source": [
    "# Graficar resultados de prediccion de valores futuros\n",
    "graficar_predicciones3(n_v[:,0:1],prediccion2[:,0:1],'segundos')"
   ]
  },
  {
   "cell_type": "code",
   "execution_count": null,
   "id": "ce900d7b",
   "metadata": {},
   "outputs": [],
   "source": [
    "mse_t = mean_squared_error(n_v[time_step_t:,0:1] ,prediccion2[time_step_t:,0:1], squared=False)"
   ]
  },
  {
   "cell_type": "code",
   "execution_count": null,
   "id": "0007511c",
   "metadata": {},
   "outputs": [],
   "source": [
    "mse_t"
   ]
  },
  {
   "cell_type": "code",
   "execution_count": null,
   "id": "76677627",
   "metadata": {
    "scrolled": true
   },
   "outputs": [],
   "source": [
    "n_v[time_step_t:,0:1]"
   ]
  },
  {
   "cell_type": "code",
   "execution_count": null,
   "id": "465d2117",
   "metadata": {
    "scrolled": true
   },
   "outputs": [],
   "source": [
    "prediccion2[time_step_t:,0:1]"
   ]
  },
  {
   "cell_type": "code",
   "execution_count": null,
   "id": "55a44f4b",
   "metadata": {},
   "outputs": [],
   "source": []
  }
 ],
 "metadata": {
  "kernelspec": {
   "display_name": "Python 3 (ipykernel)",
   "language": "python",
   "name": "python3"
  },
  "language_info": {
   "codemirror_mode": {
    "name": "ipython",
    "version": 3
   },
   "file_extension": ".py",
   "mimetype": "text/x-python",
   "name": "python",
   "nbconvert_exporter": "python",
   "pygments_lexer": "ipython3",
   "version": "3.9.12"
  },
  "vscode": {
   "interpreter": {
    "hash": "ea065f0355b6bede6d288732fd04b0d04b232bf2ce8e203eccbb54c9db7f8153"
   }
  }
 },
 "nbformat": 4,
 "nbformat_minor": 5
}
