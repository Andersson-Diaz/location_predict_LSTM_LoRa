{
 "cells": [
  {
   "cell_type": "code",
   "execution_count": 1881,
   "id": "8cae6a3a",
   "metadata": {},
   "outputs": [
    {
     "name": "stdout",
     "output_type": "stream",
     "text": [
      "2.9.1\n"
     ]
    }
   ],
   "source": [
    "import tensorflow as tf\n",
    "print(tf.__version__)\n",
    "from tensorflow.keras.utils import to_categorical\n",
    "from tensorflow.keras.layers import Flatten"
   ]
  },
  {
   "cell_type": "code",
   "execution_count": 1882,
   "id": "c3ddcd46",
   "metadata": {
    "scrolled": true
   },
   "outputs": [],
   "source": [
    "#(trainX, trainY), (testX, testY) = tf.keras.datasets.cifar10.load_data()"
   ]
  },
  {
   "cell_type": "code",
   "execution_count": 1883,
   "id": "a28681e4",
   "metadata": {},
   "outputs": [],
   "source": [
    "#trainX.shape"
   ]
  },
  {
   "cell_type": "code",
   "execution_count": 1884,
   "id": "c3ad17d9",
   "metadata": {
    "scrolled": true
   },
   "outputs": [],
   "source": [
    "#trainY.shape"
   ]
  },
  {
   "cell_type": "code",
   "execution_count": 1885,
   "id": "bc700e2e",
   "metadata": {},
   "outputs": [],
   "source": [
    "#trainY = to_categorical(trainY)\n",
    "#testY = to_categorical(testY)"
   ]
  },
  {
   "cell_type": "code",
   "execution_count": 1886,
   "id": "245bce0c",
   "metadata": {},
   "outputs": [],
   "source": [
    "#trainY.shape"
   ]
  },
  {
   "cell_type": "code",
   "execution_count": 1887,
   "id": "c8ec424b",
   "metadata": {},
   "outputs": [],
   "source": [
    "#testY.shape"
   ]
  },
  {
   "cell_type": "code",
   "execution_count": 1888,
   "id": "e73c96f7",
   "metadata": {},
   "outputs": [],
   "source": [
    "from tokenize import Number\n",
    "import numpy as np\n",
    "#np.random.seed(4)\n",
    "import matplotlib.pyplot as plt\n",
    "import pandas as pd\n",
    "\n",
    "from sklearn.preprocessing import MinMaxScaler\n",
    "from keras.models import Sequential\n",
    "from keras.layers import Dense, LSTM\n",
    "from keras.layers import Dropout\n",
    "\n",
    "import time\n",
    "from datetime import datetime\n",
    "from datetime import timedelta\n",
    "import math"
   ]
  },
  {
   "cell_type": "code",
   "execution_count": 1889,
   "id": "af303719",
   "metadata": {},
   "outputs": [],
   "source": [
    "#datos para la conexion a la base de datos\n",
    "hostname = '82.180.175.58'\n",
    "username = 'u813407238_lora'\n",
    "password = 'Seguimiento_lora_123'\n",
    "database = 'u813407238_seguimiento'"
   ]
  },
  {
   "cell_type": "code",
   "execution_count": 1890,
   "id": "eeb1c21c",
   "metadata": {},
   "outputs": [
    {
     "name": "stderr",
     "output_type": "stream",
     "text": [
      "C:\\Users\\ander\\anaconda3\\lib\\site-packages\\pandas\\io\\sql.py:761: UserWarning: pandas only support SQLAlchemy connectable(engine/connection) ordatabase string URI or sqlite3 DBAPI2 connectionother DBAPI2 objects are not tested, please consider using SQLAlchemy\n",
      "  warnings.warn(\n"
     ]
    },
    {
     "name": "stdout",
     "output_type": "stream",
     "text": [
      "Va a imprimir el dataset leido de la BD...\n",
      "Va a imprimir date y time...\n"
     ]
    }
   ],
   "source": [
    "import MySQLdb\n",
    "# inicialmente hace la conexion con la base de datos\n",
    "myConnection = MySQLdb.connect( host=hostname, user=username, passwd=password, db=database )\n",
    "import pandas as pd\n",
    "# genera la lectura de la base de datos\n",
    "dataset= pd.read_sql(\"SELECT * FROM LoRaWAN_messages_calle_5 order by id\",myConnection)\n",
    "print(\"Va a imprimir el dataset leido de la BD...\")\n",
    "#print(dataset)\n",
    "#dataset[['COL 3','COL 4']].dtypes\n",
    "#dataset = pd.DataFrame()\n",
    "#dataset['T'] = dataset['date'] +' '+ dataset['time']\n",
    "#dataset['date hour'] = dataset['date'] +' '+ dataset['hour']\n",
    "#dataset = pd.to_datetime(dataset['date'] + dataset['time'])\n",
    "print(\"Va a imprimir date y time...\")"
   ]
  },
  {
   "cell_type": "code",
   "execution_count": 1891,
   "id": "091c28d4",
   "metadata": {},
   "outputs": [],
   "source": [
    "#pip install mysqlclient"
   ]
  },
  {
   "cell_type": "code",
   "execution_count": 1892,
   "id": "4544d197",
   "metadata": {},
   "outputs": [],
   "source": [
    "#dataset.head"
   ]
  },
  {
   "cell_type": "code",
   "execution_count": 1893,
   "id": "e1344f00",
   "metadata": {},
   "outputs": [],
   "source": [
    "dataset.drop(index=dataset[dataset['latitude']=='0'].index, inplace=True)"
   ]
  },
  {
   "cell_type": "code",
   "execution_count": 1894,
   "id": "d223d9d3",
   "metadata": {
    "scrolled": true
   },
   "outputs": [],
   "source": [
    "#dataset.info()"
   ]
  },
  {
   "cell_type": "code",
   "execution_count": 1895,
   "id": "b0a90261",
   "metadata": {},
   "outputs": [],
   "source": [
    "time = dataset['hour']"
   ]
  },
  {
   "cell_type": "code",
   "execution_count": 1896,
   "id": "58e9aca7",
   "metadata": {
    "scrolled": true
   },
   "outputs": [
    {
     "data": {
      "text/html": [
       "<div>\n",
       "<style scoped>\n",
       "    .dataframe tbody tr th:only-of-type {\n",
       "        vertical-align: middle;\n",
       "    }\n",
       "\n",
       "    .dataframe tbody tr th {\n",
       "        vertical-align: top;\n",
       "    }\n",
       "\n",
       "    .dataframe thead th {\n",
       "        text-align: right;\n",
       "    }\n",
       "</style>\n",
       "<table border=\"1\" class=\"dataframe\">\n",
       "  <thead>\n",
       "    <tr style=\"text-align: right;\">\n",
       "      <th></th>\n",
       "      <th>id</th>\n",
       "      <th>dev_id</th>\n",
       "      <th>date</th>\n",
       "      <th>hour</th>\n",
       "      <th>latitude</th>\n",
       "      <th>longitude</th>\n",
       "      <th>speed</th>\n",
       "      <th>accx</th>\n",
       "      <th>accy</th>\n",
       "      <th>accz</th>\n",
       "      <th>gyrox</th>\n",
       "      <th>gyroy</th>\n",
       "      <th>gyroz</th>\n",
       "      <th>SF</th>\n",
       "      <th>BW</th>\n",
       "      <th>CR</th>\n",
       "    </tr>\n",
       "  </thead>\n",
       "  <tbody>\n",
       "    <tr>\n",
       "      <th>17</th>\n",
       "      <td>18</td>\n",
       "      <td>tarjeta2-cubecell</td>\n",
       "      <td>2022-08-31</td>\n",
       "      <td>0 days 13:47:22</td>\n",
       "      <td>2.4494545</td>\n",
       "      <td>-76.6269796</td>\n",
       "      <td>0.62968</td>\n",
       "      <td>-0.1043366</td>\n",
       "      <td>-0.7579422</td>\n",
       "      <td>9.8896343</td>\n",
       "      <td>0.2024117</td>\n",
       "      <td>-0.2121214</td>\n",
       "      <td>0.0974049</td>\n",
       "      <td>7</td>\n",
       "      <td>125000</td>\n",
       "      <td>4/5</td>\n",
       "    </tr>\n",
       "    <tr>\n",
       "      <th>18</th>\n",
       "      <td>19</td>\n",
       "      <td>tarjeta2-cubecell</td>\n",
       "      <td>2022-08-31</td>\n",
       "      <td>0 days 13:47:33</td>\n",
       "      <td>2.4494231</td>\n",
       "      <td>-76.6269756</td>\n",
       "      <td>0</td>\n",
       "      <td>-0.1043366</td>\n",
       "      <td>-0.8920633</td>\n",
       "      <td>9.8225738</td>\n",
       "      <td>-0.041863</td>\n",
       "      <td>0.0474205</td>\n",
       "      <td>0.2042751</td>\n",
       "      <td>7</td>\n",
       "      <td>125000</td>\n",
       "      <td>4/5</td>\n",
       "    </tr>\n",
       "    <tr>\n",
       "      <th>19</th>\n",
       "      <td>20</td>\n",
       "      <td>tarjeta2-cubecell</td>\n",
       "      <td>2022-08-31</td>\n",
       "      <td>0 days 13:47:43</td>\n",
       "      <td>2.4493666</td>\n",
       "      <td>-76.6269073</td>\n",
       "      <td>0</td>\n",
       "      <td>-0.1211018</td>\n",
       "      <td>-0.7986575</td>\n",
       "      <td>9.7770684</td>\n",
       "      <td>0.2482132</td>\n",
       "      <td>-0.349526</td>\n",
       "      <td>0.0821378</td>\n",
       "      <td>7</td>\n",
       "      <td>125000</td>\n",
       "      <td>4/5</td>\n",
       "    </tr>\n",
       "    <tr>\n",
       "      <th>20</th>\n",
       "      <td>21</td>\n",
       "      <td>tarjeta2-cubecell</td>\n",
       "      <td>2022-08-31</td>\n",
       "      <td>0 days 13:47:54</td>\n",
       "      <td>2.4493663</td>\n",
       "      <td>-76.6268878</td>\n",
       "      <td>0</td>\n",
       "      <td>-0.1546321</td>\n",
       "      <td>-0.8369779</td>\n",
       "      <td>9.7722784</td>\n",
       "      <td>0.2482132</td>\n",
       "      <td>0.077955</td>\n",
       "      <td>0.1279393</td>\n",
       "      <td>7</td>\n",
       "      <td>125000</td>\n",
       "      <td>4/5</td>\n",
       "    </tr>\n",
       "    <tr>\n",
       "      <th>21</th>\n",
       "      <td>22</td>\n",
       "      <td>tarjeta2-cubecell</td>\n",
       "      <td>2022-08-31</td>\n",
       "      <td>0 days 13:48:06</td>\n",
       "      <td>2.4493705</td>\n",
       "      <td>-76.6268905</td>\n",
       "      <td>0</td>\n",
       "      <td>-0.1234968</td>\n",
       "      <td>-0.856138</td>\n",
       "      <td>9.8537091</td>\n",
       "      <td>0.324549</td>\n",
       "      <td>0.1084892</td>\n",
       "      <td>0.1890079</td>\n",
       "      <td>7</td>\n",
       "      <td>125000</td>\n",
       "      <td>4/5</td>\n",
       "    </tr>\n",
       "    <tr>\n",
       "      <th>...</th>\n",
       "      <td>...</td>\n",
       "      <td>...</td>\n",
       "      <td>...</td>\n",
       "      <td>...</td>\n",
       "      <td>...</td>\n",
       "      <td>...</td>\n",
       "      <td>...</td>\n",
       "      <td>...</td>\n",
       "      <td>...</td>\n",
       "      <td>...</td>\n",
       "      <td>...</td>\n",
       "      <td>...</td>\n",
       "      <td>...</td>\n",
       "      <td>...</td>\n",
       "      <td>...</td>\n",
       "      <td>...</td>\n",
       "    </tr>\n",
       "    <tr>\n",
       "      <th>274</th>\n",
       "      <td>275</td>\n",
       "      <td>tarjeta2-cubecell</td>\n",
       "      <td>2022-08-31</td>\n",
       "      <td>0 days 14:36:37</td>\n",
       "      <td>2.4503646</td>\n",
       "      <td>-76.6269323</td>\n",
       "      <td>24.13156</td>\n",
       "      <td>1.2033439</td>\n",
       "      <td>-2.9853105</td>\n",
       "      <td>7.638316</td>\n",
       "      <td>-0.4846112</td>\n",
       "      <td>-2.5938007</td>\n",
       "      <td>-2.5896177</td>\n",
       "      <td>7</td>\n",
       "      <td>125000</td>\n",
       "      <td>4/5</td>\n",
       "    </tr>\n",
       "    <tr>\n",
       "      <th>275</th>\n",
       "      <td>276</td>\n",
       "      <td>tarjeta2-cubecell</td>\n",
       "      <td>2022-08-31</td>\n",
       "      <td>0 days 14:36:48</td>\n",
       "      <td>2.4502795</td>\n",
       "      <td>-76.6266823</td>\n",
       "      <td>14.00112</td>\n",
       "      <td>-0.1091267</td>\n",
       "      <td>-6.2257719</td>\n",
       "      <td>11.5829132</td>\n",
       "      <td>-0.3930082</td>\n",
       "      <td>-8.9449462</td>\n",
       "      <td>13.8378629</td>\n",
       "      <td>7</td>\n",
       "      <td>125000</td>\n",
       "      <td>4/5</td>\n",
       "    </tr>\n",
       "    <tr>\n",
       "      <th>276</th>\n",
       "      <td>277</td>\n",
       "      <td>tarjeta2-cubecell</td>\n",
       "      <td>2022-08-31</td>\n",
       "      <td>0 days 14:37:26</td>\n",
       "      <td>2.4495106</td>\n",
       "      <td>-76.6269685</td>\n",
       "      <td>1.0186</td>\n",
       "      <td>-0.3198884</td>\n",
       "      <td>-3.7301616</td>\n",
       "      <td>10.454859</td>\n",
       "      <td>-0.0876646</td>\n",
       "      <td>-8.9449462</td>\n",
       "      <td>6.4027485</td>\n",
       "      <td>7</td>\n",
       "      <td>125000</td>\n",
       "      <td>4/5</td>\n",
       "    </tr>\n",
       "    <tr>\n",
       "      <th>277</th>\n",
       "      <td>278</td>\n",
       "      <td>tarjeta2-cubecell</td>\n",
       "      <td>2022-08-31</td>\n",
       "      <td>0 days 14:37:38</td>\n",
       "      <td>2.4494831</td>\n",
       "      <td>-76.6269721</td>\n",
       "      <td>0</td>\n",
       "      <td>2.4224089</td>\n",
       "      <td>-1.6872098</td>\n",
       "      <td>9.0681427</td>\n",
       "      <td>1.1642438</td>\n",
       "      <td>4.0321536</td>\n",
       "      <td>-1.6735874</td>\n",
       "      <td>7</td>\n",
       "      <td>125000</td>\n",
       "      <td>4/5</td>\n",
       "    </tr>\n",
       "    <tr>\n",
       "      <th>278</th>\n",
       "      <td>279</td>\n",
       "      <td>tarjeta2-cubecell</td>\n",
       "      <td>2022-08-31</td>\n",
       "      <td>0 days 14:37:49</td>\n",
       "      <td>2.4494841</td>\n",
       "      <td>-76.6269671</td>\n",
       "      <td>0</td>\n",
       "      <td>0.3387419</td>\n",
       "      <td>-1.0501346</td>\n",
       "      <td>9.7339581</td>\n",
       "      <td>0.3092819</td>\n",
       "      <td>-0.0289154</td>\n",
       "      <td>0.1584736</td>\n",
       "      <td>7</td>\n",
       "      <td>125000</td>\n",
       "      <td>4/5</td>\n",
       "    </tr>\n",
       "  </tbody>\n",
       "</table>\n",
       "<p>262 rows × 16 columns</p>\n",
       "</div>"
      ],
      "text/plain": [
       "      id             dev_id        date            hour   latitude  \\\n",
       "17    18  tarjeta2-cubecell  2022-08-31 0 days 13:47:22  2.4494545   \n",
       "18    19  tarjeta2-cubecell  2022-08-31 0 days 13:47:33  2.4494231   \n",
       "19    20  tarjeta2-cubecell  2022-08-31 0 days 13:47:43  2.4493666   \n",
       "20    21  tarjeta2-cubecell  2022-08-31 0 days 13:47:54  2.4493663   \n",
       "21    22  tarjeta2-cubecell  2022-08-31 0 days 13:48:06  2.4493705   \n",
       "..   ...                ...         ...             ...        ...   \n",
       "274  275  tarjeta2-cubecell  2022-08-31 0 days 14:36:37  2.4503646   \n",
       "275  276  tarjeta2-cubecell  2022-08-31 0 days 14:36:48  2.4502795   \n",
       "276  277  tarjeta2-cubecell  2022-08-31 0 days 14:37:26  2.4495106   \n",
       "277  278  tarjeta2-cubecell  2022-08-31 0 days 14:37:38  2.4494831   \n",
       "278  279  tarjeta2-cubecell  2022-08-31 0 days 14:37:49  2.4494841   \n",
       "\n",
       "       longitude     speed        accx        accy        accz       gyrox  \\\n",
       "17   -76.6269796   0.62968  -0.1043366  -0.7579422   9.8896343   0.2024117   \n",
       "18   -76.6269756         0  -0.1043366  -0.8920633   9.8225738   -0.041863   \n",
       "19   -76.6269073         0  -0.1211018  -0.7986575   9.7770684   0.2482132   \n",
       "20   -76.6268878         0  -0.1546321  -0.8369779   9.7722784   0.2482132   \n",
       "21   -76.6268905         0  -0.1234968   -0.856138   9.8537091    0.324549   \n",
       "..           ...       ...         ...         ...         ...         ...   \n",
       "274  -76.6269323  24.13156   1.2033439  -2.9853105    7.638316  -0.4846112   \n",
       "275  -76.6266823  14.00112  -0.1091267  -6.2257719  11.5829132  -0.3930082   \n",
       "276  -76.6269685    1.0186  -0.3198884  -3.7301616   10.454859  -0.0876646   \n",
       "277  -76.6269721         0   2.4224089  -1.6872098   9.0681427   1.1642438   \n",
       "278  -76.6269671         0   0.3387419  -1.0501346   9.7339581   0.3092819   \n",
       "\n",
       "          gyroy       gyroz SF      BW   CR  \n",
       "17   -0.2121214   0.0974049  7  125000  4/5  \n",
       "18    0.0474205   0.2042751  7  125000  4/5  \n",
       "19    -0.349526   0.0821378  7  125000  4/5  \n",
       "20     0.077955   0.1279393  7  125000  4/5  \n",
       "21    0.1084892   0.1890079  7  125000  4/5  \n",
       "..          ...         ... ..     ...  ...  \n",
       "274  -2.5938007  -2.5896177  7  125000  4/5  \n",
       "275  -8.9449462  13.8378629  7  125000  4/5  \n",
       "276  -8.9449462   6.4027485  7  125000  4/5  \n",
       "277   4.0321536  -1.6735874  7  125000  4/5  \n",
       "278  -0.0289154   0.1584736  7  125000  4/5  \n",
       "\n",
       "[262 rows x 16 columns]"
      ]
     },
     "execution_count": 1896,
     "metadata": {},
     "output_type": "execute_result"
    }
   ],
   "source": [
    "dataset"
   ]
  },
  {
   "cell_type": "code",
   "execution_count": 1897,
   "id": "befd0400",
   "metadata": {},
   "outputs": [],
   "source": [
    "dataset['latitude']=dataset['latitude'].astype('float64')\n",
    "dataset['longitude']=dataset['longitude'].astype('float64')"
   ]
  },
  {
   "cell_type": "code",
   "execution_count": 1898,
   "id": "1ada5ef4",
   "metadata": {},
   "outputs": [],
   "source": [
    "#dataset.info()"
   ]
  },
  {
   "cell_type": "code",
   "execution_count": 1899,
   "id": "f291b893",
   "metadata": {},
   "outputs": [],
   "source": [
    "d = pd.DataFrame()\n",
    "d['latitud']=dataset['latitude']\n",
    "d['longitude']=dataset['longitude']\n",
    "d.to_csv('calle_5_original.csv')"
   ]
  },
  {
   "cell_type": "code",
   "execution_count": 1900,
   "id": "693d7d22",
   "metadata": {},
   "outputs": [],
   "source": [
    "def haversine(lat1, lon1, lat2, lon2):\n",
    "    rad=math.pi/180\n",
    "    dlat=lat2-lat1\n",
    "    dlon=lon2-lon1\n",
    "    R=6372.795477598\n",
    "    a=(math.sin(rad*dlat/2))**2 + math.cos(rad*lat1)*math.cos(rad*lat2)*(math.sin(rad*dlon/2))**2\n",
    "    distancia=2*R*math.asin(math.sqrt(a))\n",
    "    return distancia"
   ]
  },
  {
   "cell_type": "code",
   "execution_count": 1901,
   "id": "31957414",
   "metadata": {},
   "outputs": [],
   "source": [
    "time_step = 30"
   ]
  },
  {
   "cell_type": "code",
   "execution_count": 1902,
   "id": "b7e17321",
   "metadata": {},
   "outputs": [],
   "source": [
    "last = int(len(dataset)/5.0)"
   ]
  },
  {
   "cell_type": "code",
   "execution_count": 1903,
   "id": "ddc2ac6b",
   "metadata": {},
   "outputs": [],
   "source": [
    "set_entrenamiento = dataset[:-last]\n",
    "set_validacion = dataset[-last-time_step:]"
   ]
  },
  {
   "cell_type": "code",
   "execution_count": 1904,
   "id": "4354fb93",
   "metadata": {},
   "outputs": [],
   "source": [
    "#set_entrenamiento.info()"
   ]
  },
  {
   "cell_type": "code",
   "execution_count": 1905,
   "id": "ed99b0e6",
   "metadata": {},
   "outputs": [],
   "source": [
    "#set_validacion.info()"
   ]
  },
  {
   "cell_type": "code",
   "execution_count": 1906,
   "id": "3818e3d0",
   "metadata": {
    "scrolled": true
   },
   "outputs": [],
   "source": [
    "set_entrenamiento.reset_index(inplace=True, drop=True)\n",
    "#set_entrenamiento"
   ]
  },
  {
   "cell_type": "code",
   "execution_count": 1907,
   "id": "0d19318a",
   "metadata": {
    "scrolled": true
   },
   "outputs": [],
   "source": [
    "set_validacion.reset_index(inplace=True, drop=True)\n",
    "#set_validacion"
   ]
  },
  {
   "cell_type": "code",
   "execution_count": 1908,
   "id": "3ddf830d",
   "metadata": {
    "scrolled": true
   },
   "outputs": [],
   "source": [
    "#set_validacion.info()"
   ]
  },
  {
   "cell_type": "code",
   "execution_count": 1909,
   "id": "278074bb",
   "metadata": {},
   "outputs": [],
   "source": [
    "#set_entrenamiento.info()"
   ]
  },
  {
   "cell_type": "code",
   "execution_count": 1910,
   "id": "673cd79f",
   "metadata": {},
   "outputs": [],
   "source": [
    "x= np.column_stack((set_entrenamiento.iloc[:,[4]],set_entrenamiento.iloc[:,[5]],set_entrenamiento.iloc[:,[8]],set_entrenamiento.iloc[:,[12]]))"
   ]
  },
  {
   "cell_type": "code",
   "execution_count": 1911,
   "id": "1e82f8bf",
   "metadata": {
    "scrolled": true
   },
   "outputs": [],
   "source": [
    "#x[0:1,:]"
   ]
  },
  {
   "cell_type": "code",
   "execution_count": 1912,
   "id": "285a642f",
   "metadata": {},
   "outputs": [],
   "source": [
    "#x[0]"
   ]
  },
  {
   "cell_type": "code",
   "execution_count": 1913,
   "id": "669aee48",
   "metadata": {},
   "outputs": [],
   "source": [
    "# Normalización del set de entrenamiento\n",
    "sc1 = MinMaxScaler(feature_range=(0,1))\n",
    "set_entrenamiento_escalado = sc1.fit_transform(x)"
   ]
  },
  {
   "cell_type": "code",
   "execution_count": 1914,
   "id": "776a8a69",
   "metadata": {
    "scrolled": true
   },
   "outputs": [],
   "source": [
    "#set_entrenamiento_latitud_escalado=x"
   ]
  },
  {
   "cell_type": "code",
   "execution_count": 1915,
   "id": "321044a9",
   "metadata": {
    "scrolled": true
   },
   "outputs": [],
   "source": [
    "#set_entrenamiento_latitud_escalado = np.array(set_entrenamiento_latitud_escalado).reshape(set_entrenamiento_latitud_escalado, ((set_entrenamiento_latitud_escalado.shape[0])/4), set_entrenamiento_latitud_escalado.shape[1], 4)"
   ]
  },
  {
   "cell_type": "code",
   "execution_count": 1916,
   "id": "963164f1",
   "metadata": {},
   "outputs": [],
   "source": [
    "# La red LSTM tendrá como entrada \"time_step\" datos consecutivos, y como salida 1 dato (la predicción a\n",
    "# partir de esos \"time_step\" datos). Se conformará de esta forma el set de entrenamiento\n",
    "X_train = []\n",
    "Y_train = []\n",
    "m = len(set_entrenamiento_escalado)"
   ]
  },
  {
   "cell_type": "code",
   "execution_count": 1917,
   "id": "dedf68b0",
   "metadata": {},
   "outputs": [],
   "source": [
    "for i in range(time_step,m):\n",
    "    # X: bloques de \"time_step\" datos: 0-time_step, 1-time_step+1, 2-time_step+2, etc\n",
    "    X_train.append(set_entrenamiento_escalado[i-time_step:i,0:5])\n",
    "    # Y: el siguiente dato\n",
    "    Y_train.append(set_entrenamiento_escalado[i,0:5])"
   ]
  },
  {
   "cell_type": "code",
   "execution_count": 1918,
   "id": "440dd781",
   "metadata": {},
   "outputs": [],
   "source": [
    "X_train, Y_train = np.array(X_train), np.array(Y_train)"
   ]
  },
  {
   "cell_type": "code",
   "execution_count": null,
   "id": "964b67fb",
   "metadata": {},
   "outputs": [],
   "source": []
  },
  {
   "cell_type": "code",
   "execution_count": 1919,
   "id": "beee00b9",
   "metadata": {
    "scrolled": true
   },
   "outputs": [
    {
     "data": {
      "text/plain": [
       "(180, 4)"
      ]
     },
     "execution_count": 1919,
     "metadata": {},
     "output_type": "execute_result"
    }
   ],
   "source": [
    "Y_train.shape"
   ]
  },
  {
   "cell_type": "code",
   "execution_count": 1920,
   "id": "6701d53f",
   "metadata": {},
   "outputs": [],
   "source": [
    "# Reshape X_train para que se ajuste al modelo en Keras\n",
    "X_train = np.reshape(X_train, (X_train.shape[0], X_train.shape[1], 4))"
   ]
  },
  {
   "cell_type": "code",
   "execution_count": 1921,
   "id": "9cf152d1",
   "metadata": {
    "scrolled": true
   },
   "outputs": [
    {
     "data": {
      "text/plain": [
       "(180, 30, 4)"
      ]
     },
     "execution_count": 1921,
     "metadata": {},
     "output_type": "execute_result"
    }
   ],
   "source": [
    "X_train.shape"
   ]
  },
  {
   "cell_type": "code",
   "execution_count": 1922,
   "id": "cb875db7",
   "metadata": {},
   "outputs": [],
   "source": [
    "# Red LSTM\n",
    "#Para crear la red debemos primero definir el tamaño de los datos de entrada y del dato de salida,\n",
    "#así como el número total de neuronas (100):\n",
    "dim_in = (X_train.shape[1],4)\n",
    "dim_out = 4\n",
    "neurons = 100"
   ]
  },
  {
   "cell_type": "code",
   "execution_count": 1923,
   "id": "2238e692",
   "metadata": {},
   "outputs": [],
   "source": [
    "from keras.layers import Bidirectional\n",
    "from tensorflow.keras.optimizers import SGD, Adam"
   ]
  },
  {
   "cell_type": "code",
   "execution_count": 1924,
   "id": "c038ec80",
   "metadata": {
    "scrolled": true
   },
   "outputs": [],
   "source": [
    "def build_model(hp):\n",
    "    #definicion de hiperparámetros a evaluar\n",
    "    hp_batch_size = hp.Int('batch_size', min_value = 8, max_value = 128, step = 8)\n",
    "    hp_seed = hp.Int('seed', min_value =0, max_value = 100, step = 1)\n",
    "    hp_activation = hp.Choice('activation',['relu','tanh','linear','selu','elu','softmax'])\n",
    "    recurrent_dropout = hp.Float('recurrent_dropout',min_value=0.0,max_value=0.99,default=0.2)\n",
    "    hp_neurons = hp.Int('neurons', min_value = 10, max_value = 200, step = 10)\n",
    "    hp_neurons2 = hp.Int('neurons2', min_value = 10, max_value = 200, step = 10)\n",
    "    hp_neurons3 = hp.Int('neurons3', min_value = 10, max_value = 200, step = 10)\n",
    "    np.random.seed(hp_seed)\n",
    "    #definición del modelo de red neuronal\n",
    "    modelo = Sequential()\n",
    "    modelo.add(LSTM(units=hp_neurons, activation=hp_activation, return_sequences=True, input_shape=dim_in))\n",
    "    modelo.add(LSTM(hp_neurons2, activation=hp_activation, return_sequences=True))\n",
    "    modelo.add(LSTM(hp_neurons3, activation=hp_activation, return_sequences=True))\n",
    "    #modelo.add(LSTM(200, activation=hp_activation,  return_sequences=True))\n",
    "    modelo.add(Flatten())\n",
    "    modelo.add(Dropout(recurrent_dropout))\n",
    "    modelo.add(Dense(units=dim_out,activation=hp_activation))\n",
    "    \n",
    "    hp_learning_rate = hp.Choice('learning_rate', values = [1e-2, 1e-3])\n",
    "    opt = Adam(learning_rate=hp_learning_rate)#, momentum=0.9)\n",
    "    modelo.compile(optimizer=opt, loss='mse', metrics=['mse'])\n",
    "    #modelo.compile(optimizer='Adam', loss='mse')\n",
    "    #modelo.fit(X_train,Y_train,epochs=10,batch_size=32)\n",
    "    #print(modelo.summary())\n",
    "    return modelo"
   ]
  },
  {
   "cell_type": "code",
   "execution_count": 1925,
   "id": "04d3dcef",
   "metadata": {
    "scrolled": true
   },
   "outputs": [],
   "source": [
    "#pip install keras-tuner --upgrade"
   ]
  },
  {
   "cell_type": "code",
   "execution_count": 1926,
   "id": "c7747de1",
   "metadata": {},
   "outputs": [],
   "source": [
    "import keras_tuner"
   ]
  },
  {
   "cell_type": "code",
   "execution_count": 1927,
   "id": "df840ea5",
   "metadata": {},
   "outputs": [],
   "source": [
    "from keras_tuner.tuners import BayesianOptimization"
   ]
  },
  {
   "cell_type": "code",
   "execution_count": 1928,
   "id": "44715aee",
   "metadata": {},
   "outputs": [],
   "source": [
    "tuner = BayesianOptimization(\n",
    "    build_model,\n",
    "    objective = 'mse',\n",
    "    overwrite=True,\n",
    "    max_trials = 6)"
   ]
  },
  {
   "cell_type": "code",
   "execution_count": null,
   "id": "7272bc14",
   "metadata": {},
   "outputs": [],
   "source": []
  },
  {
   "cell_type": "code",
   "execution_count": 1929,
   "id": "c494f1c8",
   "metadata": {},
   "outputs": [],
   "source": [
    "#definimos funcion de error y el método para minimizar\n",
    "#modelo.compile(optimizer='RMSprop', loss='mse')"
   ]
  },
  {
   "cell_type": "code",
   "execution_count": 1930,
   "id": "e6727a42",
   "metadata": {
    "scrolled": true
   },
   "outputs": [],
   "source": [
    "#implementamos el modelo con 20 iteraciones, epochs\n",
    "#Presentando a la res lstm lotess de 32 datos\n",
    "#modelo.fit(X_train,Y_train,epochs=500,batch_size=32)\n",
    "#epochs 100  batch=64 loss 0.0017\n",
    "#epochs 100  batch=32 loss 0.0040\n",
    "#epochs 20  batch=32 loss 0.0071"
   ]
  },
  {
   "cell_type": "code",
   "execution_count": 1931,
   "id": "40205517",
   "metadata": {
    "scrolled": true
   },
   "outputs": [],
   "source": [
    "#X_train.shape"
   ]
  },
  {
   "cell_type": "code",
   "execution_count": 1932,
   "id": "3b8caa26",
   "metadata": {},
   "outputs": [],
   "source": [
    "#x_test_latitud = set_validacion.iloc[:,4:5]\n",
    "x_test= np.column_stack((set_validacion.iloc[:,[4]],set_validacion.iloc[:,[5]],set_validacion.iloc[:,[8]],set_validacion.iloc[:,[12]]))"
   ]
  },
  {
   "cell_type": "code",
   "execution_count": 1933,
   "id": "d91bf082",
   "metadata": {
    "scrolled": true
   },
   "outputs": [],
   "source": [
    "#x_test"
   ]
  },
  {
   "cell_type": "code",
   "execution_count": 1934,
   "id": "e10f5689",
   "metadata": {},
   "outputs": [],
   "source": [
    "array_latitud = []\n",
    "for x in range(len(x_test)):\n",
    "    array_latitud.append(x_test[x,0])"
   ]
  },
  {
   "cell_type": "code",
   "execution_count": 1935,
   "id": "ebcffc86",
   "metadata": {
    "scrolled": true
   },
   "outputs": [],
   "source": [
    "#array_latitud"
   ]
  },
  {
   "cell_type": "code",
   "execution_count": 1936,
   "id": "e888ab17",
   "metadata": {},
   "outputs": [],
   "source": [
    "array_longitud = []\n",
    "for x in range(len(x_test)):\n",
    "    array_longitud.append(x_test[x,1])"
   ]
  },
  {
   "cell_type": "code",
   "execution_count": 1937,
   "id": "2d632706",
   "metadata": {
    "scrolled": true
   },
   "outputs": [],
   "source": [
    "#array_longitud"
   ]
  },
  {
   "cell_type": "code",
   "execution_count": 1938,
   "id": "5f2f3844",
   "metadata": {
    "scrolled": true
   },
   "outputs": [],
   "source": [
    "#sc2 = MinMaxScaler(feature_range=(0,1))\n",
    "x_test_n = sc1.transform(x_test)\n",
    "#x_test_n"
   ]
  },
  {
   "cell_type": "code",
   "execution_count": 1939,
   "id": "23d28346",
   "metadata": {},
   "outputs": [
    {
     "data": {
      "text/plain": [
       "(82, 4)"
      ]
     },
     "execution_count": 1939,
     "metadata": {},
     "output_type": "execute_result"
    }
   ],
   "source": [
    "x_test_n.shape"
   ]
  },
  {
   "cell_type": "code",
   "execution_count": 1940,
   "id": "a25a1740",
   "metadata": {},
   "outputs": [],
   "source": [
    "#Obtenemos bloques de 60 datos\n",
    "X_test = []\n",
    "Y_test = []\n",
    "for i in range(time_step,len(x_test_n)):\n",
    "    X_test.append(x_test_n[i-time_step:i,0:5])\n",
    "    Y_test.append(x_test_n[i,0:5])"
   ]
  },
  {
   "cell_type": "code",
   "execution_count": 1941,
   "id": "9d37856c",
   "metadata": {},
   "outputs": [
    {
     "data": {
      "text/plain": [
       "(52, 30, 4)"
      ]
     },
     "execution_count": 1941,
     "metadata": {},
     "output_type": "execute_result"
    }
   ],
   "source": [
    "X_test = np.array(X_test)\n",
    "X_test.shape"
   ]
  },
  {
   "cell_type": "code",
   "execution_count": 1942,
   "id": "c9d0b3d9",
   "metadata": {
    "scrolled": true
   },
   "outputs": [
    {
     "data": {
      "text/plain": [
       "(52, 4)"
      ]
     },
     "execution_count": 1942,
     "metadata": {},
     "output_type": "execute_result"
    }
   ],
   "source": [
    "Y_test = np.array(Y_test)\n",
    "Y_test.shape"
   ]
  },
  {
   "cell_type": "code",
   "execution_count": 1943,
   "id": "9b71de53",
   "metadata": {},
   "outputs": [],
   "source": [
    "X_test = np.reshape(X_test, (X_test.shape[0],X_test.shape[1],4))"
   ]
  },
  {
   "cell_type": "code",
   "execution_count": 1944,
   "id": "a3587dc6",
   "metadata": {},
   "outputs": [
    {
     "data": {
      "text/plain": [
       "(180, 30, 4)"
      ]
     },
     "execution_count": 1944,
     "metadata": {},
     "output_type": "execute_result"
    }
   ],
   "source": [
    "#Y_train = to_categorical(Y_train)\n",
    "#Y_test = to_categorical(Y_test)\n",
    "X_train.shape"
   ]
  },
  {
   "cell_type": "code",
   "execution_count": 1945,
   "id": "49284250",
   "metadata": {},
   "outputs": [
    {
     "data": {
      "text/plain": [
       "(180, 4)"
      ]
     },
     "execution_count": 1945,
     "metadata": {},
     "output_type": "execute_result"
    }
   ],
   "source": [
    "Y_train.shape"
   ]
  },
  {
   "cell_type": "code",
   "execution_count": 1946,
   "id": "12858401",
   "metadata": {
    "scrolled": true
   },
   "outputs": [
    {
     "name": "stdout",
     "output_type": "stream",
     "text": [
      "Trial 6 Complete [00h 00m 32s]\n",
      "mse: 0.0875830352306366\n",
      "\n",
      "Best mse So Far: 0.010341338813304901\n",
      "Total elapsed time: 00h 04m 22s\n",
      "INFO:tensorflow:Oracle triggered exit\n"
     ]
    }
   ],
   "source": [
    "tuner.search(X_train, Y_train,\n",
    "             epochs=100,\n",
    "             #overwrite=True,\n",
    "             validation_data=(X_test, Y_test))\n",
    "            #)"
   ]
  },
  {
   "cell_type": "code",
   "execution_count": 1947,
   "id": "d87627c4",
   "metadata": {},
   "outputs": [
    {
     "name": "stdout",
     "output_type": "stream",
     "text": [
      "Results summary\n",
      "Results in .\\untitled_project\n",
      "Showing 10 best trials\n",
      "<keras_tuner.engine.objective.Objective object at 0x000002A2391A0C70>\n",
      "Trial summary\n",
      "Hyperparameters:\n",
      "batch_size: 8\n",
      "seed: 0\n",
      "activation: linear\n",
      "recurrent_dropout: 0.0\n",
      "neurons: 60\n",
      "neurons2: 200\n",
      "neurons3: 10\n",
      "learning_rate: 0.001\n",
      "Score: 0.010341338813304901\n",
      "Trial summary\n",
      "Hyperparameters:\n",
      "batch_size: 24\n",
      "seed: 58\n",
      "activation: relu\n",
      "recurrent_dropout: 0.052966469822015784\n",
      "neurons: 10\n",
      "neurons2: 20\n",
      "neurons3: 20\n",
      "learning_rate: 0.001\n",
      "Score: 0.011318260803818703\n",
      "Trial summary\n",
      "Hyperparameters:\n",
      "batch_size: 64\n",
      "seed: 16\n",
      "activation: linear\n",
      "recurrent_dropout: 0.6349132653727549\n",
      "neurons: 60\n",
      "neurons2: 180\n",
      "neurons3: 110\n",
      "learning_rate: 0.001\n",
      "Score: 0.01198942307382822\n",
      "Trial summary\n",
      "Hyperparameters:\n",
      "batch_size: 72\n",
      "seed: 73\n",
      "activation: linear\n",
      "recurrent_dropout: 0.7284767584483395\n",
      "neurons: 60\n",
      "neurons2: 170\n",
      "neurons3: 170\n",
      "learning_rate: 0.01\n",
      "Score: 0.012664074078202248\n",
      "Trial summary\n",
      "Hyperparameters:\n",
      "batch_size: 112\n",
      "seed: 0\n",
      "activation: relu\n",
      "recurrent_dropout: 0.0\n",
      "neurons: 10\n",
      "neurons2: 200\n",
      "neurons3: 10\n",
      "learning_rate: 0.01\n",
      "Score: 0.0875830352306366\n",
      "Trial summary\n",
      "Hyperparameters:\n",
      "batch_size: 8\n",
      "seed: 0\n",
      "activation: softmax\n",
      "recurrent_dropout: 0.0\n",
      "neurons: 200\n",
      "neurons2: 200\n",
      "neurons3: 10\n",
      "learning_rate: 0.001\n",
      "Score: 0.12917032837867737\n"
     ]
    }
   ],
   "source": [
    "tuner.results_summary()"
   ]
  },
  {
   "cell_type": "code",
   "execution_count": 1948,
   "id": "321424f2",
   "metadata": {},
   "outputs": [
    {
     "data": {
      "text/plain": [
       "{'batch_size': 8,\n",
       " 'seed': 0,\n",
       " 'activation': 'linear',\n",
       " 'recurrent_dropout': 0.0,\n",
       " 'neurons': 60,\n",
       " 'neurons2': 200,\n",
       " 'neurons3': 10,\n",
       " 'learning_rate': 0.001}"
      ]
     },
     "execution_count": 1948,
     "metadata": {},
     "output_type": "execute_result"
    }
   ],
   "source": [
    "best_hps = tuner.get_best_hyperparameters(num_trials = 1)[0]\n",
    "best_hps.values"
   ]
  },
  {
   "cell_type": "code",
   "execution_count": 1949,
   "id": "cefdcb73",
   "metadata": {},
   "outputs": [
    {
     "name": "stdout",
     "output_type": "stream",
     "text": [
      "Epoch 1/100\n",
      "6/6 [==============================] - 3s 124ms/step - loss: 0.2307 - mse: 0.2307 - val_loss: 0.0695 - val_mse: 0.0695\n",
      "Epoch 2/100\n",
      "6/6 [==============================] - 0s 60ms/step - loss: 0.0589 - mse: 0.0589 - val_loss: 0.0657 - val_mse: 0.0657\n",
      "Epoch 3/100\n",
      "6/6 [==============================] - 0s 60ms/step - loss: 0.0454 - mse: 0.0454 - val_loss: 0.0390 - val_mse: 0.0390\n",
      "Epoch 4/100\n",
      "6/6 [==============================] - 0s 60ms/step - loss: 0.0344 - mse: 0.0344 - val_loss: 0.0291 - val_mse: 0.0291\n",
      "Epoch 5/100\n",
      "6/6 [==============================] - 0s 60ms/step - loss: 0.0257 - mse: 0.0257 - val_loss: 0.0209 - val_mse: 0.0209\n",
      "Epoch 6/100\n",
      "6/6 [==============================] - 0s 60ms/step - loss: 0.0192 - mse: 0.0192 - val_loss: 0.0202 - val_mse: 0.0202\n",
      "Epoch 7/100\n",
      "6/6 [==============================] - 0s 60ms/step - loss: 0.0172 - mse: 0.0172 - val_loss: 0.0222 - val_mse: 0.0222\n",
      "Epoch 8/100\n",
      "6/6 [==============================] - 0s 60ms/step - loss: 0.0171 - mse: 0.0171 - val_loss: 0.0225 - val_mse: 0.0225\n",
      "Epoch 9/100\n",
      "6/6 [==============================] - 0s 60ms/step - loss: 0.0160 - mse: 0.0160 - val_loss: 0.0187 - val_mse: 0.0187\n",
      "Epoch 10/100\n",
      "6/6 [==============================] - 0s 60ms/step - loss: 0.0153 - mse: 0.0153 - val_loss: 0.0181 - val_mse: 0.0181\n",
      "Epoch 11/100\n",
      "6/6 [==============================] - 0s 60ms/step - loss: 0.0148 - mse: 0.0148 - val_loss: 0.0196 - val_mse: 0.0196\n",
      "Epoch 12/100\n",
      "6/6 [==============================] - 0s 60ms/step - loss: 0.0153 - mse: 0.0153 - val_loss: 0.0182 - val_mse: 0.0182\n",
      "Epoch 13/100\n",
      "6/6 [==============================] - 0s 60ms/step - loss: 0.0146 - mse: 0.0146 - val_loss: 0.0178 - val_mse: 0.0178\n",
      "Epoch 14/100\n",
      "6/6 [==============================] - 0s 60ms/step - loss: 0.0147 - mse: 0.0147 - val_loss: 0.0195 - val_mse: 0.0195\n",
      "Epoch 15/100\n",
      "6/6 [==============================] - 0s 60ms/step - loss: 0.0144 - mse: 0.0144 - val_loss: 0.0172 - val_mse: 0.0172\n",
      "Epoch 16/100\n",
      "6/6 [==============================] - 0s 60ms/step - loss: 0.0145 - mse: 0.0145 - val_loss: 0.0174 - val_mse: 0.0174\n",
      "Epoch 17/100\n",
      "6/6 [==============================] - 0s 60ms/step - loss: 0.0139 - mse: 0.0139 - val_loss: 0.0185 - val_mse: 0.0185\n",
      "Epoch 18/100\n",
      "6/6 [==============================] - 0s 60ms/step - loss: 0.0136 - mse: 0.0136 - val_loss: 0.0171 - val_mse: 0.0171\n",
      "Epoch 19/100\n",
      "6/6 [==============================] - 0s 61ms/step - loss: 0.0135 - mse: 0.0135 - val_loss: 0.0176 - val_mse: 0.0176\n",
      "Epoch 20/100\n",
      "6/6 [==============================] - 0s 60ms/step - loss: 0.0134 - mse: 0.0134 - val_loss: 0.0178 - val_mse: 0.0178\n",
      "Epoch 21/100\n",
      "6/6 [==============================] - 0s 60ms/step - loss: 0.0138 - mse: 0.0138 - val_loss: 0.0187 - val_mse: 0.0187\n",
      "Epoch 22/100\n",
      "6/6 [==============================] - 0s 60ms/step - loss: 0.0139 - mse: 0.0139 - val_loss: 0.0193 - val_mse: 0.0193\n",
      "Epoch 23/100\n",
      "6/6 [==============================] - 0s 61ms/step - loss: 0.0141 - mse: 0.0141 - val_loss: 0.0173 - val_mse: 0.0173\n",
      "Epoch 24/100\n",
      "6/6 [==============================] - 0s 60ms/step - loss: 0.0134 - mse: 0.0134 - val_loss: 0.0170 - val_mse: 0.0170\n",
      "Epoch 25/100\n",
      "6/6 [==============================] - 0s 59ms/step - loss: 0.0130 - mse: 0.0130 - val_loss: 0.0189 - val_mse: 0.0189\n",
      "Epoch 26/100\n",
      "6/6 [==============================] - 0s 60ms/step - loss: 0.0130 - mse: 0.0130 - val_loss: 0.0172 - val_mse: 0.0172\n",
      "Epoch 27/100\n",
      "6/6 [==============================] - 0s 59ms/step - loss: 0.0127 - mse: 0.0127 - val_loss: 0.0177 - val_mse: 0.0177\n",
      "Epoch 28/100\n",
      "6/6 [==============================] - 0s 60ms/step - loss: 0.0128 - mse: 0.0128 - val_loss: 0.0184 - val_mse: 0.0184\n",
      "Epoch 29/100\n",
      "6/6 [==============================] - 0s 60ms/step - loss: 0.0129 - mse: 0.0129 - val_loss: 0.0192 - val_mse: 0.0192\n",
      "Epoch 30/100\n",
      "6/6 [==============================] - 0s 60ms/step - loss: 0.0137 - mse: 0.0137 - val_loss: 0.0165 - val_mse: 0.0165\n",
      "Epoch 31/100\n",
      "6/6 [==============================] - 0s 60ms/step - loss: 0.0131 - mse: 0.0131 - val_loss: 0.0177 - val_mse: 0.0177\n",
      "Epoch 32/100\n",
      "6/6 [==============================] - 0s 60ms/step - loss: 0.0127 - mse: 0.0127 - val_loss: 0.0166 - val_mse: 0.0166\n",
      "Epoch 33/100\n",
      "6/6 [==============================] - 0s 60ms/step - loss: 0.0130 - mse: 0.0130 - val_loss: 0.0172 - val_mse: 0.0172\n",
      "Epoch 34/100\n",
      "6/6 [==============================] - 0s 60ms/step - loss: 0.0130 - mse: 0.0130 - val_loss: 0.0202 - val_mse: 0.0202\n",
      "Epoch 35/100\n",
      "6/6 [==============================] - 0s 60ms/step - loss: 0.0131 - mse: 0.0131 - val_loss: 0.0164 - val_mse: 0.0164\n",
      "Epoch 36/100\n",
      "6/6 [==============================] - 0s 60ms/step - loss: 0.0125 - mse: 0.0125 - val_loss: 0.0168 - val_mse: 0.0168\n",
      "Epoch 37/100\n",
      "6/6 [==============================] - 0s 60ms/step - loss: 0.0122 - mse: 0.0122 - val_loss: 0.0166 - val_mse: 0.0166\n",
      "Epoch 38/100\n",
      "6/6 [==============================] - 0s 60ms/step - loss: 0.0122 - mse: 0.0122 - val_loss: 0.0180 - val_mse: 0.0180\n",
      "Epoch 39/100\n",
      "6/6 [==============================] - 0s 60ms/step - loss: 0.0120 - mse: 0.0120 - val_loss: 0.0171 - val_mse: 0.0171\n",
      "Epoch 40/100\n",
      "6/6 [==============================] - 0s 60ms/step - loss: 0.0119 - mse: 0.0119 - val_loss: 0.0168 - val_mse: 0.0168\n",
      "Epoch 41/100\n",
      "6/6 [==============================] - 0s 60ms/step - loss: 0.0127 - mse: 0.0127 - val_loss: 0.0183 - val_mse: 0.0183\n",
      "Epoch 42/100\n",
      "6/6 [==============================] - 0s 60ms/step - loss: 0.0124 - mse: 0.0124 - val_loss: 0.0160 - val_mse: 0.0160\n",
      "Epoch 43/100\n",
      "6/6 [==============================] - 0s 59ms/step - loss: 0.0118 - mse: 0.0118 - val_loss: 0.0178 - val_mse: 0.0178\n",
      "Epoch 44/100\n",
      "6/6 [==============================] - 0s 61ms/step - loss: 0.0116 - mse: 0.0116 - val_loss: 0.0176 - val_mse: 0.0176\n",
      "Epoch 45/100\n",
      "6/6 [==============================] - 0s 60ms/step - loss: 0.0119 - mse: 0.0119 - val_loss: 0.0162 - val_mse: 0.0162\n",
      "Epoch 46/100\n",
      "6/6 [==============================] - 0s 60ms/step - loss: 0.0124 - mse: 0.0124 - val_loss: 0.0179 - val_mse: 0.0179\n",
      "Epoch 47/100\n",
      "6/6 [==============================] - 0s 60ms/step - loss: 0.0133 - mse: 0.0133 - val_loss: 0.0216 - val_mse: 0.0216\n",
      "Epoch 48/100\n",
      "6/6 [==============================] - 0s 60ms/step - loss: 0.0147 - mse: 0.0147 - val_loss: 0.0160 - val_mse: 0.0160\n",
      "Epoch 49/100\n",
      "6/6 [==============================] - 0s 60ms/step - loss: 0.0139 - mse: 0.0139 - val_loss: 0.0165 - val_mse: 0.0165\n",
      "Epoch 50/100\n",
      "6/6 [==============================] - 0s 60ms/step - loss: 0.0129 - mse: 0.0129 - val_loss: 0.0168 - val_mse: 0.0168\n",
      "Epoch 51/100\n",
      "6/6 [==============================] - 0s 60ms/step - loss: 0.0121 - mse: 0.0121 - val_loss: 0.0169 - val_mse: 0.0169\n",
      "Epoch 52/100\n",
      "6/6 [==============================] - 0s 60ms/step - loss: 0.0121 - mse: 0.0121 - val_loss: 0.0181 - val_mse: 0.0181\n",
      "Epoch 53/100\n",
      "6/6 [==============================] - 0s 60ms/step - loss: 0.0122 - mse: 0.0122 - val_loss: 0.0175 - val_mse: 0.0175\n",
      "Epoch 54/100\n",
      "6/6 [==============================] - 0s 60ms/step - loss: 0.0117 - mse: 0.0117 - val_loss: 0.0158 - val_mse: 0.0158\n",
      "Epoch 55/100\n",
      "6/6 [==============================] - 0s 60ms/step - loss: 0.0115 - mse: 0.0115 - val_loss: 0.0157 - val_mse: 0.0157\n",
      "Epoch 56/100\n",
      "6/6 [==============================] - 0s 59ms/step - loss: 0.0114 - mse: 0.0114 - val_loss: 0.0164 - val_mse: 0.0164\n",
      "Epoch 57/100\n",
      "6/6 [==============================] - 0s 59ms/step - loss: 0.0118 - mse: 0.0118 - val_loss: 0.0169 - val_mse: 0.0169\n",
      "Epoch 58/100\n",
      "6/6 [==============================] - 0s 60ms/step - loss: 0.0115 - mse: 0.0115 - val_loss: 0.0189 - val_mse: 0.0189\n",
      "Epoch 59/100\n",
      "6/6 [==============================] - 0s 59ms/step - loss: 0.0117 - mse: 0.0117 - val_loss: 0.0149 - val_mse: 0.0149\n",
      "Epoch 60/100\n",
      "6/6 [==============================] - 0s 60ms/step - loss: 0.0113 - mse: 0.0113 - val_loss: 0.0161 - val_mse: 0.0161\n",
      "Epoch 61/100\n",
      "6/6 [==============================] - 0s 60ms/step - loss: 0.0113 - mse: 0.0113 - val_loss: 0.0168 - val_mse: 0.0168\n",
      "Epoch 62/100\n",
      "6/6 [==============================] - 0s 60ms/step - loss: 0.0112 - mse: 0.0112 - val_loss: 0.0157 - val_mse: 0.0157\n",
      "Epoch 63/100\n"
     ]
    },
    {
     "name": "stdout",
     "output_type": "stream",
     "text": [
      "6/6 [==============================] - 0s 60ms/step - loss: 0.0112 - mse: 0.0112 - val_loss: 0.0154 - val_mse: 0.0154\n",
      "Epoch 64/100\n",
      "6/6 [==============================] - 0s 60ms/step - loss: 0.0113 - mse: 0.0113 - val_loss: 0.0168 - val_mse: 0.0168\n",
      "Epoch 65/100\n",
      "6/6 [==============================] - 0s 60ms/step - loss: 0.0110 - mse: 0.0110 - val_loss: 0.0166 - val_mse: 0.0166\n",
      "Epoch 66/100\n",
      "6/6 [==============================] - 0s 60ms/step - loss: 0.0122 - mse: 0.0122 - val_loss: 0.0145 - val_mse: 0.0145\n",
      "Epoch 67/100\n",
      "6/6 [==============================] - 0s 60ms/step - loss: 0.0115 - mse: 0.0115 - val_loss: 0.0178 - val_mse: 0.0178\n",
      "Epoch 68/100\n",
      "6/6 [==============================] - 0s 60ms/step - loss: 0.0117 - mse: 0.0117 - val_loss: 0.0164 - val_mse: 0.0164\n",
      "Epoch 69/100\n",
      "6/6 [==============================] - 0s 60ms/step - loss: 0.0113 - mse: 0.0113 - val_loss: 0.0152 - val_mse: 0.0152\n",
      "Epoch 70/100\n",
      "6/6 [==============================] - 0s 60ms/step - loss: 0.0115 - mse: 0.0115 - val_loss: 0.0169 - val_mse: 0.0169\n",
      "Epoch 71/100\n",
      "6/6 [==============================] - 0s 60ms/step - loss: 0.0116 - mse: 0.0116 - val_loss: 0.0158 - val_mse: 0.0158\n",
      "Epoch 72/100\n",
      "6/6 [==============================] - 0s 60ms/step - loss: 0.0116 - mse: 0.0116 - val_loss: 0.0140 - val_mse: 0.0140\n",
      "Epoch 73/100\n",
      "6/6 [==============================] - 0s 60ms/step - loss: 0.0110 - mse: 0.0110 - val_loss: 0.0168 - val_mse: 0.0168\n",
      "Epoch 74/100\n",
      "6/6 [==============================] - 0s 60ms/step - loss: 0.0111 - mse: 0.0111 - val_loss: 0.0159 - val_mse: 0.0159\n",
      "Epoch 75/100\n",
      "6/6 [==============================] - 0s 60ms/step - loss: 0.0110 - mse: 0.0110 - val_loss: 0.0152 - val_mse: 0.0152\n",
      "Epoch 76/100\n",
      "6/6 [==============================] - 0s 60ms/step - loss: 0.0108 - mse: 0.0108 - val_loss: 0.0146 - val_mse: 0.0146\n",
      "Epoch 77/100\n",
      "6/6 [==============================] - 0s 60ms/step - loss: 0.0108 - mse: 0.0108 - val_loss: 0.0163 - val_mse: 0.0163\n",
      "Epoch 78/100\n",
      "6/6 [==============================] - 0s 60ms/step - loss: 0.0108 - mse: 0.0108 - val_loss: 0.0156 - val_mse: 0.0156\n",
      "Epoch 79/100\n",
      "6/6 [==============================] - 0s 60ms/step - loss: 0.0107 - mse: 0.0107 - val_loss: 0.0149 - val_mse: 0.0149\n",
      "Epoch 80/100\n",
      "6/6 [==============================] - 0s 60ms/step - loss: 0.0109 - mse: 0.0109 - val_loss: 0.0146 - val_mse: 0.0146\n",
      "Epoch 81/100\n",
      "6/6 [==============================] - 0s 60ms/step - loss: 0.0107 - mse: 0.0107 - val_loss: 0.0170 - val_mse: 0.0170\n",
      "Epoch 82/100\n",
      "6/6 [==============================] - 0s 60ms/step - loss: 0.0121 - mse: 0.0121 - val_loss: 0.0173 - val_mse: 0.0173\n",
      "Epoch 83/100\n",
      "6/6 [==============================] - 0s 60ms/step - loss: 0.0138 - mse: 0.0138 - val_loss: 0.0148 - val_mse: 0.0148\n",
      "Epoch 84/100\n",
      "6/6 [==============================] - 0s 60ms/step - loss: 0.0125 - mse: 0.0125 - val_loss: 0.0168 - val_mse: 0.0168\n",
      "Epoch 85/100\n",
      "6/6 [==============================] - 0s 60ms/step - loss: 0.0117 - mse: 0.0117 - val_loss: 0.0175 - val_mse: 0.0175\n",
      "Epoch 86/100\n",
      "6/6 [==============================] - 0s 60ms/step - loss: 0.0113 - mse: 0.0113 - val_loss: 0.0173 - val_mse: 0.0173\n",
      "Epoch 87/100\n",
      "6/6 [==============================] - 0s 60ms/step - loss: 0.0119 - mse: 0.0119 - val_loss: 0.0152 - val_mse: 0.0152\n",
      "Epoch 88/100\n",
      "6/6 [==============================] - 0s 60ms/step - loss: 0.0110 - mse: 0.0110 - val_loss: 0.0170 - val_mse: 0.0170\n",
      "Epoch 89/100\n",
      "6/6 [==============================] - 0s 60ms/step - loss: 0.0110 - mse: 0.0110 - val_loss: 0.0180 - val_mse: 0.0180\n",
      "Epoch 90/100\n",
      "6/6 [==============================] - 0s 60ms/step - loss: 0.0109 - mse: 0.0109 - val_loss: 0.0154 - val_mse: 0.0154\n",
      "Epoch 91/100\n",
      "6/6 [==============================] - 0s 60ms/step - loss: 0.0107 - mse: 0.0107 - val_loss: 0.0161 - val_mse: 0.0161\n",
      "Epoch 92/100\n",
      "6/6 [==============================] - 0s 60ms/step - loss: 0.0106 - mse: 0.0106 - val_loss: 0.0190 - val_mse: 0.0190\n",
      "Epoch 93/100\n",
      "6/6 [==============================] - 0s 60ms/step - loss: 0.0117 - mse: 0.0117 - val_loss: 0.0159 - val_mse: 0.0159\n",
      "Epoch 94/100\n",
      "6/6 [==============================] - 0s 60ms/step - loss: 0.0116 - mse: 0.0116 - val_loss: 0.0162 - val_mse: 0.0162\n",
      "Epoch 95/100\n",
      "6/6 [==============================] - 0s 60ms/step - loss: 0.0111 - mse: 0.0111 - val_loss: 0.0160 - val_mse: 0.0160\n",
      "Epoch 96/100\n",
      "6/6 [==============================] - 0s 60ms/step - loss: 0.0109 - mse: 0.0109 - val_loss: 0.0166 - val_mse: 0.0166\n",
      "Epoch 97/100\n",
      "6/6 [==============================] - 0s 60ms/step - loss: 0.0111 - mse: 0.0111 - val_loss: 0.0174 - val_mse: 0.0174\n",
      "Epoch 98/100\n",
      "6/6 [==============================] - 0s 60ms/step - loss: 0.0111 - mse: 0.0111 - val_loss: 0.0195 - val_mse: 0.0195\n",
      "Epoch 99/100\n",
      "6/6 [==============================] - 0s 60ms/step - loss: 0.0107 - mse: 0.0107 - val_loss: 0.0145 - val_mse: 0.0145\n",
      "Epoch 100/100\n",
      "6/6 [==============================] - 0s 60ms/step - loss: 0.0108 - mse: 0.0108 - val_loss: 0.0161 - val_mse: 0.0161\n"
     ]
    }
   ],
   "source": [
    "modelo = tuner.hypermodel.build(best_hps)\n",
    "history = modelo.fit(X_train, Y_train,\n",
    "                      epochs=100,batch_size=32,\n",
    "                      validation_data=(X_test, Y_test))"
   ]
  },
  {
   "cell_type": "code",
   "execution_count": 1950,
   "id": "70224dd5",
   "metadata": {},
   "outputs": [
    {
     "name": "stdout",
     "output_type": "stream",
     "text": [
      "> 24.629\n"
     ]
    }
   ],
   "source": [
    "# evaluate model\n",
    "_, acc = model.evaluate(X_test, Y_test, verbose=0)\n",
    "print('> %.3f' % (acc * 100.0))"
   ]
  },
  {
   "cell_type": "code",
   "execution_count": 1951,
   "id": "119dd74c",
   "metadata": {},
   "outputs": [
    {
     "name": "stdout",
     "output_type": "stream",
     "text": [
      "2/2 [==============================] - 0s 10ms/step\n"
     ]
    }
   ],
   "source": [
    "#Predecimos y normalizamos\n",
    "prediccion = modelo.predict(X_test)"
   ]
  },
  {
   "cell_type": "code",
   "execution_count": 1952,
   "id": "71ffcb94",
   "metadata": {
    "scrolled": true
   },
   "outputs": [
    {
     "data": {
      "text/plain": [
       "array([[ 0.7911823 ,  0.09268563,  0.48027962,  0.56453437],\n",
       "       [ 0.85197914,  0.03073035,  0.5003629 ,  0.57726455],\n",
       "       [ 0.8902786 , -0.00402121,  0.525126  ,  0.58397514],\n",
       "       [ 0.9035544 , -0.00615278,  0.55729896,  0.5872431 ],\n",
       "       [ 0.8785569 ,  0.02484578,  0.5943785 ,  0.582297  ],\n",
       "       [ 0.8332673 ,  0.08513048,  0.6324497 ,  0.5769514 ],\n",
       "       [ 0.76118255,  0.17023195,  0.6635909 ,  0.567279  ],\n",
       "       [ 0.68792087,  0.27037674,  0.6834761 ,  0.5652858 ],\n",
       "       [ 0.5871264 ,  0.3861301 ,  0.6845995 ,  0.5578797 ],\n",
       "       [ 0.49955797,  0.5049591 ,  0.67408323,  0.56476986],\n",
       "       [ 0.4230358 ,  0.6169108 ,  0.6516687 ,  0.5793871 ],\n",
       "       [ 0.33757   ,  0.7182722 ,  0.62303174,  0.59143037],\n",
       "       [ 0.29173696,  0.7905239 ,  0.58679825,  0.61341053],\n",
       "       [ 0.2341427 ,  0.8555128 ,  0.56106865,  0.62163657],\n",
       "       [ 0.1989343 ,  0.8987291 ,  0.5391473 ,  0.6275699 ],\n",
       "       [ 0.14979114,  0.9305198 ,  0.53478456,  0.61674035],\n",
       "       [ 0.11150028,  0.9453943 ,  0.5407808 ,  0.6056122 ],\n",
       "       [ 0.07872407,  0.93895185,  0.54745084,  0.59163123],\n",
       "       [ 0.06074938,  0.9226358 ,  0.56335336,  0.5788715 ],\n",
       "       [ 0.06653292,  0.8897546 ,  0.568383  ,  0.56963694],\n",
       "       [ 0.09877427,  0.8513911 ,  0.5684062 ,  0.5661849 ],\n",
       "       [ 0.13795975,  0.80710065,  0.56481224,  0.55944633],\n",
       "       [ 0.17832287,  0.761618  ,  0.5600089 ,  0.54836124],\n",
       "       [ 0.2268968 ,  0.71900743,  0.5536444 ,  0.538125  ],\n",
       "       [ 0.2768646 ,  0.6788092 ,  0.54709667,  0.5282836 ],\n",
       "       [ 0.3261702 ,  0.6443922 ,  0.5411363 ,  0.52428055],\n",
       "       [ 0.36457193,  0.61094636,  0.5319654 ,  0.52071506],\n",
       "       [ 0.4044749 ,  0.5863001 ,  0.5268902 ,  0.5260061 ],\n",
       "       [ 0.4388147 ,  0.56064713,  0.52317125,  0.53311384],\n",
       "       [ 0.46542025,  0.5259063 ,  0.5188284 ,  0.5395098 ],\n",
       "       [ 0.49392843,  0.4879669 ,  0.52077854,  0.5505724 ],\n",
       "       [ 0.5330261 ,  0.45335197,  0.5313571 ,  0.56871617],\n",
       "       [ 0.58037853,  0.41556466,  0.54742944,  0.58632   ],\n",
       "       [ 0.6298234 ,  0.36743134,  0.55868137,  0.59453684],\n",
       "       [ 0.6916099 ,  0.31682184,  0.5667342 ,  0.60092175],\n",
       "       [ 0.748235  ,  0.26504934,  0.57347274,  0.6020849 ],\n",
       "       [ 0.80535126,  0.2192702 ,  0.57655096,  0.60643697],\n",
       "       [ 0.8511481 ,  0.18041688,  0.5740361 ,  0.60517454],\n",
       "       [ 0.8780048 ,  0.1548578 ,  0.5693883 ,  0.5982555 ],\n",
       "       [ 0.8848305 ,  0.15010248,  0.56701905,  0.59268165],\n",
       "       [ 0.87046313,  0.16327713,  0.56908834,  0.5915197 ],\n",
       "       [ 0.8326311 ,  0.19634444,  0.5797899 ,  0.5980952 ],\n",
       "       [ 0.78415424,  0.24304707,  0.5937536 ,  0.60872406],\n",
       "       [ 0.7226793 ,  0.30021748,  0.60638666,  0.61482835],\n",
       "       [ 0.66071546,  0.35917014,  0.6124975 ,  0.6177241 ],\n",
       "       [ 0.60399127,  0.41547325,  0.6073102 ,  0.6161483 ],\n",
       "       [ 0.5596206 ,  0.46517467,  0.588279  ,  0.61282444],\n",
       "       [ 0.5334159 ,  0.5106943 ,  0.55883217,  0.61388284],\n",
       "       [ 0.48737854,  0.568975  ,  0.5348636 ,  0.60749006],\n",
       "       [ 0.43858904,  0.62893504,  0.5199927 ,  0.6060959 ],\n",
       "       [ 0.3598612 ,  0.69928217,  0.526529  ,  0.60137105],\n",
       "       [ 0.27158916,  0.764413  ,  0.53925824,  0.5961345 ]],\n",
       "      dtype=float32)"
      ]
     },
     "execution_count": 1952,
     "metadata": {},
     "output_type": "execute_result"
    }
   ],
   "source": [
    "prediccion"
   ]
  },
  {
   "cell_type": "code",
   "execution_count": 1953,
   "id": "8eff38fe",
   "metadata": {},
   "outputs": [],
   "source": [
    "#prediccion[0][1]"
   ]
  },
  {
   "cell_type": "code",
   "execution_count": 1954,
   "id": "07629d83",
   "metadata": {},
   "outputs": [
    {
     "data": {
      "text/plain": [
       "'nw = list()\\nfor x in range(0,len(prediccion)):\\n    new_item = list()\\n    new_item.append(prediccion, [[0],[0]], axis=1)\\n    nw.append(new_item)\\nnw = np.array(nw)'"
      ]
     },
     "execution_count": 1954,
     "metadata": {},
     "output_type": "execute_result"
    }
   ],
   "source": [
    "'''nw = list()\n",
    "for x in range(0,len(prediccion)):\n",
    "    new_item = list()\n",
    "    new_item.append(prediccion, [[0],[0]], axis=1)\n",
    "    nw.append(new_item)\n",
    "nw = np.array(nw)'''"
   ]
  },
  {
   "cell_type": "code",
   "execution_count": 1955,
   "id": "3cb70ade",
   "metadata": {
    "scrolled": true
   },
   "outputs": [],
   "source": [
    "#nw"
   ]
  },
  {
   "cell_type": "code",
   "execution_count": 1956,
   "id": "c0721a61",
   "metadata": {},
   "outputs": [
    {
     "data": {
      "text/plain": [
       "(52, 4)"
      ]
     },
     "execution_count": 1956,
     "metadata": {},
     "output_type": "execute_result"
    }
   ],
   "source": [
    "prediccion = sc1.inverse_transform(prediccion)\n",
    "prediccion.shape"
   ]
  },
  {
   "cell_type": "code",
   "execution_count": 1957,
   "id": "e7f62134",
   "metadata": {},
   "outputs": [
    {
     "data": {
      "text/plain": [
       "(52, 30, 4)"
      ]
     },
     "execution_count": 1957,
     "metadata": {},
     "output_type": "execute_result"
    }
   ],
   "source": [
    "X_test.shape"
   ]
  },
  {
   "cell_type": "code",
   "execution_count": 1958,
   "id": "cf57f46b",
   "metadata": {
    "scrolled": true
   },
   "outputs": [
    {
     "data": {
      "text/plain": [
       "array([[ 2.4515400e+00, -7.6630577e+01, -2.1345580e+00,  7.5964481e-01],\n",
       "       [ 2.4518013e+00, -7.6631157e+01, -1.8838620e+00,  1.6793275e+00],\n",
       "       [ 2.4519660e+00, -7.6631477e+01, -1.5747480e+00,  2.1641293e+00],\n",
       "       [ 2.4520230e+00, -7.6631493e+01, -1.1731378e+00,  2.4002194e+00],\n",
       "       [ 2.4519157e+00, -7.6631210e+01, -7.1028012e-01,  2.0428953e+00],\n",
       "       [ 2.4517210e+00, -7.6630653e+01, -2.3504318e-01,  1.6567034e+00],\n",
       "       [ 2.4514112e+00, -7.6629868e+01,  1.5368776e-01,  9.5792753e-01],\n",
       "       [ 2.4510961e+00, -7.6628937e+01,  4.0191135e-01,  8.1393176e-01],\n",
       "       [ 2.4506629e+00, -7.6627869e+01,  4.1593492e-01,  2.7888232e-01],\n",
       "       [ 2.4502864e+00, -7.6626762e+01,  2.8466180e-01,  7.7665818e-01],\n",
       "       [ 2.4499574e+00, -7.6625725e+01,  4.8650652e-03,  1.8326719e+00],\n",
       "       [ 2.4495902e+00, -7.6624794e+01, -3.5260597e-01,  2.7027268e+00],\n",
       "       [ 2.4493930e+00, -7.6624123e+01, -8.0490285e-01,  4.2906680e+00],\n",
       "       [ 2.4491456e+00, -7.6623512e+01, -1.1260813e+00,  4.8849525e+00],\n",
       "       [ 2.4489944e+00, -7.6623116e+01, -1.3997219e+00,  5.3136024e+00],\n",
       "       [ 2.4487832e+00, -7.6622818e+01, -1.4541816e+00,  4.5312281e+00],\n",
       "       [ 2.4486184e+00, -7.6622681e+01, -1.3793316e+00,  3.7272844e+00],\n",
       "       [ 2.4484775e+00, -7.6622749e+01, -1.2960703e+00,  2.7172384e+00],\n",
       "       [ 2.4484003e+00, -7.6622894e+01, -1.0975617e+00,  1.7954198e+00],\n",
       "       [ 2.4484251e+00, -7.6623199e+01, -1.0347778e+00,  1.1282766e+00],\n",
       "       [ 2.4485638e+00, -7.6623550e+01, -1.0344876e+00,  8.7888485e-01],\n",
       "       [ 2.4487321e+00, -7.6623970e+01, -1.0793507e+00,  3.9206371e-01],\n",
       "       [ 2.4489057e+00, -7.6624382e+01, -1.1393102e+00, -4.0877080e-01],\n",
       "       [ 2.4491146e+00, -7.6624779e+01, -1.2187569e+00, -1.1482822e+00],\n",
       "       [ 2.4493294e+00, -7.6625153e+01, -1.3004913e+00, -1.8592658e+00],\n",
       "       [ 2.4495411e+00, -7.6625465e+01, -1.3748934e+00, -2.1484630e+00],\n",
       "       [ 2.4497063e+00, -7.6625786e+01, -1.4893730e+00, -2.4060493e+00],\n",
       "       [ 2.4498777e+00, -7.6626015e+01, -1.5527253e+00, -2.0238016e+00],\n",
       "       [ 2.4500253e+00, -7.6626244e+01, -1.5991486e+00, -1.5103085e+00],\n",
       "       [ 2.4501398e+00, -7.6626572e+01, -1.6533598e+00, -1.0482388e+00],\n",
       "       [ 2.4502623e+00, -7.6626915e+01, -1.6290165e+00, -2.4902762e-01],\n",
       "       [ 2.4504302e+00, -7.6627243e+01, -1.4969658e+00,  1.0617561e+00],\n",
       "       [ 2.4506338e+00, -7.6627594e+01, -1.2963375e+00,  2.3335309e+00],\n",
       "       [ 2.4508462e+00, -7.6628036e+01, -1.1558814e+00,  2.9271519e+00],\n",
       "       [ 2.4511120e+00, -7.6628510e+01, -1.0553592e+00,  3.3884249e+00],\n",
       "       [ 2.4513552e+00, -7.6628990e+01, -9.7124308e-01,  3.4724541e+00],\n",
       "       [ 2.4516008e+00, -7.6629410e+01, -9.3281811e-01,  3.7868679e+00],\n",
       "       [ 2.4517980e+00, -7.6629768e+01, -9.6421045e-01,  3.6956649e+00],\n",
       "       [ 2.4519134e+00, -7.6630013e+01, -1.0222288e+00,  3.1958048e+00],\n",
       "       [ 2.4519424e+00, -7.6630043e+01, -1.0518035e+00,  2.7931247e+00],\n",
       "       [ 2.4518807e+00, -7.6629929e+01, -1.0259728e+00,  2.7091815e+00],\n",
       "       [ 2.4517181e+00, -7.6629623e+01, -8.9238727e-01,  3.1842213e+00],\n",
       "       [ 2.4515097e+00, -7.6629189e+01, -7.1808058e-01,  3.9520969e+00],\n",
       "       [ 2.4512455e+00, -7.6628662e+01, -5.6038380e-01,  4.3930969e+00],\n",
       "       [ 2.4509792e+00, -7.6628113e+01, -4.8410305e-01,  4.6023002e+00],\n",
       "       [ 2.4507353e+00, -7.6627594e+01, -5.4885572e-01,  4.4884553e+00],\n",
       "       [ 2.4505446e+00, -7.6627136e+01, -7.8641874e-01,  4.2483263e+00],\n",
       "       [ 2.4504321e+00, -7.6626709e+01, -1.1539990e+00,  4.3247895e+00],\n",
       "       [ 2.4502342e+00, -7.6626167e+01, -1.4531950e+00,  3.8629479e+00],\n",
       "       [ 2.4500244e+00, -7.6625610e+01, -1.6388258e+00,  3.7622285e+00],\n",
       "       [ 2.4496858e+00, -7.6624962e+01, -1.5572342e+00,  3.4208844e+00],\n",
       "       [ 2.4493065e+00, -7.6624359e+01, -1.3983372e+00,  3.0425725e+00]],\n",
       "      dtype=float32)"
      ]
     },
     "execution_count": 1958,
     "metadata": {},
     "output_type": "execute_result"
    }
   ],
   "source": [
    "prediccion"
   ]
  },
  {
   "cell_type": "code",
   "execution_count": 1959,
   "id": "300981c9",
   "metadata": {},
   "outputs": [],
   "source": [
    "calle_5 = pd.DataFrame(prediccion[:,0:2])"
   ]
  },
  {
   "cell_type": "code",
   "execution_count": 1960,
   "id": "79cad69e",
   "metadata": {},
   "outputs": [],
   "source": [
    "calle_5.to_csv('calle_5.csv')"
   ]
  },
  {
   "cell_type": "code",
   "execution_count": 1961,
   "id": "6d0c6540",
   "metadata": {},
   "outputs": [],
   "source": [
    "array_latitud_p = []\n",
    "for x in range(len(prediccion)):\n",
    "    array_latitud_p.append(prediccion[x,0])"
   ]
  },
  {
   "cell_type": "code",
   "execution_count": 1962,
   "id": "57758417",
   "metadata": {},
   "outputs": [],
   "source": [
    "array_longitud_p = []\n",
    "for x in range(len(prediccion)):\n",
    "    array_longitud_p.append(prediccion[x,1])"
   ]
  },
  {
   "cell_type": "code",
   "execution_count": 1963,
   "id": "8bcee8a2",
   "metadata": {
    "scrolled": true
   },
   "outputs": [],
   "source": [
    "#array_latitud_p"
   ]
  },
  {
   "cell_type": "code",
   "execution_count": 1964,
   "id": "3149f8ca",
   "metadata": {
    "scrolled": true
   },
   "outputs": [],
   "source": [
    "#array_longitud_p"
   ]
  },
  {
   "cell_type": "code",
   "execution_count": 1965,
   "id": "68509ccd",
   "metadata": {},
   "outputs": [],
   "source": [
    "# Funciones auxiliares\n",
    "def graficar_predicciones(real, prediccion,titulo):\n",
    "    plt.plot(real[time_step:len(array_latitud)], color='red', label='Valor real')\n",
    "    plt.plot(prediccion, color='blue', label='Predicción')\n",
    "   # plt.ylim(-44,-43)\n",
    "    plt.xlabel('Número de mediciones')\n",
    "    plt.ylabel('Grados')\n",
    "    plt.title(titulo)\n",
    "    plt.legend()\n",
    "    plt.show()"
   ]
  },
  {
   "cell_type": "code",
   "execution_count": 1966,
   "id": "411a36c5",
   "metadata": {
    "scrolled": false
   },
   "outputs": [
    {
     "data": {
      "image/png": "[encoded data removed]",
      "text/plain": [
       "<Figure size 432x288 with 1 Axes>"
      ]
     },
     "metadata": {
      "needs_background": "light"
     },
     "output_type": "display_data"
    }
   ],
   "source": [
    "# Graficar resultados\n",
    "graficar_predicciones(array_latitud,array_latitud_p,'Test de Latitud')"
   ]
  },
  {
   "cell_type": "code",
   "execution_count": 1967,
   "id": "87b775eb",
   "metadata": {},
   "outputs": [
    {
     "data": {
      "image/png": "[encoded data removed]",
      "text/plain": [
       "<Figure size 432x288 with 1 Axes>"
      ]
     },
     "metadata": {
      "needs_background": "light"
     },
     "output_type": "display_data"
    }
   ],
   "source": [
    "graficar_predicciones(array_longitud,array_longitud_p, 'Test de Longitud')"
   ]
  },
  {
   "cell_type": "code",
   "execution_count": 1968,
   "id": "c9d10ea7",
   "metadata": {},
   "outputs": [],
   "source": [
    "from sklearn.metrics import mean_squared_error"
   ]
  },
  {
   "cell_type": "code",
   "execution_count": 1969,
   "id": "c9a64654",
   "metadata": {},
   "outputs": [],
   "source": [
    "mse_lat = mean_squared_error(array_latitud[time_step:],array_latitud_p, squared=False)"
   ]
  },
  {
   "cell_type": "code",
   "execution_count": 1970,
   "id": "cddd292b",
   "metadata": {},
   "outputs": [
    {
     "data": {
      "text/plain": [
       "0.0004366205738276164"
      ]
     },
     "execution_count": 1970,
     "metadata": {},
     "output_type": "execute_result"
    }
   ],
   "source": [
    "mse_lat"
   ]
  },
  {
   "cell_type": "code",
   "execution_count": 1971,
   "id": "d422ac43",
   "metadata": {},
   "outputs": [],
   "source": [
    "mse_lon = mean_squared_error(array_longitud[time_step:],array_longitud_p, squared=False)"
   ]
  },
  {
   "cell_type": "code",
   "execution_count": 1972,
   "id": "0ba4e8af",
   "metadata": {},
   "outputs": [
    {
     "data": {
      "text/plain": [
       "0.0011563385493020275"
      ]
     },
     "execution_count": 1972,
     "metadata": {},
     "output_type": "execute_result"
    }
   ],
   "source": [
    "mse_lon"
   ]
  },
  {
   "cell_type": "code",
   "execution_count": 1973,
   "id": "df439d48",
   "metadata": {},
   "outputs": [
    {
     "data": {
      "text/plain": [
       "0.13747837797007753"
      ]
     },
     "execution_count": 1973,
     "metadata": {},
     "output_type": "execute_result"
    }
   ],
   "source": [
    "haversine(0.00000,0.00000,mse_lat,mse_lon)"
   ]
  },
  {
   "cell_type": "code",
   "execution_count": 1974,
   "id": "6fc0b68b",
   "metadata": {
    "scrolled": true
   },
   "outputs": [
    {
     "name": "stdout",
     "output_type": "stream",
     "text": [
      "1/1 [==============================] - 0s 12ms/step\n",
      "1/1 [==============================] - 0s 12ms/step\n",
      "1/1 [==============================] - 0s 12ms/step\n",
      "1/1 [==============================] - 0s 12ms/step\n",
      "1/1 [==============================] - 0s 11ms/step\n",
      "1/1 [==============================] - 0s 12ms/step\n",
      "1/1 [==============================] - 0s 12ms/step\n",
      "1/1 [==============================] - 0s 12ms/step\n",
      "1/1 [==============================] - 0s 12ms/step\n",
      "1/1 [==============================] - 0s 12ms/step\n",
      "1/1 [==============================] - 0s 12ms/step\n",
      "1/1 [==============================] - 0s 12ms/step\n",
      "1/1 [==============================] - 0s 12ms/step\n",
      "1/1 [==============================] - 0s 12ms/step\n",
      "1/1 [==============================] - 0s 11ms/step\n",
      "1/1 [==============================] - 0s 12ms/step\n",
      "1/1 [==============================] - 0s 11ms/step\n",
      "1/1 [==============================] - 0s 12ms/step\n",
      "1/1 [==============================] - 0s 12ms/step\n",
      "1/1 [==============================] - 0s 13ms/step\n",
      "1/1 [==============================] - 0s 12ms/step\n",
      "1/1 [==============================] - 0s 12ms/step\n",
      "1/1 [==============================] - 0s 13ms/step\n",
      "1/1 [==============================] - 0s 11ms/step\n",
      "1/1 [==============================] - 0s 12ms/step\n",
      "1/1 [==============================] - 0s 12ms/step\n",
      "1/1 [==============================] - 0s 12ms/step\n",
      "1/1 [==============================] - 0s 12ms/step\n",
      "1/1 [==============================] - 0s 12ms/step\n",
      "1/1 [==============================] - 0s 12ms/step\n",
      "1/1 [==============================] - 0s 13ms/step\n",
      "1/1 [==============================] - 0s 12ms/step\n",
      "1/1 [==============================] - 0s 13ms/step\n",
      "1/1 [==============================] - 0s 12ms/step\n",
      "1/1 [==============================] - 0s 12ms/step\n",
      "1/1 [==============================] - 0s 12ms/step\n",
      "1/1 [==============================] - 0s 12ms/step\n",
      "1/1 [==============================] - 0s 13ms/step\n",
      "1/1 [==============================] - 0s 12ms/step\n",
      "1/1 [==============================] - 0s 12ms/step\n",
      "1/1 [==============================] - 0s 11ms/step\n",
      "1/1 [==============================] - 0s 12ms/step\n",
      "1/1 [==============================] - 0s 12ms/step\n",
      "1/1 [==============================] - 0s 12ms/step\n",
      "1/1 [==============================] - 0s 12ms/step\n",
      "1/1 [==============================] - 0s 12ms/step\n",
      "1/1 [==============================] - 0s 12ms/step\n",
      "1/1 [==============================] - 0s 12ms/step\n",
      "1/1 [==============================] - 0s 12ms/step\n",
      "1/1 [==============================] - 0s 12ms/step\n",
      "1/1 [==============================] - 0s 12ms/step\n",
      "1/1 [==============================] - 0s 12ms/step\n"
     ]
    }
   ],
   "source": [
    "#Prediccion con los primeros datos del set de validacion\n",
    "# Using predicted values to predict next step\n",
    "X_pred = x_test_n.copy()\n",
    "for i in range(time_step,len(X_pred)):\n",
    "    xin = X_pred[i-time_step:i].reshape(1, time_step, 4)\n",
    "    X_pred[i] = modelo.predict(xin)"
   ]
  },
  {
   "cell_type": "code",
   "execution_count": 1975,
   "id": "a963ccde",
   "metadata": {},
   "outputs": [
    {
     "data": {
      "text/plain": [
       "82"
      ]
     },
     "execution_count": 1975,
     "metadata": {},
     "output_type": "execute_result"
    }
   ],
   "source": [
    " len(X_pred)"
   ]
  },
  {
   "cell_type": "code",
   "execution_count": 1976,
   "id": "27acf4e2",
   "metadata": {
    "scrolled": true
   },
   "outputs": [
    {
     "data": {
      "text/plain": [
       "array([[8.77050134e-01, 1.09233809e-01, 1.70567924e-01, 6.16441232e-01],\n",
       "       [9.67639874e-01, 3.69546676e-02, 3.60706064e-01, 5.04226525e-01],\n",
       "       [9.66592998e-01, 1.03317607e-02, 3.80660022e-01, 5.93195245e-01],\n",
       "       [8.85122717e-01, 8.51803470e-02, 5.83269393e-01, 6.03338947e-01],\n",
       "       [8.28940328e-01, 1.35327712e-01, 4.36684581e-01, 5.81994908e-01],\n",
       "       [7.40839828e-01, 2.14192406e-01, 6.05142001e-01, 5.30431089e-01],\n",
       "       [6.60672328e-01, 2.82261112e-01, 3.41135849e-01, 5.30431089e-01],\n",
       "       [5.68081889e-01, 3.68758569e-01, 9.68150425e-01, 5.98689752e-01],\n",
       "       [5.27439805e-01, 4.54532696e-01, 6.51381440e-01, 4.91335569e-01],\n",
       "       [5.25159940e-01, 5.37910113e-01, 5.82118205e-01, 5.40152137e-01],\n",
       "       [4.80051181e-01, 6.25390005e-01, 1.00000000e+00, 6.17497868e-01],\n",
       "       [4.20658369e-01, 6.73486133e-01, 2.22563321e-01, 6.89771743e-01],\n",
       "       [3.36117250e-01, 7.36588684e-01, 6.05717591e-01, 4.69568877e-01],\n",
       "       [2.43922298e-01, 8.00975957e-01, 1.78242523e-01, 5.19230748e-01],\n",
       "       [1.44399209e-01, 8.78469561e-01, 5.61972391e-01, 5.49450531e-01],\n",
       "       [5.56938467e-02, 9.42144299e-01, 3.95433621e-01, 6.17286538e-01],\n",
       "       [6.04862161e-03, 9.97743638e-01, 5.63123579e-01, 1.00000000e+00],\n",
       "       [7.93067349e-02, 9.45113196e-01, 6.55410603e-01, 4.45266248e-01],\n",
       "       [1.50750262e-01, 8.83791983e-01, 6.05525727e-01, 6.23415025e-01],\n",
       "       [2.49389322e-01, 8.07248426e-01, 3.78549509e-01, 5.40786117e-01],\n",
       "       [3.10550192e-01, 7.63243979e-01, 5.00767481e-01, 5.62975466e-01],\n",
       "       [3.56868675e-01, 7.28243385e-01, 5.88641615e-01, 5.38461519e-01],\n",
       "       [4.43503548e-01, 6.62063977e-01, 4.48772069e-01, 5.21344020e-01],\n",
       "       [5.11457485e-01, 6.01574055e-01, 4.20184196e-01, 4.92603534e-01],\n",
       "       [5.32371758e-01, 5.22612197e-01, 3.67613201e-01, 5.15004209e-01],\n",
       "       [5.40770036e-01, 4.28514364e-01, 5.77321581e-01, 5.67835989e-01],\n",
       "       [6.11003839e-01, 3.37018364e-01, 3.64159637e-01, 5.75443766e-01],\n",
       "       [7.10922415e-01, 2.57343971e-01, 4.84650823e-01, 5.23457292e-01],\n",
       "       [7.93044085e-01, 1.84395479e-01, 7.27168085e-01, 5.26627201e-01],\n",
       "       [8.77096662e-01, 1.13087977e-01, 6.15310839e-01, 5.44801335e-01],\n",
       "       [7.91182160e-01, 9.26856846e-02, 4.80279624e-01, 5.64534366e-01],\n",
       "       [8.51501286e-01, 3.19486633e-02, 5.01344621e-01, 5.77675104e-01],\n",
       "       [8.88640702e-01, 4.30004671e-04, 5.27447402e-01, 5.84587753e-01],\n",
       "       [9.00414169e-01, 2.22612359e-03, 5.60562313e-01, 5.87415993e-01],\n",
       "       [8.74789178e-01, 3.59206647e-02, 5.98553419e-01, 5.81689000e-01],\n",
       "       [8.29780042e-01, 9.65902358e-02, 6.36667728e-01, 5.74805677e-01],\n",
       "       [7.59184122e-01, 1.79915577e-01, 6.67167246e-01, 5.64107180e-01],\n",
       "       [6.87666357e-01, 2.77394801e-01, 6.86084569e-01, 5.63436329e-01],\n",
       "       [5.88650286e-01, 3.90396893e-01, 6.86709285e-01, 5.59328556e-01],\n",
       "       [5.02275646e-01, 5.06285608e-01, 6.77301884e-01, 5.70044577e-01],\n",
       "       [4.26701307e-01, 6.15523815e-01, 6.56571507e-01, 5.87744892e-01],\n",
       "       [3.41209769e-01, 7.14583337e-01, 6.30623162e-01, 6.00940108e-01],\n",
       "       [2.94965565e-01, 7.84737289e-01, 5.98502457e-01, 6.23459816e-01],\n",
       "       [2.36173347e-01, 8.49913001e-01, 5.78477859e-01, 6.32413626e-01],\n",
       "       [1.99504063e-01, 8.95801961e-01, 5.61619282e-01, 6.38149321e-01],\n",
       "       [1.48093551e-01, 9.34616446e-01, 5.60167074e-01, 6.26845002e-01],\n",
       "       [1.07423335e-01, 9.60884333e-01, 5.65208137e-01, 6.14983678e-01],\n",
       "       [7.17799217e-02, 9.69427586e-01, 5.67911863e-01, 6.00079358e-01],\n",
       "       [5.14021963e-02, 9.70473528e-01, 5.77015996e-01, 5.86378574e-01],\n",
       "       [5.69262356e-02, 9.54545140e-01, 5.72975159e-01, 5.75210929e-01],\n",
       "       [9.14547145e-02, 9.29584026e-01, 5.63678801e-01, 5.69603503e-01],\n",
       "       [1.34251893e-01, 8.94839644e-01, 5.52227736e-01, 5.61883867e-01],\n",
       "       [1.78147510e-01, 8.55481744e-01, 5.44420838e-01, 5.52420914e-01],\n",
       "       [2.26303354e-01, 8.21740627e-01, 5.43360949e-01, 5.45468211e-01],\n",
       "       [2.68960476e-01, 7.95207918e-01, 5.50070405e-01, 5.40438771e-01],\n",
       "       [3.02062869e-01, 7.78578103e-01, 5.64673781e-01, 5.39150834e-01],\n",
       "       [3.18689823e-01, 7.63136685e-01, 5.81843138e-01, 5.38324177e-01],\n",
       "       [3.32393765e-01, 7.57080853e-01, 6.05287552e-01, 5.45758545e-01],\n",
       "       [3.43317747e-01, 7.44473755e-01, 6.27092779e-01, 5.54681420e-01],\n",
       "       [3.55347753e-01, 7.15912223e-01, 6.42891467e-01, 5.61536491e-01],\n",
       "       [3.77823353e-01, 6.81868970e-01, 6.58719480e-01, 5.71742296e-01],\n",
       "       [4.06048536e-01, 6.44736886e-01, 6.80387259e-01, 5.86166978e-01],\n",
       "       [4.45957780e-01, 6.01446271e-01, 6.99519157e-01, 5.98020375e-01],\n",
       "       [4.98345077e-01, 5.52876592e-01, 7.15958834e-01, 6.04511559e-01],\n",
       "       [5.62651694e-01, 4.98013496e-01, 7.28187978e-01, 6.03117228e-01],\n",
       "       [6.36511683e-01, 4.34706956e-01, 7.33339906e-01, 5.92883050e-01],\n",
       "       [7.15649545e-01, 3.62039506e-01, 7.28291690e-01, 5.75339258e-01],\n",
       "       [7.92557955e-01, 2.83690453e-01, 7.12716877e-01, 5.55623174e-01],\n",
       "       [8.57179403e-01, 2.09413469e-01, 6.89992070e-01, 5.40224552e-01],\n",
       "       [8.98106933e-01, 1.53278932e-01, 6.67190135e-01, 5.36502719e-01],\n",
       "       [9.09683883e-01, 1.25834063e-01, 6.49456382e-01, 5.45727968e-01],\n",
       "       [8.94936383e-01, 1.28529638e-01, 6.37941360e-01, 5.64256191e-01],\n",
       "       [8.62469196e-01, 1.55469909e-01, 6.30679846e-01, 5.86384833e-01],\n",
       "       [8.22745264e-01, 1.94690421e-01, 6.21487558e-01, 6.04484558e-01],\n",
       "       [7.81615674e-01, 2.40590468e-01, 6.08233392e-01, 6.15880013e-01],\n",
       "       [7.41651952e-01, 2.89414316e-01, 5.89164197e-01, 6.19476140e-01],\n",
       "       [7.00615764e-01, 3.42953831e-01, 5.67484796e-01, 6.17653608e-01],\n",
       "       [6.54929399e-01, 4.01536554e-01, 5.46353817e-01, 6.13143861e-01],\n",
       "       [6.01566255e-01, 4.65143323e-01, 5.29488444e-01, 6.09161437e-01],\n",
       "       [5.38682997e-01, 5.32878399e-01, 5.19704044e-01, 6.07466400e-01],\n",
       "       [4.68905091e-01, 6.02267265e-01, 5.17231166e-01, 6.08618081e-01],\n",
       "       [3.97031784e-01, 6.70323372e-01, 5.20851016e-01, 6.11568570e-01]])"
      ]
     },
     "execution_count": 1976,
     "metadata": {},
     "output_type": "execute_result"
    }
   ],
   "source": [
    "X_pred"
   ]
  },
  {
   "cell_type": "code",
   "execution_count": 1977,
   "id": "d8d04443",
   "metadata": {},
   "outputs": [
    {
     "data": {
      "text/plain": [
       "(1, 30, 4)"
      ]
     },
     "execution_count": 1977,
     "metadata": {},
     "output_type": "execute_result"
    }
   ],
   "source": [
    "xin.shape"
   ]
  },
  {
   "cell_type": "code",
   "execution_count": 1978,
   "id": "55382937",
   "metadata": {},
   "outputs": [],
   "source": [
    "prediccion2 = sc1.inverse_transform(X_pred)"
   ]
  },
  {
   "cell_type": "code",
   "execution_count": 1979,
   "id": "17089771",
   "metadata": {},
   "outputs": [],
   "source": [
    "# Funciones auxiliares\n",
    "def graficar_predicciones2(real, prediccion,campo,title):\n",
    "    plt.plot(real[0:len(real)], color='red', label='Valor real')\n",
    "    plt.plot(prediccion, color='blue', label='Predicción')\n",
    "    #plt.ylim(-44,-43)\n",
    "    plt.title(title)\n",
    "    plt.xlabel('Numero de mediciones')\n",
    "    plt.ylabel(campo)\n",
    "    plt.legend()\n",
    "    plt.show()"
   ]
  },
  {
   "cell_type": "code",
   "execution_count": 1980,
   "id": "ce0e461f",
   "metadata": {
    "scrolled": true
   },
   "outputs": [
    {
     "data": {
      "text/plain": [
       "array([[ 2.45190910e+00, -7.66304280e+01, -6.00064010e+00,\n",
       "         4.50961870e+00],\n",
       "       [ 2.45229850e+00, -7.66310975e+01, -3.62717580e+00,\n",
       "        -3.59725140e+00],\n",
       "       [ 2.45229400e+00, -7.66313441e+01, -3.37809370e+00,\n",
       "         2.83022920e+00],\n",
       "       [ 2.45194380e+00, -7.66306508e+01, -8.48953000e-01,\n",
       "         3.56305360e+00],\n",
       "       [ 2.45170230e+00, -7.66301863e+01, -2.67874800e+00,\n",
       "         2.02106900e+00],\n",
       "       [ 2.45132360e+00, -7.66294558e+01, -5.75920700e-01,\n",
       "        -1.70412170e+00],\n",
       "       [ 2.45097900e+00, -7.66288253e+01, -3.87146770e+00,\n",
       "        -1.70412170e+00],\n",
       "       [ 2.45058100e+00, -7.66280241e+01,  3.95545600e+00,\n",
       "         3.22717590e+00],\n",
       "       [ 2.45040630e+00, -7.66272296e+01,  1.27890000e-03,\n",
       "        -4.52854910e+00],\n",
       "       [ 2.45039650e+00, -7.66264573e+01, -8.63323100e-01,\n",
       "        -1.00183160e+00],\n",
       "       [ 2.45020260e+00, -7.66256470e+01,  4.35302920e+00,\n",
       "         4.58595460e+00],\n",
       "       [ 2.44994730e+00, -7.66252015e+01, -5.35158980e+00,\n",
       "         9.80732820e+00],\n",
       "       [ 2.44958390e+00, -7.66246170e+01, -5.68735700e-01,\n",
       "        -6.10106800e+00],\n",
       "       [ 2.44918760e+00, -7.66240206e+01, -5.90483930e+00,\n",
       "        -2.51328220e+00],\n",
       "       [ 2.44875980e+00, -7.66233028e+01, -1.11480010e+00,\n",
       "        -3.30075900e-01],\n",
       "       [ 2.44837850e+00, -7.66227130e+01, -3.19367720e+00,\n",
       "         4.57068720e+00],\n",
       "       [ 2.44816510e+00, -7.66221980e+01, -1.10043000e+00,\n",
       "         3.22195434e+01],\n",
       "       [ 2.44848000e+00, -7.66226855e+01,  5.15743000e-02,\n",
       "        -7.85679380e+00],\n",
       "       [ 2.44878710e+00, -7.66232535e+01, -5.71130700e-01,\n",
       "         5.01343530e+00],\n",
       "       [ 2.44921110e+00, -7.66239625e+01, -3.40443890e+00,\n",
       "        -9.56030200e-01],\n",
       "       [ 2.44947400e+00, -7.66243701e+01, -1.87881130e+00,\n",
       "         6.47023200e-01],\n",
       "       [ 2.44967310e+00, -7.66246943e+01, -7.81892400e-01,\n",
       "        -1.12396910e+00],\n",
       "       [ 2.45004550e+00, -7.66253073e+01, -2.52786180e+00,\n",
       "        -2.36061040e+00],\n",
       "       [ 2.45033760e+00, -7.66258676e+01, -2.88471970e+00,\n",
       "        -4.43694590e+00],\n",
       "       [ 2.45042750e+00, -7.66265990e+01, -3.54095510e+00,\n",
       "        -2.81862540e+00],\n",
       "       [ 2.45046360e+00, -7.66274706e+01, -9.23198600e-01,\n",
       "         9.98168200e-01],\n",
       "       [ 2.45076550e+00, -7.66283181e+01, -3.58406540e+00,\n",
       "         1.54778650e+00],\n",
       "       [ 2.45119500e+00, -7.66290561e+01, -2.07999300e+00,\n",
       "        -2.20793860e+00],\n",
       "       [ 2.45154800e+00, -7.66297318e+01,  9.47311600e-01,\n",
       "        -1.97893080e+00],\n",
       "       [ 2.45190930e+00, -7.66303923e+01, -4.48984700e-01,\n",
       "        -6.65953700e-01],\n",
       "       [ 2.45154000e+00, -7.66305813e+01, -2.13455798e+00,\n",
       "         7.59644829e-01],\n",
       "       [ 2.45179928e+00, -7.66311439e+01, -1.87160696e+00,\n",
       "         1.70898791e+00],\n",
       "       [ 2.45195892e+00, -7.66314358e+01, -1.54577007e+00,\n",
       "         2.20838719e+00],\n",
       "       [ 2.45200953e+00, -7.66314192e+01, -1.13240189e+00,\n",
       "         2.41271137e+00],\n",
       "       [ 2.45189938e+00, -7.66311071e+01, -6.58164920e-01,\n",
       "         1.99896891e+00],\n",
       "       [ 2.45170591e+00, -7.66305451e+01, -1.82390031e-01,\n",
       "         1.50168822e+00],\n",
       "       [ 2.45140245e+00, -7.66297733e+01,  1.98330624e-01,\n",
       "         7.28783051e-01],\n",
       "       [ 2.45109503e+00, -7.66288704e+01,  4.34472561e-01,\n",
       "         6.80317960e-01],\n",
       "       [ 2.45066941e+00, -7.66278237e+01,  4.42270796e-01,\n",
       "         3.83554860e-01],\n",
       "       [ 2.45029813e+00, -7.66267502e+01,  3.24839697e-01,\n",
       "         1.15772602e+00],\n",
       "       [ 2.44997328e+00, -7.66257384e+01,  6.60656923e-02,\n",
       "         2.43647239e+00],\n",
       "       [ 2.44960579e+00, -7.66248208e+01, -2.57843399e-01,\n",
       "         3.38975124e+00],\n",
       "       [ 2.44940701e+00, -7.66241710e+01, -6.58801070e-01,\n",
       "         5.01667117e+00],\n",
       "       [ 2.44915429e+00, -7.66235673e+01, -9.08764953e-01,\n",
       "         5.66353266e+00],\n",
       "       [ 2.44899667e+00, -7.66231423e+01, -1.11920791e+00,\n",
       "         6.07790380e+00],\n",
       "       [ 2.44877568e+00, -7.66227827e+01, -1.13733559e+00,\n",
       "         5.26123149e+00],\n",
       "       [ 2.44860086e+00, -7.66225394e+01, -1.07440880e+00,\n",
       "         4.40431873e+00],\n",
       "       [ 2.44844765e+00, -7.66224603e+01, -1.04065861e+00,\n",
       "         3.32756693e+00],\n",
       "       [ 2.44836005e+00, -7.66224506e+01, -9.27013164e-01,\n",
       "         2.33776379e+00],\n",
       "       [ 2.44838380e+00, -7.66225981e+01, -9.77454296e-01,\n",
       "         1.53096536e+00],\n",
       "       [ 2.44853222e+00, -7.66228293e+01, -1.09349926e+00,\n",
       "         1.12586092e+00],\n",
       "       [ 2.44871618e+00, -7.66231512e+01, -1.23644110e+00,\n",
       "         5.68161428e-01],\n",
       "       [ 2.44890487e+00, -7.66235157e+01, -1.33389336e+00,\n",
       "        -1.15482713e-01],\n",
       "       [ 2.44911186e+00, -7.66238283e+01, -1.34712379e+00,\n",
       "        -6.17775694e-01],\n",
       "       [ 2.44929523e+00, -7.66240740e+01, -1.26337071e+00,\n",
       "        -9.81123930e-01],\n",
       "       [ 2.44943752e+00, -7.66242281e+01, -1.08107907e+00,\n",
       "        -1.07417002e+00],\n",
       "       [ 2.44950899e+00, -7.66243711e+01, -8.66756717e-01,\n",
       "        -1.13389124e+00],\n",
       "       [ 2.44956789e+00, -7.66244272e+01, -5.74103807e-01,\n",
       "        -5.96800708e-01],\n",
       "       [ 2.44961485e+00, -7.66245440e+01, -3.01912612e-01,\n",
       "         4.78259128e-02],\n",
       "       [ 2.44966656e+00, -7.66248085e+01, -1.04700092e-01,\n",
       "         5.43065511e-01],\n",
       "       [ 2.44976317e+00, -7.66251239e+01,  9.28784940e-02,\n",
       "         1.28037651e+00],\n",
       "       [ 2.44988450e+00, -7.66254678e+01,  3.63353943e-01,\n",
       "         2.32247716e+00],\n",
       "       [ 2.45005605e+00, -7.66258688e+01,  6.02174408e-01,\n",
       "         3.17881721e+00],\n",
       "       [ 2.45028124e+00, -7.66263187e+01,  8.07388285e-01,\n",
       "         3.64776811e+00],\n",
       "       [ 2.45055766e+00, -7.66268269e+01,  9.60042761e-01,\n",
       "         3.54703564e+00],\n",
       "       [ 2.45087515e+00, -7.66274132e+01,  1.02435346e+00,\n",
       "         2.80767495e+00],\n",
       "       [ 2.45121532e+00, -7.66280863e+01,  9.61337382e-01,\n",
       "         1.54023638e+00],\n",
       "       [ 2.45154591e+00, -7.66288121e+01,  7.66919458e-01,\n",
       "         1.15862203e-01],\n",
       "       [ 2.45182369e+00, -7.66295001e+01,  4.83249287e-01,\n",
       "        -9.96600033e-01],\n",
       "       [ 2.45199961e+00, -7.66300200e+01,  1.98616333e-01,\n",
       "        -1.26548117e+00],\n",
       "       [ 2.45204938e+00, -7.66302742e+01, -2.27512950e-02,\n",
       "        -5.99009735e-01],\n",
       "       [ 2.45198598e+00, -7.66302493e+01, -1.66491483e-01,\n",
       "         7.39548287e-01],\n",
       "       [ 2.45184642e+00, -7.66299997e+01, -2.57135821e-01,\n",
       "         2.33821593e+00],\n",
       "       [ 2.45167567e+00, -7.66296364e+01, -3.71881696e-01,\n",
       "         3.64581744e+00],\n",
       "       [ 2.45149887e+00, -7.66292113e+01, -5.37331348e-01,\n",
       "         4.46907378e+00],\n",
       "       [ 2.45132709e+00, -7.66287590e+01, -7.75369088e-01,\n",
       "         4.72887336e+00],\n",
       "       [ 2.45115070e+00, -7.66282631e+01, -1.04598962e+00,\n",
       "         4.59720592e+00],\n",
       "       [ 2.45095431e+00, -7.66277205e+01, -1.30976429e+00,\n",
       "         4.27140252e+00],\n",
       "       [ 2.45072493e+00, -7.66271313e+01, -1.52029207e+00,\n",
       "         3.98369513e+00],\n",
       "       [ 2.45045463e+00, -7.66265039e+01, -1.64242919e+00,\n",
       "         3.86123842e+00],\n",
       "       [ 2.45015469e+00, -7.66258612e+01, -1.67329773e+00,\n",
       "         3.94444078e+00],\n",
       "       [ 2.44984574e+00, -7.66252308e+01, -1.62811172e+00,\n",
       "         4.15759675e+00]])"
      ]
     },
     "execution_count": 1980,
     "metadata": {},
     "output_type": "execute_result"
    }
   ],
   "source": [
    "prediccion2"
   ]
  },
  {
   "cell_type": "code",
   "execution_count": 1981,
   "id": "23bc33ae",
   "metadata": {
    "scrolled": true
   },
   "outputs": [
    {
     "data": {
      "image/png": "[encoded data removed]",
      "text/plain": [
       "<Figure size 432x288 with 1 Axes>"
      ]
     },
     "metadata": {
      "needs_background": "light"
     },
     "output_type": "display_data"
    }
   ],
   "source": [
    "# Graficar resultados de prediccion de valores futuros\n",
    "graficar_predicciones2(array_latitud,prediccion2[:,0:1],'Grados','Predicción latitud')"
   ]
  },
  {
   "cell_type": "code",
   "execution_count": 1982,
   "id": "44de685e",
   "metadata": {
    "scrolled": false
   },
   "outputs": [
    {
     "data": {
      "image/png": "[encoded data removed]",
      "text/plain": [
       "<Figure size 432x288 with 1 Axes>"
      ]
     },
     "metadata": {
      "needs_background": "light"
     },
     "output_type": "display_data"
    }
   ],
   "source": [
    "graficar_predicciones2(array_longitud,prediccion2[:,1:2],'Grados','Prediccion longitud')"
   ]
  },
  {
   "cell_type": "code",
   "execution_count": 1983,
   "id": "cea6b13c",
   "metadata": {},
   "outputs": [],
   "source": [
    "mse_lat_p = mean_squared_error(array_latitud[time_step:],prediccion2[time_step:,0:1], squared=False)"
   ]
  },
  {
   "cell_type": "code",
   "execution_count": 1984,
   "id": "1d0c7ad9",
   "metadata": {},
   "outputs": [
    {
     "data": {
      "text/plain": [
       "0.0004897620122827435"
      ]
     },
     "execution_count": 1984,
     "metadata": {},
     "output_type": "execute_result"
    }
   ],
   "source": [
    "mse_lat_p"
   ]
  },
  {
   "cell_type": "code",
   "execution_count": 1985,
   "id": "7f1446a9",
   "metadata": {},
   "outputs": [],
   "source": [
    "mse_lon_p = mean_squared_error(array_longitud[time_step:],prediccion2[time_step:,1:2], squared=False)"
   ]
  },
  {
   "cell_type": "code",
   "execution_count": 1986,
   "id": "35daca51",
   "metadata": {},
   "outputs": [
    {
     "data": {
      "text/plain": [
       "0.0010044847186599646"
      ]
     },
     "execution_count": 1986,
     "metadata": {},
     "output_type": "execute_result"
    }
   ],
   "source": [
    "mse_lon_p"
   ]
  },
  {
   "cell_type": "code",
   "execution_count": 1987,
   "id": "ec7d37a5",
   "metadata": {},
   "outputs": [
    {
     "data": {
      "text/plain": [
       "0.12429784427974265"
      ]
     },
     "execution_count": 1987,
     "metadata": {},
     "output_type": "execute_result"
    }
   ],
   "source": [
    "haversine(0.00000,0.00000,mse_lat_p,mse_lon_p)"
   ]
  },
  {
   "cell_type": "code",
   "execution_count": 1988,
   "id": "3bd55214",
   "metadata": {},
   "outputs": [],
   "source": [
    "calle_5_p = pd.DataFrame(prediccion2[:,0:2])"
   ]
  },
  {
   "cell_type": "code",
   "execution_count": 1989,
   "id": "ceca951c",
   "metadata": {},
   "outputs": [],
   "source": [
    "calle_5_p.to_csv('calle_5_p.csv')"
   ]
  },
  {
   "cell_type": "code",
   "execution_count": 1990,
   "id": "b40b50b5",
   "metadata": {},
   "outputs": [],
   "source": [
    "distancia_entrenamiento = []\n",
    "distancia_entrenamiento.append(0)\n",
    "for i in range(0, len(set_entrenamiento)-1):\n",
    "    distancia_entrenamiento.append(haversine(set_entrenamiento.iat[i,4],set_entrenamiento.iat[i,5],set_entrenamiento.iat[i+1,4],set_entrenamiento.iat[i+1,5]))"
   ]
  },
  {
   "cell_type": "code",
   "execution_count": 1991,
   "id": "33722b67",
   "metadata": {},
   "outputs": [
    {
     "data": {
      "text/html": [
       "<div>\n",
       "<style scoped>\n",
       "    .dataframe tbody tr th:only-of-type {\n",
       "        vertical-align: middle;\n",
       "    }\n",
       "\n",
       "    .dataframe tbody tr th {\n",
       "        vertical-align: top;\n",
       "    }\n",
       "\n",
       "    .dataframe thead th {\n",
       "        text-align: right;\n",
       "    }\n",
       "</style>\n",
       "<table border=\"1\" class=\"dataframe\">\n",
       "  <thead>\n",
       "    <tr style=\"text-align: right;\">\n",
       "      <th></th>\n",
       "      <th>distancia</th>\n",
       "    </tr>\n",
       "  </thead>\n",
       "  <tbody>\n",
       "    <tr>\n",
       "      <th>0</th>\n",
       "      <td>0.000000</td>\n",
       "    </tr>\n",
       "    <tr>\n",
       "      <th>1</th>\n",
       "      <td>0.003521</td>\n",
       "    </tr>\n",
       "    <tr>\n",
       "      <th>2</th>\n",
       "      <td>0.009854</td>\n",
       "    </tr>\n",
       "    <tr>\n",
       "      <th>3</th>\n",
       "      <td>0.002167</td>\n",
       "    </tr>\n",
       "    <tr>\n",
       "      <th>4</th>\n",
       "      <td>0.000555</td>\n",
       "    </tr>\n",
       "    <tr>\n",
       "      <th>...</th>\n",
       "      <td>...</td>\n",
       "    </tr>\n",
       "    <tr>\n",
       "      <th>205</th>\n",
       "      <td>0.096939</td>\n",
       "    </tr>\n",
       "    <tr>\n",
       "      <th>206</th>\n",
       "      <td>0.099985</td>\n",
       "    </tr>\n",
       "    <tr>\n",
       "      <th>207</th>\n",
       "      <td>0.094909</td>\n",
       "    </tr>\n",
       "    <tr>\n",
       "      <th>208</th>\n",
       "      <td>0.084733</td>\n",
       "    </tr>\n",
       "    <tr>\n",
       "      <th>209</th>\n",
       "      <td>0.083679</td>\n",
       "    </tr>\n",
       "  </tbody>\n",
       "</table>\n",
       "<p>210 rows × 1 columns</p>\n",
       "</div>"
      ],
      "text/plain": [
       "     distancia\n",
       "0     0.000000\n",
       "1     0.003521\n",
       "2     0.009854\n",
       "3     0.002167\n",
       "4     0.000555\n",
       "..         ...\n",
       "205   0.096939\n",
       "206   0.099985\n",
       "207   0.094909\n",
       "208   0.084733\n",
       "209   0.083679\n",
       "\n",
       "[210 rows x 1 columns]"
      ]
     },
     "execution_count": 1991,
     "metadata": {},
     "output_type": "execute_result"
    }
   ],
   "source": [
    "d_d_e = pd.DataFrame(distancia_entrenamiento, columns=['distancia'])\n",
    "d_d_e"
   ]
  },
  {
   "cell_type": "code",
   "execution_count": 1992,
   "id": "955b7a83",
   "metadata": {},
   "outputs": [
    {
     "data": {
      "text/plain": [
       "210"
      ]
     },
     "execution_count": 1992,
     "metadata": {},
     "output_type": "execute_result"
    }
   ],
   "source": [
    "len(distancia_entrenamiento)"
   ]
  },
  {
   "cell_type": "code",
   "execution_count": 1993,
   "id": "229af86c",
   "metadata": {},
   "outputs": [],
   "source": [
    "distancia_validacion = []\n",
    "distancia_validacion.append(0)\n",
    "for i in range(0, len(set_validacion)-1):\n",
    "    distancia_validacion.append(haversine(set_validacion.iat[i,4],set_validacion.iat[i,5],set_validacion.iat[i+1,4],set_validacion.iat[i+1,5]))"
   ]
  },
  {
   "cell_type": "code",
   "execution_count": 1994,
   "id": "f8c9f97c",
   "metadata": {},
   "outputs": [
    {
     "data": {
      "text/html": [
       "<div>\n",
       "<style scoped>\n",
       "    .dataframe tbody tr th:only-of-type {\n",
       "        vertical-align: middle;\n",
       "    }\n",
       "\n",
       "    .dataframe tbody tr th {\n",
       "        vertical-align: top;\n",
       "    }\n",
       "\n",
       "    .dataframe thead th {\n",
       "        text-align: right;\n",
       "    }\n",
       "</style>\n",
       "<table border=\"1\" class=\"dataframe\">\n",
       "  <thead>\n",
       "    <tr style=\"text-align: right;\">\n",
       "      <th></th>\n",
       "      <th>distancia</th>\n",
       "    </tr>\n",
       "  </thead>\n",
       "  <tbody>\n",
       "    <tr>\n",
       "      <th>0</th>\n",
       "      <td>0.000000</td>\n",
       "    </tr>\n",
       "    <tr>\n",
       "      <th>1</th>\n",
       "      <td>0.086087</td>\n",
       "    </tr>\n",
       "    <tr>\n",
       "      <th>2</th>\n",
       "      <td>0.027408</td>\n",
       "    </tr>\n",
       "    <tr>\n",
       "      <th>3</th>\n",
       "      <td>0.086329</td>\n",
       "    </tr>\n",
       "    <tr>\n",
       "      <th>4</th>\n",
       "      <td>0.058188</td>\n",
       "    </tr>\n",
       "    <tr>\n",
       "      <th>...</th>\n",
       "      <td>...</td>\n",
       "    </tr>\n",
       "    <tr>\n",
       "      <th>77</th>\n",
       "      <td>0.083498</td>\n",
       "    </tr>\n",
       "    <tr>\n",
       "      <th>78</th>\n",
       "      <td>0.029349</td>\n",
       "    </tr>\n",
       "    <tr>\n",
       "      <th>79</th>\n",
       "      <td>0.091244</td>\n",
       "    </tr>\n",
       "    <tr>\n",
       "      <th>80</th>\n",
       "      <td>0.003085</td>\n",
       "    </tr>\n",
       "    <tr>\n",
       "      <th>81</th>\n",
       "      <td>0.000567</td>\n",
       "    </tr>\n",
       "  </tbody>\n",
       "</table>\n",
       "<p>82 rows × 1 columns</p>\n",
       "</div>"
      ],
      "text/plain": [
       "    distancia\n",
       "0    0.000000\n",
       "1    0.086087\n",
       "2    0.027408\n",
       "3    0.086329\n",
       "4    0.058188\n",
       "..        ...\n",
       "77   0.083498\n",
       "78   0.029349\n",
       "79   0.091244\n",
       "80   0.003085\n",
       "81   0.000567\n",
       "\n",
       "[82 rows x 1 columns]"
      ]
     },
     "execution_count": 1994,
     "metadata": {},
     "output_type": "execute_result"
    }
   ],
   "source": [
    "d_d_v = pd.DataFrame(distancia_validacion, columns=['distancia'])\n",
    "d_d_v"
   ]
  },
  {
   "cell_type": "code",
   "execution_count": 1995,
   "id": "b7d79a65",
   "metadata": {},
   "outputs": [
    {
     "data": {
      "text/plain": [
       "0   0 days 13:47:22\n",
       "1   0 days 13:47:33\n",
       "2   0 days 13:47:43\n",
       "3   0 days 13:47:54\n",
       "4   0 days 13:48:06\n",
       "5   0 days 13:48:18\n",
       "6   0 days 13:48:30\n",
       "7   0 days 13:48:41\n",
       "8   0 days 13:48:52\n",
       "9   0 days 13:49:04\n",
       "Name: hour, dtype: timedelta64[ns]"
      ]
     },
     "execution_count": 1995,
     "metadata": {},
     "output_type": "execute_result"
    }
   ],
   "source": [
    "time_entrenamiento = set_entrenamiento['hour']\n",
    "time_entrenamiento.head(10)"
   ]
  },
  {
   "cell_type": "code",
   "execution_count": 1996,
   "id": "93f43abe",
   "metadata": {
    "scrolled": true
   },
   "outputs": [
    {
     "data": {
      "text/plain": [
       "0    0 days 14:21:28\n",
       "1    0 days 14:21:39\n",
       "2    0 days 14:21:50\n",
       "3    0 days 14:22:01\n",
       "4    0 days 14:22:10\n",
       "           ...      \n",
       "77   0 days 14:36:37\n",
       "78   0 days 14:36:48\n",
       "79   0 days 14:37:26\n",
       "80   0 days 14:37:38\n",
       "81   0 days 14:37:49\n",
       "Name: hour, Length: 82, dtype: timedelta64[ns]"
      ]
     },
     "execution_count": 1996,
     "metadata": {},
     "output_type": "execute_result"
    }
   ],
   "source": [
    "time_validacion = set_validacion['hour']\n",
    "time_validacion"
   ]
  },
  {
   "cell_type": "code",
   "execution_count": 1997,
   "id": "fce6d3fe",
   "metadata": {},
   "outputs": [],
   "source": [
    "data = pd.read_csv('LoRaWAN_messages_calle_5.csv')"
   ]
  },
  {
   "cell_type": "code",
   "execution_count": 1998,
   "id": "dafc75e2",
   "metadata": {
    "scrolled": true
   },
   "outputs": [
    {
     "data": {
      "text/html": [
       "<div>\n",
       "<style scoped>\n",
       "    .dataframe tbody tr th:only-of-type {\n",
       "        vertical-align: middle;\n",
       "    }\n",
       "\n",
       "    .dataframe tbody tr th {\n",
       "        vertical-align: top;\n",
       "    }\n",
       "\n",
       "    .dataframe thead th {\n",
       "        text-align: right;\n",
       "    }\n",
       "</style>\n",
       "<table border=\"1\" class=\"dataframe\">\n",
       "  <thead>\n",
       "    <tr style=\"text-align: right;\">\n",
       "      <th></th>\n",
       "      <th>id</th>\n",
       "      <th>dev_id</th>\n",
       "      <th>date</th>\n",
       "      <th>hour</th>\n",
       "      <th>latitude</th>\n",
       "      <th>longitude</th>\n",
       "      <th>speed</th>\n",
       "      <th>accx</th>\n",
       "      <th>accy</th>\n",
       "      <th>accz</th>\n",
       "      <th>gyrox</th>\n",
       "      <th>gyroy</th>\n",
       "      <th>gyroz</th>\n",
       "      <th>SF</th>\n",
       "      <th>BW</th>\n",
       "      <th>CR</th>\n",
       "    </tr>\n",
       "  </thead>\n",
       "  <tbody>\n",
       "    <tr>\n",
       "      <th>0</th>\n",
       "      <td>1</td>\n",
       "      <td>tarjeta2-cubecell</td>\n",
       "      <td>2022-08-01</td>\n",
       "      <td>10:46:18.000000</td>\n",
       "      <td>0.00000</td>\n",
       "      <td>0.0000</td>\n",
       "      <td>0.00000</td>\n",
       "      <td>0.028505</td>\n",
       "      <td>-0.020793</td>\n",
       "      <td>9.844550</td>\n",
       "      <td>0.162168</td>\n",
       "      <td>0.039022</td>\n",
       "      <td>-0.121008</td>\n",
       "      <td>7</td>\n",
       "      <td>125000</td>\n",
       "      <td>4/5</td>\n",
       "    </tr>\n",
       "    <tr>\n",
       "      <th>1</th>\n",
       "      <td>2</td>\n",
       "      <td>tarjeta2-cubecell</td>\n",
       "      <td>2022-08-01</td>\n",
       "      <td>10:46:28.000000</td>\n",
       "      <td>0.00000</td>\n",
       "      <td>0.0000</td>\n",
       "      <td>0.00000</td>\n",
       "      <td>0.035691</td>\n",
       "      <td>0.005552</td>\n",
       "      <td>9.803835</td>\n",
       "      <td>-0.005771</td>\n",
       "      <td>0.115358</td>\n",
       "      <td>-0.136275</td>\n",
       "      <td>7</td>\n",
       "      <td>125000</td>\n",
       "      <td>4/5</td>\n",
       "    </tr>\n",
       "    <tr>\n",
       "      <th>2</th>\n",
       "      <td>3</td>\n",
       "      <td>tarjeta2-cubecell</td>\n",
       "      <td>2022-08-01</td>\n",
       "      <td>10:46:40.000000</td>\n",
       "      <td>0.00000</td>\n",
       "      <td>0.0000</td>\n",
       "      <td>0.00000</td>\n",
       "      <td>-0.021790</td>\n",
       "      <td>-0.056719</td>\n",
       "      <td>9.715219</td>\n",
       "      <td>0.009496</td>\n",
       "      <td>-0.480061</td>\n",
       "      <td>0.230137</td>\n",
       "      <td>7</td>\n",
       "      <td>125000</td>\n",
       "      <td>4/5</td>\n",
       "    </tr>\n",
       "    <tr>\n",
       "      <th>3</th>\n",
       "      <td>4</td>\n",
       "      <td>tarjeta2-cubecell</td>\n",
       "      <td>2022-08-01</td>\n",
       "      <td>10:46:51.000000</td>\n",
       "      <td>0.00000</td>\n",
       "      <td>0.0000</td>\n",
       "      <td>0.00000</td>\n",
       "      <td>-0.057715</td>\n",
       "      <td>0.012737</td>\n",
       "      <td>9.842155</td>\n",
       "      <td>0.070565</td>\n",
       "      <td>-0.189985</td>\n",
       "      <td>0.031664</td>\n",
       "      <td>7</td>\n",
       "      <td>125000</td>\n",
       "      <td>4/5</td>\n",
       "    </tr>\n",
       "    <tr>\n",
       "      <th>4</th>\n",
       "      <td>5</td>\n",
       "      <td>tarjeta2-cubecell</td>\n",
       "      <td>2022-08-01</td>\n",
       "      <td>10:47:03.000000</td>\n",
       "      <td>0.00000</td>\n",
       "      <td>0.0000</td>\n",
       "      <td>0.00000</td>\n",
       "      <td>0.078801</td>\n",
       "      <td>-0.035164</td>\n",
       "      <td>9.815810</td>\n",
       "      <td>0.223237</td>\n",
       "      <td>-0.220519</td>\n",
       "      <td>-0.075206</td>\n",
       "      <td>7</td>\n",
       "      <td>125000</td>\n",
       "      <td>4/5</td>\n",
       "    </tr>\n",
       "    <tr>\n",
       "      <th>...</th>\n",
       "      <td>...</td>\n",
       "      <td>...</td>\n",
       "      <td>...</td>\n",
       "      <td>...</td>\n",
       "      <td>...</td>\n",
       "      <td>...</td>\n",
       "      <td>...</td>\n",
       "      <td>...</td>\n",
       "      <td>...</td>\n",
       "      <td>...</td>\n",
       "      <td>...</td>\n",
       "      <td>...</td>\n",
       "      <td>...</td>\n",
       "      <td>...</td>\n",
       "      <td>...</td>\n",
       "      <td>...</td>\n",
       "    </tr>\n",
       "    <tr>\n",
       "      <th>304</th>\n",
       "      <td>305</td>\n",
       "      <td>tarjeta2-cubecell</td>\n",
       "      <td>2022-08-01</td>\n",
       "      <td>11:41:05.000000</td>\n",
       "      <td>2.45109</td>\n",
       "      <td>-76.6291</td>\n",
       "      <td>32.91004</td>\n",
       "      <td>-1.039673</td>\n",
       "      <td>-2.729561</td>\n",
       "      <td>9.624209</td>\n",
       "      <td>-1.456152</td>\n",
       "      <td>-1.228153</td>\n",
       "      <td>-1.098107</td>\n",
       "      <td>7</td>\n",
       "      <td>125000</td>\n",
       "      <td>4/5</td>\n",
       "    </tr>\n",
       "    <tr>\n",
       "      <th>305</th>\n",
       "      <td>306</td>\n",
       "      <td>tarjeta2-cubecell</td>\n",
       "      <td>2022-08-01</td>\n",
       "      <td>11:41:16.000000</td>\n",
       "      <td>2.45067</td>\n",
       "      <td>-76.6283</td>\n",
       "      <td>36.53996</td>\n",
       "      <td>-9.462957</td>\n",
       "      <td>10.840620</td>\n",
       "      <td>9.435002</td>\n",
       "      <td>-1.837832</td>\n",
       "      <td>3.061923</td>\n",
       "      <td>-2.502687</td>\n",
       "      <td>7</td>\n",
       "      <td>125000</td>\n",
       "      <td>4/5</td>\n",
       "    </tr>\n",
       "    <tr>\n",
       "      <th>306</th>\n",
       "      <td>307</td>\n",
       "      <td>tarjeta2-cubecell</td>\n",
       "      <td>2022-08-01</td>\n",
       "      <td>11:41:27.000000</td>\n",
       "      <td>2.45013</td>\n",
       "      <td>-76.6267</td>\n",
       "      <td>24.94644</td>\n",
       "      <td>0.071616</td>\n",
       "      <td>-3.347476</td>\n",
       "      <td>8.848222</td>\n",
       "      <td>4.436977</td>\n",
       "      <td>-0.602199</td>\n",
       "      <td>-0.777497</td>\n",
       "      <td>8</td>\n",
       "      <td>125000</td>\n",
       "      <td>4/5</td>\n",
       "    </tr>\n",
       "    <tr>\n",
       "      <th>307</th>\n",
       "      <td>308</td>\n",
       "      <td>tarjeta2-cubecell</td>\n",
       "      <td>2022-08-01</td>\n",
       "      <td>11:41:38.000000</td>\n",
       "      <td>2.44947</td>\n",
       "      <td>-76.6270</td>\n",
       "      <td>18.09404</td>\n",
       "      <td>-2.644336</td>\n",
       "      <td>-1.031492</td>\n",
       "      <td>12.479071</td>\n",
       "      <td>10.116367</td>\n",
       "      <td>12.329100</td>\n",
       "      <td>41.604183</td>\n",
       "      <td>7</td>\n",
       "      <td>125000</td>\n",
       "      <td>4/5</td>\n",
       "    </tr>\n",
       "    <tr>\n",
       "      <th>308</th>\n",
       "      <td>309</td>\n",
       "      <td>tarjeta2-cubecell</td>\n",
       "      <td>2022-08-01</td>\n",
       "      <td>11:41:49.000000</td>\n",
       "      <td>2.44934</td>\n",
       "      <td>-76.6270</td>\n",
       "      <td>1.87052</td>\n",
       "      <td>-2.414414</td>\n",
       "      <td>-0.245925</td>\n",
       "      <td>10.361874</td>\n",
       "      <td>-0.112641</td>\n",
       "      <td>0.512305</td>\n",
       "      <td>0.245404</td>\n",
       "      <td>7</td>\n",
       "      <td>125000</td>\n",
       "      <td>4/5</td>\n",
       "    </tr>\n",
       "  </tbody>\n",
       "</table>\n",
       "<p>309 rows × 16 columns</p>\n",
       "</div>"
      ],
      "text/plain": [
       "      id             dev_id        date             hour  latitude  longitude  \\\n",
       "0      1  tarjeta2-cubecell  2022-08-01  10:46:18.000000   0.00000     0.0000   \n",
       "1      2  tarjeta2-cubecell  2022-08-01  10:46:28.000000   0.00000     0.0000   \n",
       "2      3  tarjeta2-cubecell  2022-08-01  10:46:40.000000   0.00000     0.0000   \n",
       "3      4  tarjeta2-cubecell  2022-08-01  10:46:51.000000   0.00000     0.0000   \n",
       "4      5  tarjeta2-cubecell  2022-08-01  10:47:03.000000   0.00000     0.0000   \n",
       "..   ...                ...         ...              ...       ...        ...   \n",
       "304  305  tarjeta2-cubecell  2022-08-01  11:41:05.000000   2.45109   -76.6291   \n",
       "305  306  tarjeta2-cubecell  2022-08-01  11:41:16.000000   2.45067   -76.6283   \n",
       "306  307  tarjeta2-cubecell  2022-08-01  11:41:27.000000   2.45013   -76.6267   \n",
       "307  308  tarjeta2-cubecell  2022-08-01  11:41:38.000000   2.44947   -76.6270   \n",
       "308  309  tarjeta2-cubecell  2022-08-01  11:41:49.000000   2.44934   -76.6270   \n",
       "\n",
       "        speed      accx       accy       accz      gyrox      gyroy  \\\n",
       "0     0.00000  0.028505  -0.020793   9.844550   0.162168   0.039022   \n",
       "1     0.00000  0.035691   0.005552   9.803835  -0.005771   0.115358   \n",
       "2     0.00000 -0.021790  -0.056719   9.715219   0.009496  -0.480061   \n",
       "3     0.00000 -0.057715   0.012737   9.842155   0.070565  -0.189985   \n",
       "4     0.00000  0.078801  -0.035164   9.815810   0.223237  -0.220519   \n",
       "..        ...       ...        ...        ...        ...        ...   \n",
       "304  32.91004 -1.039673  -2.729561   9.624209  -1.456152  -1.228153   \n",
       "305  36.53996 -9.462957  10.840620   9.435002  -1.837832   3.061923   \n",
       "306  24.94644  0.071616  -3.347476   8.848222   4.436977  -0.602199   \n",
       "307  18.09404 -2.644336  -1.031492  12.479071  10.116367  12.329100   \n",
       "308   1.87052 -2.414414  -0.245925  10.361874  -0.112641   0.512305   \n",
       "\n",
       "         gyroz  SF      BW   CR  \n",
       "0    -0.121008   7  125000  4/5  \n",
       "1    -0.136275   7  125000  4/5  \n",
       "2     0.230137   7  125000  4/5  \n",
       "3     0.031664   7  125000  4/5  \n",
       "4    -0.075206   7  125000  4/5  \n",
       "..         ...  ..     ...  ...  \n",
       "304  -1.098107   7  125000  4/5  \n",
       "305  -2.502687   7  125000  4/5  \n",
       "306  -0.777497   8  125000  4/5  \n",
       "307  41.604183   7  125000  4/5  \n",
       "308   0.245404   7  125000  4/5  \n",
       "\n",
       "[309 rows x 16 columns]"
      ]
     },
     "execution_count": 1998,
     "metadata": {},
     "output_type": "execute_result"
    }
   ],
   "source": [
    "data"
   ]
  },
  {
   "cell_type": "code",
   "execution_count": 1999,
   "id": "63818987",
   "metadata": {},
   "outputs": [],
   "source": [
    "#data.drop(['hour'], axis=1, inplace=True)"
   ]
  },
  {
   "cell_type": "code",
   "execution_count": 2000,
   "id": "e1cdf30e",
   "metadata": {},
   "outputs": [
    {
     "data": {
      "text/plain": [
       "309"
      ]
     },
     "execution_count": 2000,
     "metadata": {},
     "output_type": "execute_result"
    }
   ],
   "source": [
    "import random\n",
    "xi=[random.randint(9,14) for p in range (0,309)]\n",
    "len(xi)"
   ]
  },
  {
   "cell_type": "code",
   "execution_count": 2001,
   "id": "be839219",
   "metadata": {},
   "outputs": [
    {
     "data": {
      "text/plain": [
       "12"
      ]
     },
     "execution_count": 2001,
     "metadata": {},
     "output_type": "execute_result"
    }
   ],
   "source": [
    "xi[0]"
   ]
  },
  {
   "cell_type": "code",
   "execution_count": 2002,
   "id": "80ed3790",
   "metadata": {},
   "outputs": [
    {
     "data": {
      "text/plain": [
       "9   0 days 14:23:06\n",
       "Name: hour, dtype: timedelta64[ns]"
      ]
     },
     "execution_count": 2002,
     "metadata": {},
     "output_type": "execute_result"
    }
   ],
   "source": [
    "hora = time_validacion[9:10,]\n",
    "hora"
   ]
  },
  {
   "cell_type": "code",
   "execution_count": 2003,
   "id": "bc56dfce",
   "metadata": {},
   "outputs": [],
   "source": [
    "hora = time_validacion[9:10,]\n",
    "hora2 = []*400\n",
    "for i in range(0,len(xi)):\n",
    "    h = (hora + timedelta(seconds=xi[i]))\n",
    "    hora2.append(h)\n",
    "    hora = hora2[i]"
   ]
  },
  {
   "cell_type": "code",
   "execution_count": 2004,
   "id": "f19a125d",
   "metadata": {},
   "outputs": [
    {
     "data": {
      "text/plain": [
       "[9   0 days 14:23:18\n",
       " Name: hour, dtype: timedelta64[ns],\n",
       " 9   0 days 14:23:30\n",
       " Name: hour, dtype: timedelta64[ns],\n",
       " 9   0 days 14:23:42\n",
       " Name: hour, dtype: timedelta64[ns],\n",
       " 9   0 days 14:23:55\n",
       " Name: hour, dtype: timedelta64[ns],\n",
       " 9   0 days 14:24:07\n",
       " Name: hour, dtype: timedelta64[ns],\n",
       " 9   0 days 14:24:19\n",
       " Name: hour, dtype: timedelta64[ns],\n",
       " 9   0 days 14:24:29\n",
       " Name: hour, dtype: timedelta64[ns],\n",
       " 9   0 days 14:24:40\n",
       " Name: hour, dtype: timedelta64[ns],\n",
       " 9   0 days 14:24:53\n",
       " Name: hour, dtype: timedelta64[ns],\n",
       " 9   0 days 14:25:04\n",
       " Name: hour, dtype: timedelta64[ns],\n",
       " 9   0 days 14:25:13\n",
       " Name: hour, dtype: timedelta64[ns],\n",
       " 9   0 days 14:25:24\n",
       " Name: hour, dtype: timedelta64[ns],\n",
       " 9   0 days 14:25:34\n",
       " Name: hour, dtype: timedelta64[ns],\n",
       " 9   0 days 14:25:46\n",
       " Name: hour, dtype: timedelta64[ns],\n",
       " 9   0 days 14:25:59\n",
       " Name: hour, dtype: timedelta64[ns],\n",
       " 9   0 days 14:26:10\n",
       " Name: hour, dtype: timedelta64[ns],\n",
       " 9   0 days 14:26:19\n",
       " Name: hour, dtype: timedelta64[ns],\n",
       " 9   0 days 14:26:31\n",
       " Name: hour, dtype: timedelta64[ns],\n",
       " 9   0 days 14:26:43\n",
       " Name: hour, dtype: timedelta64[ns],\n",
       " 9   0 days 14:26:57\n",
       " Name: hour, dtype: timedelta64[ns],\n",
       " 9   0 days 14:27:11\n",
       " Name: hour, dtype: timedelta64[ns],\n",
       " 9   0 days 14:27:23\n",
       " Name: hour, dtype: timedelta64[ns],\n",
       " 9   0 days 14:27:32\n",
       " Name: hour, dtype: timedelta64[ns],\n",
       " 9   0 days 14:27:41\n",
       " Name: hour, dtype: timedelta64[ns],\n",
       " 9   0 days 14:27:50\n",
       " Name: hour, dtype: timedelta64[ns],\n",
       " 9   0 days 14:28:00\n",
       " Name: hour, dtype: timedelta64[ns],\n",
       " 9   0 days 14:28:10\n",
       " Name: hour, dtype: timedelta64[ns],\n",
       " 9   0 days 14:28:22\n",
       " Name: hour, dtype: timedelta64[ns],\n",
       " 9   0 days 14:28:35\n",
       " Name: hour, dtype: timedelta64[ns],\n",
       " 9   0 days 14:28:45\n",
       " Name: hour, dtype: timedelta64[ns],\n",
       " 9   0 days 14:28:54\n",
       " Name: hour, dtype: timedelta64[ns],\n",
       " 9   0 days 14:29:03\n",
       " Name: hour, dtype: timedelta64[ns],\n",
       " 9   0 days 14:29:17\n",
       " Name: hour, dtype: timedelta64[ns],\n",
       " 9   0 days 14:29:29\n",
       " Name: hour, dtype: timedelta64[ns],\n",
       " 9   0 days 14:29:42\n",
       " Name: hour, dtype: timedelta64[ns],\n",
       " 9   0 days 14:29:51\n",
       " Name: hour, dtype: timedelta64[ns],\n",
       " 9   0 days 14:30:01\n",
       " Name: hour, dtype: timedelta64[ns],\n",
       " 9   0 days 14:30:12\n",
       " Name: hour, dtype: timedelta64[ns],\n",
       " 9   0 days 14:30:26\n",
       " Name: hour, dtype: timedelta64[ns],\n",
       " 9   0 days 14:30:37\n",
       " Name: hour, dtype: timedelta64[ns],\n",
       " 9   0 days 14:30:47\n",
       " Name: hour, dtype: timedelta64[ns],\n",
       " 9   0 days 14:31:00\n",
       " Name: hour, dtype: timedelta64[ns],\n",
       " 9   0 days 14:31:11\n",
       " Name: hour, dtype: timedelta64[ns],\n",
       " 9   0 days 14:31:24\n",
       " Name: hour, dtype: timedelta64[ns],\n",
       " 9   0 days 14:31:38\n",
       " Name: hour, dtype: timedelta64[ns],\n",
       " 9   0 days 14:31:50\n",
       " Name: hour, dtype: timedelta64[ns],\n",
       " 9   0 days 14:31:59\n",
       " Name: hour, dtype: timedelta64[ns],\n",
       " 9   0 days 14:32:09\n",
       " Name: hour, dtype: timedelta64[ns],\n",
       " 9   0 days 14:32:22\n",
       " Name: hour, dtype: timedelta64[ns],\n",
       " 9   0 days 14:32:34\n",
       " Name: hour, dtype: timedelta64[ns],\n",
       " 9   0 days 14:32:45\n",
       " Name: hour, dtype: timedelta64[ns],\n",
       " 9   0 days 14:32:59\n",
       " Name: hour, dtype: timedelta64[ns],\n",
       " 9   0 days 14:33:12\n",
       " Name: hour, dtype: timedelta64[ns],\n",
       " 9   0 days 14:33:23\n",
       " Name: hour, dtype: timedelta64[ns],\n",
       " 9   0 days 14:33:37\n",
       " Name: hour, dtype: timedelta64[ns],\n",
       " 9   0 days 14:33:51\n",
       " Name: hour, dtype: timedelta64[ns],\n",
       " 9   0 days 14:34:04\n",
       " Name: hour, dtype: timedelta64[ns],\n",
       " 9   0 days 14:34:14\n",
       " Name: hour, dtype: timedelta64[ns],\n",
       " 9   0 days 14:34:23\n",
       " Name: hour, dtype: timedelta64[ns],\n",
       " 9   0 days 14:34:37\n",
       " Name: hour, dtype: timedelta64[ns],\n",
       " 9   0 days 14:34:46\n",
       " Name: hour, dtype: timedelta64[ns],\n",
       " 9   0 days 14:34:59\n",
       " Name: hour, dtype: timedelta64[ns],\n",
       " 9   0 days 14:35:09\n",
       " Name: hour, dtype: timedelta64[ns],\n",
       " 9   0 days 14:35:23\n",
       " Name: hour, dtype: timedelta64[ns],\n",
       " 9   0 days 14:35:34\n",
       " Name: hour, dtype: timedelta64[ns],\n",
       " 9   0 days 14:35:44\n",
       " Name: hour, dtype: timedelta64[ns],\n",
       " 9   0 days 14:35:53\n",
       " Name: hour, dtype: timedelta64[ns],\n",
       " 9   0 days 14:36:07\n",
       " Name: hour, dtype: timedelta64[ns],\n",
       " 9   0 days 14:36:19\n",
       " Name: hour, dtype: timedelta64[ns],\n",
       " 9   0 days 14:36:29\n",
       " Name: hour, dtype: timedelta64[ns],\n",
       " 9   0 days 14:36:40\n",
       " Name: hour, dtype: timedelta64[ns],\n",
       " 9   0 days 14:36:54\n",
       " Name: hour, dtype: timedelta64[ns],\n",
       " 9   0 days 14:37:03\n",
       " Name: hour, dtype: timedelta64[ns],\n",
       " 9   0 days 14:37:17\n",
       " Name: hour, dtype: timedelta64[ns],\n",
       " 9   0 days 14:37:27\n",
       " Name: hour, dtype: timedelta64[ns],\n",
       " 9   0 days 14:37:37\n",
       " Name: hour, dtype: timedelta64[ns],\n",
       " 9   0 days 14:37:51\n",
       " Name: hour, dtype: timedelta64[ns],\n",
       " 9   0 days 14:38:01\n",
       " Name: hour, dtype: timedelta64[ns],\n",
       " 9   0 days 14:38:11\n",
       " Name: hour, dtype: timedelta64[ns],\n",
       " 9   0 days 14:38:25\n",
       " Name: hour, dtype: timedelta64[ns],\n",
       " 9   0 days 14:38:38\n",
       " Name: hour, dtype: timedelta64[ns],\n",
       " 9   0 days 14:38:48\n",
       " Name: hour, dtype: timedelta64[ns],\n",
       " 9   0 days 14:38:57\n",
       " Name: hour, dtype: timedelta64[ns],\n",
       " 9   0 days 14:39:08\n",
       " Name: hour, dtype: timedelta64[ns],\n",
       " 9   0 days 14:39:18\n",
       " Name: hour, dtype: timedelta64[ns],\n",
       " 9   0 days 14:39:32\n",
       " Name: hour, dtype: timedelta64[ns],\n",
       " 9   0 days 14:39:43\n",
       " Name: hour, dtype: timedelta64[ns],\n",
       " 9   0 days 14:39:57\n",
       " Name: hour, dtype: timedelta64[ns],\n",
       " 9   0 days 14:40:09\n",
       " Name: hour, dtype: timedelta64[ns],\n",
       " 9   0 days 14:40:21\n",
       " Name: hour, dtype: timedelta64[ns],\n",
       " 9   0 days 14:40:32\n",
       " Name: hour, dtype: timedelta64[ns],\n",
       " 9   0 days 14:40:43\n",
       " Name: hour, dtype: timedelta64[ns],\n",
       " 9   0 days 14:40:55\n",
       " Name: hour, dtype: timedelta64[ns],\n",
       " 9   0 days 14:41:04\n",
       " Name: hour, dtype: timedelta64[ns],\n",
       " 9   0 days 14:41:18\n",
       " Name: hour, dtype: timedelta64[ns],\n",
       " 9   0 days 14:41:27\n",
       " Name: hour, dtype: timedelta64[ns],\n",
       " 9   0 days 14:41:37\n",
       " Name: hour, dtype: timedelta64[ns],\n",
       " 9   0 days 14:41:46\n",
       " Name: hour, dtype: timedelta64[ns],\n",
       " 9   0 days 14:42:00\n",
       " Name: hour, dtype: timedelta64[ns],\n",
       " 9   0 days 14:42:14\n",
       " Name: hour, dtype: timedelta64[ns],\n",
       " 9   0 days 14:42:25\n",
       " Name: hour, dtype: timedelta64[ns],\n",
       " 9   0 days 14:42:34\n",
       " Name: hour, dtype: timedelta64[ns],\n",
       " 9   0 days 14:42:45\n",
       " Name: hour, dtype: timedelta64[ns],\n",
       " 9   0 days 14:42:58\n",
       " Name: hour, dtype: timedelta64[ns],\n",
       " 9   0 days 14:43:12\n",
       " Name: hour, dtype: timedelta64[ns],\n",
       " 9   0 days 14:43:23\n",
       " Name: hour, dtype: timedelta64[ns],\n",
       " 9   0 days 14:43:36\n",
       " Name: hour, dtype: timedelta64[ns],\n",
       " 9   0 days 14:43:47\n",
       " Name: hour, dtype: timedelta64[ns],\n",
       " 9   0 days 14:44:00\n",
       " Name: hour, dtype: timedelta64[ns],\n",
       " 9   0 days 14:44:10\n",
       " Name: hour, dtype: timedelta64[ns],\n",
       " 9   0 days 14:44:21\n",
       " Name: hour, dtype: timedelta64[ns],\n",
       " 9   0 days 14:44:31\n",
       " Name: hour, dtype: timedelta64[ns],\n",
       " 9   0 days 14:44:40\n",
       " Name: hour, dtype: timedelta64[ns],\n",
       " 9   0 days 14:44:52\n",
       " Name: hour, dtype: timedelta64[ns],\n",
       " 9   0 days 14:45:03\n",
       " Name: hour, dtype: timedelta64[ns],\n",
       " 9   0 days 14:45:12\n",
       " Name: hour, dtype: timedelta64[ns],\n",
       " 9   0 days 14:45:25\n",
       " Name: hour, dtype: timedelta64[ns],\n",
       " 9   0 days 14:45:39\n",
       " Name: hour, dtype: timedelta64[ns],\n",
       " 9   0 days 14:45:51\n",
       " Name: hour, dtype: timedelta64[ns],\n",
       " 9   0 days 14:46:05\n",
       " Name: hour, dtype: timedelta64[ns],\n",
       " 9   0 days 14:46:17\n",
       " Name: hour, dtype: timedelta64[ns],\n",
       " 9   0 days 14:46:29\n",
       " Name: hour, dtype: timedelta64[ns],\n",
       " 9   0 days 14:46:40\n",
       " Name: hour, dtype: timedelta64[ns],\n",
       " 9   0 days 14:46:52\n",
       " Name: hour, dtype: timedelta64[ns],\n",
       " 9   0 days 14:47:01\n",
       " Name: hour, dtype: timedelta64[ns],\n",
       " 9   0 days 14:47:11\n",
       " Name: hour, dtype: timedelta64[ns],\n",
       " 9   0 days 14:47:21\n",
       " Name: hour, dtype: timedelta64[ns],\n",
       " 9   0 days 14:47:31\n",
       " Name: hour, dtype: timedelta64[ns],\n",
       " 9   0 days 14:47:40\n",
       " Name: hour, dtype: timedelta64[ns],\n",
       " 9   0 days 14:47:54\n",
       " Name: hour, dtype: timedelta64[ns],\n",
       " 9   0 days 14:48:05\n",
       " Name: hour, dtype: timedelta64[ns],\n",
       " 9   0 days 14:48:19\n",
       " Name: hour, dtype: timedelta64[ns],\n",
       " 9   0 days 14:48:30\n",
       " Name: hour, dtype: timedelta64[ns],\n",
       " 9   0 days 14:48:44\n",
       " Name: hour, dtype: timedelta64[ns],\n",
       " 9   0 days 14:48:57\n",
       " Name: hour, dtype: timedelta64[ns],\n",
       " 9   0 days 14:49:10\n",
       " Name: hour, dtype: timedelta64[ns],\n",
       " 9   0 days 14:49:19\n",
       " Name: hour, dtype: timedelta64[ns],\n",
       " 9   0 days 14:49:29\n",
       " Name: hour, dtype: timedelta64[ns],\n",
       " 9   0 days 14:49:41\n",
       " Name: hour, dtype: timedelta64[ns],\n",
       " 9   0 days 14:49:55\n",
       " Name: hour, dtype: timedelta64[ns],\n",
       " 9   0 days 14:50:05\n",
       " Name: hour, dtype: timedelta64[ns],\n",
       " 9   0 days 14:50:16\n",
       " Name: hour, dtype: timedelta64[ns],\n",
       " 9   0 days 14:50:28\n",
       " Name: hour, dtype: timedelta64[ns],\n",
       " 9   0 days 14:50:39\n",
       " Name: hour, dtype: timedelta64[ns],\n",
       " 9   0 days 14:50:48\n",
       " Name: hour, dtype: timedelta64[ns],\n",
       " 9   0 days 14:50:57\n",
       " Name: hour, dtype: timedelta64[ns],\n",
       " 9   0 days 14:51:09\n",
       " Name: hour, dtype: timedelta64[ns],\n",
       " 9   0 days 14:51:19\n",
       " Name: hour, dtype: timedelta64[ns],\n",
       " 9   0 days 14:51:31\n",
       " Name: hour, dtype: timedelta64[ns],\n",
       " 9   0 days 14:51:44\n",
       " Name: hour, dtype: timedelta64[ns],\n",
       " 9   0 days 14:51:58\n",
       " Name: hour, dtype: timedelta64[ns],\n",
       " 9   0 days 14:52:08\n",
       " Name: hour, dtype: timedelta64[ns],\n",
       " 9   0 days 14:52:22\n",
       " Name: hour, dtype: timedelta64[ns],\n",
       " 9   0 days 14:52:35\n",
       " Name: hour, dtype: timedelta64[ns],\n",
       " 9   0 days 14:52:49\n",
       " Name: hour, dtype: timedelta64[ns],\n",
       " 9   0 days 14:53:00\n",
       " Name: hour, dtype: timedelta64[ns],\n",
       " 9   0 days 14:53:12\n",
       " Name: hour, dtype: timedelta64[ns],\n",
       " 9   0 days 14:53:23\n",
       " Name: hour, dtype: timedelta64[ns],\n",
       " 9   0 days 14:53:32\n",
       " Name: hour, dtype: timedelta64[ns],\n",
       " 9   0 days 14:53:42\n",
       " Name: hour, dtype: timedelta64[ns],\n",
       " 9   0 days 14:53:54\n",
       " Name: hour, dtype: timedelta64[ns],\n",
       " 9   0 days 14:54:07\n",
       " Name: hour, dtype: timedelta64[ns],\n",
       " 9   0 days 14:54:19\n",
       " Name: hour, dtype: timedelta64[ns],\n",
       " 9   0 days 14:54:30\n",
       " Name: hour, dtype: timedelta64[ns],\n",
       " 9   0 days 14:54:39\n",
       " Name: hour, dtype: timedelta64[ns],\n",
       " 9   0 days 14:54:48\n",
       " Name: hour, dtype: timedelta64[ns],\n",
       " 9   0 days 14:54:58\n",
       " Name: hour, dtype: timedelta64[ns],\n",
       " 9   0 days 14:55:08\n",
       " Name: hour, dtype: timedelta64[ns],\n",
       " 9   0 days 14:55:17\n",
       " Name: hour, dtype: timedelta64[ns],\n",
       " 9   0 days 14:55:31\n",
       " Name: hour, dtype: timedelta64[ns],\n",
       " 9   0 days 14:55:44\n",
       " Name: hour, dtype: timedelta64[ns],\n",
       " 9   0 days 14:55:58\n",
       " Name: hour, dtype: timedelta64[ns],\n",
       " 9   0 days 14:56:11\n",
       " Name: hour, dtype: timedelta64[ns],\n",
       " 9   0 days 14:56:25\n",
       " Name: hour, dtype: timedelta64[ns],\n",
       " 9   0 days 14:56:37\n",
       " Name: hour, dtype: timedelta64[ns],\n",
       " 9   0 days 14:56:46\n",
       " Name: hour, dtype: timedelta64[ns],\n",
       " 9   0 days 14:56:57\n",
       " Name: hour, dtype: timedelta64[ns],\n",
       " 9   0 days 14:57:08\n",
       " Name: hour, dtype: timedelta64[ns],\n",
       " 9   0 days 14:57:19\n",
       " Name: hour, dtype: timedelta64[ns],\n",
       " 9   0 days 14:57:30\n",
       " Name: hour, dtype: timedelta64[ns],\n",
       " 9   0 days 14:57:44\n",
       " Name: hour, dtype: timedelta64[ns],\n",
       " 9   0 days 14:57:54\n",
       " Name: hour, dtype: timedelta64[ns],\n",
       " 9   0 days 14:58:07\n",
       " Name: hour, dtype: timedelta64[ns],\n",
       " 9   0 days 14:58:17\n",
       " Name: hour, dtype: timedelta64[ns],\n",
       " 9   0 days 14:58:31\n",
       " Name: hour, dtype: timedelta64[ns],\n",
       " 9   0 days 14:58:45\n",
       " Name: hour, dtype: timedelta64[ns],\n",
       " 9   0 days 14:58:57\n",
       " Name: hour, dtype: timedelta64[ns],\n",
       " 9   0 days 14:59:07\n",
       " Name: hour, dtype: timedelta64[ns],\n",
       " 9   0 days 14:59:21\n",
       " Name: hour, dtype: timedelta64[ns],\n",
       " 9   0 days 14:59:30\n",
       " Name: hour, dtype: timedelta64[ns],\n",
       " 9   0 days 14:59:41\n",
       " Name: hour, dtype: timedelta64[ns],\n",
       " 9   0 days 14:59:52\n",
       " Name: hour, dtype: timedelta64[ns],\n",
       " 9   0 days 15:00:04\n",
       " Name: hour, dtype: timedelta64[ns],\n",
       " 9   0 days 15:00:14\n",
       " Name: hour, dtype: timedelta64[ns],\n",
       " 9   0 days 15:00:27\n",
       " Name: hour, dtype: timedelta64[ns],\n",
       " 9   0 days 15:00:41\n",
       " Name: hour, dtype: timedelta64[ns],\n",
       " 9   0 days 15:00:52\n",
       " Name: hour, dtype: timedelta64[ns],\n",
       " 9   0 days 15:01:04\n",
       " Name: hour, dtype: timedelta64[ns],\n",
       " 9   0 days 15:01:17\n",
       " Name: hour, dtype: timedelta64[ns],\n",
       " 9   0 days 15:01:30\n",
       " Name: hour, dtype: timedelta64[ns],\n",
       " 9   0 days 15:01:44\n",
       " Name: hour, dtype: timedelta64[ns],\n",
       " 9   0 days 15:01:56\n",
       " Name: hour, dtype: timedelta64[ns],\n",
       " 9   0 days 15:02:06\n",
       " Name: hour, dtype: timedelta64[ns],\n",
       " 9   0 days 15:02:15\n",
       " Name: hour, dtype: timedelta64[ns],\n",
       " 9   0 days 15:02:24\n",
       " Name: hour, dtype: timedelta64[ns],\n",
       " 9   0 days 15:02:34\n",
       " Name: hour, dtype: timedelta64[ns],\n",
       " 9   0 days 15:02:47\n",
       " Name: hour, dtype: timedelta64[ns],\n",
       " 9   0 days 15:02:58\n",
       " Name: hour, dtype: timedelta64[ns],\n",
       " 9   0 days 15:03:08\n",
       " Name: hour, dtype: timedelta64[ns],\n",
       " 9   0 days 15:03:18\n",
       " Name: hour, dtype: timedelta64[ns],\n",
       " 9   0 days 15:03:31\n",
       " Name: hour, dtype: timedelta64[ns],\n",
       " 9   0 days 15:03:41\n",
       " Name: hour, dtype: timedelta64[ns],\n",
       " 9   0 days 15:03:54\n",
       " Name: hour, dtype: timedelta64[ns],\n",
       " 9   0 days 15:04:07\n",
       " Name: hour, dtype: timedelta64[ns],\n",
       " 9   0 days 15:04:18\n",
       " Name: hour, dtype: timedelta64[ns],\n",
       " 9   0 days 15:04:27\n",
       " Name: hour, dtype: timedelta64[ns],\n",
       " 9   0 days 15:04:37\n",
       " Name: hour, dtype: timedelta64[ns],\n",
       " 9   0 days 15:04:48\n",
       " Name: hour, dtype: timedelta64[ns],\n",
       " 9   0 days 15:04:59\n",
       " Name: hour, dtype: timedelta64[ns],\n",
       " 9   0 days 15:05:13\n",
       " Name: hour, dtype: timedelta64[ns],\n",
       " 9   0 days 15:05:27\n",
       " Name: hour, dtype: timedelta64[ns],\n",
       " 9   0 days 15:05:40\n",
       " Name: hour, dtype: timedelta64[ns],\n",
       " 9   0 days 15:05:49\n",
       " Name: hour, dtype: timedelta64[ns],\n",
       " 9   0 days 15:06:00\n",
       " Name: hour, dtype: timedelta64[ns],\n",
       " 9   0 days 15:06:14\n",
       " Name: hour, dtype: timedelta64[ns],\n",
       " 9   0 days 15:06:27\n",
       " Name: hour, dtype: timedelta64[ns],\n",
       " 9   0 days 15:06:38\n",
       " Name: hour, dtype: timedelta64[ns],\n",
       " 9   0 days 15:06:48\n",
       " Name: hour, dtype: timedelta64[ns],\n",
       " 9   0 days 15:07:02\n",
       " Name: hour, dtype: timedelta64[ns],\n",
       " 9   0 days 15:07:14\n",
       " Name: hour, dtype: timedelta64[ns],\n",
       " 9   0 days 15:07:27\n",
       " Name: hour, dtype: timedelta64[ns],\n",
       " 9   0 days 15:07:41\n",
       " Name: hour, dtype: timedelta64[ns],\n",
       " 9   0 days 15:07:52\n",
       " Name: hour, dtype: timedelta64[ns],\n",
       " 9   0 days 15:08:02\n",
       " Name: hour, dtype: timedelta64[ns],\n",
       " 9   0 days 15:08:15\n",
       " Name: hour, dtype: timedelta64[ns],\n",
       " 9   0 days 15:08:27\n",
       " Name: hour, dtype: timedelta64[ns],\n",
       " 9   0 days 15:08:39\n",
       " Name: hour, dtype: timedelta64[ns],\n",
       " 9   0 days 15:08:52\n",
       " Name: hour, dtype: timedelta64[ns],\n",
       " 9   0 days 15:09:06\n",
       " Name: hour, dtype: timedelta64[ns],\n",
       " 9   0 days 15:09:15\n",
       " Name: hour, dtype: timedelta64[ns],\n",
       " 9   0 days 15:09:25\n",
       " Name: hour, dtype: timedelta64[ns],\n",
       " 9   0 days 15:09:37\n",
       " Name: hour, dtype: timedelta64[ns],\n",
       " 9   0 days 15:09:46\n",
       " Name: hour, dtype: timedelta64[ns],\n",
       " 9   0 days 15:09:58\n",
       " Name: hour, dtype: timedelta64[ns],\n",
       " 9   0 days 15:10:08\n",
       " Name: hour, dtype: timedelta64[ns],\n",
       " 9   0 days 15:10:22\n",
       " Name: hour, dtype: timedelta64[ns],\n",
       " 9   0 days 15:10:31\n",
       " Name: hour, dtype: timedelta64[ns],\n",
       " 9   0 days 15:10:40\n",
       " Name: hour, dtype: timedelta64[ns],\n",
       " 9   0 days 15:10:52\n",
       " Name: hour, dtype: timedelta64[ns],\n",
       " 9   0 days 15:11:02\n",
       " Name: hour, dtype: timedelta64[ns],\n",
       " 9   0 days 15:11:15\n",
       " Name: hour, dtype: timedelta64[ns],\n",
       " 9   0 days 15:11:25\n",
       " Name: hour, dtype: timedelta64[ns],\n",
       " 9   0 days 15:11:34\n",
       " Name: hour, dtype: timedelta64[ns],\n",
       " 9   0 days 15:11:43\n",
       " Name: hour, dtype: timedelta64[ns],\n",
       " 9   0 days 15:11:57\n",
       " Name: hour, dtype: timedelta64[ns],\n",
       " 9   0 days 15:12:10\n",
       " Name: hour, dtype: timedelta64[ns],\n",
       " 9   0 days 15:12:20\n",
       " Name: hour, dtype: timedelta64[ns],\n",
       " 9   0 days 15:12:33\n",
       " Name: hour, dtype: timedelta64[ns],\n",
       " 9   0 days 15:12:42\n",
       " Name: hour, dtype: timedelta64[ns],\n",
       " 9   0 days 15:12:56\n",
       " Name: hour, dtype: timedelta64[ns],\n",
       " 9   0 days 15:13:06\n",
       " Name: hour, dtype: timedelta64[ns],\n",
       " 9   0 days 15:13:15\n",
       " Name: hour, dtype: timedelta64[ns],\n",
       " 9   0 days 15:13:27\n",
       " Name: hour, dtype: timedelta64[ns],\n",
       " 9   0 days 15:13:41\n",
       " Name: hour, dtype: timedelta64[ns],\n",
       " 9   0 days 15:13:50\n",
       " Name: hour, dtype: timedelta64[ns],\n",
       " 9   0 days 15:14:02\n",
       " Name: hour, dtype: timedelta64[ns],\n",
       " 9   0 days 15:14:12\n",
       " Name: hour, dtype: timedelta64[ns],\n",
       " 9   0 days 15:14:21\n",
       " Name: hour, dtype: timedelta64[ns],\n",
       " 9   0 days 15:14:31\n",
       " Name: hour, dtype: timedelta64[ns],\n",
       " 9   0 days 15:14:43\n",
       " Name: hour, dtype: timedelta64[ns],\n",
       " 9   0 days 15:14:57\n",
       " Name: hour, dtype: timedelta64[ns],\n",
       " 9   0 days 15:15:06\n",
       " Name: hour, dtype: timedelta64[ns],\n",
       " 9   0 days 15:15:17\n",
       " Name: hour, dtype: timedelta64[ns],\n",
       " 9   0 days 15:15:29\n",
       " Name: hour, dtype: timedelta64[ns],\n",
       " 9   0 days 15:15:42\n",
       " Name: hour, dtype: timedelta64[ns],\n",
       " 9   0 days 15:15:52\n",
       " Name: hour, dtype: timedelta64[ns],\n",
       " 9   0 days 15:16:01\n",
       " Name: hour, dtype: timedelta64[ns],\n",
       " 9   0 days 15:16:12\n",
       " Name: hour, dtype: timedelta64[ns],\n",
       " 9   0 days 15:16:22\n",
       " Name: hour, dtype: timedelta64[ns],\n",
       " 9   0 days 15:16:31\n",
       " Name: hour, dtype: timedelta64[ns],\n",
       " 9   0 days 15:16:43\n",
       " Name: hour, dtype: timedelta64[ns],\n",
       " 9   0 days 15:16:53\n",
       " Name: hour, dtype: timedelta64[ns],\n",
       " 9   0 days 15:17:03\n",
       " Name: hour, dtype: timedelta64[ns],\n",
       " 9   0 days 15:17:15\n",
       " Name: hour, dtype: timedelta64[ns],\n",
       " 9   0 days 15:17:24\n",
       " Name: hour, dtype: timedelta64[ns],\n",
       " 9   0 days 15:17:36\n",
       " Name: hour, dtype: timedelta64[ns],\n",
       " 9   0 days 15:17:49\n",
       " Name: hour, dtype: timedelta64[ns],\n",
       " 9   0 days 15:18:01\n",
       " Name: hour, dtype: timedelta64[ns],\n",
       " 9   0 days 15:18:14\n",
       " Name: hour, dtype: timedelta64[ns],\n",
       " 9   0 days 15:18:27\n",
       " Name: hour, dtype: timedelta64[ns],\n",
       " 9   0 days 15:18:38\n",
       " Name: hour, dtype: timedelta64[ns],\n",
       " 9   0 days 15:18:47\n",
       " Name: hour, dtype: timedelta64[ns],\n",
       " 9   0 days 15:19:00\n",
       " Name: hour, dtype: timedelta64[ns],\n",
       " 9   0 days 15:19:13\n",
       " Name: hour, dtype: timedelta64[ns],\n",
       " 9   0 days 15:19:22\n",
       " Name: hour, dtype: timedelta64[ns],\n",
       " 9   0 days 15:19:35\n",
       " Name: hour, dtype: timedelta64[ns],\n",
       " 9   0 days 15:19:47\n",
       " Name: hour, dtype: timedelta64[ns],\n",
       " 9   0 days 15:19:58\n",
       " Name: hour, dtype: timedelta64[ns],\n",
       " 9   0 days 15:20:07\n",
       " Name: hour, dtype: timedelta64[ns],\n",
       " 9   0 days 15:20:18\n",
       " Name: hour, dtype: timedelta64[ns],\n",
       " 9   0 days 15:20:31\n",
       " Name: hour, dtype: timedelta64[ns],\n",
       " 9   0 days 15:20:41\n",
       " Name: hour, dtype: timedelta64[ns],\n",
       " 9   0 days 15:20:52\n",
       " Name: hour, dtype: timedelta64[ns],\n",
       " 9   0 days 15:21:06\n",
       " Name: hour, dtype: timedelta64[ns],\n",
       " 9   0 days 15:21:15\n",
       " Name: hour, dtype: timedelta64[ns],\n",
       " 9   0 days 15:21:25\n",
       " Name: hour, dtype: timedelta64[ns],\n",
       " 9   0 days 15:21:39\n",
       " Name: hour, dtype: timedelta64[ns],\n",
       " 9   0 days 15:21:52\n",
       " Name: hour, dtype: timedelta64[ns],\n",
       " 9   0 days 15:22:01\n",
       " Name: hour, dtype: timedelta64[ns]]"
      ]
     },
     "execution_count": 2004,
     "metadata": {},
     "output_type": "execute_result"
    }
   ],
   "source": [
    "hora2"
   ]
  },
  {
   "cell_type": "code",
   "execution_count": 2005,
   "id": "5fbc8280",
   "metadata": {},
   "outputs": [],
   "source": [
    "hora3 = pd.DataFrame(hora2)"
   ]
  },
  {
   "cell_type": "code",
   "execution_count": 2006,
   "id": "c3215046",
   "metadata": {},
   "outputs": [
    {
     "data": {
      "text/html": [
       "<div>\n",
       "<style scoped>\n",
       "    .dataframe tbody tr th:only-of-type {\n",
       "        vertical-align: middle;\n",
       "    }\n",
       "\n",
       "    .dataframe tbody tr th {\n",
       "        vertical-align: top;\n",
       "    }\n",
       "\n",
       "    .dataframe thead th {\n",
       "        text-align: right;\n",
       "    }\n",
       "</style>\n",
       "<table border=\"1\" class=\"dataframe\">\n",
       "  <thead>\n",
       "    <tr style=\"text-align: right;\">\n",
       "      <th></th>\n",
       "      <th>9</th>\n",
       "    </tr>\n",
       "  </thead>\n",
       "  <tbody>\n",
       "    <tr>\n",
       "      <th>hour</th>\n",
       "      <td>0 days 14:23:18</td>\n",
       "    </tr>\n",
       "    <tr>\n",
       "      <th>hour</th>\n",
       "      <td>0 days 14:23:30</td>\n",
       "    </tr>\n",
       "    <tr>\n",
       "      <th>hour</th>\n",
       "      <td>0 days 14:23:42</td>\n",
       "    </tr>\n",
       "    <tr>\n",
       "      <th>hour</th>\n",
       "      <td>0 days 14:23:55</td>\n",
       "    </tr>\n",
       "    <tr>\n",
       "      <th>hour</th>\n",
       "      <td>0 days 14:24:07</td>\n",
       "    </tr>\n",
       "    <tr>\n",
       "      <th>...</th>\n",
       "      <td>...</td>\n",
       "    </tr>\n",
       "    <tr>\n",
       "      <th>hour</th>\n",
       "      <td>0 days 15:21:15</td>\n",
       "    </tr>\n",
       "    <tr>\n",
       "      <th>hour</th>\n",
       "      <td>0 days 15:21:25</td>\n",
       "    </tr>\n",
       "    <tr>\n",
       "      <th>hour</th>\n",
       "      <td>0 days 15:21:39</td>\n",
       "    </tr>\n",
       "    <tr>\n",
       "      <th>hour</th>\n",
       "      <td>0 days 15:21:52</td>\n",
       "    </tr>\n",
       "    <tr>\n",
       "      <th>hour</th>\n",
       "      <td>0 days 15:22:01</td>\n",
       "    </tr>\n",
       "  </tbody>\n",
       "</table>\n",
       "<p>309 rows × 1 columns</p>\n",
       "</div>"
      ],
      "text/plain": [
       "                   9\n",
       "hour 0 days 14:23:18\n",
       "hour 0 days 14:23:30\n",
       "hour 0 days 14:23:42\n",
       "hour 0 days 14:23:55\n",
       "hour 0 days 14:24:07\n",
       "...              ...\n",
       "hour 0 days 15:21:15\n",
       "hour 0 days 15:21:25\n",
       "hour 0 days 15:21:39\n",
       "hour 0 days 15:21:52\n",
       "hour 0 days 15:22:01\n",
       "\n",
       "[309 rows x 1 columns]"
      ]
     },
     "execution_count": 2006,
     "metadata": {},
     "output_type": "execute_result"
    }
   ],
   "source": [
    "hora3"
   ]
  },
  {
   "cell_type": "code",
   "execution_count": 2007,
   "id": "4480bb62",
   "metadata": {},
   "outputs": [],
   "source": [
    "data['hour'] = hora2"
   ]
  },
  {
   "cell_type": "code",
   "execution_count": 2008,
   "id": "869111be",
   "metadata": {},
   "outputs": [],
   "source": [
    "data.to_csv('dcalle5.csv')"
   ]
  },
  {
   "cell_type": "code",
   "execution_count": 2009,
   "id": "f93cc701",
   "metadata": {
    "scrolled": true
   },
   "outputs": [
    {
     "data": {
      "text/plain": [
       "[Timedelta('0 days 00:00:11'),\n",
       " Timedelta('0 days 00:00:10'),\n",
       " Timedelta('0 days 00:00:11'),\n",
       " Timedelta('0 days 00:00:12'),\n",
       " Timedelta('0 days 00:00:12'),\n",
       " Timedelta('0 days 00:00:12'),\n",
       " Timedelta('0 days 00:00:11'),\n",
       " Timedelta('0 days 00:00:11'),\n",
       " Timedelta('0 days 00:00:12'),\n",
       " Timedelta('0 days 00:00:11'),\n",
       " Timedelta('0 days 00:00:11'),\n",
       " Timedelta('0 days 00:00:11'),\n",
       " Timedelta('0 days 00:00:12'),\n",
       " Timedelta('0 days 00:00:11'),\n",
       " Timedelta('0 days 00:00:11'),\n",
       " Timedelta('0 days 00:00:11'),\n",
       " Timedelta('0 days 00:00:11'),\n",
       " Timedelta('0 days 00:00:12'),\n",
       " Timedelta('0 days 00:00:11'),\n",
       " Timedelta('0 days 00:00:12'),\n",
       " Timedelta('0 days 00:00:11'),\n",
       " Timedelta('0 days 00:00:11'),\n",
       " Timedelta('0 days 00:00:12'),\n",
       " Timedelta('0 days 00:00:11'),\n",
       " Timedelta('0 days 00:00:11'),\n",
       " Timedelta('0 days 00:00:11'),\n",
       " Timedelta('0 days 00:00:12'),\n",
       " Timedelta('0 days 00:00:11'),\n",
       " Timedelta('0 days 00:00:11'),\n",
       " Timedelta('0 days 00:00:11'),\n",
       " Timedelta('0 days 00:00:12'),\n",
       " Timedelta('0 days 00:00:11'),\n",
       " Timedelta('0 days 00:00:12'),\n",
       " Timedelta('0 days 00:00:11'),\n",
       " Timedelta('0 days 00:00:10'),\n",
       " Timedelta('0 days 00:00:12'),\n",
       " Timedelta('0 days 00:00:11'),\n",
       " Timedelta('0 days 00:00:11'),\n",
       " Timedelta('0 days 00:00:17'),\n",
       " Timedelta('0 days 00:00:11'),\n",
       " Timedelta('0 days 00:00:11'),\n",
       " Timedelta('0 days 00:00:12'),\n",
       " Timedelta('0 days 00:00:10'),\n",
       " Timedelta('0 days 00:00:11'),\n",
       " Timedelta('0 days 00:00:12'),\n",
       " Timedelta('0 days 00:00:12'),\n",
       " Timedelta('0 days 00:00:11'),\n",
       " Timedelta('0 days 00:00:12'),\n",
       " Timedelta('0 days 00:00:12'),\n",
       " Timedelta('0 days 00:00:12'),\n",
       " Timedelta('0 days 00:00:11'),\n",
       " Timedelta('0 days 00:00:11'),\n",
       " Timedelta('0 days 00:00:11'),\n",
       " Timedelta('0 days 00:00:12'),\n",
       " Timedelta('0 days 00:00:11'),\n",
       " Timedelta('0 days 00:00:12'),\n",
       " Timedelta('0 days 00:00:11'),\n",
       " Timedelta('0 days 00:00:11'),\n",
       " Timedelta('0 days 00:00:10'),\n",
       " Timedelta('0 days 00:00:12'),\n",
       " Timedelta('0 days 00:00:12'),\n",
       " Timedelta('0 days 00:00:10'),\n",
       " Timedelta('0 days 00:00:12'),\n",
       " Timedelta('0 days 00:00:10'),\n",
       " Timedelta('0 days 00:00:12'),\n",
       " Timedelta('0 days 00:00:11'),\n",
       " Timedelta('0 days 00:00:11'),\n",
       " Timedelta('0 days 00:00:10'),\n",
       " Timedelta('0 days 00:00:12'),\n",
       " Timedelta('0 days 00:00:11'),\n",
       " Timedelta('0 days 00:00:11'),\n",
       " Timedelta('0 days 00:00:12'),\n",
       " Timedelta('0 days 00:00:11'),\n",
       " Timedelta('0 days 00:00:11'),\n",
       " Timedelta('0 days 00:00:11'),\n",
       " Timedelta('0 days 00:00:12'),\n",
       " Timedelta('0 days 00:00:11'),\n",
       " Timedelta('0 days 00:00:11'),\n",
       " Timedelta('0 days 00:00:12'),\n",
       " Timedelta('0 days 00:00:11'),\n",
       " Timedelta('0 days 00:00:12'),\n",
       " Timedelta('0 days 00:00:11'),\n",
       " Timedelta('0 days 00:00:11'),\n",
       " Timedelta('0 days 00:00:12'),\n",
       " Timedelta('0 days 00:00:12'),\n",
       " Timedelta('0 days 00:00:11'),\n",
       " Timedelta('0 days 00:00:11'),\n",
       " Timedelta('0 days 00:00:11'),\n",
       " Timedelta('0 days 00:00:10'),\n",
       " Timedelta('0 days 00:00:20'),\n",
       " Timedelta('0 days 00:00:09'),\n",
       " Timedelta('0 days 00:00:12'),\n",
       " Timedelta('0 days 00:00:10'),\n",
       " Timedelta('0 days 00:00:11'),\n",
       " Timedelta('0 days 00:00:11'),\n",
       " Timedelta('0 days 00:00:11'),\n",
       " Timedelta('0 days 00:00:12'),\n",
       " Timedelta('0 days 00:00:11'),\n",
       " Timedelta('0 days 00:00:11'),\n",
       " Timedelta('0 days 00:00:12'),\n",
       " Timedelta('0 days 00:00:11'),\n",
       " Timedelta('0 days 00:00:12'),\n",
       " Timedelta('0 days 00:00:11'),\n",
       " Timedelta('0 days 00:00:11'),\n",
       " Timedelta('0 days 00:00:11'),\n",
       " Timedelta('0 days 00:00:12'),\n",
       " Timedelta('0 days 00:00:11'),\n",
       " Timedelta('0 days 00:00:12'),\n",
       " Timedelta('0 days 00:00:10'),\n",
       " Timedelta('0 days 00:00:12'),\n",
       " Timedelta('0 days 00:00:11'),\n",
       " Timedelta('0 days 00:00:12'),\n",
       " Timedelta('0 days 00:00:11'),\n",
       " Timedelta('0 days 00:00:11'),\n",
       " Timedelta('0 days 00:00:12'),\n",
       " Timedelta('0 days 00:00:11'),\n",
       " Timedelta('0 days 00:00:11'),\n",
       " Timedelta('0 days 00:00:12'),\n",
       " Timedelta('0 days 00:00:11'),\n",
       " Timedelta('0 days 00:00:12'),\n",
       " Timedelta('0 days 00:00:11'),\n",
       " Timedelta('0 days 00:00:12'),\n",
       " Timedelta('0 days 00:00:11'),\n",
       " Timedelta('0 days 00:00:12'),\n",
       " Timedelta('0 days 00:00:12'),\n",
       " Timedelta('0 days 00:00:12'),\n",
       " Timedelta('0 days 00:00:11'),\n",
       " Timedelta('0 days 00:00:11'),\n",
       " Timedelta('0 days 00:00:11'),\n",
       " Timedelta('0 days 00:00:11'),\n",
       " Timedelta('0 days 00:00:10'),\n",
       " Timedelta('0 days 00:00:12'),\n",
       " Timedelta('0 days 00:00:11'),\n",
       " Timedelta('0 days 00:00:12'),\n",
       " Timedelta('0 days 00:00:11'),\n",
       " Timedelta('0 days 00:00:11'),\n",
       " Timedelta('0 days 00:00:12'),\n",
       " Timedelta('0 days 00:00:10'),\n",
       " Timedelta('0 days 00:00:11'),\n",
       " Timedelta('0 days 00:00:11'),\n",
       " Timedelta('0 days 00:00:11'),\n",
       " Timedelta('0 days 00:00:17'),\n",
       " Timedelta('0 days 00:00:11'),\n",
       " Timedelta('0 days 00:00:11'),\n",
       " Timedelta('0 days 00:00:12'),\n",
       " Timedelta('0 days 00:00:11'),\n",
       " Timedelta('0 days 00:00:11'),\n",
       " Timedelta('0 days 00:00:12'),\n",
       " Timedelta('0 days 00:00:11'),\n",
       " Timedelta('0 days 00:00:11'),\n",
       " Timedelta('0 days 00:00:12'),\n",
       " Timedelta('0 days 00:00:11'),\n",
       " Timedelta('0 days 00:00:11'),\n",
       " Timedelta('0 days 00:00:11'),\n",
       " Timedelta('0 days 00:00:12'),\n",
       " Timedelta('0 days 00:00:11'),\n",
       " Timedelta('0 days 00:00:12'),\n",
       " Timedelta('0 days 00:00:11'),\n",
       " Timedelta('0 days 00:00:12'),\n",
       " Timedelta('0 days 00:00:11'),\n",
       " Timedelta('0 days 00:00:10'),\n",
       " Timedelta('0 days 00:00:12'),\n",
       " Timedelta('0 days 00:00:11'),\n",
       " Timedelta('0 days 00:00:12'),\n",
       " Timedelta('0 days 00:00:10'),\n",
       " Timedelta('0 days 00:00:12'),\n",
       " Timedelta('0 days 00:00:12'),\n",
       " Timedelta('0 days 00:00:10'),\n",
       " Timedelta('0 days 00:00:12'),\n",
       " Timedelta('0 days 00:00:11'),\n",
       " Timedelta('0 days 00:00:12'),\n",
       " Timedelta('0 days 00:00:11'),\n",
       " Timedelta('0 days 00:00:11'),\n",
       " Timedelta('0 days 00:00:11'),\n",
       " Timedelta('0 days 00:00:11'),\n",
       " Timedelta('0 days 00:00:12'),\n",
       " Timedelta('0 days 00:00:10'),\n",
       " Timedelta('0 days 00:00:12'),\n",
       " Timedelta('0 days 00:00:11'),\n",
       " Timedelta('0 days 00:00:11'),\n",
       " Timedelta('0 days 00:00:11'),\n",
       " Timedelta('0 days 00:00:11'),\n",
       " Timedelta('0 days 00:00:11'),\n",
       " Timedelta('0 days 00:00:09'),\n",
       " Timedelta('0 days 00:00:11'),\n",
       " Timedelta('0 days 00:00:11'),\n",
       " Timedelta('0 days 00:00:11'),\n",
       " Timedelta('0 days 00:00:12'),\n",
       " Timedelta('0 days 00:00:11'),\n",
       " Timedelta('0 days 00:00:11'),\n",
       " Timedelta('0 days 00:00:11'),\n",
       " Timedelta('0 days 00:00:11'),\n",
       " Timedelta('0 days 00:00:11'),\n",
       " Timedelta('0 days 00:00:11'),\n",
       " Timedelta('0 days 00:00:11'),\n",
       " Timedelta('0 days 00:00:11'),\n",
       " Timedelta('0 days 00:00:11'),\n",
       " Timedelta('0 days 00:00:12'),\n",
       " Timedelta('0 days 00:00:12'),\n",
       " Timedelta('0 days 00:00:11'),\n",
       " Timedelta('0 days 00:00:11'),\n",
       " Timedelta('0 days 00:00:12'),\n",
       " Timedelta('0 days 00:00:11'),\n",
       " Timedelta('0 days 00:00:10'),\n",
       " Timedelta('0 days 00:00:12'),\n",
       " Timedelta('0 days 00:00:12'),\n",
       " Timedelta('0 days 00:00:11'),\n",
       " Timedelta('0 days 00:00:11'),\n",
       " Timedelta('0 days 00:00:10')]"
      ]
     },
     "execution_count": 2009,
     "metadata": {},
     "output_type": "execute_result"
    }
   ],
   "source": [
    "#Calcula la diferencia de tiempo entre puntos de ubicacion\n",
    "medida_de_tiempo_entrenamiento = []\n",
    "for i in range(0,len(time_entrenamiento)-1):\n",
    "    medida_de_tiempo_entrenamiento.append(time_entrenamiento[i+1]-time_entrenamiento[i])\n",
    "medida_de_tiempo_entrenamiento"
   ]
  },
  {
   "cell_type": "code",
   "execution_count": 2010,
   "id": "0c5d8f86",
   "metadata": {},
   "outputs": [
    {
     "data": {
      "text/plain": [
       "Timedelta('0 days 00:00:09')"
      ]
     },
     "execution_count": 2010,
     "metadata": {},
     "output_type": "execute_result"
    }
   ],
   "source": [
    "min(medida_de_tiempo_entrenamiento)"
   ]
  },
  {
   "cell_type": "code",
   "execution_count": 2011,
   "id": "c00bbfb7",
   "metadata": {},
   "outputs": [
    {
     "data": {
      "text/plain": [
       "18"
      ]
     },
     "execution_count": 2011,
     "metadata": {},
     "output_type": "execute_result"
    }
   ],
   "source": [
    "h = datetime.now()\n",
    "h.hour"
   ]
  },
  {
   "cell_type": "code",
   "execution_count": 2012,
   "id": "213c700d",
   "metadata": {},
   "outputs": [
    {
     "data": {
      "text/plain": [
       "datetime.datetime(2022, 11, 17, 18, 36, 13, 752601)"
      ]
     },
     "execution_count": 2012,
     "metadata": {},
     "output_type": "execute_result"
    }
   ],
   "source": [
    "h"
   ]
  },
  {
   "cell_type": "code",
   "execution_count": 2013,
   "id": "2e0fa945",
   "metadata": {},
   "outputs": [
    {
     "data": {
      "text/plain": [
       "36"
      ]
     },
     "execution_count": 2013,
     "metadata": {},
     "output_type": "execute_result"
    }
   ],
   "source": [
    "h.minute"
   ]
  },
  {
   "cell_type": "code",
   "execution_count": 2014,
   "id": "09d30ef9",
   "metadata": {},
   "outputs": [],
   "source": [
    "\n",
    "t = timedelta(\n",
    "    days=0,\n",
    "    seconds=h.second,\n",
    "    microseconds=0,\n",
    "    milliseconds=0,\n",
    "    minutes=h.minute,\n",
    "    hours=h.hour,\n",
    "    weeks=0 )"
   ]
  },
  {
   "cell_type": "code",
   "execution_count": 2015,
   "id": "8b548fba",
   "metadata": {},
   "outputs": [
    {
     "data": {
      "text/plain": [
       "datetime.timedelta(seconds=66973)"
      ]
     },
     "execution_count": 2015,
     "metadata": {},
     "output_type": "execute_result"
    }
   ],
   "source": [
    "t"
   ]
  },
  {
   "cell_type": "code",
   "execution_count": 2016,
   "id": "a40a5c78",
   "metadata": {
    "scrolled": true
   },
   "outputs": [
    {
     "data": {
      "text/plain": [
       "[Timedelta('0 days 00:00:11'),\n",
       " Timedelta('0 days 00:00:11'),\n",
       " Timedelta('0 days 00:00:11'),\n",
       " Timedelta('0 days 00:00:09'),\n",
       " Timedelta('0 days 00:00:11'),\n",
       " Timedelta('0 days 00:00:11'),\n",
       " Timedelta('0 days 00:00:11'),\n",
       " Timedelta('0 days 00:00:12'),\n",
       " Timedelta('0 days 00:00:11'),\n",
       " Timedelta('0 days 00:00:11'),\n",
       " Timedelta('0 days 00:00:11'),\n",
       " Timedelta('0 days 00:00:11'),\n",
       " Timedelta('0 days 00:00:11'),\n",
       " Timedelta('0 days 00:00:11'),\n",
       " Timedelta('0 days 00:00:11'),\n",
       " Timedelta('0 days 00:00:11'),\n",
       " Timedelta('0 days 00:00:11'),\n",
       " Timedelta('0 days 00:00:12'),\n",
       " Timedelta('0 days 00:00:12'),\n",
       " Timedelta('0 days 00:00:11'),\n",
       " Timedelta('0 days 00:00:11'),\n",
       " Timedelta('0 days 00:00:12'),\n",
       " Timedelta('0 days 00:00:11'),\n",
       " Timedelta('0 days 00:00:10'),\n",
       " Timedelta('0 days 00:00:12'),\n",
       " Timedelta('0 days 00:00:12'),\n",
       " Timedelta('0 days 00:00:11'),\n",
       " Timedelta('0 days 00:00:11'),\n",
       " Timedelta('0 days 00:00:10'),\n",
       " Timedelta('0 days 00:00:11'),\n",
       " Timedelta('0 days 00:00:11'),\n",
       " Timedelta('0 days 00:00:11'),\n",
       " Timedelta('0 days 00:00:11'),\n",
       " Timedelta('0 days 00:00:37'),\n",
       " Timedelta('0 days 00:00:10'),\n",
       " Timedelta('0 days 00:00:12'),\n",
       " Timedelta('0 days 00:00:11'),\n",
       " Timedelta('0 days 00:00:12'),\n",
       " Timedelta('0 days 00:00:11'),\n",
       " Timedelta('0 days 00:00:39'),\n",
       " Timedelta('0 days 00:00:11'),\n",
       " Timedelta('0 days 00:00:12'),\n",
       " Timedelta('0 days 00:00:11'),\n",
       " Timedelta('0 days 00:00:11'),\n",
       " Timedelta('0 days 00:00:11'),\n",
       " Timedelta('0 days 00:00:12'),\n",
       " Timedelta('0 days 00:00:12'),\n",
       " Timedelta('0 days 00:00:11'),\n",
       " Timedelta('0 days 00:00:12'),\n",
       " Timedelta('0 days 00:00:11'),\n",
       " Timedelta('0 days 00:00:11'),\n",
       " Timedelta('0 days 00:00:11'),\n",
       " Timedelta('0 days 00:00:11'),\n",
       " Timedelta('0 days 00:00:12'),\n",
       " Timedelta('0 days 00:00:11'),\n",
       " Timedelta('0 days 00:00:11'),\n",
       " Timedelta('0 days 00:00:12'),\n",
       " Timedelta('0 days 00:00:12'),\n",
       " Timedelta('0 days 00:00:10'),\n",
       " Timedelta('0 days 00:00:10'),\n",
       " Timedelta('0 days 00:00:11'),\n",
       " Timedelta('0 days 00:00:11'),\n",
       " Timedelta('0 days 00:00:11'),\n",
       " Timedelta('0 days 00:00:11'),\n",
       " Timedelta('0 days 00:00:10'),\n",
       " Timedelta('0 days 00:00:12'),\n",
       " Timedelta('0 days 00:00:10'),\n",
       " Timedelta('0 days 00:00:11'),\n",
       " Timedelta('0 days 00:00:11'),\n",
       " Timedelta('0 days 00:00:11'),\n",
       " Timedelta('0 days 00:00:11'),\n",
       " Timedelta('0 days 00:00:12'),\n",
       " Timedelta('0 days 00:00:10'),\n",
       " Timedelta('0 days 00:00:11'),\n",
       " Timedelta('0 days 00:00:11'),\n",
       " Timedelta('0 days 00:00:11'),\n",
       " Timedelta('0 days 00:00:12'),\n",
       " Timedelta('0 days 00:00:11'),\n",
       " Timedelta('0 days 00:00:38'),\n",
       " Timedelta('0 days 00:00:12'),\n",
       " Timedelta('0 days 00:00:11')]"
      ]
     },
     "execution_count": 2016,
     "metadata": {},
     "output_type": "execute_result"
    }
   ],
   "source": [
    "#Calcula la diferencia de tiempo entre puntos de ubicacion\n",
    "medida_de_tiempo_validacion = []\n",
    "for i in range(0,len(time_validacion)-1):\n",
    "    medida_de_tiempo_validacion.append(time_validacion[i+1]-time_validacion[i])\n",
    "medida_de_tiempo_validacion"
   ]
  },
  {
   "cell_type": "code",
   "execution_count": 2017,
   "id": "422dbbf8",
   "metadata": {},
   "outputs": [
    {
     "data": {
      "text/plain": [
       "81"
      ]
     },
     "execution_count": 2017,
     "metadata": {},
     "output_type": "execute_result"
    }
   ],
   "source": [
    "len(medida_de_tiempo_validacion)"
   ]
  },
  {
   "cell_type": "code",
   "execution_count": 2018,
   "id": "ce3c9925",
   "metadata": {},
   "outputs": [],
   "source": [
    "#Creamos un objeto deltatime de valor 1 segundo\n",
    "#Al dividir deltatime / deltatime se obtiene un valor de tipo float\n",
    "#Al dividir sobre un segundo se obtiene un valor de tiempo en segundos\n",
    "delta = timedelta(\n",
    "    days=0,\n",
    "    seconds=1,\n",
    "    microseconds=0,\n",
    "    milliseconds=0,\n",
    "    minutes=0,\n",
    "    hours=0,\n",
    "    weeks=0 )"
   ]
  },
  {
   "cell_type": "code",
   "execution_count": 2019,
   "id": "cb9acd41",
   "metadata": {
    "scrolled": true
   },
   "outputs": [
    {
     "data": {
      "text/plain": [
       "[10,\n",
       " 11.0,\n",
       " 10.0,\n",
       " 11.0,\n",
       " 12.0,\n",
       " 12.0,\n",
       " 12.0,\n",
       " 11.0,\n",
       " 11.0,\n",
       " 12.0,\n",
       " 11.0,\n",
       " 11.0,\n",
       " 11.0,\n",
       " 12.0,\n",
       " 11.0,\n",
       " 11.0,\n",
       " 11.0,\n",
       " 11.0,\n",
       " 12.0,\n",
       " 11.0,\n",
       " 12.0,\n",
       " 11.0,\n",
       " 11.0,\n",
       " 12.0,\n",
       " 11.0,\n",
       " 11.0,\n",
       " 11.0,\n",
       " 12.0,\n",
       " 11.0,\n",
       " 11.0,\n",
       " 11.0,\n",
       " 12.0,\n",
       " 11.0,\n",
       " 12.0,\n",
       " 11.0,\n",
       " 10.0,\n",
       " 12.0,\n",
       " 11.0,\n",
       " 11.0,\n",
       " 17.0,\n",
       " 11.0,\n",
       " 11.0,\n",
       " 12.0,\n",
       " 10.0,\n",
       " 11.0,\n",
       " 12.0,\n",
       " 12.0,\n",
       " 11.0,\n",
       " 12.0,\n",
       " 12.0,\n",
       " 12.0,\n",
       " 11.0,\n",
       " 11.0,\n",
       " 11.0,\n",
       " 12.0,\n",
       " 11.0,\n",
       " 12.0,\n",
       " 11.0,\n",
       " 11.0,\n",
       " 10.0,\n",
       " 12.0,\n",
       " 12.0,\n",
       " 10.0,\n",
       " 12.0,\n",
       " 10.0,\n",
       " 12.0,\n",
       " 11.0,\n",
       " 11.0,\n",
       " 10.0,\n",
       " 12.0,\n",
       " 11.0,\n",
       " 11.0,\n",
       " 12.0,\n",
       " 11.0,\n",
       " 11.0,\n",
       " 11.0,\n",
       " 12.0,\n",
       " 11.0,\n",
       " 11.0,\n",
       " 12.0,\n",
       " 11.0,\n",
       " 12.0,\n",
       " 11.0,\n",
       " 11.0,\n",
       " 12.0,\n",
       " 12.0,\n",
       " 11.0,\n",
       " 11.0,\n",
       " 11.0,\n",
       " 10.0,\n",
       " 20.0,\n",
       " 9.0,\n",
       " 12.0,\n",
       " 10.0,\n",
       " 11.0,\n",
       " 11.0,\n",
       " 11.0,\n",
       " 12.0,\n",
       " 11.0,\n",
       " 11.0,\n",
       " 12.0,\n",
       " 11.0,\n",
       " 12.0,\n",
       " 11.0,\n",
       " 11.0,\n",
       " 11.0,\n",
       " 12.0,\n",
       " 11.0,\n",
       " 12.0,\n",
       " 10.0,\n",
       " 12.0,\n",
       " 11.0,\n",
       " 12.0,\n",
       " 11.0,\n",
       " 11.0,\n",
       " 12.0,\n",
       " 11.0,\n",
       " 11.0,\n",
       " 12.0,\n",
       " 11.0,\n",
       " 12.0,\n",
       " 11.0,\n",
       " 12.0,\n",
       " 11.0,\n",
       " 12.0,\n",
       " 12.0,\n",
       " 12.0,\n",
       " 11.0,\n",
       " 11.0,\n",
       " 11.0,\n",
       " 11.0,\n",
       " 10.0,\n",
       " 12.0,\n",
       " 11.0,\n",
       " 12.0,\n",
       " 11.0,\n",
       " 11.0,\n",
       " 12.0,\n",
       " 10.0,\n",
       " 11.0,\n",
       " 11.0,\n",
       " 11.0,\n",
       " 17.0,\n",
       " 11.0,\n",
       " 11.0,\n",
       " 12.0,\n",
       " 11.0,\n",
       " 11.0,\n",
       " 12.0,\n",
       " 11.0,\n",
       " 11.0,\n",
       " 12.0,\n",
       " 11.0,\n",
       " 11.0,\n",
       " 11.0,\n",
       " 12.0,\n",
       " 11.0,\n",
       " 12.0,\n",
       " 11.0,\n",
       " 12.0,\n",
       " 11.0,\n",
       " 10.0,\n",
       " 12.0,\n",
       " 11.0,\n",
       " 12.0,\n",
       " 10.0,\n",
       " 12.0,\n",
       " 12.0,\n",
       " 10.0,\n",
       " 12.0,\n",
       " 11.0,\n",
       " 12.0,\n",
       " 11.0,\n",
       " 11.0,\n",
       " 11.0,\n",
       " 11.0,\n",
       " 12.0,\n",
       " 10.0,\n",
       " 12.0,\n",
       " 11.0,\n",
       " 11.0,\n",
       " 11.0,\n",
       " 11.0,\n",
       " 11.0,\n",
       " 9.0,\n",
       " 11.0,\n",
       " 11.0,\n",
       " 11.0,\n",
       " 12.0,\n",
       " 11.0,\n",
       " 11.0,\n",
       " 11.0,\n",
       " 11.0,\n",
       " 11.0,\n",
       " 11.0,\n",
       " 11.0,\n",
       " 11.0,\n",
       " 11.0,\n",
       " 12.0,\n",
       " 12.0,\n",
       " 11.0,\n",
       " 11.0,\n",
       " 12.0,\n",
       " 11.0,\n",
       " 10.0,\n",
       " 12.0,\n",
       " 12.0,\n",
       " 11.0,\n",
       " 11.0,\n",
       " 10.0]"
      ]
     },
     "execution_count": 2019,
     "metadata": {},
     "output_type": "execute_result"
    }
   ],
   "source": [
    "duracion_entrenamiento = []\n",
    "duracion_entrenamiento.append(10)\n",
    "for i in range(0,len(medida_de_tiempo_entrenamiento)):\n",
    "    duracion_entrenamiento.append(medida_de_tiempo_entrenamiento[i]/delta)\n",
    "duracion_entrenamiento"
   ]
  },
  {
   "cell_type": "code",
   "execution_count": 2020,
   "id": "9608d3a7",
   "metadata": {},
   "outputs": [],
   "source": [
    "#index = duracion_entrenamiento.index(1)\n",
    "#index"
   ]
  },
  {
   "cell_type": "code",
   "execution_count": null,
   "id": "71de7aab",
   "metadata": {},
   "outputs": [],
   "source": []
  },
  {
   "cell_type": "code",
   "execution_count": 2021,
   "id": "117fae91",
   "metadata": {},
   "outputs": [
    {
     "data": {
      "text/plain": [
       "210"
      ]
     },
     "execution_count": 2021,
     "metadata": {},
     "output_type": "execute_result"
    }
   ],
   "source": [
    "len(duracion_entrenamiento)"
   ]
  },
  {
   "cell_type": "code",
   "execution_count": 2022,
   "id": "84de0a08",
   "metadata": {},
   "outputs": [],
   "source": [
    "n_e= np.column_stack((duracion_entrenamiento,distancia_entrenamiento))"
   ]
  },
  {
   "cell_type": "code",
   "execution_count": 2023,
   "id": "3ca40974",
   "metadata": {},
   "outputs": [
    {
     "data": {
      "text/plain": [
       "array([[1.00000000e+01, 0.00000000e+00],\n",
       "       [1.10000000e+01, 3.52067719e-03],\n",
       "       [1.00000000e+01, 9.85380570e-03],\n",
       "       [1.10000000e+01, 2.16718747e-03],\n",
       "       [1.20000000e+01, 5.55203868e-04],\n",
       "       [1.20000000e+01, 1.25120651e-03],\n",
       "       [1.20000000e+01, 6.69329072e-04],\n",
       "       [1.10000000e+01, 6.48119365e-05],\n",
       "       [1.10000000e+01, 7.03392409e-05],\n",
       "       [1.20000000e+01, 6.51871708e-03],\n",
       "       [1.10000000e+01, 3.98069461e-02],\n",
       "       [1.10000000e+01, 5.45180044e-02],\n",
       "       [1.10000000e+01, 6.73082498e-02],\n",
       "       [1.20000000e+01, 7.75697757e-02],\n",
       "       [1.10000000e+01, 7.64685913e-03],\n",
       "       [1.10000000e+01, 2.94999778e-03],\n",
       "       [1.10000000e+01, 1.05641391e-03],\n",
       "       [1.10000000e+01, 1.38127297e-03],\n",
       "       [1.20000000e+01, 4.77558829e-02],\n",
       "       [1.10000000e+01, 9.35895732e-02],\n",
       "       [1.20000000e+01, 9.32792704e-02],\n",
       "       [1.10000000e+01, 1.02441010e-01],\n",
       "       [1.10000000e+01, 6.19675076e-02],\n",
       "       [1.20000000e+01, 3.04297763e-02],\n",
       "       [1.10000000e+01, 9.27507928e-02],\n",
       "       [1.10000000e+01, 8.65927759e-02],\n",
       "       [1.10000000e+01, 8.98817387e-02],\n",
       "       [1.20000000e+01, 5.24227092e-02],\n",
       "       [1.10000000e+01, 2.55865576e-03],\n",
       "       [1.10000000e+01, 3.86115330e-03],\n",
       "       [1.10000000e+01, 7.00722282e-04],\n",
       "       [1.20000000e+01, 8.06704118e-04],\n",
       "       [1.10000000e+01, 8.36733572e-03],\n",
       "       [1.20000000e+01, 9.87883819e-02],\n",
       "       [1.10000000e+01, 9.30677656e-02],\n",
       "       [1.00000000e+01, 1.01001826e-01],\n",
       "       [1.20000000e+01, 9.75577374e-02],\n",
       "       [1.10000000e+01, 1.00775834e-01],\n",
       "       [1.10000000e+01, 8.44030391e-02],\n",
       "       [1.70000000e+01, 1.22644095e-01],\n",
       "       [1.10000000e+01, 7.82318452e-02],\n",
       "       [1.10000000e+01, 1.90488418e-02],\n",
       "       [1.20000000e+01, 1.04083404e-01],\n",
       "       [1.00000000e+01, 7.29691736e-02],\n",
       "       [1.10000000e+01, 8.34797859e-02],\n",
       "       [1.20000000e+01, 8.35115506e-02],\n",
       "       [1.20000000e+01, 8.29247338e-02],\n",
       "       [1.10000000e+01, 8.24853883e-02],\n",
       "       [1.20000000e+01, 8.21866440e-02],\n",
       "       [1.20000000e+01, 7.99918910e-02],\n",
       "       [1.20000000e+01, 3.07319223e-02],\n",
       "       [1.10000000e+01, 6.13710195e-04],\n",
       "       [1.10000000e+01, 3.88871467e-04],\n",
       "       [1.10000000e+01, 4.39250703e-02],\n",
       "       [1.20000000e+01, 8.96935850e-02],\n",
       "       [1.10000000e+01, 7.21192761e-02],\n",
       "       [1.20000000e+01, 8.70354902e-02],\n",
       "       [1.10000000e+01, 8.39557108e-02],\n",
       "       [1.10000000e+01, 2.63218408e-02],\n",
       "       [1.00000000e+01, 6.29952111e-03],\n",
       "       [1.20000000e+01, 6.32496140e-03],\n",
       "       [1.20000000e+01, 8.40461438e-02],\n",
       "       [1.00000000e+01, 6.87141452e-02],\n",
       "       [1.20000000e+01, 9.12968664e-02],\n",
       "       [1.00000000e+01, 5.41643297e-02],\n",
       "       [1.20000000e+01, 2.50682340e-03],\n",
       "       [1.10000000e+01, 1.88671891e-03],\n",
       "       [1.10000000e+01, 2.99230713e-04],\n",
       "       [1.00000000e+01, 2.85856792e-02],\n",
       "       [1.20000000e+01, 7.04107233e-02],\n",
       "       [1.10000000e+01, 6.42304542e-02],\n",
       "       [1.10000000e+01, 8.66536954e-02],\n",
       "       [1.20000000e+01, 9.32766346e-02],\n",
       "       [1.10000000e+01, 8.74192205e-02],\n",
       "       [1.10000000e+01, 7.45648579e-02],\n",
       "       [1.10000000e+01, 7.95407120e-02],\n",
       "       [1.20000000e+01, 6.43773957e-02],\n",
       "       [1.10000000e+01, 8.40499881e-02],\n",
       "       [1.10000000e+01, 8.37699489e-02],\n",
       "       [1.20000000e+01, 1.55444847e-02],\n",
       "       [1.10000000e+01, 9.28927626e-02],\n",
       "       [1.20000000e+01, 7.26259251e-02],\n",
       "       [1.10000000e+01, 9.00080204e-02],\n",
       "       [1.10000000e+01, 6.34646294e-02],\n",
       "       [1.20000000e+01, 9.00384622e-02],\n",
       "       [1.20000000e+01, 1.09891564e-01],\n",
       "       [1.10000000e+01, 8.94860987e-02],\n",
       "       [1.10000000e+01, 6.85491436e-02],\n",
       "       [1.10000000e+01, 2.29392076e-02],\n",
       "       [1.00000000e+01, 8.18404155e-02],\n",
       "       [2.00000000e+01, 8.09709195e-02],\n",
       "       [9.00000000e+00, 1.47813514e-01],\n",
       "       [1.20000000e+01, 8.96653807e-02],\n",
       "       [1.00000000e+01, 1.17509447e-02],\n",
       "       [1.10000000e+01, 6.65545942e-02],\n",
       "       [1.10000000e+01, 7.52581048e-02],\n",
       "       [1.10000000e+01, 8.43327567e-02],\n",
       "       [1.20000000e+01, 8.36301668e-02],\n",
       "       [1.10000000e+01, 3.19509798e-02],\n",
       "       [1.10000000e+01, 5.09156217e-04],\n",
       "       [1.20000000e+01, 1.13695829e-03],\n",
       "       [1.10000000e+01, 1.10114001e-03],\n",
       "       [1.20000000e+01, 1.77429699e-02],\n",
       "       [1.10000000e+01, 7.43193860e-02],\n",
       "       [1.10000000e+01, 9.08975066e-02],\n",
       "       [1.10000000e+01, 9.46560063e-02],\n",
       "       [1.20000000e+01, 9.88035465e-02],\n",
       "       [1.10000000e+01, 9.03569264e-02],\n",
       "       [1.20000000e+01, 9.54682410e-02],\n",
       "       [1.00000000e+01, 6.81691865e-02],\n",
       "       [1.20000000e+01, 8.16408336e-02],\n",
       "       [1.10000000e+01, 7.66658430e-02],\n",
       "       [1.20000000e+01, 3.55203029e-02],\n",
       "       [1.10000000e+01, 7.82120338e-02],\n",
       "       [1.10000000e+01, 4.47363194e-02],\n",
       "       [1.20000000e+01, 8.51864530e-02],\n",
       "       [1.10000000e+01, 6.06354565e-02],\n",
       "       [1.10000000e+01, 8.32950590e-02],\n",
       "       [1.20000000e+01, 5.28592688e-02],\n",
       "       [1.10000000e+01, 7.38427015e-02],\n",
       "       [1.20000000e+01, 9.45018497e-02],\n",
       "       [1.10000000e+01, 7.71455930e-02],\n",
       "       [1.20000000e+01, 1.98414491e-02],\n",
       "       [1.10000000e+01, 1.54799334e-02],\n",
       "       [1.20000000e+01, 6.90057344e-02],\n",
       "       [1.20000000e+01, 8.93723713e-02],\n",
       "       [1.20000000e+01, 8.19435802e-02],\n",
       "       [1.10000000e+01, 8.13879034e-02],\n",
       "       [1.10000000e+01, 7.73927806e-02],\n",
       "       [1.10000000e+01, 1.30939553e-02],\n",
       "       [1.10000000e+01, 3.21959354e-02],\n",
       "       [1.00000000e+01, 8.34147275e-02],\n",
       "       [1.20000000e+01, 7.54487745e-02],\n",
       "       [1.10000000e+01, 8.29491718e-02],\n",
       "       [1.20000000e+01, 4.37022342e-02],\n",
       "       [1.10000000e+01, 2.27512700e-03],\n",
       "       [1.10000000e+01, 6.22297884e-04],\n",
       "       [1.20000000e+01, 2.07774212e-04],\n",
       "       [1.00000000e+01, 2.46114309e-02],\n",
       "       [1.10000000e+01, 7.29154123e-02],\n",
       "       [1.10000000e+01, 8.38868751e-02],\n",
       "       [1.10000000e+01, 7.15186548e-02],\n",
       "       [1.70000000e+01, 1.35212085e-01],\n",
       "       [1.10000000e+01, 8.42490123e-02],\n",
       "       [1.10000000e+01, 8.64235154e-02],\n",
       "       [1.20000000e+01, 7.77355571e-02],\n",
       "       [1.10000000e+01, 8.58420305e-02],\n",
       "       [1.10000000e+01, 8.11761959e-02],\n",
       "       [1.20000000e+01, 2.38667965e-02],\n",
       "       [1.10000000e+01, 2.45887912e-02],\n",
       "       [1.10000000e+01, 8.30003887e-02],\n",
       "       [1.20000000e+01, 6.35947400e-02],\n",
       "       [1.10000000e+01, 8.32111061e-02],\n",
       "       [1.10000000e+01, 4.39452620e-02],\n",
       "       [1.10000000e+01, 7.15123520e-02],\n",
       "       [1.20000000e+01, 7.04479990e-02],\n",
       "       [1.10000000e+01, 8.77884894e-02],\n",
       "       [1.20000000e+01, 9.68137974e-02],\n",
       "       [1.10000000e+01, 6.93138548e-02],\n",
       "       [1.20000000e+01, 6.19683974e-02],\n",
       "       [1.10000000e+01, 8.94669046e-02],\n",
       "       [1.00000000e+01, 6.87247283e-02],\n",
       "       [1.20000000e+01, 7.97858392e-02],\n",
       "       [1.10000000e+01, 9.48585599e-02],\n",
       "       [1.20000000e+01, 5.81136976e-02],\n",
       "       [1.00000000e+01, 5.25112903e-02],\n",
       "       [1.20000000e+01, 7.91120284e-02],\n",
       "       [1.20000000e+01, 8.30826899e-02],\n",
       "       [1.00000000e+01, 7.46034782e-02],\n",
       "       [1.20000000e+01, 4.26737910e-02],\n",
       "       [1.10000000e+01, 3.30431433e-04],\n",
       "       [1.20000000e+01, 1.00855717e-03],\n",
       "       [1.10000000e+01, 6.29630257e-04],\n",
       "       [1.10000000e+01, 4.71785641e-02],\n",
       "       [1.10000000e+01, 8.28607270e-02],\n",
       "       [1.10000000e+01, 8.33087018e-02],\n",
       "       [1.20000000e+01, 1.08861764e-01],\n",
       "       [1.00000000e+01, 8.62081381e-02],\n",
       "       [1.20000000e+01, 1.05517460e-01],\n",
       "       [1.10000000e+01, 8.78401406e-02],\n",
       "       [1.10000000e+01, 8.45260756e-02],\n",
       "       [1.10000000e+01, 8.60866944e-02],\n",
       "       [1.10000000e+01, 2.74078481e-02],\n",
       "       [1.10000000e+01, 8.63294285e-02],\n",
       "       [9.00000000e+00, 5.81882028e-02],\n",
       "       [1.10000000e+01, 9.14539382e-02],\n",
       "       [1.10000000e+01, 7.98626492e-02],\n",
       "       [1.10000000e+01, 9.94310341e-02],\n",
       "       [1.20000000e+01, 9.04014608e-02],\n",
       "       [1.10000000e+01, 8.58284189e-02],\n",
       "       [1.10000000e+01, 9.25909840e-02],\n",
       "       [1.10000000e+01, 5.70717168e-02],\n",
       "       [1.10000000e+01, 7.65019733e-02],\n",
       "       [1.10000000e+01, 7.95945743e-02],\n",
       "       [1.10000000e+01, 9.28795212e-02],\n",
       "       [1.10000000e+01, 7.80661641e-02],\n",
       "       [1.10000000e+01, 6.19561822e-02],\n",
       "       [1.10000000e+01, 6.45097536e-02],\n",
       "       [1.20000000e+01, 7.17685705e-02],\n",
       "       [1.20000000e+01, 9.18232712e-02],\n",
       "       [1.10000000e+01, 5.39132804e-02],\n",
       "       [1.10000000e+01, 4.22885782e-02],\n",
       "       [1.20000000e+01, 7.97240326e-02],\n",
       "       [1.10000000e+01, 7.02299168e-02],\n",
       "       [1.00000000e+01, 8.18892842e-02],\n",
       "       [1.20000000e+01, 9.69393552e-02],\n",
       "       [1.20000000e+01, 9.99853397e-02],\n",
       "       [1.10000000e+01, 9.49091953e-02],\n",
       "       [1.10000000e+01, 8.47325327e-02],\n",
       "       [1.00000000e+01, 8.36787947e-02]])"
      ]
     },
     "execution_count": 2023,
     "metadata": {},
     "output_type": "execute_result"
    }
   ],
   "source": [
    "n_e"
   ]
  },
  {
   "cell_type": "code",
   "execution_count": 2024,
   "id": "388ca5b1",
   "metadata": {
    "scrolled": true
   },
   "outputs": [
    {
     "data": {
      "text/plain": [
       "[10,\n",
       " 11.0,\n",
       " 11.0,\n",
       " 11.0,\n",
       " 9.0,\n",
       " 11.0,\n",
       " 11.0,\n",
       " 11.0,\n",
       " 12.0,\n",
       " 11.0,\n",
       " 11.0,\n",
       " 11.0,\n",
       " 11.0,\n",
       " 11.0,\n",
       " 11.0,\n",
       " 11.0,\n",
       " 11.0,\n",
       " 11.0,\n",
       " 12.0,\n",
       " 12.0,\n",
       " 11.0,\n",
       " 11.0,\n",
       " 12.0,\n",
       " 11.0,\n",
       " 10.0,\n",
       " 12.0,\n",
       " 12.0,\n",
       " 11.0,\n",
       " 11.0,\n",
       " 10.0,\n",
       " 11.0,\n",
       " 11.0,\n",
       " 11.0,\n",
       " 11.0,\n",
       " 37.0,\n",
       " 10.0,\n",
       " 12.0,\n",
       " 11.0,\n",
       " 12.0,\n",
       " 11.0,\n",
       " 39.0,\n",
       " 11.0,\n",
       " 12.0,\n",
       " 11.0,\n",
       " 11.0,\n",
       " 11.0,\n",
       " 12.0,\n",
       " 12.0,\n",
       " 11.0,\n",
       " 12.0,\n",
       " 11.0,\n",
       " 11.0,\n",
       " 11.0,\n",
       " 11.0,\n",
       " 12.0,\n",
       " 11.0,\n",
       " 11.0,\n",
       " 12.0,\n",
       " 12.0,\n",
       " 10.0,\n",
       " 10.0,\n",
       " 11.0,\n",
       " 11.0,\n",
       " 11.0,\n",
       " 11.0,\n",
       " 10.0,\n",
       " 12.0,\n",
       " 10.0,\n",
       " 11.0,\n",
       " 11.0,\n",
       " 11.0,\n",
       " 11.0,\n",
       " 12.0,\n",
       " 10.0,\n",
       " 11.0,\n",
       " 11.0,\n",
       " 11.0,\n",
       " 12.0,\n",
       " 11.0,\n",
       " 38.0,\n",
       " 12.0,\n",
       " 11.0]"
      ]
     },
     "execution_count": 2024,
     "metadata": {},
     "output_type": "execute_result"
    }
   ],
   "source": [
    "duracion_validacion = []\n",
    "duracion_validacion.append(10)\n",
    "for i in range(0,len(medida_de_tiempo_validacion)):\n",
    "    duracion_validacion.append(medida_de_tiempo_validacion[i]/delta)\n",
    "duracion_validacion"
   ]
  },
  {
   "cell_type": "code",
   "execution_count": 2025,
   "id": "2ebcf726",
   "metadata": {},
   "outputs": [],
   "source": [
    "#index = duracion_validacion.index(20)\n",
    "#len(duracion_validacion)-index-309+5"
   ]
  },
  {
   "cell_type": "code",
   "execution_count": 2026,
   "id": "97abd22b",
   "metadata": {},
   "outputs": [],
   "source": [
    "n_v= np.column_stack((duracion_validacion,distancia_validacion))"
   ]
  },
  {
   "cell_type": "code",
   "execution_count": 2027,
   "id": "16536144",
   "metadata": {
    "scrolled": true
   },
   "outputs": [
    {
     "data": {
      "text/plain": [
       "array([[1.00000000e+01, 0.00000000e+00],\n",
       "       [1.10000000e+01, 8.60866944e-02],\n",
       "       [1.10000000e+01, 2.74078481e-02],\n",
       "       [1.10000000e+01, 8.63294285e-02],\n",
       "       [9.00000000e+00, 5.81882028e-02],\n",
       "       [1.10000000e+01, 9.14539382e-02],\n",
       "       [1.10000000e+01, 7.98626492e-02],\n",
       "       [1.10000000e+01, 9.94310341e-02],\n",
       "       [1.20000000e+01, 9.04014608e-02],\n",
       "       [1.10000000e+01, 8.58284189e-02],\n",
       "       [1.10000000e+01, 9.25909840e-02],\n",
       "       [1.10000000e+01, 5.70717168e-02],\n",
       "       [1.10000000e+01, 7.65019733e-02],\n",
       "       [1.10000000e+01, 7.95945743e-02],\n",
       "       [1.10000000e+01, 9.28795212e-02],\n",
       "       [1.10000000e+01, 7.80661641e-02],\n",
       "       [1.10000000e+01, 6.19561822e-02],\n",
       "       [1.10000000e+01, 6.45097536e-02],\n",
       "       [1.20000000e+01, 7.17685705e-02],\n",
       "       [1.20000000e+01, 9.18232712e-02],\n",
       "       [1.10000000e+01, 5.39132804e-02],\n",
       "       [1.10000000e+01, 4.22885782e-02],\n",
       "       [1.20000000e+01, 7.97240326e-02],\n",
       "       [1.10000000e+01, 7.02299168e-02],\n",
       "       [1.00000000e+01, 8.18892842e-02],\n",
       "       [1.20000000e+01, 9.69393552e-02],\n",
       "       [1.20000000e+01, 9.99853397e-02],\n",
       "       [1.10000000e+01, 9.49091953e-02],\n",
       "       [1.10000000e+01, 8.47325327e-02],\n",
       "       [1.00000000e+01, 8.36787947e-02],\n",
       "       [1.10000000e+01, 6.77905268e-02],\n",
       "       [1.10000000e+01, 3.06751520e-02],\n",
       "       [1.10000000e+01, 1.53853372e-02],\n",
       "       [1.10000000e+01, 1.32004229e-02],\n",
       "       [3.70000000e+01, 1.53466788e-01],\n",
       "       [1.00000000e+01, 8.26066403e-02],\n",
       "       [1.20000000e+01, 7.59225652e-02],\n",
       "       [1.10000000e+01, 7.91282356e-02],\n",
       "       [1.20000000e+01, 5.46709195e-02],\n",
       "       [1.10000000e+01, 9.03941237e-02],\n",
       "       [3.90000000e+01, 1.83321292e-01],\n",
       "       [1.10000000e+01, 1.07997239e-03],\n",
       "       [1.20000000e+01, 1.06471258e-03],\n",
       "       [1.10000000e+01, 1.23833594e-03],\n",
       "       [1.10000000e+01, 1.02220491e-03],\n",
       "       [1.10000000e+01, 9.06884167e-03],\n",
       "       [1.20000000e+01, 7.81184102e-02],\n",
       "       [1.20000000e+01, 9.47393316e-02],\n",
       "       [1.10000000e+01, 9.91441102e-02],\n",
       "       [1.20000000e+01, 9.03201700e-02],\n",
       "       [1.10000000e+01, 4.62030853e-02],\n",
       "       [1.10000000e+01, 7.88250098e-02],\n",
       "       [1.10000000e+01, 7.57884100e-02],\n",
       "       [1.10000000e+01, 9.09741052e-02],\n",
       "       [1.20000000e+01, 7.62748916e-02],\n",
       "       [1.10000000e+01, 2.01547523e-02],\n",
       "       [1.10000000e+01, 1.86434040e-04],\n",
       "       [1.20000000e+01, 7.81541642e-04],\n",
       "       [1.20000000e+01, 8.51587754e-04],\n",
       "       [1.00000000e+01, 9.24584882e-04],\n",
       "       [1.00000000e+01, 6.11071659e-02],\n",
       "       [1.10000000e+01, 7.34756338e-02],\n",
       "       [1.10000000e+01, 8.52435099e-02],\n",
       "       [1.10000000e+01, 9.87670025e-02],\n",
       "       [1.10000000e+01, 8.18155060e-02],\n",
       "       [1.00000000e+01, 9.05047866e-02],\n",
       "       [1.20000000e+01, 8.34918319e-02],\n",
       "       [1.00000000e+01, 7.83495782e-02],\n",
       "       [1.10000000e+01, 8.03996407e-02],\n",
       "       [1.10000000e+01, 6.49361912e-02],\n",
       "       [1.10000000e+01, 5.90562206e-03],\n",
       "       [1.10000000e+01, 5.62714057e-02],\n",
       "       [1.20000000e+01, 8.28957999e-02],\n",
       "       [1.00000000e+01, 7.94239579e-02],\n",
       "       [1.10000000e+01, 8.54101280e-02],\n",
       "       [1.10000000e+01, 7.62073132e-02],\n",
       "       [1.10000000e+01, 8.70634920e-02],\n",
       "       [1.20000000e+01, 8.34977662e-02],\n",
       "       [1.10000000e+01, 2.93493571e-02],\n",
       "       [3.80000000e+01, 9.12440492e-02],\n",
       "       [1.20000000e+01, 3.08477240e-03],\n",
       "       [1.10000000e+01, 5.66646624e-04]])"
      ]
     },
     "execution_count": 2027,
     "metadata": {},
     "output_type": "execute_result"
    }
   ],
   "source": [
    "n_v"
   ]
  },
  {
   "cell_type": "code",
   "execution_count": 2028,
   "id": "a5f42b6a",
   "metadata": {},
   "outputs": [
    {
     "data": {
      "text/html": [
       "<div>\n",
       "<style scoped>\n",
       "    .dataframe tbody tr th:only-of-type {\n",
       "        vertical-align: middle;\n",
       "    }\n",
       "\n",
       "    .dataframe tbody tr th {\n",
       "        vertical-align: top;\n",
       "    }\n",
       "\n",
       "    .dataframe thead th {\n",
       "        text-align: right;\n",
       "    }\n",
       "</style>\n",
       "<table border=\"1\" class=\"dataframe\">\n",
       "  <thead>\n",
       "    <tr style=\"text-align: right;\">\n",
       "      <th></th>\n",
       "      <th>duracion</th>\n",
       "    </tr>\n",
       "  </thead>\n",
       "  <tbody>\n",
       "    <tr>\n",
       "      <th>0</th>\n",
       "      <td>10.0</td>\n",
       "    </tr>\n",
       "    <tr>\n",
       "      <th>1</th>\n",
       "      <td>11.0</td>\n",
       "    </tr>\n",
       "    <tr>\n",
       "      <th>2</th>\n",
       "      <td>10.0</td>\n",
       "    </tr>\n",
       "    <tr>\n",
       "      <th>3</th>\n",
       "      <td>11.0</td>\n",
       "    </tr>\n",
       "    <tr>\n",
       "      <th>4</th>\n",
       "      <td>12.0</td>\n",
       "    </tr>\n",
       "    <tr>\n",
       "      <th>...</th>\n",
       "      <td>...</td>\n",
       "    </tr>\n",
       "    <tr>\n",
       "      <th>205</th>\n",
       "      <td>12.0</td>\n",
       "    </tr>\n",
       "    <tr>\n",
       "      <th>206</th>\n",
       "      <td>12.0</td>\n",
       "    </tr>\n",
       "    <tr>\n",
       "      <th>207</th>\n",
       "      <td>11.0</td>\n",
       "    </tr>\n",
       "    <tr>\n",
       "      <th>208</th>\n",
       "      <td>11.0</td>\n",
       "    </tr>\n",
       "    <tr>\n",
       "      <th>209</th>\n",
       "      <td>10.0</td>\n",
       "    </tr>\n",
       "  </tbody>\n",
       "</table>\n",
       "<p>210 rows × 1 columns</p>\n",
       "</div>"
      ],
      "text/plain": [
       "     duracion\n",
       "0        10.0\n",
       "1        11.0\n",
       "2        10.0\n",
       "3        11.0\n",
       "4        12.0\n",
       "..        ...\n",
       "205      12.0\n",
       "206      12.0\n",
       "207      11.0\n",
       "208      11.0\n",
       "209      10.0\n",
       "\n",
       "[210 rows x 1 columns]"
      ]
     },
     "execution_count": 2028,
     "metadata": {},
     "output_type": "execute_result"
    }
   ],
   "source": [
    "duracion_data_entrenamiento = pd.DataFrame(duracion_entrenamiento, columns=['duracion'])\n",
    "duracion_data_entrenamiento"
   ]
  },
  {
   "cell_type": "code",
   "execution_count": 2029,
   "id": "b55d74f7",
   "metadata": {},
   "outputs": [
    {
     "data": {
      "text/html": [
       "<div>\n",
       "<style scoped>\n",
       "    .dataframe tbody tr th:only-of-type {\n",
       "        vertical-align: middle;\n",
       "    }\n",
       "\n",
       "    .dataframe tbody tr th {\n",
       "        vertical-align: top;\n",
       "    }\n",
       "\n",
       "    .dataframe thead th {\n",
       "        text-align: right;\n",
       "    }\n",
       "</style>\n",
       "<table border=\"1\" class=\"dataframe\">\n",
       "  <thead>\n",
       "    <tr style=\"text-align: right;\">\n",
       "      <th></th>\n",
       "      <th>duracion</th>\n",
       "    </tr>\n",
       "  </thead>\n",
       "  <tbody>\n",
       "    <tr>\n",
       "      <th>0</th>\n",
       "      <td>10.0</td>\n",
       "    </tr>\n",
       "    <tr>\n",
       "      <th>1</th>\n",
       "      <td>11.0</td>\n",
       "    </tr>\n",
       "    <tr>\n",
       "      <th>2</th>\n",
       "      <td>11.0</td>\n",
       "    </tr>\n",
       "    <tr>\n",
       "      <th>3</th>\n",
       "      <td>11.0</td>\n",
       "    </tr>\n",
       "    <tr>\n",
       "      <th>4</th>\n",
       "      <td>9.0</td>\n",
       "    </tr>\n",
       "    <tr>\n",
       "      <th>...</th>\n",
       "      <td>...</td>\n",
       "    </tr>\n",
       "    <tr>\n",
       "      <th>77</th>\n",
       "      <td>12.0</td>\n",
       "    </tr>\n",
       "    <tr>\n",
       "      <th>78</th>\n",
       "      <td>11.0</td>\n",
       "    </tr>\n",
       "    <tr>\n",
       "      <th>79</th>\n",
       "      <td>38.0</td>\n",
       "    </tr>\n",
       "    <tr>\n",
       "      <th>80</th>\n",
       "      <td>12.0</td>\n",
       "    </tr>\n",
       "    <tr>\n",
       "      <th>81</th>\n",
       "      <td>11.0</td>\n",
       "    </tr>\n",
       "  </tbody>\n",
       "</table>\n",
       "<p>82 rows × 1 columns</p>\n",
       "</div>"
      ],
      "text/plain": [
       "    duracion\n",
       "0       10.0\n",
       "1       11.0\n",
       "2       11.0\n",
       "3       11.0\n",
       "4        9.0\n",
       "..       ...\n",
       "77      12.0\n",
       "78      11.0\n",
       "79      38.0\n",
       "80      12.0\n",
       "81      11.0\n",
       "\n",
       "[82 rows x 1 columns]"
      ]
     },
     "execution_count": 2029,
     "metadata": {},
     "output_type": "execute_result"
    }
   ],
   "source": [
    "duracion_data_validacion = pd.DataFrame(duracion_validacion, columns=['duracion'])\n",
    "duracion_data_validacion"
   ]
  },
  {
   "cell_type": "code",
   "execution_count": 2030,
   "id": "d626c80d",
   "metadata": {},
   "outputs": [],
   "source": [
    "#normalizamos\n",
    "sc = MinMaxScaler(feature_range=(0,1))\n",
    "time_entrenamiento_escalado = sc.fit_transform(n_e)"
   ]
  },
  {
   "cell_type": "code",
   "execution_count": 2031,
   "id": "edaa9e53",
   "metadata": {},
   "outputs": [],
   "source": [
    "#normalizamos\n",
    "#sc2 = MinMaxScaler(feature_range=(0,1))\n",
    "#time_validacion_escalado = sc2.transform(duracion_data_validacion)"
   ]
  },
  {
   "cell_type": "code",
   "execution_count": 2032,
   "id": "c43432fe",
   "metadata": {},
   "outputs": [],
   "source": [
    "# La red LSTM tendrá como entrada \"time_step\" datos consecutivos, y como salida 1 dato (la predicción a\n",
    "# partir de esos \"time_step\" datos). Se conformará de esta forma el set de entrenamiento\n",
    "time_step_t = 30\n",
    "X_train_duracion = []\n",
    "Y_train_duracion = []\n",
    "n = len(n_e)"
   ]
  },
  {
   "cell_type": "code",
   "execution_count": 2033,
   "id": "6f61748a",
   "metadata": {},
   "outputs": [],
   "source": [
    "for i in range(time_step,n):\n",
    "    # X: bloques de \"time_step\" datos: 0-time_step, 1-time_step+1, 2-time_step+2, etc\n",
    "    X_train_duracion.append(time_entrenamiento_escalado[i-time_step:i,0:2])\n",
    "    # Y: el siguiente dato\n",
    "    Y_train_duracion.append(time_entrenamiento_escalado[i,0:2])"
   ]
  },
  {
   "cell_type": "code",
   "execution_count": 2034,
   "id": "0e3cec16",
   "metadata": {},
   "outputs": [],
   "source": [
    "X_train_duracion, Y_train_duracion = np.array(X_train_duracion), np.array(Y_train_duracion)"
   ]
  },
  {
   "cell_type": "code",
   "execution_count": 2035,
   "id": "ba4aa256",
   "metadata": {},
   "outputs": [],
   "source": [
    "# Reshape X_train para que se ajuste al modelo en Keras\n",
    "X_train_duracion = np.reshape(X_train_duracion, (X_train_duracion.shape[0], X_train_duracion.shape[1], 2))"
   ]
  },
  {
   "cell_type": "code",
   "execution_count": 2036,
   "id": "49d43976",
   "metadata": {},
   "outputs": [],
   "source": [
    "# Red LSTM\n",
    "#Para crear la red debemos primero definir el tamaño de los datos de entrada y del dato de salida,\n",
    "#así como el número total de neuronas (50):\n",
    "dim_entrada_duracion = (X_train_duracion.shape[1],2)\n",
    "dim_salida_duracion = 2\n",
    "na_duracion = 100"
   ]
  },
  {
   "cell_type": "code",
   "execution_count": 2037,
   "id": "99f669f3",
   "metadata": {},
   "outputs": [],
   "source": [
    "#Cear un contenedor usando el módulo Sequential:\n",
    "modelo_duracion = Sequential()\n",
    "#añadimos el modelo\n",
    "modelo_duracion.add(LSTM(units=na_duracion, return_sequences=True, input_shape=dim_entrada_duracion))\n",
    "#agregamos una capa lSTM\n",
    "modelo_duracion.add(LSTM(units=na_duracion))\n",
    "#evitamos el sobreentrtenamiento con dropout\n",
    "modelo_duracion.add(Dropout(0.2))\n",
    "#Dense para la capa de salida\n",
    "modelo_duracion.add(Dense(units=dim_salida_duracion))"
   ]
  },
  {
   "cell_type": "code",
   "execution_count": 2038,
   "id": "9b59d996",
   "metadata": {},
   "outputs": [],
   "source": [
    "#definimos funcion de error y el método para minimizar\n",
    "modelo_duracion.compile(optimizer='rmsprop', loss='mse')"
   ]
  },
  {
   "cell_type": "code",
   "execution_count": 2039,
   "id": "31b4e2c0",
   "metadata": {
    "scrolled": true
   },
   "outputs": [
    {
     "name": "stdout",
     "output_type": "stream",
     "text": [
      "Epoch 1/100\n",
      "6/6 [==============================] - 3s 40ms/step - loss: 0.0743\n",
      "Epoch 2/100\n",
      "6/6 [==============================] - 0s 40ms/step - loss: 0.0331\n",
      "Epoch 3/100\n",
      "6/6 [==============================] - 0s 40ms/step - loss: 0.0340\n",
      "Epoch 4/100\n",
      "6/6 [==============================] - 0s 40ms/step - loss: 0.0358\n",
      "Epoch 5/100\n",
      "6/6 [==============================] - 0s 40ms/step - loss: 0.0319\n",
      "Epoch 6/100\n",
      "6/6 [==============================] - 0s 40ms/step - loss: 0.0340\n",
      "Epoch 7/100\n",
      "6/6 [==============================] - 0s 40ms/step - loss: 0.0334\n",
      "Epoch 8/100\n",
      "6/6 [==============================] - 0s 40ms/step - loss: 0.0334\n",
      "Epoch 9/100\n",
      "6/6 [==============================] - 0s 40ms/step - loss: 0.0312\n",
      "Epoch 10/100\n",
      "6/6 [==============================] - 0s 40ms/step - loss: 0.0307\n",
      "Epoch 11/100\n",
      "6/6 [==============================] - 0s 40ms/step - loss: 0.0319\n",
      "Epoch 12/100\n",
      "6/6 [==============================] - 0s 40ms/step - loss: 0.0337\n",
      "Epoch 13/100\n",
      "6/6 [==============================] - 0s 40ms/step - loss: 0.0302\n",
      "Epoch 14/100\n",
      "6/6 [==============================] - 0s 40ms/step - loss: 0.0322\n",
      "Epoch 15/100\n",
      "6/6 [==============================] - 0s 40ms/step - loss: 0.0309\n",
      "Epoch 16/100\n",
      "6/6 [==============================] - 0s 40ms/step - loss: 0.0312\n",
      "Epoch 17/100\n",
      "6/6 [==============================] - 0s 40ms/step - loss: 0.0299\n",
      "Epoch 18/100\n",
      "6/6 [==============================] - 0s 40ms/step - loss: 0.0287\n",
      "Epoch 19/100\n",
      "6/6 [==============================] - 0s 40ms/step - loss: 0.0289\n",
      "Epoch 20/100\n",
      "6/6 [==============================] - 0s 40ms/step - loss: 0.0312\n",
      "Epoch 21/100\n",
      "6/6 [==============================] - 0s 40ms/step - loss: 0.0297\n",
      "Epoch 22/100\n",
      "6/6 [==============================] - 0s 40ms/step - loss: 0.0294\n",
      "Epoch 23/100\n",
      "6/6 [==============================] - 0s 40ms/step - loss: 0.0286\n",
      "Epoch 24/100\n",
      "6/6 [==============================] - 0s 40ms/step - loss: 0.0292\n",
      "Epoch 25/100\n",
      "6/6 [==============================] - 0s 40ms/step - loss: 0.0280\n",
      "Epoch 26/100\n",
      "6/6 [==============================] - 0s 40ms/step - loss: 0.0264\n",
      "Epoch 27/100\n",
      "6/6 [==============================] - 0s 40ms/step - loss: 0.0276\n",
      "Epoch 28/100\n",
      "6/6 [==============================] - 0s 40ms/step - loss: 0.0267\n",
      "Epoch 29/100\n",
      "6/6 [==============================] - 0s 40ms/step - loss: 0.0268\n",
      "Epoch 30/100\n",
      "6/6 [==============================] - 0s 40ms/step - loss: 0.0270\n",
      "Epoch 31/100\n",
      "6/6 [==============================] - 0s 40ms/step - loss: 0.0268\n",
      "Epoch 32/100\n",
      "6/6 [==============================] - 0s 40ms/step - loss: 0.0267\n",
      "Epoch 33/100\n",
      "6/6 [==============================] - 0s 40ms/step - loss: 0.0255\n",
      "Epoch 34/100\n",
      "6/6 [==============================] - 0s 40ms/step - loss: 0.0257\n",
      "Epoch 35/100\n",
      "6/6 [==============================] - 0s 40ms/step - loss: 0.0260\n",
      "Epoch 36/100\n",
      "6/6 [==============================] - 0s 40ms/step - loss: 0.0253\n",
      "Epoch 37/100\n",
      "6/6 [==============================] - 0s 40ms/step - loss: 0.0253\n",
      "Epoch 38/100\n",
      "6/6 [==============================] - 0s 40ms/step - loss: 0.0270\n",
      "Epoch 39/100\n",
      "6/6 [==============================] - 0s 40ms/step - loss: 0.0248\n",
      "Epoch 40/100\n",
      "6/6 [==============================] - 0s 40ms/step - loss: 0.0254\n",
      "Epoch 41/100\n",
      "6/6 [==============================] - 0s 40ms/step - loss: 0.0246\n",
      "Epoch 42/100\n",
      "6/6 [==============================] - 0s 40ms/step - loss: 0.0255\n",
      "Epoch 43/100\n",
      "6/6 [==============================] - 0s 40ms/step - loss: 0.0241\n",
      "Epoch 44/100\n",
      "6/6 [==============================] - 0s 40ms/step - loss: 0.0249\n",
      "Epoch 45/100\n",
      "6/6 [==============================] - 0s 40ms/step - loss: 0.0228\n",
      "Epoch 46/100\n",
      "6/6 [==============================] - 0s 40ms/step - loss: 0.0230\n",
      "Epoch 47/100\n",
      "6/6 [==============================] - 0s 40ms/step - loss: 0.0243\n",
      "Epoch 48/100\n",
      "6/6 [==============================] - 0s 40ms/step - loss: 0.0233\n",
      "Epoch 49/100\n",
      "6/6 [==============================] - 0s 40ms/step - loss: 0.0238\n",
      "Epoch 50/100\n",
      "6/6 [==============================] - 0s 40ms/step - loss: 0.0220\n",
      "Epoch 51/100\n",
      "6/6 [==============================] - 0s 40ms/step - loss: 0.0233\n",
      "Epoch 52/100\n",
      "6/6 [==============================] - 0s 40ms/step - loss: 0.0227\n",
      "Epoch 53/100\n",
      "6/6 [==============================] - 0s 40ms/step - loss: 0.0221\n",
      "Epoch 54/100\n",
      "6/6 [==============================] - 0s 40ms/step - loss: 0.0231\n",
      "Epoch 55/100\n",
      "6/6 [==============================] - 0s 40ms/step - loss: 0.0231\n",
      "Epoch 56/100\n",
      "6/6 [==============================] - 0s 40ms/step - loss: 0.0232\n",
      "Epoch 57/100\n",
      "6/6 [==============================] - 0s 40ms/step - loss: 0.0225\n",
      "Epoch 58/100\n",
      "6/6 [==============================] - 0s 40ms/step - loss: 0.0222\n",
      "Epoch 59/100\n",
      "6/6 [==============================] - 0s 40ms/step - loss: 0.0222\n",
      "Epoch 60/100\n",
      "6/6 [==============================] - 0s 40ms/step - loss: 0.0218\n",
      "Epoch 61/100\n",
      "6/6 [==============================] - 0s 40ms/step - loss: 0.0208\n",
      "Epoch 62/100\n",
      "6/6 [==============================] - 0s 40ms/step - loss: 0.0237\n",
      "Epoch 63/100\n",
      "6/6 [==============================] - 0s 40ms/step - loss: 0.0219\n",
      "Epoch 64/100\n",
      "6/6 [==============================] - 0s 40ms/step - loss: 0.0220\n",
      "Epoch 65/100\n",
      "6/6 [==============================] - 0s 40ms/step - loss: 0.0229\n",
      "Epoch 66/100\n",
      "6/6 [==============================] - 0s 40ms/step - loss: 0.0221\n",
      "Epoch 67/100\n",
      "6/6 [==============================] - 0s 40ms/step - loss: 0.0225\n",
      "Epoch 68/100\n",
      "6/6 [==============================] - 0s 40ms/step - loss: 0.0217\n",
      "Epoch 69/100\n",
      "6/6 [==============================] - 0s 40ms/step - loss: 0.0214\n",
      "Epoch 70/100\n",
      "6/6 [==============================] - 0s 41ms/step - loss: 0.0223\n",
      "Epoch 71/100\n",
      "6/6 [==============================] - 0s 40ms/step - loss: 0.0212\n",
      "Epoch 72/100\n",
      "6/6 [==============================] - 0s 40ms/step - loss: 0.0221\n",
      "Epoch 73/100\n",
      "6/6 [==============================] - 0s 40ms/step - loss: 0.0214\n",
      "Epoch 74/100\n",
      "6/6 [==============================] - 0s 40ms/step - loss: 0.0212\n",
      "Epoch 75/100\n",
      "6/6 [==============================] - 0s 41ms/step - loss: 0.0215\n",
      "Epoch 76/100\n",
      "6/6 [==============================] - 0s 40ms/step - loss: 0.0219\n",
      "Epoch 77/100\n",
      "6/6 [==============================] - 0s 40ms/step - loss: 0.0211\n",
      "Epoch 78/100\n",
      "6/6 [==============================] - 0s 40ms/step - loss: 0.0213\n",
      "Epoch 79/100\n",
      "6/6 [==============================] - 0s 40ms/step - loss: 0.0215\n",
      "Epoch 80/100\n",
      "6/6 [==============================] - 0s 40ms/step - loss: 0.0208\n",
      "Epoch 81/100\n",
      "6/6 [==============================] - 0s 40ms/step - loss: 0.0224\n",
      "Epoch 82/100\n",
      "6/6 [==============================] - 0s 40ms/step - loss: 0.0206\n",
      "Epoch 83/100\n",
      "6/6 [==============================] - 0s 40ms/step - loss: 0.0218\n",
      "Epoch 84/100\n",
      "6/6 [==============================] - 0s 40ms/step - loss: 0.0219\n",
      "Epoch 85/100\n",
      "6/6 [==============================] - 0s 40ms/step - loss: 0.0208\n",
      "Epoch 86/100\n",
      "6/6 [==============================] - 0s 40ms/step - loss: 0.0202\n",
      "Epoch 87/100\n",
      "6/6 [==============================] - 0s 40ms/step - loss: 0.0199\n",
      "Epoch 88/100\n",
      "6/6 [==============================] - 0s 40ms/step - loss: 0.0211\n",
      "Epoch 89/100\n",
      "6/6 [==============================] - 0s 40ms/step - loss: 0.0212\n",
      "Epoch 90/100\n",
      "6/6 [==============================] - 0s 40ms/step - loss: 0.0199\n",
      "Epoch 91/100\n",
      "6/6 [==============================] - 0s 41ms/step - loss: 0.0204\n",
      "Epoch 92/100\n",
      "6/6 [==============================] - 0s 40ms/step - loss: 0.0204\n",
      "Epoch 93/100\n",
      "6/6 [==============================] - 0s 40ms/step - loss: 0.0204\n",
      "Epoch 94/100\n",
      "6/6 [==============================] - 0s 40ms/step - loss: 0.0200\n",
      "Epoch 95/100\n",
      "6/6 [==============================] - 0s 40ms/step - loss: 0.0200\n",
      "Epoch 96/100\n",
      "6/6 [==============================] - 0s 40ms/step - loss: 0.0217\n",
      "Epoch 97/100\n",
      "6/6 [==============================] - 0s 40ms/step - loss: 0.0197\n",
      "Epoch 98/100\n",
      "6/6 [==============================] - 0s 40ms/step - loss: 0.0198\n",
      "Epoch 99/100\n",
      "6/6 [==============================] - 0s 40ms/step - loss: 0.0198\n",
      "Epoch 100/100\n",
      "6/6 [==============================] - 0s 40ms/step - loss: 0.0203\n"
     ]
    },
    {
     "data": {
      "text/plain": [
       "<keras.callbacks.History at 0x2a2407825b0>"
      ]
     },
     "execution_count": 2039,
     "metadata": {},
     "output_type": "execute_result"
    }
   ],
   "source": [
    "#implementamos el modelo con 20 iteraciones, epochs\n",
    "#Presentando a la res lstm lotess de 32 datos\n",
    "modelo_duracion.fit(X_train_duracion,Y_train_duracion,epochs=100,batch_size=32)"
   ]
  },
  {
   "cell_type": "code",
   "execution_count": 2040,
   "id": "a8068e53",
   "metadata": {
    "scrolled": true
   },
   "outputs": [
    {
     "data": {
      "text/plain": [
       "array([[10.],\n",
       "       [11.],\n",
       "       [11.],\n",
       "       [11.],\n",
       "       [ 9.],\n",
       "       [11.],\n",
       "       [11.],\n",
       "       [11.],\n",
       "       [12.],\n",
       "       [11.],\n",
       "       [11.],\n",
       "       [11.],\n",
       "       [11.],\n",
       "       [11.],\n",
       "       [11.],\n",
       "       [11.],\n",
       "       [11.],\n",
       "       [11.],\n",
       "       [12.],\n",
       "       [12.],\n",
       "       [11.],\n",
       "       [11.],\n",
       "       [12.],\n",
       "       [11.],\n",
       "       [10.],\n",
       "       [12.],\n",
       "       [12.],\n",
       "       [11.],\n",
       "       [11.],\n",
       "       [10.],\n",
       "       [11.],\n",
       "       [11.],\n",
       "       [11.],\n",
       "       [11.],\n",
       "       [37.],\n",
       "       [10.],\n",
       "       [12.],\n",
       "       [11.],\n",
       "       [12.],\n",
       "       [11.],\n",
       "       [39.],\n",
       "       [11.],\n",
       "       [12.],\n",
       "       [11.],\n",
       "       [11.],\n",
       "       [11.],\n",
       "       [12.],\n",
       "       [12.],\n",
       "       [11.],\n",
       "       [12.],\n",
       "       [11.],\n",
       "       [11.],\n",
       "       [11.],\n",
       "       [11.],\n",
       "       [12.],\n",
       "       [11.],\n",
       "       [11.],\n",
       "       [12.],\n",
       "       [12.],\n",
       "       [10.],\n",
       "       [10.],\n",
       "       [11.],\n",
       "       [11.],\n",
       "       [11.],\n",
       "       [11.],\n",
       "       [10.],\n",
       "       [12.],\n",
       "       [10.],\n",
       "       [11.],\n",
       "       [11.],\n",
       "       [11.],\n",
       "       [11.],\n",
       "       [12.],\n",
       "       [10.],\n",
       "       [11.],\n",
       "       [11.],\n",
       "       [11.],\n",
       "       [12.],\n",
       "       [11.],\n",
       "       [38.],\n",
       "       [12.],\n",
       "       [11.]])"
      ]
     },
     "execution_count": 2040,
     "metadata": {},
     "output_type": "execute_result"
    }
   ],
   "source": [
    "x_test = duracion_data_validacion.values\n",
    "x_test"
   ]
  },
  {
   "cell_type": "code",
   "execution_count": 2041,
   "id": "f83b4c99",
   "metadata": {
    "scrolled": true
   },
   "outputs": [
    {
     "data": {
      "text/plain": [
       "array([[9.09090909e-02, 0.00000000e+00],\n",
       "       [1.81818182e-01, 5.82400704e-01],\n",
       "       [1.81818182e-01, 1.85421802e-01],\n",
       "       [1.81818182e-01, 5.84042869e-01],\n",
       "       [0.00000000e+00, 3.93659560e-01],\n",
       "       [1.81818182e-01, 6.18711619e-01],\n",
       "       [1.81818182e-01, 5.40293288e-01],\n",
       "       [1.81818182e-01, 6.72678916e-01],\n",
       "       [2.72727273e-01, 6.11591313e-01],\n",
       "       [1.81818182e-01, 5.80653398e-01],\n",
       "       [1.81818182e-01, 6.26404053e-01],\n",
       "       [1.81818182e-01, 3.86106219e-01],\n",
       "       [1.81818182e-01, 5.17557370e-01],\n",
       "       [1.81818182e-01, 5.38479685e-01],\n",
       "       [1.81818182e-01, 6.28356088e-01],\n",
       "       [1.81818182e-01, 5.28139561e-01],\n",
       "       [1.81818182e-01, 4.19151001e-01],\n",
       "       [1.81818182e-01, 4.36426630e-01],\n",
       "       [2.72727273e-01, 4.85534569e-01],\n",
       "       [2.72727273e-01, 6.21210260e-01],\n",
       "       [1.81818182e-01, 3.64738508e-01],\n",
       "       [1.81818182e-01, 2.86094128e-01],\n",
       "       [2.72727273e-01, 5.39355507e-01],\n",
       "       [1.81818182e-01, 4.75125144e-01],\n",
       "       [9.09090909e-02, 5.54004044e-01],\n",
       "       [2.72727273e-01, 6.55822008e-01],\n",
       "       [2.72727273e-01, 6.76428950e-01],\n",
       "       [1.81818182e-01, 6.42087405e-01],\n",
       "       [1.81818182e-01, 5.73239420e-01],\n",
       "       [9.09090909e-02, 5.66110586e-01],\n",
       "       [1.81818182e-01, 4.58621984e-01],\n",
       "       [1.81818182e-01, 2.07526032e-01],\n",
       "       [1.81818182e-01, 1.04086134e-01],\n",
       "       [1.81818182e-01, 8.93045741e-02],\n",
       "       [2.54545455e+00, 1.03824599e+00],\n",
       "       [9.09090909e-02, 5.58857159e-01],\n",
       "       [2.72727273e-01, 5.13637511e-01],\n",
       "       [1.81818182e-01, 5.35324773e-01],\n",
       "       [2.72727273e-01, 3.69864150e-01],\n",
       "       [1.81818182e-01, 6.11541675e-01],\n",
       "       [2.72727273e+00, 1.24022011e+00],\n",
       "       [1.81818182e-01, 7.30631704e-03],\n",
       "       [2.72727273e-01, 7.20308014e-03],\n",
       "       [1.81818182e-01, 8.37769101e-03],\n",
       "       [1.81818182e-01, 6.91550377e-03],\n",
       "       [1.81818182e-01, 6.13532650e-02],\n",
       "       [2.72727273e-01, 5.28493020e-01],\n",
       "       [2.72727273e-01, 6.40938229e-01],\n",
       "       [1.81818182e-01, 6.70737795e-01],\n",
       "       [2.72727273e-01, 6.11041357e-01],\n",
       "       [1.81818182e-01, 3.12576869e-01],\n",
       "       [1.81818182e-01, 5.33273365e-01],\n",
       "       [1.81818182e-01, 5.12729914e-01],\n",
       "       [1.81818182e-01, 6.15465413e-01],\n",
       "       [2.72727273e-01, 5.16021098e-01],\n",
       "       [1.81818182e-01, 1.36352569e-01],\n",
       "       [1.81818182e-01, 1.26127872e-03],\n",
       "       [2.72727273e-01, 5.28734906e-03],\n",
       "       [2.72727273e-01, 5.76123071e-03],\n",
       "       [9.09090909e-02, 6.25507682e-03],\n",
       "       [9.09090909e-02, 4.13407167e-01],\n",
       "       [1.81818182e-01, 4.97083332e-01],\n",
       "       [1.81818182e-01, 5.76696324e-01],\n",
       "       [1.81818182e-01, 6.68186556e-01],\n",
       "       [1.81818182e-01, 5.53504913e-01],\n",
       "       [9.09090909e-02, 6.12290341e-01],\n",
       "       [2.72727273e-01, 5.64845730e-01],\n",
       "       [9.09090909e-02, 5.30056937e-01],\n",
       "       [1.81818182e-01, 5.43926186e-01],\n",
       "       [1.81818182e-01, 4.39311600e-01],\n",
       "       [1.81818182e-01, 3.99531945e-02],\n",
       "       [1.81818182e-01, 3.80691889e-01],\n",
       "       [2.72727273e-01, 5.60813406e-01],\n",
       "       [9.09090909e-02, 5.37325418e-01],\n",
       "       [1.81818182e-01, 5.77823542e-01],\n",
       "       [1.81818182e-01, 5.15563911e-01],\n",
       "       [1.81818182e-01, 5.89009015e-01],\n",
       "       [2.72727273e-01, 5.64885877e-01],\n",
       "       [1.81818182e-01, 1.98556657e-01],\n",
       "       [2.63636364e+00, 6.17291660e-01],\n",
       "       [2.72727273e-01, 2.08693530e-02],\n",
       "       [1.81818182e-01, 3.83352381e-03]])"
      ]
     },
     "execution_count": 2041,
     "metadata": {},
     "output_type": "execute_result"
    }
   ],
   "source": [
    "x_test = sc.transform(n_v)\n",
    "x_test"
   ]
  },
  {
   "cell_type": "code",
   "execution_count": 2042,
   "id": "2220ba92",
   "metadata": {},
   "outputs": [],
   "source": [
    "#Obtenemos bloques de 60 datos\n",
    "X_test = []\n",
    "for i in range(time_step,len(x_test)):\n",
    "    X_test.append(x_test[i-time_step:i,0:2])"
   ]
  },
  {
   "cell_type": "code",
   "execution_count": 2043,
   "id": "050437b7",
   "metadata": {},
   "outputs": [
    {
     "data": {
      "text/plain": [
       "(52, 30, 2)"
      ]
     },
     "execution_count": 2043,
     "metadata": {},
     "output_type": "execute_result"
    }
   ],
   "source": [
    "X_test = np.array(X_test)\n",
    "X_test.shape"
   ]
  },
  {
   "cell_type": "code",
   "execution_count": 2044,
   "id": "953ad343",
   "metadata": {},
   "outputs": [],
   "source": [
    "X_test = np.reshape(X_test, (X_test.shape[0],X_test.shape[1],2))"
   ]
  },
  {
   "cell_type": "code",
   "execution_count": 2045,
   "id": "a61f3abd",
   "metadata": {},
   "outputs": [
    {
     "name": "stdout",
     "output_type": "stream",
     "text": [
      "2/2 [==============================] - 1s 7ms/step\n"
     ]
    },
    {
     "data": {
      "text/plain": [
       "(52, 2)"
      ]
     },
     "execution_count": 2045,
     "metadata": {},
     "output_type": "execute_result"
    }
   ],
   "source": [
    "#Predecimos y normalizamos\n",
    "prediccion_tiempo = modelo_duracion.predict(X_test)\n",
    "prediccion_tiempo = sc.inverse_transform(prediccion_tiempo)\n",
    "prediccion_tiempo.shape"
   ]
  },
  {
   "cell_type": "code",
   "execution_count": 2046,
   "id": "67f74346",
   "metadata": {
    "scrolled": true
   },
   "outputs": [
    {
     "data": {
      "text/plain": [
       "array([[ 1.1367643e+01,  6.6171147e-02],\n",
       "       [ 1.1356944e+01,  6.4326920e-02],\n",
       "       [ 1.1325029e+01,  4.3184638e-02],\n",
       "       [ 1.1328692e+01,  3.0633349e-02],\n",
       "       [ 1.1298598e+01,  3.4083560e-02],\n",
       "       [ 7.5831666e+00,  1.7591590e-01],\n",
       "       [ 9.0236082e+00,  1.9926498e-02],\n",
       "       [ 9.7330885e+00,  6.9458000e-02],\n",
       "       [ 1.1806846e+01,  1.7207538e-01],\n",
       "       [ 1.3235374e+01,  1.5488353e-01],\n",
       "       [ 1.3897695e+01,  1.2652728e-01],\n",
       "       [ 1.1105065e+01,  1.6120055e-01],\n",
       "       [ 1.0733490e+01,  7.6038875e-03],\n",
       "       [ 1.1069432e+01, -1.7673017e-02],\n",
       "       [ 1.1603693e+01,  3.3227835e-02],\n",
       "       [ 1.2219274e+01,  8.1319697e-02],\n",
       "       [ 1.2536585e+01,  7.9204492e-02],\n",
       "       [ 1.2538713e+01,  8.5616626e-02],\n",
       "       [ 1.2163244e+01,  7.4295238e-02],\n",
       "       [ 1.1805161e+01,  5.8739878e-02],\n",
       "       [ 1.1403013e+01,  4.8477221e-02],\n",
       "       [ 1.1170819e+01,  2.6712202e-02],\n",
       "       [ 1.1048609e+01,  4.4925779e-02],\n",
       "       [ 1.0958659e+01,  6.2209006e-02],\n",
       "       [ 1.0972507e+01,  7.7045225e-02],\n",
       "       [ 1.0961517e+01,  7.3046066e-02],\n",
       "       [ 1.1116069e+01,  4.1600551e-02],\n",
       "       [ 1.1351881e+01,  3.1483475e-02],\n",
       "       [ 1.1414949e+01,  4.4869237e-02],\n",
       "       [ 1.1391804e+01,  5.3966980e-02],\n",
       "       [ 1.1581589e+01,  5.2396525e-02],\n",
       "       [ 1.1830089e+01,  8.4311463e-02],\n",
       "       [ 1.1841920e+01,  9.1915332e-02],\n",
       "       [ 1.1724018e+01,  8.1585571e-02],\n",
       "       [ 1.1556841e+01,  7.4931726e-02],\n",
       "       [ 1.1392230e+01,  5.7501141e-02],\n",
       "       [ 1.1268296e+01,  5.6676302e-02],\n",
       "       [ 1.1020799e+01,  5.8852617e-02],\n",
       "       [ 1.0968694e+01,  5.4994844e-02],\n",
       "       [ 1.0930474e+01,  6.1152227e-02],\n",
       "       [ 1.0917226e+01,  5.8906481e-02],\n",
       "       [ 1.0986924e+01,  2.6500823e-02],\n",
       "       [ 1.0998437e+01,  5.1601574e-02],\n",
       "       [ 1.0905117e+01,  8.6287163e-02],\n",
       "       [ 1.1091477e+01,  8.1169136e-02],\n",
       "       [ 1.1284809e+01,  8.0575615e-02],\n",
       "       [ 1.1406798e+01,  7.4494436e-02],\n",
       "       [ 1.1479660e+01,  7.6613538e-02],\n",
       "       [ 1.1362968e+01,  7.3889799e-02],\n",
       "       [ 1.1311690e+01,  4.1990902e-02],\n",
       "       [ 8.0791245e+00,  1.0083289e-01],\n",
       "       [ 9.0488663e+00, -2.4551425e-02]], dtype=float32)"
      ]
     },
     "execution_count": 2046,
     "metadata": {},
     "output_type": "execute_result"
    }
   ],
   "source": [
    "prediccion_tiempo"
   ]
  },
  {
   "cell_type": "code",
   "execution_count": 2047,
   "id": "4f5c9876",
   "metadata": {},
   "outputs": [],
   "source": [
    "# Funciones auxiliares\n",
    "def graficar_predicciones3(real, prediccion,campo):\n",
    "    plt.plot(real[0:len(prediccion)], 'o',   color='red', label='Valor real')\n",
    "    plt.plot(prediccion,'o', color='blue', label='Predicción')\n",
    "    #plt.ylim(9,15)\n",
    "    #plt.xlim(40,50)\n",
    "    plt.xlabel('Número de mediciones')\n",
    "    plt.ylabel(campo)\n",
    "    plt.title('Predicción de tiempo entre mediciones')\n",
    "    plt.legend()\n",
    "    plt.show()"
   ]
  },
  {
   "cell_type": "code",
   "execution_count": 2048,
   "id": "7d1b6019",
   "metadata": {},
   "outputs": [
    {
     "data": {
      "image/png": "[encoded data removed]",
      "text/plain": [
       "<Figure size 432x288 with 1 Axes>"
      ]
     },
     "metadata": {
      "needs_background": "light"
     },
     "output_type": "display_data"
    }
   ],
   "source": [
    "# Graficar resultados\n",
    "graficar_predicciones3(n_v[:,0:1],prediccion_tiempo[:,0:1],'segundos')"
   ]
  },
  {
   "cell_type": "code",
   "execution_count": 2049,
   "id": "e8beff6e",
   "metadata": {},
   "outputs": [],
   "source": [
    "n_v_t = sc.transform(n_v)"
   ]
  },
  {
   "cell_type": "code",
   "execution_count": 2050,
   "id": "322a5726",
   "metadata": {
    "scrolled": true
   },
   "outputs": [
    {
     "name": "stdout",
     "output_type": "stream",
     "text": [
      "1/1 [==============================] - 0s 12ms/step\n",
      "1/1 [==============================] - 0s 11ms/step\n",
      "1/1 [==============================] - 0s 12ms/step\n",
      "1/1 [==============================] - 0s 11ms/step\n",
      "1/1 [==============================] - 0s 12ms/step\n",
      "1/1 [==============================] - 0s 11ms/step\n",
      "1/1 [==============================] - 0s 12ms/step\n",
      "1/1 [==============================] - 0s 11ms/step\n",
      "1/1 [==============================] - 0s 12ms/step\n",
      "1/1 [==============================] - 0s 12ms/step\n",
      "1/1 [==============================] - 0s 11ms/step\n",
      "1/1 [==============================] - 0s 12ms/step\n",
      "1/1 [==============================] - 0s 12ms/step\n",
      "1/1 [==============================] - 0s 12ms/step\n",
      "1/1 [==============================] - 0s 12ms/step\n",
      "1/1 [==============================] - 0s 11ms/step\n",
      "1/1 [==============================] - 0s 12ms/step\n",
      "1/1 [==============================] - 0s 11ms/step\n",
      "1/1 [==============================] - 0s 11ms/step\n",
      "1/1 [==============================] - 0s 11ms/step\n",
      "1/1 [==============================] - 0s 11ms/step\n",
      "1/1 [==============================] - 0s 12ms/step\n",
      "1/1 [==============================] - 0s 11ms/step\n",
      "1/1 [==============================] - 0s 11ms/step\n",
      "1/1 [==============================] - 0s 11ms/step\n",
      "1/1 [==============================] - 0s 11ms/step\n",
      "1/1 [==============================] - 0s 12ms/step\n",
      "1/1 [==============================] - 0s 11ms/step\n",
      "1/1 [==============================] - 0s 11ms/step\n",
      "1/1 [==============================] - 0s 11ms/step\n",
      "1/1 [==============================] - 0s 12ms/step\n",
      "1/1 [==============================] - 0s 12ms/step\n",
      "1/1 [==============================] - 0s 12ms/step\n",
      "1/1 [==============================] - 0s 11ms/step\n",
      "1/1 [==============================] - 0s 12ms/step\n",
      "1/1 [==============================] - 0s 12ms/step\n",
      "1/1 [==============================] - 0s 12ms/step\n",
      "1/1 [==============================] - 0s 11ms/step\n",
      "1/1 [==============================] - 0s 12ms/step\n",
      "1/1 [==============================] - 0s 11ms/step\n",
      "1/1 [==============================] - 0s 12ms/step\n",
      "1/1 [==============================] - 0s 11ms/step\n",
      "1/1 [==============================] - 0s 12ms/step\n",
      "1/1 [==============================] - 0s 12ms/step\n",
      "1/1 [==============================] - 0s 11ms/step\n",
      "1/1 [==============================] - 0s 12ms/step\n",
      "1/1 [==============================] - 0s 11ms/step\n",
      "1/1 [==============================] - 0s 12ms/step\n",
      "1/1 [==============================] - 0s 11ms/step\n",
      "1/1 [==============================] - 0s 17ms/step\n",
      "1/1 [==============================] - 0s 11ms/step\n",
      "1/1 [==============================] - 0s 11ms/step\n"
     ]
    }
   ],
   "source": [
    "#Prediccion con los primeros datos del set de validacion\n",
    "# Using predicted values to predict next step\n",
    "X_pred_t = n_v_t.copy()\n",
    "for i in range(time_step_t,len(X_pred_t)):\n",
    "    xin_t = X_pred_t[i-time_step_t:i].reshape(1, time_step_t, 2)\n",
    "    X_pred_t[i] = modelo_duracion.predict(xin_t)"
   ]
  },
  {
   "cell_type": "code",
   "execution_count": 2051,
   "id": "b2d81841",
   "metadata": {
    "scrolled": true
   },
   "outputs": [
    {
     "data": {
      "text/plain": [
       "array([[0.09090909, 0.        ],\n",
       "       [0.18181818, 0.5824007 ],\n",
       "       [0.18181818, 0.1854218 ],\n",
       "       [0.18181818, 0.58404287],\n",
       "       [0.        , 0.39365956],\n",
       "       [0.18181818, 0.61871162],\n",
       "       [0.18181818, 0.54029329],\n",
       "       [0.18181818, 0.67267892],\n",
       "       [0.27272727, 0.61159131],\n",
       "       [0.18181818, 0.5806534 ],\n",
       "       [0.18181818, 0.62640405],\n",
       "       [0.18181818, 0.38610622],\n",
       "       [0.18181818, 0.51755737],\n",
       "       [0.18181818, 0.53847969],\n",
       "       [0.18181818, 0.62835609],\n",
       "       [0.18181818, 0.52813956],\n",
       "       [0.18181818, 0.419151  ],\n",
       "       [0.18181818, 0.43642663],\n",
       "       [0.27272727, 0.48553457],\n",
       "       [0.27272727, 0.62121026],\n",
       "       [0.18181818, 0.36473851],\n",
       "       [0.18181818, 0.28609413],\n",
       "       [0.27272727, 0.53935551],\n",
       "       [0.18181818, 0.47512514],\n",
       "       [0.09090909, 0.55400404],\n",
       "       [0.27272727, 0.65582201],\n",
       "       [0.27272727, 0.67642895],\n",
       "       [0.18181818, 0.6420874 ],\n",
       "       [0.18181818, 0.57323942],\n",
       "       [0.09090909, 0.56611059],\n",
       "       [0.2152403 , 0.44766635],\n",
       "       [0.2108105 , 0.43086714],\n",
       "       [0.20330706, 0.3989808 ],\n",
       "       [0.19661726, 0.37087262],\n",
       "       [0.1934423 , 0.36604899],\n",
       "       [0.19405062, 0.39532733],\n",
       "       [0.19709836, 0.44148731],\n",
       "       [0.2017221 , 0.48433912],\n",
       "       [0.2068827 , 0.50608581],\n",
       "       [0.21070985, 0.50132954],\n",
       "       [0.21278933, 0.48221719],\n",
       "       [0.21295065, 0.45906246],\n",
       "       [0.21133807, 0.43842167],\n",
       "       [0.20868328, 0.42339718],\n",
       "       [0.20577215, 0.41437227],\n",
       "       [0.20331645, 0.41134989],\n",
       "       [0.20162885, 0.41368401],\n",
       "       [0.20084508, 0.42027932],\n",
       "       [0.20105709, 0.42950535],\n",
       "       [0.20166133, 0.43666983],\n",
       "       [0.20253524, 0.44132841],\n",
       "       [0.20360969, 0.44492668],\n",
       "       [0.20454933, 0.44632208],\n",
       "       [0.20481998, 0.44355762],\n",
       "       [0.20486292, 0.44074738],\n",
       "       [0.20521365, 0.44046199],\n",
       "       [0.20496139, 0.43713599],\n",
       "       [0.20437574, 0.4329626 ],\n",
       "       [0.20409653, 0.43107057],\n",
       "       [0.20411247, 0.43096697],\n",
       "       [0.20462555, 0.43519044],\n",
       "       [0.20501238, 0.43728226],\n",
       "       [0.20506592, 0.43749839],\n",
       "       [0.20494506, 0.43580538],\n",
       "       [0.20475139, 0.43346596],\n",
       "       [0.20454647, 0.43173289],\n",
       "       [0.20437445, 0.43115318],\n",
       "       [0.20426436, 0.43154192],\n",
       "       [0.20422396, 0.43234122],\n",
       "       [0.20423967, 0.43302971],\n",
       "       [0.20428662, 0.43336481],\n",
       "       [0.20434058, 0.43337262],\n",
       "       [0.20438392, 0.43321979],\n",
       "       [0.20440823, 0.43307632],\n",
       "       [0.20441307, 0.43303156],\n",
       "       [0.20440289, 0.43309075],\n",
       "       [0.20438513, 0.43321115],\n",
       "       [0.20436889, 0.43334669],\n",
       "       [0.20436144, 0.43346447],\n",
       "       [0.20436549, 0.43354201],\n",
       "       [0.20437784, 0.43356574],\n",
       "       [0.20439129, 0.43352193]])"
      ]
     },
     "execution_count": 2051,
     "metadata": {},
     "output_type": "execute_result"
    }
   ],
   "source": [
    "X_pred_t"
   ]
  },
  {
   "cell_type": "code",
   "execution_count": 2052,
   "id": "e6a5582a",
   "metadata": {},
   "outputs": [],
   "source": [
    "prediccion2 = sc.inverse_transform(X_pred_t)"
   ]
  },
  {
   "cell_type": "code",
   "execution_count": 2053,
   "id": "5623d77d",
   "metadata": {},
   "outputs": [
    {
     "data": {
      "image/png": "[encoded data removed]",
      "text/plain": [
       "<Figure size 432x288 with 1 Axes>"
      ]
     },
     "metadata": {
      "needs_background": "light"
     },
     "output_type": "display_data"
    }
   ],
   "source": [
    "# Graficar resultados de prediccion de valores futuros\n",
    "graficar_predicciones3(n_v[:,0:1],prediccion2[:,0:1],'segundos')"
   ]
  },
  {
   "cell_type": "code",
   "execution_count": 2054,
   "id": "ce900d7b",
   "metadata": {},
   "outputs": [],
   "source": [
    "mse_t = mean_squared_error(n_v[time_step_t:,0:1] ,prediccion2[time_step_t:,0:1], squared=False)"
   ]
  },
  {
   "cell_type": "code",
   "execution_count": 2055,
   "id": "0007511c",
   "metadata": {},
   "outputs": [
    {
     "data": {
      "text/plain": [
       "6.457922321288336"
      ]
     },
     "execution_count": 2055,
     "metadata": {},
     "output_type": "execute_result"
    }
   ],
   "source": [
    "mse_t"
   ]
  },
  {
   "cell_type": "code",
   "execution_count": 2056,
   "id": "76677627",
   "metadata": {
    "scrolled": true
   },
   "outputs": [
    {
     "data": {
      "text/plain": [
       "array([[11.],\n",
       "       [11.],\n",
       "       [11.],\n",
       "       [11.],\n",
       "       [37.],\n",
       "       [10.],\n",
       "       [12.],\n",
       "       [11.],\n",
       "       [12.],\n",
       "       [11.],\n",
       "       [39.],\n",
       "       [11.],\n",
       "       [12.],\n",
       "       [11.],\n",
       "       [11.],\n",
       "       [11.],\n",
       "       [12.],\n",
       "       [12.],\n",
       "       [11.],\n",
       "       [12.],\n",
       "       [11.],\n",
       "       [11.],\n",
       "       [11.],\n",
       "       [11.],\n",
       "       [12.],\n",
       "       [11.],\n",
       "       [11.],\n",
       "       [12.],\n",
       "       [12.],\n",
       "       [10.],\n",
       "       [10.],\n",
       "       [11.],\n",
       "       [11.],\n",
       "       [11.],\n",
       "       [11.],\n",
       "       [10.],\n",
       "       [12.],\n",
       "       [10.],\n",
       "       [11.],\n",
       "       [11.],\n",
       "       [11.],\n",
       "       [11.],\n",
       "       [12.],\n",
       "       [10.],\n",
       "       [11.],\n",
       "       [11.],\n",
       "       [11.],\n",
       "       [12.],\n",
       "       [11.],\n",
       "       [38.],\n",
       "       [12.],\n",
       "       [11.]])"
      ]
     },
     "execution_count": 2056,
     "metadata": {},
     "output_type": "execute_result"
    }
   ],
   "source": [
    "n_v[time_step_t:,0:1]"
   ]
  },
  {
   "cell_type": "code",
   "execution_count": 2057,
   "id": "465d2117",
   "metadata": {
    "scrolled": true
   },
   "outputs": [
    {
     "data": {
      "text/plain": [
       "array([[11.3676433 ],\n",
       "       [11.31891547],\n",
       "       [11.23637769],\n",
       "       [11.16278987],\n",
       "       [11.1278653 ],\n",
       "       [11.13455687],\n",
       "       [11.16808195],\n",
       "       [11.2189431 ],\n",
       "       [11.2757097 ],\n",
       "       [11.3178084 ],\n",
       "       [11.3406826 ],\n",
       "       [11.34245712],\n",
       "       [11.3247188 ],\n",
       "       [11.2955161 ],\n",
       "       [11.26349361],\n",
       "       [11.23648095],\n",
       "       [11.21791734],\n",
       "       [11.20929585],\n",
       "       [11.211628  ],\n",
       "       [11.21827467],\n",
       "       [11.22788766],\n",
       "       [11.23970659],\n",
       "       [11.2500426 ],\n",
       "       [11.25301975],\n",
       "       [11.25349215],\n",
       "       [11.25735016],\n",
       "       [11.25457528],\n",
       "       [11.24813318],\n",
       "       [11.24506178],\n",
       "       [11.24523717],\n",
       "       [11.25088102],\n",
       "       [11.25513619],\n",
       "       [11.25572513],\n",
       "       [11.25439563],\n",
       "       [11.25226526],\n",
       "       [11.25001113],\n",
       "       [11.24811892],\n",
       "       [11.24690793],\n",
       "       [11.24646357],\n",
       "       [11.24663633],\n",
       "       [11.24715282],\n",
       "       [11.24774635],\n",
       "       [11.24822317],\n",
       "       [11.24849051],\n",
       "       [11.24854378],\n",
       "       [11.24843183],\n",
       "       [11.24823645],\n",
       "       [11.24805778],\n",
       "       [11.24797583],\n",
       "       [11.24802041],\n",
       "       [11.24815629],\n",
       "       [11.24830414]])"
      ]
     },
     "execution_count": 2057,
     "metadata": {},
     "output_type": "execute_result"
    }
   ],
   "source": [
    "prediccion2[time_step_t:,0:1]"
   ]
  },
  {
   "cell_type": "code",
   "execution_count": null,
   "id": "55a44f4b",
   "metadata": {},
   "outputs": [],
   "source": []
  }
 ],
 "metadata": {
  "kernelspec": {
   "display_name": "Python 3 (ipykernel)",
   "language": "python",
   "name": "python3"
  },
  "language_info": {
   "codemirror_mode": {
    "name": "ipython",
    "version": 3
   },
   "file_extension": ".py",
   "mimetype": "text/x-python",
   "name": "python",
   "nbconvert_exporter": "python",
   "pygments_lexer": "ipython3",
   "version": "3.9.12"
  }
 },
 "nbformat": 4,
 "nbformat_minor": 5
}
